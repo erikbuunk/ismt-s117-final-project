{
  "nbformat": 4,
  "nbformat_minor": 0,
  "metadata": {
    "accelerator": "GPU",
    "colab": {
      "name": "01_Data Exploration.ipynb",
      "provenance": [],
      "collapsed_sections": [
        "DWmlc8TnlhLu",
        "Fm_5-7MQlhL8",
        "AcdYXuXulhMB",
        "u3nFn5APlhMC",
        "erm7wb7vlhMH",
        "K8-6_3sDlhML"
      ],
      "toc_visible": true
    },
    "kernelspec": {
      "display_name": "Python 3",
      "language": "python",
      "name": "python3"
    },
    "language_info": {
      "codemirror_mode": {
        "name": "ipython",
        "version": 3
      },
      "file_extension": ".py",
      "mimetype": "text/x-python",
      "name": "python",
      "nbconvert_exporter": "python",
      "pygments_lexer": "ipython3",
      "version": "3.7.7"
    },
    "widgets": {
      "application/vnd.jupyter.widget-state+json": {
        "0839c41d9a8c4e04b750d9e94f68b2f0": {
          "model_module": "@jupyter-widgets/controls",
          "model_name": "HBoxModel",
          "state": {
            "_view_name": "HBoxView",
            "_dom_classes": [],
            "_model_name": "HBoxModel",
            "_view_module": "@jupyter-widgets/controls",
            "_model_module_version": "1.5.0",
            "_view_count": null,
            "_view_module_version": "1.5.0",
            "box_style": "",
            "layout": "IPY_MODEL_b6a8d964bbd8423b9743008258261fd2",
            "_model_module": "@jupyter-widgets/controls",
            "children": [
              "IPY_MODEL_0dbb12fdbe5e478ab622ff47630979df",
              "IPY_MODEL_c7367e206143475eab6742082ab9ea77"
            ]
          }
        },
        "b6a8d964bbd8423b9743008258261fd2": {
          "model_module": "@jupyter-widgets/base",
          "model_name": "LayoutModel",
          "state": {
            "_view_name": "LayoutView",
            "grid_template_rows": null,
            "right": null,
            "justify_content": null,
            "_view_module": "@jupyter-widgets/base",
            "overflow": null,
            "_model_module_version": "1.2.0",
            "_view_count": null,
            "flex_flow": null,
            "width": null,
            "min_width": null,
            "border": null,
            "align_items": null,
            "bottom": null,
            "_model_module": "@jupyter-widgets/base",
            "top": null,
            "grid_column": null,
            "overflow_y": null,
            "overflow_x": null,
            "grid_auto_flow": null,
            "grid_area": null,
            "grid_template_columns": null,
            "flex": null,
            "_model_name": "LayoutModel",
            "justify_items": null,
            "grid_row": null,
            "max_height": null,
            "align_content": null,
            "visibility": null,
            "align_self": null,
            "height": null,
            "min_height": null,
            "padding": null,
            "grid_auto_rows": null,
            "grid_gap": null,
            "max_width": null,
            "order": null,
            "_view_module_version": "1.2.0",
            "grid_template_areas": null,
            "object_position": null,
            "object_fit": null,
            "grid_auto_columns": null,
            "margin": null,
            "display": null,
            "left": null
          }
        },
        "0dbb12fdbe5e478ab622ff47630979df": {
          "model_module": "@jupyter-widgets/controls",
          "model_name": "FloatProgressModel",
          "state": {
            "_view_name": "ProgressView",
            "style": "IPY_MODEL_6687509ba8c948278098ab03f4059598",
            "_dom_classes": [],
            "description": "Downloading: 100%",
            "_model_name": "FloatProgressModel",
            "bar_style": "success",
            "max": 433,
            "_view_module": "@jupyter-widgets/controls",
            "_model_module_version": "1.5.0",
            "value": 433,
            "_view_count": null,
            "_view_module_version": "1.5.0",
            "orientation": "horizontal",
            "min": 0,
            "description_tooltip": null,
            "_model_module": "@jupyter-widgets/controls",
            "layout": "IPY_MODEL_346c21f50e1846a7ab7db353c03d63a8"
          }
        },
        "c7367e206143475eab6742082ab9ea77": {
          "model_module": "@jupyter-widgets/controls",
          "model_name": "HTMLModel",
          "state": {
            "_view_name": "HTMLView",
            "style": "IPY_MODEL_c30359fdfd314fa784b60e1ce92dc62a",
            "_dom_classes": [],
            "description": "",
            "_model_name": "HTMLModel",
            "placeholder": "​",
            "_view_module": "@jupyter-widgets/controls",
            "_model_module_version": "1.5.0",
            "value": " 433/433 [00:11&lt;00:00, 36.8B/s]",
            "_view_count": null,
            "_view_module_version": "1.5.0",
            "description_tooltip": null,
            "_model_module": "@jupyter-widgets/controls",
            "layout": "IPY_MODEL_4deb6ee6b31a467bbba49e5ea98edf80"
          }
        },
        "6687509ba8c948278098ab03f4059598": {
          "model_module": "@jupyter-widgets/controls",
          "model_name": "ProgressStyleModel",
          "state": {
            "_view_name": "StyleView",
            "_model_name": "ProgressStyleModel",
            "description_width": "initial",
            "_view_module": "@jupyter-widgets/base",
            "_model_module_version": "1.5.0",
            "_view_count": null,
            "_view_module_version": "1.2.0",
            "bar_color": null,
            "_model_module": "@jupyter-widgets/controls"
          }
        },
        "346c21f50e1846a7ab7db353c03d63a8": {
          "model_module": "@jupyter-widgets/base",
          "model_name": "LayoutModel",
          "state": {
            "_view_name": "LayoutView",
            "grid_template_rows": null,
            "right": null,
            "justify_content": null,
            "_view_module": "@jupyter-widgets/base",
            "overflow": null,
            "_model_module_version": "1.2.0",
            "_view_count": null,
            "flex_flow": null,
            "width": null,
            "min_width": null,
            "border": null,
            "align_items": null,
            "bottom": null,
            "_model_module": "@jupyter-widgets/base",
            "top": null,
            "grid_column": null,
            "overflow_y": null,
            "overflow_x": null,
            "grid_auto_flow": null,
            "grid_area": null,
            "grid_template_columns": null,
            "flex": null,
            "_model_name": "LayoutModel",
            "justify_items": null,
            "grid_row": null,
            "max_height": null,
            "align_content": null,
            "visibility": null,
            "align_self": null,
            "height": null,
            "min_height": null,
            "padding": null,
            "grid_auto_rows": null,
            "grid_gap": null,
            "max_width": null,
            "order": null,
            "_view_module_version": "1.2.0",
            "grid_template_areas": null,
            "object_position": null,
            "object_fit": null,
            "grid_auto_columns": null,
            "margin": null,
            "display": null,
            "left": null
          }
        },
        "c30359fdfd314fa784b60e1ce92dc62a": {
          "model_module": "@jupyter-widgets/controls",
          "model_name": "DescriptionStyleModel",
          "state": {
            "_view_name": "StyleView",
            "_model_name": "DescriptionStyleModel",
            "description_width": "",
            "_view_module": "@jupyter-widgets/base",
            "_model_module_version": "1.5.0",
            "_view_count": null,
            "_view_module_version": "1.2.0",
            "_model_module": "@jupyter-widgets/controls"
          }
        },
        "4deb6ee6b31a467bbba49e5ea98edf80": {
          "model_module": "@jupyter-widgets/base",
          "model_name": "LayoutModel",
          "state": {
            "_view_name": "LayoutView",
            "grid_template_rows": null,
            "right": null,
            "justify_content": null,
            "_view_module": "@jupyter-widgets/base",
            "overflow": null,
            "_model_module_version": "1.2.0",
            "_view_count": null,
            "flex_flow": null,
            "width": null,
            "min_width": null,
            "border": null,
            "align_items": null,
            "bottom": null,
            "_model_module": "@jupyter-widgets/base",
            "top": null,
            "grid_column": null,
            "overflow_y": null,
            "overflow_x": null,
            "grid_auto_flow": null,
            "grid_area": null,
            "grid_template_columns": null,
            "flex": null,
            "_model_name": "LayoutModel",
            "justify_items": null,
            "grid_row": null,
            "max_height": null,
            "align_content": null,
            "visibility": null,
            "align_self": null,
            "height": null,
            "min_height": null,
            "padding": null,
            "grid_auto_rows": null,
            "grid_gap": null,
            "max_width": null,
            "order": null,
            "_view_module_version": "1.2.0",
            "grid_template_areas": null,
            "object_position": null,
            "object_fit": null,
            "grid_auto_columns": null,
            "margin": null,
            "display": null,
            "left": null
          }
        },
        "0290721ee0f648209331005d671e4152": {
          "model_module": "@jupyter-widgets/controls",
          "model_name": "HBoxModel",
          "state": {
            "_view_name": "HBoxView",
            "_dom_classes": [],
            "_model_name": "HBoxModel",
            "_view_module": "@jupyter-widgets/controls",
            "_model_module_version": "1.5.0",
            "_view_count": null,
            "_view_module_version": "1.5.0",
            "box_style": "",
            "layout": "IPY_MODEL_1a7cec0c1ee746049bee5bcaceefda27",
            "_model_module": "@jupyter-widgets/controls",
            "children": [
              "IPY_MODEL_a6b1cc7ed7084992937a58e3f5c1ff54",
              "IPY_MODEL_e3dc228ecb9445e9be00b72a1870cc8e"
            ]
          }
        },
        "1a7cec0c1ee746049bee5bcaceefda27": {
          "model_module": "@jupyter-widgets/base",
          "model_name": "LayoutModel",
          "state": {
            "_view_name": "LayoutView",
            "grid_template_rows": null,
            "right": null,
            "justify_content": null,
            "_view_module": "@jupyter-widgets/base",
            "overflow": null,
            "_model_module_version": "1.2.0",
            "_view_count": null,
            "flex_flow": null,
            "width": null,
            "min_width": null,
            "border": null,
            "align_items": null,
            "bottom": null,
            "_model_module": "@jupyter-widgets/base",
            "top": null,
            "grid_column": null,
            "overflow_y": null,
            "overflow_x": null,
            "grid_auto_flow": null,
            "grid_area": null,
            "grid_template_columns": null,
            "flex": null,
            "_model_name": "LayoutModel",
            "justify_items": null,
            "grid_row": null,
            "max_height": null,
            "align_content": null,
            "visibility": null,
            "align_self": null,
            "height": null,
            "min_height": null,
            "padding": null,
            "grid_auto_rows": null,
            "grid_gap": null,
            "max_width": null,
            "order": null,
            "_view_module_version": "1.2.0",
            "grid_template_areas": null,
            "object_position": null,
            "object_fit": null,
            "grid_auto_columns": null,
            "margin": null,
            "display": null,
            "left": null
          }
        },
        "a6b1cc7ed7084992937a58e3f5c1ff54": {
          "model_module": "@jupyter-widgets/controls",
          "model_name": "FloatProgressModel",
          "state": {
            "_view_name": "ProgressView",
            "style": "IPY_MODEL_13d1df60ed9440189ffce9fc76a43690",
            "_dom_classes": [],
            "description": "Downloading: 100%",
            "_model_name": "FloatProgressModel",
            "bar_style": "success",
            "max": 440473133,
            "_view_module": "@jupyter-widgets/controls",
            "_model_module_version": "1.5.0",
            "value": 440473133,
            "_view_count": null,
            "_view_module_version": "1.5.0",
            "orientation": "horizontal",
            "min": 0,
            "description_tooltip": null,
            "_model_module": "@jupyter-widgets/controls",
            "layout": "IPY_MODEL_262818e9fd4d4210a7b46e72ab92a483"
          }
        },
        "e3dc228ecb9445e9be00b72a1870cc8e": {
          "model_module": "@jupyter-widgets/controls",
          "model_name": "HTMLModel",
          "state": {
            "_view_name": "HTMLView",
            "style": "IPY_MODEL_da6429724c804d848db984fc0e7e4c74",
            "_dom_classes": [],
            "description": "",
            "_model_name": "HTMLModel",
            "placeholder": "​",
            "_view_module": "@jupyter-widgets/controls",
            "_model_module_version": "1.5.0",
            "value": " 440M/440M [00:09&lt;00:00, 44.4MB/s]",
            "_view_count": null,
            "_view_module_version": "1.5.0",
            "description_tooltip": null,
            "_model_module": "@jupyter-widgets/controls",
            "layout": "IPY_MODEL_5e202f5650e945d581923d4bd2f271b5"
          }
        },
        "13d1df60ed9440189ffce9fc76a43690": {
          "model_module": "@jupyter-widgets/controls",
          "model_name": "ProgressStyleModel",
          "state": {
            "_view_name": "StyleView",
            "_model_name": "ProgressStyleModel",
            "description_width": "initial",
            "_view_module": "@jupyter-widgets/base",
            "_model_module_version": "1.5.0",
            "_view_count": null,
            "_view_module_version": "1.2.0",
            "bar_color": null,
            "_model_module": "@jupyter-widgets/controls"
          }
        },
        "262818e9fd4d4210a7b46e72ab92a483": {
          "model_module": "@jupyter-widgets/base",
          "model_name": "LayoutModel",
          "state": {
            "_view_name": "LayoutView",
            "grid_template_rows": null,
            "right": null,
            "justify_content": null,
            "_view_module": "@jupyter-widgets/base",
            "overflow": null,
            "_model_module_version": "1.2.0",
            "_view_count": null,
            "flex_flow": null,
            "width": null,
            "min_width": null,
            "border": null,
            "align_items": null,
            "bottom": null,
            "_model_module": "@jupyter-widgets/base",
            "top": null,
            "grid_column": null,
            "overflow_y": null,
            "overflow_x": null,
            "grid_auto_flow": null,
            "grid_area": null,
            "grid_template_columns": null,
            "flex": null,
            "_model_name": "LayoutModel",
            "justify_items": null,
            "grid_row": null,
            "max_height": null,
            "align_content": null,
            "visibility": null,
            "align_self": null,
            "height": null,
            "min_height": null,
            "padding": null,
            "grid_auto_rows": null,
            "grid_gap": null,
            "max_width": null,
            "order": null,
            "_view_module_version": "1.2.0",
            "grid_template_areas": null,
            "object_position": null,
            "object_fit": null,
            "grid_auto_columns": null,
            "margin": null,
            "display": null,
            "left": null
          }
        },
        "da6429724c804d848db984fc0e7e4c74": {
          "model_module": "@jupyter-widgets/controls",
          "model_name": "DescriptionStyleModel",
          "state": {
            "_view_name": "StyleView",
            "_model_name": "DescriptionStyleModel",
            "description_width": "",
            "_view_module": "@jupyter-widgets/base",
            "_model_module_version": "1.5.0",
            "_view_count": null,
            "_view_module_version": "1.2.0",
            "_model_module": "@jupyter-widgets/controls"
          }
        },
        "5e202f5650e945d581923d4bd2f271b5": {
          "model_module": "@jupyter-widgets/base",
          "model_name": "LayoutModel",
          "state": {
            "_view_name": "LayoutView",
            "grid_template_rows": null,
            "right": null,
            "justify_content": null,
            "_view_module": "@jupyter-widgets/base",
            "overflow": null,
            "_model_module_version": "1.2.0",
            "_view_count": null,
            "flex_flow": null,
            "width": null,
            "min_width": null,
            "border": null,
            "align_items": null,
            "bottom": null,
            "_model_module": "@jupyter-widgets/base",
            "top": null,
            "grid_column": null,
            "overflow_y": null,
            "overflow_x": null,
            "grid_auto_flow": null,
            "grid_area": null,
            "grid_template_columns": null,
            "flex": null,
            "_model_name": "LayoutModel",
            "justify_items": null,
            "grid_row": null,
            "max_height": null,
            "align_content": null,
            "visibility": null,
            "align_self": null,
            "height": null,
            "min_height": null,
            "padding": null,
            "grid_auto_rows": null,
            "grid_gap": null,
            "max_width": null,
            "order": null,
            "_view_module_version": "1.2.0",
            "grid_template_areas": null,
            "object_position": null,
            "object_fit": null,
            "grid_auto_columns": null,
            "margin": null,
            "display": null,
            "left": null
          }
        },
        "f28f047afa874c88970aee747d9ed10c": {
          "model_module": "@jupyter-widgets/controls",
          "model_name": "HBoxModel",
          "state": {
            "_view_name": "HBoxView",
            "_dom_classes": [],
            "_model_name": "HBoxModel",
            "_view_module": "@jupyter-widgets/controls",
            "_model_module_version": "1.5.0",
            "_view_count": null,
            "_view_module_version": "1.5.0",
            "box_style": "",
            "layout": "IPY_MODEL_51cd08fceb294c749844dc371f1bfdc7",
            "_model_module": "@jupyter-widgets/controls",
            "children": [
              "IPY_MODEL_446e2738abd84f6dabee081b8dc0b3de",
              "IPY_MODEL_49b2aef25f4b4cce9ecee4722e273005"
            ]
          }
        },
        "51cd08fceb294c749844dc371f1bfdc7": {
          "model_module": "@jupyter-widgets/base",
          "model_name": "LayoutModel",
          "state": {
            "_view_name": "LayoutView",
            "grid_template_rows": null,
            "right": null,
            "justify_content": null,
            "_view_module": "@jupyter-widgets/base",
            "overflow": null,
            "_model_module_version": "1.2.0",
            "_view_count": null,
            "flex_flow": null,
            "width": null,
            "min_width": null,
            "border": null,
            "align_items": null,
            "bottom": null,
            "_model_module": "@jupyter-widgets/base",
            "top": null,
            "grid_column": null,
            "overflow_y": null,
            "overflow_x": null,
            "grid_auto_flow": null,
            "grid_area": null,
            "grid_template_columns": null,
            "flex": null,
            "_model_name": "LayoutModel",
            "justify_items": null,
            "grid_row": null,
            "max_height": null,
            "align_content": null,
            "visibility": null,
            "align_self": null,
            "height": null,
            "min_height": null,
            "padding": null,
            "grid_auto_rows": null,
            "grid_gap": null,
            "max_width": null,
            "order": null,
            "_view_module_version": "1.2.0",
            "grid_template_areas": null,
            "object_position": null,
            "object_fit": null,
            "grid_auto_columns": null,
            "margin": null,
            "display": null,
            "left": null
          }
        },
        "446e2738abd84f6dabee081b8dc0b3de": {
          "model_module": "@jupyter-widgets/controls",
          "model_name": "FloatProgressModel",
          "state": {
            "_view_name": "ProgressView",
            "style": "IPY_MODEL_c4ee9e5e53a447b089b2b870813feb2a",
            "_dom_classes": [],
            "description": "Downloading: 100%",
            "_model_name": "FloatProgressModel",
            "bar_style": "success",
            "max": 231508,
            "_view_module": "@jupyter-widgets/controls",
            "_model_module_version": "1.5.0",
            "value": 231508,
            "_view_count": null,
            "_view_module_version": "1.5.0",
            "orientation": "horizontal",
            "min": 0,
            "description_tooltip": null,
            "_model_module": "@jupyter-widgets/controls",
            "layout": "IPY_MODEL_302779ed1307464a9f44a5fee55f305a"
          }
        },
        "49b2aef25f4b4cce9ecee4722e273005": {
          "model_module": "@jupyter-widgets/controls",
          "model_name": "HTMLModel",
          "state": {
            "_view_name": "HTMLView",
            "style": "IPY_MODEL_047a0a0a358840789bacdd96cfd11919",
            "_dom_classes": [],
            "description": "",
            "_model_name": "HTMLModel",
            "placeholder": "​",
            "_view_module": "@jupyter-widgets/controls",
            "_model_module_version": "1.5.0",
            "value": " 232k/232k [00:00&lt;00:00, 708kB/s]",
            "_view_count": null,
            "_view_module_version": "1.5.0",
            "description_tooltip": null,
            "_model_module": "@jupyter-widgets/controls",
            "layout": "IPY_MODEL_fe82b097534b48a9a448cb9c63c35c41"
          }
        },
        "c4ee9e5e53a447b089b2b870813feb2a": {
          "model_module": "@jupyter-widgets/controls",
          "model_name": "ProgressStyleModel",
          "state": {
            "_view_name": "StyleView",
            "_model_name": "ProgressStyleModel",
            "description_width": "initial",
            "_view_module": "@jupyter-widgets/base",
            "_model_module_version": "1.5.0",
            "_view_count": null,
            "_view_module_version": "1.2.0",
            "bar_color": null,
            "_model_module": "@jupyter-widgets/controls"
          }
        },
        "302779ed1307464a9f44a5fee55f305a": {
          "model_module": "@jupyter-widgets/base",
          "model_name": "LayoutModel",
          "state": {
            "_view_name": "LayoutView",
            "grid_template_rows": null,
            "right": null,
            "justify_content": null,
            "_view_module": "@jupyter-widgets/base",
            "overflow": null,
            "_model_module_version": "1.2.0",
            "_view_count": null,
            "flex_flow": null,
            "width": null,
            "min_width": null,
            "border": null,
            "align_items": null,
            "bottom": null,
            "_model_module": "@jupyter-widgets/base",
            "top": null,
            "grid_column": null,
            "overflow_y": null,
            "overflow_x": null,
            "grid_auto_flow": null,
            "grid_area": null,
            "grid_template_columns": null,
            "flex": null,
            "_model_name": "LayoutModel",
            "justify_items": null,
            "grid_row": null,
            "max_height": null,
            "align_content": null,
            "visibility": null,
            "align_self": null,
            "height": null,
            "min_height": null,
            "padding": null,
            "grid_auto_rows": null,
            "grid_gap": null,
            "max_width": null,
            "order": null,
            "_view_module_version": "1.2.0",
            "grid_template_areas": null,
            "object_position": null,
            "object_fit": null,
            "grid_auto_columns": null,
            "margin": null,
            "display": null,
            "left": null
          }
        },
        "047a0a0a358840789bacdd96cfd11919": {
          "model_module": "@jupyter-widgets/controls",
          "model_name": "DescriptionStyleModel",
          "state": {
            "_view_name": "StyleView",
            "_model_name": "DescriptionStyleModel",
            "description_width": "",
            "_view_module": "@jupyter-widgets/base",
            "_model_module_version": "1.5.0",
            "_view_count": null,
            "_view_module_version": "1.2.0",
            "_model_module": "@jupyter-widgets/controls"
          }
        },
        "fe82b097534b48a9a448cb9c63c35c41": {
          "model_module": "@jupyter-widgets/base",
          "model_name": "LayoutModel",
          "state": {
            "_view_name": "LayoutView",
            "grid_template_rows": null,
            "right": null,
            "justify_content": null,
            "_view_module": "@jupyter-widgets/base",
            "overflow": null,
            "_model_module_version": "1.2.0",
            "_view_count": null,
            "flex_flow": null,
            "width": null,
            "min_width": null,
            "border": null,
            "align_items": null,
            "bottom": null,
            "_model_module": "@jupyter-widgets/base",
            "top": null,
            "grid_column": null,
            "overflow_y": null,
            "overflow_x": null,
            "grid_auto_flow": null,
            "grid_area": null,
            "grid_template_columns": null,
            "flex": null,
            "_model_name": "LayoutModel",
            "justify_items": null,
            "grid_row": null,
            "max_height": null,
            "align_content": null,
            "visibility": null,
            "align_self": null,
            "height": null,
            "min_height": null,
            "padding": null,
            "grid_auto_rows": null,
            "grid_gap": null,
            "max_width": null,
            "order": null,
            "_view_module_version": "1.2.0",
            "grid_template_areas": null,
            "object_position": null,
            "object_fit": null,
            "grid_auto_columns": null,
            "margin": null,
            "display": null,
            "left": null
          }
        }
      }
    }
  },
  "cells": [
    {
      "cell_type": "markdown",
      "metadata": {
        "colab_type": "text",
        "id": "98Ccw6T0lhIf"
      },
      "source": [
        "# Final Project NLP - SMALL VERSION\n",
        "\n",
        "- Author: Erik Buunk\n",
        "- Date: 2020-07-26\n",
        "- Version: 0.5\n",
        "\n",
        "Changes:\n",
        "- 0.4: excl. Pop\n",
        "- 0.4a: Colab version\n",
        "- 0.5: include metal\n",
        "\n",
        "The purpose of this note book to get acquinted with the data to know which operations were needed for the final dataset. \n",
        "Also a basline performance was done, from which further development of the model was determined.\n",
        "\n",
        "\n",
        "## Data files:\n",
        "- metal_songs.csv\n",
        "- artist-data.csv\n",
        "- lyrics-data.csv\n",
        "\n",
        "## Settings:\n",
        "- set `COLAB = True` if you run this on Colab. Data can be placed in the root directory"
      ]
    },
    {
      "cell_type": "code",
      "metadata": {
        "colab_type": "code",
        "id": "1OIXZEqNlhIj",
        "colab": {}
      },
      "source": [
        "# setup\n",
        "import sys\n",
        "import subprocess\n",
        "import pkg_resources\n",
        "from collections import Counter\n",
        "import re\n",
        "from numpy import log, mean, matmul\n",
        "\n",
        "\n",
        "# required = {'spacy', 'scikit-learn', 'numpy', \n",
        "#             'pandas', 'torch', 'matplotlib',\n",
        "#             'transformers', 'allennlp==0.9.0'}\n",
        "# installed = {pkg.key for pkg in pkg_resources.working_set}\n",
        "# missing = required - installed\n",
        "\n",
        "# if missing:\n",
        "#     python = sys.executable\n",
        "#     subprocess.check_call([python, '-m', 'pip', 'install', *missing], stdout=subprocess.DEVNULL)\n",
        "import spacy\n",
        "import numpy as np\n",
        "import pandas as pd\n",
        "\n",
        "# SciKit Learn\n",
        "from sklearn.feature_extraction.text import CountVectorizer, TfidfVectorizer\n",
        "from sklearn.decomposition import NMF, LatentDirichletAllocation\n",
        "from sklearn.metrics.pairwise import cosine_similarity\n",
        "from sklearn.preprocessing import normalize\n",
        "from sklearn.metrics import accuracy_score\n",
        "from sklearn.svm import LinearSVC\n",
        "from sklearn.svm import SVC\n",
        "\n",
        "\n",
        "# Spacy\n",
        "from spacy.lang.en import English\n",
        "en = English()\n",
        "\n",
        "# !python -m spacy download en_core_web_md # includes GloVe Vectors\n",
        "# !python -m spacy download en_core_web_sm\n",
        "# !python -m spacy download en\n",
        "\n",
        "# import en_core_web_sm\n",
        "# import en_core_web_md\n",
        "\n",
        "\n",
        "# PyTorch\n",
        "import torch\n",
        "# import torch.nn as nn\n",
        "from torch.utils.data import TensorDataset, DataLoader\n",
        "\n",
        "# File managment\n",
        "import os\n",
        "from os import listdir\n",
        "from pathlib import Path\n",
        "import pickle\n",
        "import gzip\n"
      ],
      "execution_count": 3,
      "outputs": []
    },
    {
      "cell_type": "code",
      "metadata": {
        "colab_type": "code",
        "id": "pGoQE0vMlhIt",
        "colab": {}
      },
      "source": [
        "LOAD_DATA = False # read save data or regenerate data\n",
        "SAVE_DATA = False # overwrite generated data? \n",
        "\n",
        "COLAB = True"
      ],
      "execution_count": 4,
      "outputs": []
    },
    {
      "cell_type": "code",
      "metadata": {
        "colab_type": "code",
        "id": "-t5BHFbWlhI2",
        "colab": {}
      },
      "source": [
        "if COLAB:\n",
        "  # Google Colab\n",
        "  path = \"./\"\n",
        "  device = torch.device(\"cuda:0\") # use GPU, change \n",
        "else:\n",
        "  # Laptop\n",
        "  path = \"./data/\"\n",
        "  device = torch.device(\"cpu\")\n",
        "#   !pip install ipywidgets\n",
        "#   !jupyter nbextension enable --py widgetsnbextension\n"
      ],
      "execution_count": 5,
      "outputs": []
    },
    {
      "cell_type": "markdown",
      "metadata": {
        "id": "LYwGA3xZkKb5",
        "colab_type": "text"
      },
      "source": [
        "# Functions"
      ]
    },
    {
      "cell_type": "code",
      "metadata": {
        "_cell_guid": "b1076dfc-b9ad-4769-8c92-a6c4dae69d19",
        "_uuid": "8f2839f25d086af736a60e9eeb907d3b93b6e0e5",
        "colab_type": "code",
        "id": "2XHm-b98lhI9",
        "colab": {}
      },
      "source": [
        "def show_data():\n",
        "  for dirname, _, filenames in os.walk(path):\n",
        "      for filename in filenames:\n",
        "          print(os.path.join(dirname, filename))\n",
        "\n",
        "# show_data()"
      ],
      "execution_count": 6,
      "outputs": []
    },
    {
      "cell_type": "code",
      "metadata": {
        "id": "agwNsr9dkKb-",
        "colab_type": "code",
        "colab": {}
      },
      "source": [
        "def save_pickle(filename, data):\n",
        "    with open(f\"{path}{filename}\", \"wb\") as fp: \n",
        "      pickle.dump(data, fp)\n",
        "\n",
        "def load_pickle(filename):\n",
        "    with open(f\"{path}{filename}\", 'rb') as f:\n",
        "      return pickle.load(f)\n",
        "    \n",
        "def save_file(filename, train_tokens, test_tokens, val_tokens):\n",
        "  data = {\"train_tokens\": train_tokens, \"test_tokens\" : test_tokens, \"val_tokens\": val_tokens}\n",
        "\n",
        "  with open(f\"{path}{filename}\", \"wb\") as fp: \n",
        "    pickle.dump(data, fp)\n",
        "    \n",
        "def load_file(filename):\n",
        "  with open(f\"{path}{filename}\", 'rb') as f:\n",
        "      all_text = pickle.load(f)\n",
        "      return (all_text[\"train_tokens\"], all_text[\"test_tokens\"], all_text[\"val_tokens\"])\n"
      ],
      "execution_count": 7,
      "outputs": []
    },
    {
      "cell_type": "code",
      "metadata": {
        "colab_type": "code",
        "id": "IsZH3FvqlhK3",
        "colab": {}
      },
      "source": [
        "def split_train_val_test (X, y, pct_train = 0.7, pct_val = 0.3):\n",
        "  np.random.seed(0)\n",
        "  train_bool = np.random.random(len(X)) <= pct_train\n",
        "  x_train = X[train_bool]\n",
        "  y_train = y[train_bool]\n",
        "\n",
        "  x_test = X[~train_bool]\n",
        "  y_test = y[~train_bool]\n",
        "\n",
        "  # split the training 30% for validation\n",
        "  val_bool = np.random.random(size=len(x_train)) <= pct_val\n",
        "  x_val = x_train[val_bool]\n",
        "  y_val = y_train[val_bool]\n",
        "\n",
        "  # exclude validation from training\n",
        "  x_train = x_train[~val_bool]\n",
        "  y_train = y_train[~val_bool]\n",
        "  \n",
        "  #check lengths\n",
        "  print(\"Training: \", len(x_train), len(y_train))\n",
        "  print(\"Validation: \", len(x_val), len(y_val))\n",
        "  print(\"Test: \", len(x_test), len(y_test))\n",
        "  \n",
        "  return x_train, y_train, x_val, y_val, x_test, y_test"
      ],
      "execution_count": 8,
      "outputs": []
    },
    {
      "cell_type": "markdown",
      "metadata": {
        "id": "j7znTUxfkKcI",
        "colab_type": "text"
      },
      "source": [
        "# Load Data"
      ]
    },
    {
      "cell_type": "code",
      "metadata": {
        "id": "PKIsXk3-kKcJ",
        "colab_type": "code",
        "colab": {}
      },
      "source": [
        "# if LOAD_DATA:\n",
        "#   df_total = pd.read_csv(f'{path}df_total.csv')\n",
        "#   df_small = pd.read_pickle(f'{path}df_small.pkl.gz')\n",
        "#   (x_test, x_val, x_test, y_train, y_val, y_test) = load_pickle('data_split_sm.pkl') # based on the sampled small data set\n",
        "\n",
        "#   lyrics_bert_vectors_train = pd.read_pickle(f'{path}lyrics_bert_vectors_train.pkl.gz')\n",
        "#   lyrics_bert_vectors_val = pd.read_pickle(f'{path}lyrics_bert_vectors_val.pkl.gz')\n",
        "#   lyrics_bert_vectors_test = pd.read_pickle(f'{path}lyrics_bert_vectors_test.pkl.gz')\n",
        "\n",
        "  \n",
        "# # TODO: part of the data preparation can be skipped here of the data is pre-loaded"
      ],
      "execution_count": 9,
      "outputs": []
    },
    {
      "cell_type": "code",
      "metadata": {
        "_cell_guid": "79c7e3d0-c299-4dcb-8224-4455121ee9b0",
        "_uuid": "d629ff2d2480ee46fbb7e2d37f6b5fab8052498a",
        "colab_type": "code",
        "id": "E2ZNaRJolhJD",
        "colab": {}
      },
      "source": [
        "# Read data\n",
        "df_artist =  pd.read_csv(f'{path}artists-data.csv')"
      ],
      "execution_count": 10,
      "outputs": []
    },
    {
      "cell_type": "code",
      "metadata": {
        "_cell_guid": "79c7e3d0-c299-4dcb-8224-4455121ee9b0",
        "_uuid": "d629ff2d2480ee46fbb7e2d37f6b5fab8052498a",
        "colab_type": "code",
        "id": "-5JqbXi9kKcQ",
        "colab": {}
      },
      "source": [
        "df_lyrics = pd.read_csv(f'{path}lyrics-data.csv')"
      ],
      "execution_count": 11,
      "outputs": []
    },
    {
      "cell_type": "code",
      "metadata": {
        "_cell_guid": "79c7e3d0-c299-4dcb-8224-4455121ee9b0",
        "_uuid": "d629ff2d2480ee46fbb7e2d37f6b5fab8052498a",
        "colab_type": "code",
        "id": "EGl2Hq-WkKcU",
        "colab": {}
      },
      "source": [
        "df_metal = pd.read_csv(f'{path}metal_songs.csv')"
      ],
      "execution_count": 12,
      "outputs": []
    },
    {
      "cell_type": "markdown",
      "metadata": {
        "colab_type": "text",
        "id": "rDdybrM4lhJI"
      },
      "source": [
        "# Data exploration and data preparation\n",
        "- [x] Check distribution of the data. (genres, artists, lyrics, languages)\n",
        "- [x] Data analysis: is the data usable, what needs to be cleaned. Visual inspection.\n",
        "- [ ] Top words, word counts leading to a basic tokenizer.\n",
        "- [x] Cosine similarity between document genres. \n",
        "- [ ] Create a base pipeline, word counts/TFIDF\n",
        "- [ ] Visualizations\n"
      ]
    },
    {
      "cell_type": "code",
      "metadata": {
        "colab_type": "code",
        "id": "E7nBRFpflhJJ",
        "colab": {
          "base_uri": "https://localhost:8080/",
          "height": 69
        },
        "outputId": "61143921-a9e2-4095-d0f4-a0dbad708f00"
      },
      "source": [
        "print(df_artist.columns)\n",
        "print(df_lyrics.columns)\n",
        "print(df_metal.columns)"
      ],
      "execution_count": 13,
      "outputs": [
        {
          "output_type": "stream",
          "text": [
            "Index(['Artist', 'Songs', 'Popularity', 'Link', 'Genre', 'Genres'], dtype='object')\n",
            "Index(['ALink', 'SName', 'SLink', 'Lyric', 'Idiom'], dtype='object')\n",
            "Index(['Genre', 'Artist', 'Song', 'Lyric'], dtype='object')\n"
          ],
          "name": "stdout"
        }
      ]
    },
    {
      "cell_type": "markdown",
      "metadata": {
        "id": "fYBAFI3jkKce",
        "colab_type": "text"
      },
      "source": [
        "#### Lyrics"
      ]
    },
    {
      "cell_type": "code",
      "metadata": {
        "colab_type": "code",
        "id": "EnkhVW_UlhJO",
        "colab": {
          "base_uri": "https://localhost:8080/",
          "height": 34
        },
        "outputId": "2da6bc34-bf0e-44e7-e72a-93c92bb27974"
      },
      "source": [
        "df_lyrics.shape"
      ],
      "execution_count": 14,
      "outputs": [
        {
          "output_type": "execute_result",
          "data": {
            "text/plain": [
              "(50000, 5)"
            ]
          },
          "metadata": {
            "tags": []
          },
          "execution_count": 14
        }
      ]
    },
    {
      "cell_type": "code",
      "metadata": {
        "colab_type": "code",
        "id": "9p5n8n6KlhJS",
        "colab": {
          "base_uri": "https://localhost:8080/",
          "height": 208
        },
        "outputId": "b6aa8e36-213c-4787-a287-97578afbfa68"
      },
      "source": [
        "df_lyrics[\"Idiom\"].value_counts().head(n=10)"
      ],
      "execution_count": 15,
      "outputs": [
        {
          "output_type": "execute_result",
          "data": {
            "text/plain": [
              "ENGLISH        27229\n",
              "PORTUGUESE     20507\n",
              "SPANISH         1100\n",
              "ITALIAN          145\n",
              "FRENCH           121\n",
              "GERMAN            72\n",
              "KINYARWANDA       16\n",
              "ESTONIAN           5\n",
              "SWEDISH            5\n",
              "CROATIAN           4\n",
              "Name: Idiom, dtype: int64"
            ]
          },
          "metadata": {
            "tags": []
          },
          "execution_count": 15
        }
      ]
    },
    {
      "cell_type": "markdown",
      "metadata": {
        "colab_type": "text",
        "id": "LUtO9hbjlhJW"
      },
      "source": [
        "For this project we will use English only."
      ]
    },
    {
      "cell_type": "code",
      "metadata": {
        "colab_type": "code",
        "id": "aAkRaDeqlhJX",
        "colab": {
          "base_uri": "https://localhost:8080/",
          "height": 34
        },
        "outputId": "58a0a405-dba8-4f16-ba20-97169c8ea992"
      },
      "source": [
        "df_lyrics_en = df_lyrics.query(\"Idiom == 'ENGLISH'\")\n",
        "df_lyrics_en = df_lyrics_en.drop([\"SLink\", \"Idiom\"], axis=1)\n",
        "df_lyrics_en.shape"
      ],
      "execution_count": 16,
      "outputs": [
        {
          "output_type": "execute_result",
          "data": {
            "text/plain": [
              "(27229, 3)"
            ]
          },
          "metadata": {
            "tags": []
          },
          "execution_count": 16
        }
      ]
    },
    {
      "cell_type": "code",
      "metadata": {
        "colab_type": "code",
        "id": "DkdEF6orlhJb",
        "colab": {
          "base_uri": "https://localhost:8080/",
          "height": 424
        },
        "outputId": "7f119445-2eb2-438a-9a95-856412785863"
      },
      "source": [
        "df_lyrics_en"
      ],
      "execution_count": 17,
      "outputs": [
        {
          "output_type": "execute_result",
          "data": {
            "text/html": [
              "<div>\n",
              "<style scoped>\n",
              "    .dataframe tbody tr th:only-of-type {\n",
              "        vertical-align: middle;\n",
              "    }\n",
              "\n",
              "    .dataframe tbody tr th {\n",
              "        vertical-align: top;\n",
              "    }\n",
              "\n",
              "    .dataframe thead th {\n",
              "        text-align: right;\n",
              "    }\n",
              "</style>\n",
              "<table border=\"1\" class=\"dataframe\">\n",
              "  <thead>\n",
              "    <tr style=\"text-align: right;\">\n",
              "      <th></th>\n",
              "      <th>ALink</th>\n",
              "      <th>SName</th>\n",
              "      <th>Lyric</th>\n",
              "    </tr>\n",
              "  </thead>\n",
              "  <tbody>\n",
              "    <tr>\n",
              "      <th>0</th>\n",
              "      <td>/ace-hood/</td>\n",
              "      <td>We On</td>\n",
              "      <td>Okay. Uh, okay I walked in the party and it's ...</td>\n",
              "    </tr>\n",
              "    <tr>\n",
              "      <th>2</th>\n",
              "      <td>/foxy-brown/</td>\n",
              "      <td>The Chase</td>\n",
              "      <td>Uhhhh yeahhhh uh, The Firm. Lust... hate... en...</td>\n",
              "    </tr>\n",
              "    <tr>\n",
              "      <th>3</th>\n",
              "      <td>/nick-jonas/</td>\n",
              "      <td>Avalanche (Feat. Demi Lovato)</td>\n",
              "      <td>Words like a loaded gun. Shot out from a fire ...</td>\n",
              "    </tr>\n",
              "    <tr>\n",
              "      <th>6</th>\n",
              "      <td>/sonic-youth/</td>\n",
              "      <td>Wildflower Soul</td>\n",
              "      <td>sing yr children. yr children song. sing yr lo...</td>\n",
              "    </tr>\n",
              "    <tr>\n",
              "      <th>7</th>\n",
              "      <td>/tarja-turunen/</td>\n",
              "      <td>I Walk Alone</td>\n",
              "      <td>Put all your angels on the edge. Keep all the ...</td>\n",
              "    </tr>\n",
              "    <tr>\n",
              "      <th>...</th>\n",
              "      <td>...</td>\n",
              "      <td>...</td>\n",
              "      <td>...</td>\n",
              "    </tr>\n",
              "    <tr>\n",
              "      <th>49992</th>\n",
              "      <td>/fleetwood-mac/</td>\n",
              "      <td>Welcome To The Room... Sara</td>\n",
              "      <td>Written by Stevie Nicks.. . It's not home. And...</td>\n",
              "    </tr>\n",
              "    <tr>\n",
              "      <th>49993</th>\n",
              "      <td>/b-o-b/</td>\n",
              "      <td>Grand Hustle Kings (Feat. Young Dro &amp; T.i.)</td>\n",
              "      <td>I'll be questioning ain't gonna be … hold up. ...</td>\n",
              "    </tr>\n",
              "    <tr>\n",
              "      <th>49994</th>\n",
              "      <td>/avenged-sevenfold/</td>\n",
              "      <td>An Epic of Time Wasted</td>\n",
              "      <td>So much time I've wasted.. I can truly say I n...</td>\n",
              "    </tr>\n",
              "    <tr>\n",
              "      <th>49996</th>\n",
              "      <td>/shanell/</td>\n",
              "      <td>Cha-Ching (Feat. Millionaires)</td>\n",
              "      <td>[Hook]. Cha-ching. Cha-ching. Let me here you ...</td>\n",
              "    </tr>\n",
              "    <tr>\n",
              "      <th>49999</th>\n",
              "      <td>/belle-sebastian/</td>\n",
              "      <td>Piazza, New York Catcher</td>\n",
              "      <td>Elope with me Miss Private and we’ll sail arou...</td>\n",
              "    </tr>\n",
              "  </tbody>\n",
              "</table>\n",
              "<p>27229 rows × 3 columns</p>\n",
              "</div>"
            ],
            "text/plain": [
              "                     ALink  ...                                              Lyric\n",
              "0               /ace-hood/  ...  Okay. Uh, okay I walked in the party and it's ...\n",
              "2             /foxy-brown/  ...  Uhhhh yeahhhh uh, The Firm. Lust... hate... en...\n",
              "3             /nick-jonas/  ...  Words like a loaded gun. Shot out from a fire ...\n",
              "6            /sonic-youth/  ...  sing yr children. yr children song. sing yr lo...\n",
              "7          /tarja-turunen/  ...  Put all your angels on the edge. Keep all the ...\n",
              "...                    ...  ...                                                ...\n",
              "49992      /fleetwood-mac/  ...  Written by Stevie Nicks.. . It's not home. And...\n",
              "49993              /b-o-b/  ...  I'll be questioning ain't gonna be … hold up. ...\n",
              "49994  /avenged-sevenfold/  ...  So much time I've wasted.. I can truly say I n...\n",
              "49996            /shanell/  ...  [Hook]. Cha-ching. Cha-ching. Let me here you ...\n",
              "49999    /belle-sebastian/  ...  Elope with me Miss Private and we’ll sail arou...\n",
              "\n",
              "[27229 rows x 3 columns]"
            ]
          },
          "metadata": {
            "tags": []
          },
          "execution_count": 17
        }
      ]
    },
    {
      "cell_type": "markdown",
      "metadata": {
        "id": "Qf9YJOBjkKcy",
        "colab_type": "text"
      },
      "source": [
        "#### Artist"
      ]
    },
    {
      "cell_type": "code",
      "metadata": {
        "colab_type": "code",
        "id": "ttKAABh7lhJf",
        "colab": {
          "base_uri": "https://localhost:8080/",
          "height": 86
        },
        "outputId": "b79b8128-82cd-46e7-daa8-306310262197"
      },
      "source": [
        "# origianl query:\n",
        "df_artist_sm = df_artist.query(\"Genre == 'Rock' | Genre == 'Pop' | Genre == 'Hip Hop'\")\n",
        "\n",
        "# 2 category:\n",
        "# df_artist_sm = df_artist.query(\"Genre == 'Rock' | Genre == 'Hip Hop'\")\n",
        "\n",
        "total = df_artist_sm.shape[0]\n",
        "100*df_artist_sm[\"Genre\"].value_counts()/total"
      ],
      "execution_count": 18,
      "outputs": [
        {
          "output_type": "execute_result",
          "data": {
            "text/plain": [
              "Rock       37.417840\n",
              "Pop        37.370892\n",
              "Hip Hop    25.211268\n",
              "Name: Genre, dtype: float64"
            ]
          },
          "metadata": {
            "tags": []
          },
          "execution_count": 18
        }
      ]
    },
    {
      "cell_type": "code",
      "metadata": {
        "colab_type": "code",
        "id": "1BaB5mK5lhJj",
        "colab": {
          "base_uri": "https://localhost:8080/",
          "height": 86
        },
        "outputId": "d258286e-7cbf-4b54-b218-53249cf0fc19"
      },
      "source": [
        "# original\n",
        "genres = [\"Rock\", \"Pop\", \"Hip Hop\"]\n",
        "\n",
        "# 2 category\n",
        "# genres = [\"Rock\", \"Hip Hop\", \"Metal\"]\n",
        "genres.sort()\n",
        "\n",
        "total_songs = df_artist_sm[\"Songs\"].sum()\n",
        "print(f\"Total Songs: {total_songs}\")\n",
        "for i in genres:\n",
        "    percentage = round(100*df_artist_sm[df_artist_sm.Genre == i][\"Songs\"].sum()/total_songs, 2 )\n",
        "    print(f\"{i} {percentage}%\")"
      ],
      "execution_count": 19,
      "outputs": [
        {
          "output_type": "stream",
          "text": [
            "Total Songs: 127523\n",
            "Hip Hop 17.03%\n",
            "Pop 34.15%\n",
            "Rock 48.82%\n"
          ],
          "name": "stdout"
        }
      ]
    },
    {
      "cell_type": "code",
      "metadata": {
        "colab_type": "code",
        "id": "UOUUhfqIlhJo",
        "colab": {}
      },
      "source": [
        "df_artist_sm_red = df_artist_sm.drop([\"Genres\", \"Popularity\", \"Songs\"], axis = 1)"
      ],
      "execution_count": 20,
      "outputs": []
    },
    {
      "cell_type": "code",
      "metadata": {
        "colab_type": "code",
        "id": "jW_2B-s5lhJr",
        "colab": {
          "base_uri": "https://localhost:8080/",
          "height": 424
        },
        "outputId": "36f9cf02-c5be-45ea-ae58-5d5915d84ea5"
      },
      "source": [
        "df_artist_sm_red"
      ],
      "execution_count": 21,
      "outputs": [
        {
          "output_type": "execute_result",
          "data": {
            "text/html": [
              "<div>\n",
              "<style scoped>\n",
              "    .dataframe tbody tr th:only-of-type {\n",
              "        vertical-align: middle;\n",
              "    }\n",
              "\n",
              "    .dataframe tbody tr th {\n",
              "        vertical-align: top;\n",
              "    }\n",
              "\n",
              "    .dataframe thead th {\n",
              "        text-align: right;\n",
              "    }\n",
              "</style>\n",
              "<table border=\"1\" class=\"dataframe\">\n",
              "  <thead>\n",
              "    <tr style=\"text-align: right;\">\n",
              "      <th></th>\n",
              "      <th>Artist</th>\n",
              "      <th>Link</th>\n",
              "      <th>Genre</th>\n",
              "    </tr>\n",
              "  </thead>\n",
              "  <tbody>\n",
              "    <tr>\n",
              "      <th>0</th>\n",
              "      <td>10000 Maniacs</td>\n",
              "      <td>/10000-maniacs/</td>\n",
              "      <td>Rock</td>\n",
              "    </tr>\n",
              "    <tr>\n",
              "      <th>1</th>\n",
              "      <td>12 Stones</td>\n",
              "      <td>/12-stones/</td>\n",
              "      <td>Rock</td>\n",
              "    </tr>\n",
              "    <tr>\n",
              "      <th>2</th>\n",
              "      <td>311</td>\n",
              "      <td>/311/</td>\n",
              "      <td>Rock</td>\n",
              "    </tr>\n",
              "    <tr>\n",
              "      <th>3</th>\n",
              "      <td>4 Non Blondes</td>\n",
              "      <td>/4-non-blondes/</td>\n",
              "      <td>Rock</td>\n",
              "    </tr>\n",
              "    <tr>\n",
              "      <th>4</th>\n",
              "      <td>A Cruz Está Vazia</td>\n",
              "      <td>/a-cruz-esta-vazia/</td>\n",
              "      <td>Rock</td>\n",
              "    </tr>\n",
              "    <tr>\n",
              "      <th>...</th>\n",
              "      <td>...</td>\n",
              "      <td>...</td>\n",
              "      <td>...</td>\n",
              "    </tr>\n",
              "    <tr>\n",
              "      <th>3227</th>\n",
              "      <td>Tati Quebra Barraco</td>\n",
              "      <td>/tati-quebra-barraco/</td>\n",
              "      <td>Hip Hop</td>\n",
              "    </tr>\n",
              "    <tr>\n",
              "      <th>3228</th>\n",
              "      <td>Valesca Popozuda</td>\n",
              "      <td>/valesca-popozuda/</td>\n",
              "      <td>Pop</td>\n",
              "    </tr>\n",
              "    <tr>\n",
              "      <th>3229</th>\n",
              "      <td>Vine Rodry</td>\n",
              "      <td>/vine-rodry/</td>\n",
              "      <td>Pop</td>\n",
              "    </tr>\n",
              "    <tr>\n",
              "      <th>3234</th>\n",
              "      <td>Leandro Sapucahy</td>\n",
              "      <td>/leandro-sapucahy/</td>\n",
              "      <td>Pop</td>\n",
              "    </tr>\n",
              "    <tr>\n",
              "      <th>3239</th>\n",
              "      <td>Sambô</td>\n",
              "      <td>/sambo/</td>\n",
              "      <td>Rock</td>\n",
              "    </tr>\n",
              "  </tbody>\n",
              "</table>\n",
              "<p>2130 rows × 3 columns</p>\n",
              "</div>"
            ],
            "text/plain": [
              "                   Artist                   Link    Genre\n",
              "0           10000 Maniacs        /10000-maniacs/     Rock\n",
              "1               12 Stones            /12-stones/     Rock\n",
              "2                     311                  /311/     Rock\n",
              "3           4 Non Blondes        /4-non-blondes/     Rock\n",
              "4       A Cruz Está Vazia    /a-cruz-esta-vazia/     Rock\n",
              "...                   ...                    ...      ...\n",
              "3227  Tati Quebra Barraco  /tati-quebra-barraco/  Hip Hop\n",
              "3228     Valesca Popozuda     /valesca-popozuda/      Pop\n",
              "3229           Vine Rodry           /vine-rodry/      Pop\n",
              "3234     Leandro Sapucahy     /leandro-sapucahy/      Pop\n",
              "3239                Sambô                /sambo/     Rock\n",
              "\n",
              "[2130 rows x 3 columns]"
            ]
          },
          "metadata": {
            "tags": []
          },
          "execution_count": 21
        }
      ]
    },
    {
      "cell_type": "code",
      "metadata": {
        "colab_type": "code",
        "id": "XU_3J50ElhJw",
        "colab": {
          "base_uri": "https://localhost:8080/",
          "height": 34
        },
        "outputId": "3f229bfb-942f-4973-d535-863621009bc0"
      },
      "source": [
        "# Remove duplicate Link values\n",
        "\n",
        "# pd.DataFrame(df_artist_sm[\"Link\"].value_counts())\n",
        "(df_artist_sm_red[\"Link\"].value_counts() > 1).sum()"
      ],
      "execution_count": 22,
      "outputs": [
        {
          "output_type": "execute_result",
          "data": {
            "text/plain": [
              "144"
            ]
          },
          "metadata": {
            "tags": []
          },
          "execution_count": 22
        }
      ]
    },
    {
      "cell_type": "code",
      "metadata": {
        "colab_type": "code",
        "id": "gg-RBykflhJ1",
        "colab": {}
      },
      "source": [
        "# drop duplicates\n",
        "df_artist_dedup = df_artist_sm_red.drop(df_artist_sm_red[df_artist_sm_red.Link.duplicated()].index)"
      ],
      "execution_count": 23,
      "outputs": []
    },
    {
      "cell_type": "code",
      "metadata": {
        "colab_type": "code",
        "id": "p1GT4-jdlhJ4",
        "colab": {
          "base_uri": "https://localhost:8080/",
          "height": 81
        },
        "outputId": "6efb614b-abd4-4d4e-d798-7e5fa76adfbf"
      },
      "source": [
        "# Some artist have multiple genrese. These are removed.\n",
        "\n",
        "(df_artist_dedup[\"Link\"].value_counts() > 1).sum()\n",
        "df_artist_dedup[df_artist_dedup[\"Artist\"] =='10000 Maniacs']"
      ],
      "execution_count": 24,
      "outputs": [
        {
          "output_type": "execute_result",
          "data": {
            "text/html": [
              "<div>\n",
              "<style scoped>\n",
              "    .dataframe tbody tr th:only-of-type {\n",
              "        vertical-align: middle;\n",
              "    }\n",
              "\n",
              "    .dataframe tbody tr th {\n",
              "        vertical-align: top;\n",
              "    }\n",
              "\n",
              "    .dataframe thead th {\n",
              "        text-align: right;\n",
              "    }\n",
              "</style>\n",
              "<table border=\"1\" class=\"dataframe\">\n",
              "  <thead>\n",
              "    <tr style=\"text-align: right;\">\n",
              "      <th></th>\n",
              "      <th>Artist</th>\n",
              "      <th>Link</th>\n",
              "      <th>Genre</th>\n",
              "    </tr>\n",
              "  </thead>\n",
              "  <tbody>\n",
              "    <tr>\n",
              "      <th>0</th>\n",
              "      <td>10000 Maniacs</td>\n",
              "      <td>/10000-maniacs/</td>\n",
              "      <td>Rock</td>\n",
              "    </tr>\n",
              "  </tbody>\n",
              "</table>\n",
              "</div>"
            ],
            "text/plain": [
              "          Artist             Link Genre\n",
              "0  10000 Maniacs  /10000-maniacs/  Rock"
            ]
          },
          "metadata": {
            "tags": []
          },
          "execution_count": 24
        }
      ]
    },
    {
      "cell_type": "markdown",
      "metadata": {
        "id": "y7L9zT_ZkKdJ",
        "colab_type": "text"
      },
      "source": [
        "#### Metal lyrics"
      ]
    },
    {
      "cell_type": "code",
      "metadata": {
        "id": "n60eXsDjkKdK",
        "colab_type": "code",
        "colab": {
          "base_uri": "https://localhost:8080/",
          "height": 206
        },
        "outputId": "b2945b6a-4c8a-46ad-a7ea-dd98a8fcd2ea"
      },
      "source": [
        "df_metal = pd.read_csv(f'{path}metal_songs.csv')\n",
        "df_metal.head()"
      ],
      "execution_count": 25,
      "outputs": [
        {
          "output_type": "execute_result",
          "data": {
            "text/html": [
              "<div>\n",
              "<style scoped>\n",
              "    .dataframe tbody tr th:only-of-type {\n",
              "        vertical-align: middle;\n",
              "    }\n",
              "\n",
              "    .dataframe tbody tr th {\n",
              "        vertical-align: top;\n",
              "    }\n",
              "\n",
              "    .dataframe thead th {\n",
              "        text-align: right;\n",
              "    }\n",
              "</style>\n",
              "<table border=\"1\" class=\"dataframe\">\n",
              "  <thead>\n",
              "    <tr style=\"text-align: right;\">\n",
              "      <th></th>\n",
              "      <th>Genre</th>\n",
              "      <th>Artist</th>\n",
              "      <th>Song</th>\n",
              "      <th>Lyric</th>\n",
              "    </tr>\n",
              "  </thead>\n",
              "  <tbody>\n",
              "    <tr>\n",
              "      <th>0</th>\n",
              "      <td>Metal</td>\n",
              "      <td>Melvins</td>\n",
              "      <td>Hdyf</td>\n",
              "      <td>\\n</td>\n",
              "    </tr>\n",
              "    <tr>\n",
              "      <th>1</th>\n",
              "      <td>Metal</td>\n",
              "      <td>Zakk Wylde</td>\n",
              "      <td>I Thank You Child</td>\n",
              "      <td>All for you\\nEverlasting love forever skies of...</td>\n",
              "    </tr>\n",
              "    <tr>\n",
              "      <th>2</th>\n",
              "      <td>Metal</td>\n",
              "      <td>Zemial</td>\n",
              "      <td>In The Arms Of Hades</td>\n",
              "      <td>Black winged demons haunt the dungeons where t...</td>\n",
              "    </tr>\n",
              "    <tr>\n",
              "      <th>3</th>\n",
              "      <td>Metal</td>\n",
              "      <td>Znowhite</td>\n",
              "      <td>War Machine</td>\n",
              "      <td>Youâre no stranger\\nYouâve been this way b...</td>\n",
              "    </tr>\n",
              "    <tr>\n",
              "      <th>4</th>\n",
              "      <td>Metal</td>\n",
              "      <td>Melvins</td>\n",
              "      <td>Dry Drunk</td>\n",
              "      <td>\\n</td>\n",
              "    </tr>\n",
              "  </tbody>\n",
              "</table>\n",
              "</div>"
            ],
            "text/plain": [
              "   Genre  ...                                              Lyric\n",
              "0  Metal  ...                                                 \\n\n",
              "1  Metal  ...  All for you\\nEverlasting love forever skies of...\n",
              "2  Metal  ...  Black winged demons haunt the dungeons where t...\n",
              "3  Metal  ...  Youâre no stranger\\nYouâve been this way b...\n",
              "4  Metal  ...                                                 \\n\n",
              "\n",
              "[5 rows x 4 columns]"
            ]
          },
          "metadata": {
            "tags": []
          },
          "execution_count": 25
        }
      ]
    },
    {
      "cell_type": "code",
      "metadata": {
        "id": "qwsCOo_gkKdN",
        "colab_type": "code",
        "colab": {
          "base_uri": "https://localhost:8080/",
          "height": 424
        },
        "outputId": "68c72187-8143-4c70-98b2-5fa3d022ba64"
      },
      "source": [
        "# drop instrumental songs\n",
        "df_metal = df_metal[df_metal[\"Lyric\"]!= ' Instrumental   ']\n",
        "df_metal"
      ],
      "execution_count": 26,
      "outputs": [
        {
          "output_type": "execute_result",
          "data": {
            "text/html": [
              "<div>\n",
              "<style scoped>\n",
              "    .dataframe tbody tr th:only-of-type {\n",
              "        vertical-align: middle;\n",
              "    }\n",
              "\n",
              "    .dataframe tbody tr th {\n",
              "        vertical-align: top;\n",
              "    }\n",
              "\n",
              "    .dataframe thead th {\n",
              "        text-align: right;\n",
              "    }\n",
              "</style>\n",
              "<table border=\"1\" class=\"dataframe\">\n",
              "  <thead>\n",
              "    <tr style=\"text-align: right;\">\n",
              "      <th></th>\n",
              "      <th>Genre</th>\n",
              "      <th>Artist</th>\n",
              "      <th>Song</th>\n",
              "      <th>Lyric</th>\n",
              "    </tr>\n",
              "  </thead>\n",
              "  <tbody>\n",
              "    <tr>\n",
              "      <th>0</th>\n",
              "      <td>Metal</td>\n",
              "      <td>Melvins</td>\n",
              "      <td>Hdyf</td>\n",
              "      <td>\\n</td>\n",
              "    </tr>\n",
              "    <tr>\n",
              "      <th>1</th>\n",
              "      <td>Metal</td>\n",
              "      <td>Zakk Wylde</td>\n",
              "      <td>I Thank You Child</td>\n",
              "      <td>All for you\\nEverlasting love forever skies of...</td>\n",
              "    </tr>\n",
              "    <tr>\n",
              "      <th>2</th>\n",
              "      <td>Metal</td>\n",
              "      <td>Zemial</td>\n",
              "      <td>In The Arms Of Hades</td>\n",
              "      <td>Black winged demons haunt the dungeons where t...</td>\n",
              "    </tr>\n",
              "    <tr>\n",
              "      <th>3</th>\n",
              "      <td>Metal</td>\n",
              "      <td>Znowhite</td>\n",
              "      <td>War Machine</td>\n",
              "      <td>Youâre no stranger\\nYouâve been this way b...</td>\n",
              "    </tr>\n",
              "    <tr>\n",
              "      <th>4</th>\n",
              "      <td>Metal</td>\n",
              "      <td>Melvins</td>\n",
              "      <td>Dry Drunk</td>\n",
              "      <td>\\n</td>\n",
              "    </tr>\n",
              "    <tr>\n",
              "      <th>...</th>\n",
              "      <td>...</td>\n",
              "      <td>...</td>\n",
              "      <td>...</td>\n",
              "      <td>...</td>\n",
              "    </tr>\n",
              "    <tr>\n",
              "      <th>1870</th>\n",
              "      <td>Metal</td>\n",
              "      <td>Melvins</td>\n",
              "      <td>Prig</td>\n",
              "      <td>All the hand and other land\\nAnd all I've done...</td>\n",
              "    </tr>\n",
              "    <tr>\n",
              "      <th>1871</th>\n",
              "      <td>Metal</td>\n",
              "      <td>Damageplan</td>\n",
              "      <td>Breathing New Life</td>\n",
              "      <td>CAN YOU FEEL IT BUILDING\\nDEVASTATION IS ON TH...</td>\n",
              "    </tr>\n",
              "    <tr>\n",
              "      <th>1872</th>\n",
              "      <td>Metal</td>\n",
              "      <td>Zimmer S Hole</td>\n",
              "      <td>Anonymous Esophagus</td>\n",
              "      <td>Anonymous Esophagus\\nYou love to scream and sh...</td>\n",
              "    </tr>\n",
              "    <tr>\n",
              "      <th>1873</th>\n",
              "      <td>Metal</td>\n",
              "      <td>Melvins</td>\n",
              "      <td>You Ve Never Been Right</td>\n",
              "      <td>The rabies, and what we think is right\\nWe're ...</td>\n",
              "    </tr>\n",
              "    <tr>\n",
              "      <th>1874</th>\n",
              "      <td>Metal</td>\n",
              "      <td>Zakk Wylde</td>\n",
              "      <td>Horse Called War</td>\n",
              "      <td>If the end be a comin'\\nI soon be a bummin'\\nA...</td>\n",
              "    </tr>\n",
              "  </tbody>\n",
              "</table>\n",
              "<p>1875 rows × 4 columns</p>\n",
              "</div>"
            ],
            "text/plain": [
              "      Genre  ...                                              Lyric\n",
              "0     Metal  ...                                                 \\n\n",
              "1     Metal  ...  All for you\\nEverlasting love forever skies of...\n",
              "2     Metal  ...  Black winged demons haunt the dungeons where t...\n",
              "3     Metal  ...  Youâre no stranger\\nYouâve been this way b...\n",
              "4     Metal  ...                                                 \\n\n",
              "...     ...  ...                                                ...\n",
              "1870  Metal  ...  All the hand and other land\\nAnd all I've done...\n",
              "1871  Metal  ...  CAN YOU FEEL IT BUILDING\\nDEVASTATION IS ON TH...\n",
              "1872  Metal  ...  Anonymous Esophagus\\nYou love to scream and sh...\n",
              "1873  Metal  ...  The rabies, and what we think is right\\nWe're ...\n",
              "1874  Metal  ...  If the end be a comin'\\nI soon be a bummin'\\nA...\n",
              "\n",
              "[1875 rows x 4 columns]"
            ]
          },
          "metadata": {
            "tags": []
          },
          "execution_count": 26
        }
      ]
    },
    {
      "cell_type": "code",
      "metadata": {
        "id": "fe8p5d2ckKdS",
        "colab_type": "code",
        "colab": {}
      },
      "source": [
        "df_metal = df_metal[~df_metal[\"Lyric\"].isnull()]"
      ],
      "execution_count": 27,
      "outputs": []
    },
    {
      "cell_type": "code",
      "metadata": {
        "id": "IoEWNphWkKdU",
        "colab_type": "code",
        "colab": {
          "base_uri": "https://localhost:8080/",
          "height": 225
        },
        "outputId": "dac3106b-70d9-437f-accc-bada38c9eb86"
      },
      "source": [
        "l = df_metal[\"Lyric\"].apply(lambda x: x.strip())\n",
        "l"
      ],
      "execution_count": 28,
      "outputs": [
        {
          "output_type": "execute_result",
          "data": {
            "text/plain": [
              "0                                                        \n",
              "1       All for you\\nEverlasting love forever skies of...\n",
              "2       Black winged demons haunt the dungeons where t...\n",
              "3       Youâre no stranger\\nYouâve been this way b...\n",
              "4                                                        \n",
              "                              ...                        \n",
              "1870    All the hand and other land\\nAnd all I've done...\n",
              "1871    CAN YOU FEEL IT BUILDING\\nDEVASTATION IS ON TH...\n",
              "1872    Anonymous Esophagus\\nYou love to scream and sh...\n",
              "1873    The rabies, and what we think is right\\nWe're ...\n",
              "1874    If the end be a comin'\\nI soon be a bummin'\\nA...\n",
              "Name: Lyric, Length: 1875, dtype: object"
            ]
          },
          "metadata": {
            "tags": []
          },
          "execution_count": 28
        }
      ]
    },
    {
      "cell_type": "code",
      "metadata": {
        "id": "ClE4qLgXkKdX",
        "colab_type": "code",
        "colab": {}
      },
      "source": [
        "df_metal = df_metal[l!='']"
      ],
      "execution_count": 29,
      "outputs": []
    },
    {
      "cell_type": "code",
      "metadata": {
        "id": "KV6tnTllkKda",
        "colab_type": "code",
        "colab": {
          "base_uri": "https://localhost:8080/",
          "height": 424
        },
        "outputId": "0fd96b28-5e57-4c15-84a1-d95b4725f62f"
      },
      "source": [
        "df_metal2 = pd.DataFrame({\"SName\" : df_metal[\"Song\"],\t\n",
        "                          \"Lyric\": df_metal[\"Lyric\"],  \t\n",
        "                          \"Artist\" : df_metal[\"Artist\"],  \t\n",
        "                          \"Genre\": df_metal[\"Genre\"]})\n",
        "                         \n",
        "                       \n",
        "                         \n",
        "df_metal2                         "
      ],
      "execution_count": 30,
      "outputs": [
        {
          "output_type": "execute_result",
          "data": {
            "text/html": [
              "<div>\n",
              "<style scoped>\n",
              "    .dataframe tbody tr th:only-of-type {\n",
              "        vertical-align: middle;\n",
              "    }\n",
              "\n",
              "    .dataframe tbody tr th {\n",
              "        vertical-align: top;\n",
              "    }\n",
              "\n",
              "    .dataframe thead th {\n",
              "        text-align: right;\n",
              "    }\n",
              "</style>\n",
              "<table border=\"1\" class=\"dataframe\">\n",
              "  <thead>\n",
              "    <tr style=\"text-align: right;\">\n",
              "      <th></th>\n",
              "      <th>SName</th>\n",
              "      <th>Lyric</th>\n",
              "      <th>Artist</th>\n",
              "      <th>Genre</th>\n",
              "    </tr>\n",
              "  </thead>\n",
              "  <tbody>\n",
              "    <tr>\n",
              "      <th>1</th>\n",
              "      <td>I Thank You Child</td>\n",
              "      <td>All for you\\nEverlasting love forever skies of...</td>\n",
              "      <td>Zakk Wylde</td>\n",
              "      <td>Metal</td>\n",
              "    </tr>\n",
              "    <tr>\n",
              "      <th>2</th>\n",
              "      <td>In The Arms Of Hades</td>\n",
              "      <td>Black winged demons haunt the dungeons where t...</td>\n",
              "      <td>Zemial</td>\n",
              "      <td>Metal</td>\n",
              "    </tr>\n",
              "    <tr>\n",
              "      <th>3</th>\n",
              "      <td>War Machine</td>\n",
              "      <td>Youâre no stranger\\nYouâve been this way b...</td>\n",
              "      <td>Znowhite</td>\n",
              "      <td>Metal</td>\n",
              "    </tr>\n",
              "    <tr>\n",
              "      <th>6</th>\n",
              "      <td>The Frontiersman</td>\n",
              "      <td>I dream of a new life\\nAn oath that's to repay...</td>\n",
              "      <td>Damnation Angels</td>\n",
              "      <td>Metal</td>\n",
              "    </tr>\n",
              "    <tr>\n",
              "      <th>7</th>\n",
              "      <td>V</td>\n",
              "      <td>I don't want to be blind\\nI don't want to be t...</td>\n",
              "      <td>Zeromancer</td>\n",
              "      <td>Metal</td>\n",
              "    </tr>\n",
              "    <tr>\n",
              "      <th>...</th>\n",
              "      <td>...</td>\n",
              "      <td>...</td>\n",
              "      <td>...</td>\n",
              "      <td>...</td>\n",
              "    </tr>\n",
              "    <tr>\n",
              "      <th>1870</th>\n",
              "      <td>Prig</td>\n",
              "      <td>All the hand and other land\\nAnd all I've done...</td>\n",
              "      <td>Melvins</td>\n",
              "      <td>Metal</td>\n",
              "    </tr>\n",
              "    <tr>\n",
              "      <th>1871</th>\n",
              "      <td>Breathing New Life</td>\n",
              "      <td>CAN YOU FEEL IT BUILDING\\nDEVASTATION IS ON TH...</td>\n",
              "      <td>Damageplan</td>\n",
              "      <td>Metal</td>\n",
              "    </tr>\n",
              "    <tr>\n",
              "      <th>1872</th>\n",
              "      <td>Anonymous Esophagus</td>\n",
              "      <td>Anonymous Esophagus\\nYou love to scream and sh...</td>\n",
              "      <td>Zimmer S Hole</td>\n",
              "      <td>Metal</td>\n",
              "    </tr>\n",
              "    <tr>\n",
              "      <th>1873</th>\n",
              "      <td>You Ve Never Been Right</td>\n",
              "      <td>The rabies, and what we think is right\\nWe're ...</td>\n",
              "      <td>Melvins</td>\n",
              "      <td>Metal</td>\n",
              "    </tr>\n",
              "    <tr>\n",
              "      <th>1874</th>\n",
              "      <td>Horse Called War</td>\n",
              "      <td>If the end be a comin'\\nI soon be a bummin'\\nA...</td>\n",
              "      <td>Zakk Wylde</td>\n",
              "      <td>Metal</td>\n",
              "    </tr>\n",
              "  </tbody>\n",
              "</table>\n",
              "<p>1682 rows × 4 columns</p>\n",
              "</div>"
            ],
            "text/plain": [
              "                        SName  ...  Genre\n",
              "1           I Thank You Child  ...  Metal\n",
              "2        In The Arms Of Hades  ...  Metal\n",
              "3                 War Machine  ...  Metal\n",
              "6            The Frontiersman  ...  Metal\n",
              "7                           V  ...  Metal\n",
              "...                       ...  ...    ...\n",
              "1870                     Prig  ...  Metal\n",
              "1871       Breathing New Life  ...  Metal\n",
              "1872      Anonymous Esophagus  ...  Metal\n",
              "1873  You Ve Never Been Right  ...  Metal\n",
              "1874         Horse Called War  ...  Metal\n",
              "\n",
              "[1682 rows x 4 columns]"
            ]
          },
          "metadata": {
            "tags": []
          },
          "execution_count": 30
        }
      ]
    },
    {
      "cell_type": "markdown",
      "metadata": {
        "id": "z5FYPvjokKdc",
        "colab_type": "text"
      },
      "source": [
        "#### Join the data"
      ]
    },
    {
      "cell_type": "code",
      "metadata": {
        "colab_type": "code",
        "id": "hPb0q0EWlhJ7",
        "colab": {}
      },
      "source": [
        "# join the two data frames\n",
        "df_lyrics_prejoin = df_lyrics_en.set_index('ALink')\n",
        "df_artist_prejoin = df_artist_dedup.set_index('Link')\n",
        "df_total = df_lyrics_prejoin.join(df_artist_prejoin)"
      ],
      "execution_count": 31,
      "outputs": []
    },
    {
      "cell_type": "code",
      "metadata": {
        "colab_type": "code",
        "id": "5xl-VNQqlhJ9",
        "colab": {
          "base_uri": "https://localhost:8080/",
          "height": 34
        },
        "outputId": "c17cda0e-d886-47fd-9eba-f63382abf1fe"
      },
      "source": [
        "# check that the join is correct\n",
        "df_total.shape"
      ],
      "execution_count": 32,
      "outputs": [
        {
          "output_type": "execute_result",
          "data": {
            "text/plain": [
              "(27229, 4)"
            ]
          },
          "metadata": {
            "tags": []
          },
          "execution_count": 32
        }
      ]
    },
    {
      "cell_type": "code",
      "metadata": {
        "colab_type": "code",
        "id": "l8h3toA9lhKA",
        "colab": {
          "base_uri": "https://localhost:8080/",
          "height": 545
        },
        "outputId": "7d730ebd-1166-40b6-d6ea-5cc7fe88bfc4"
      },
      "source": [
        "df_total"
      ],
      "execution_count": 33,
      "outputs": [
        {
          "output_type": "execute_result",
          "data": {
            "text/html": [
              "<div>\n",
              "<style scoped>\n",
              "    .dataframe tbody tr th:only-of-type {\n",
              "        vertical-align: middle;\n",
              "    }\n",
              "\n",
              "    .dataframe tbody tr th {\n",
              "        vertical-align: top;\n",
              "    }\n",
              "\n",
              "    .dataframe thead th {\n",
              "        text-align: right;\n",
              "    }\n",
              "</style>\n",
              "<table border=\"1\" class=\"dataframe\">\n",
              "  <thead>\n",
              "    <tr style=\"text-align: right;\">\n",
              "      <th></th>\n",
              "      <th>SName</th>\n",
              "      <th>Lyric</th>\n",
              "      <th>Artist</th>\n",
              "      <th>Genre</th>\n",
              "    </tr>\n",
              "  </thead>\n",
              "  <tbody>\n",
              "    <tr>\n",
              "      <th>/10000-maniacs/</th>\n",
              "      <td>Sally Ann</td>\n",
              "      <td>A woman of beauty. A woman of pain. In france ...</td>\n",
              "      <td>10000 Maniacs</td>\n",
              "      <td>Rock</td>\n",
              "    </tr>\n",
              "    <tr>\n",
              "      <th>/10000-maniacs/</th>\n",
              "      <td>Hidden In My Heart</td>\n",
              "      <td>Music by 10,000 Maniacs - Lyrics by Mary Ramse...</td>\n",
              "      <td>10000 Maniacs</td>\n",
              "      <td>Rock</td>\n",
              "    </tr>\n",
              "    <tr>\n",
              "      <th>/10000-maniacs/</th>\n",
              "      <td>Poison In The Well</td>\n",
              "      <td>[ music: Dennis Drew/words: Natalie Merchant ]...</td>\n",
              "      <td>10000 Maniacs</td>\n",
              "      <td>Rock</td>\n",
              "    </tr>\n",
              "    <tr>\n",
              "      <th>/10000-maniacs/</th>\n",
              "      <td>Who Knows Where The Time Goes?</td>\n",
              "      <td>Across the evening sky, all the birds are leav...</td>\n",
              "      <td>10000 Maniacs</td>\n",
              "      <td>Rock</td>\n",
              "    </tr>\n",
              "    <tr>\n",
              "      <th>/10000-maniacs/</th>\n",
              "      <td>To Sir, With Love</td>\n",
              "      <td>[original version by Lulu]. Those schoolgirl d...</td>\n",
              "      <td>10000 Maniacs</td>\n",
              "      <td>Rock</td>\n",
              "    </tr>\n",
              "    <tr>\n",
              "      <th>...</th>\n",
              "      <td>...</td>\n",
              "      <td>...</td>\n",
              "      <td>...</td>\n",
              "      <td>...</td>\n",
              "    </tr>\n",
              "    <tr>\n",
              "      <th>/zz-top/</th>\n",
              "      <td>Neighbor, Neighbor</td>\n",
              "      <td>Words and music by Billy Gibbons.. Neighbor, n...</td>\n",
              "      <td>ZZ Top</td>\n",
              "      <td>Rock</td>\n",
              "    </tr>\n",
              "    <tr>\n",
              "      <th>/zz-top/</th>\n",
              "      <td>Gun Love</td>\n",
              "      <td>She likes to shoot her gun,. Shootin' at the t...</td>\n",
              "      <td>ZZ Top</td>\n",
              "      <td>Rock</td>\n",
              "    </tr>\n",
              "    <tr>\n",
              "      <th>/zz-top/</th>\n",
              "      <td>Poke Chop Sandwitch</td>\n",
              "      <td>(about lightnin' hopkins' drummer who used to ...</td>\n",
              "      <td>ZZ Top</td>\n",
              "      <td>Rock</td>\n",
              "    </tr>\n",
              "    <tr>\n",
              "      <th>/zz-top/</th>\n",
              "      <td>Thunderbird</td>\n",
              "      <td>Get high, everybody, get high.. Get high, ever...</td>\n",
              "      <td>ZZ Top</td>\n",
              "      <td>Rock</td>\n",
              "    </tr>\n",
              "    <tr>\n",
              "      <th>/zz-top/</th>\n",
              "      <td>Jailhouse Rock</td>\n",
              "      <td>Goin' to a party in the county jail,. Prison b...</td>\n",
              "      <td>ZZ Top</td>\n",
              "      <td>Rock</td>\n",
              "    </tr>\n",
              "  </tbody>\n",
              "</table>\n",
              "<p>27229 rows × 4 columns</p>\n",
              "</div>"
            ],
            "text/plain": [
              "                                          SName  ... Genre\n",
              "/10000-maniacs/                       Sally Ann  ...  Rock\n",
              "/10000-maniacs/              Hidden In My Heart  ...  Rock\n",
              "/10000-maniacs/              Poison In The Well  ...  Rock\n",
              "/10000-maniacs/  Who Knows Where The Time Goes?  ...  Rock\n",
              "/10000-maniacs/               To Sir, With Love  ...  Rock\n",
              "...                                         ...  ...   ...\n",
              "/zz-top/                     Neighbor, Neighbor  ...  Rock\n",
              "/zz-top/                               Gun Love  ...  Rock\n",
              "/zz-top/                    Poke Chop Sandwitch  ...  Rock\n",
              "/zz-top/                            Thunderbird  ...  Rock\n",
              "/zz-top/                         Jailhouse Rock  ...  Rock\n",
              "\n",
              "[27229 rows x 4 columns]"
            ]
          },
          "metadata": {
            "tags": []
          },
          "execution_count": 33
        }
      ]
    },
    {
      "cell_type": "code",
      "metadata": {
        "colab_type": "code",
        "id": "B810wCuTlhKE",
        "colab": {
          "base_uri": "https://localhost:8080/",
          "height": 545
        },
        "outputId": "a6aa2be5-2850-4e88-ca8c-b55f8d8c92eb"
      },
      "source": [
        "# drop na values that couldn't be matched\n",
        "df_total = df_total[~df_total[\"Genre\"].isnull()]\n",
        "df_total"
      ],
      "execution_count": 34,
      "outputs": [
        {
          "output_type": "execute_result",
          "data": {
            "text/html": [
              "<div>\n",
              "<style scoped>\n",
              "    .dataframe tbody tr th:only-of-type {\n",
              "        vertical-align: middle;\n",
              "    }\n",
              "\n",
              "    .dataframe tbody tr th {\n",
              "        vertical-align: top;\n",
              "    }\n",
              "\n",
              "    .dataframe thead th {\n",
              "        text-align: right;\n",
              "    }\n",
              "</style>\n",
              "<table border=\"1\" class=\"dataframe\">\n",
              "  <thead>\n",
              "    <tr style=\"text-align: right;\">\n",
              "      <th></th>\n",
              "      <th>SName</th>\n",
              "      <th>Lyric</th>\n",
              "      <th>Artist</th>\n",
              "      <th>Genre</th>\n",
              "    </tr>\n",
              "  </thead>\n",
              "  <tbody>\n",
              "    <tr>\n",
              "      <th>/10000-maniacs/</th>\n",
              "      <td>Sally Ann</td>\n",
              "      <td>A woman of beauty. A woman of pain. In france ...</td>\n",
              "      <td>10000 Maniacs</td>\n",
              "      <td>Rock</td>\n",
              "    </tr>\n",
              "    <tr>\n",
              "      <th>/10000-maniacs/</th>\n",
              "      <td>Hidden In My Heart</td>\n",
              "      <td>Music by 10,000 Maniacs - Lyrics by Mary Ramse...</td>\n",
              "      <td>10000 Maniacs</td>\n",
              "      <td>Rock</td>\n",
              "    </tr>\n",
              "    <tr>\n",
              "      <th>/10000-maniacs/</th>\n",
              "      <td>Poison In The Well</td>\n",
              "      <td>[ music: Dennis Drew/words: Natalie Merchant ]...</td>\n",
              "      <td>10000 Maniacs</td>\n",
              "      <td>Rock</td>\n",
              "    </tr>\n",
              "    <tr>\n",
              "      <th>/10000-maniacs/</th>\n",
              "      <td>Who Knows Where The Time Goes?</td>\n",
              "      <td>Across the evening sky, all the birds are leav...</td>\n",
              "      <td>10000 Maniacs</td>\n",
              "      <td>Rock</td>\n",
              "    </tr>\n",
              "    <tr>\n",
              "      <th>/10000-maniacs/</th>\n",
              "      <td>To Sir, With Love</td>\n",
              "      <td>[original version by Lulu]. Those schoolgirl d...</td>\n",
              "      <td>10000 Maniacs</td>\n",
              "      <td>Rock</td>\n",
              "    </tr>\n",
              "    <tr>\n",
              "      <th>...</th>\n",
              "      <td>...</td>\n",
              "      <td>...</td>\n",
              "      <td>...</td>\n",
              "      <td>...</td>\n",
              "    </tr>\n",
              "    <tr>\n",
              "      <th>/zz-top/</th>\n",
              "      <td>Neighbor, Neighbor</td>\n",
              "      <td>Words and music by Billy Gibbons.. Neighbor, n...</td>\n",
              "      <td>ZZ Top</td>\n",
              "      <td>Rock</td>\n",
              "    </tr>\n",
              "    <tr>\n",
              "      <th>/zz-top/</th>\n",
              "      <td>Gun Love</td>\n",
              "      <td>She likes to shoot her gun,. Shootin' at the t...</td>\n",
              "      <td>ZZ Top</td>\n",
              "      <td>Rock</td>\n",
              "    </tr>\n",
              "    <tr>\n",
              "      <th>/zz-top/</th>\n",
              "      <td>Poke Chop Sandwitch</td>\n",
              "      <td>(about lightnin' hopkins' drummer who used to ...</td>\n",
              "      <td>ZZ Top</td>\n",
              "      <td>Rock</td>\n",
              "    </tr>\n",
              "    <tr>\n",
              "      <th>/zz-top/</th>\n",
              "      <td>Thunderbird</td>\n",
              "      <td>Get high, everybody, get high.. Get high, ever...</td>\n",
              "      <td>ZZ Top</td>\n",
              "      <td>Rock</td>\n",
              "    </tr>\n",
              "    <tr>\n",
              "      <th>/zz-top/</th>\n",
              "      <td>Jailhouse Rock</td>\n",
              "      <td>Goin' to a party in the county jail,. Prison b...</td>\n",
              "      <td>ZZ Top</td>\n",
              "      <td>Rock</td>\n",
              "    </tr>\n",
              "  </tbody>\n",
              "</table>\n",
              "<p>25993 rows × 4 columns</p>\n",
              "</div>"
            ],
            "text/plain": [
              "                                          SName  ... Genre\n",
              "/10000-maniacs/                       Sally Ann  ...  Rock\n",
              "/10000-maniacs/              Hidden In My Heart  ...  Rock\n",
              "/10000-maniacs/              Poison In The Well  ...  Rock\n",
              "/10000-maniacs/  Who Knows Where The Time Goes?  ...  Rock\n",
              "/10000-maniacs/               To Sir, With Love  ...  Rock\n",
              "...                                         ...  ...   ...\n",
              "/zz-top/                     Neighbor, Neighbor  ...  Rock\n",
              "/zz-top/                               Gun Love  ...  Rock\n",
              "/zz-top/                    Poke Chop Sandwitch  ...  Rock\n",
              "/zz-top/                            Thunderbird  ...  Rock\n",
              "/zz-top/                         Jailhouse Rock  ...  Rock\n",
              "\n",
              "[25993 rows x 4 columns]"
            ]
          },
          "metadata": {
            "tags": []
          },
          "execution_count": 34
        }
      ]
    },
    {
      "cell_type": "code",
      "metadata": {
        "id": "2e5fe0OekKdr",
        "colab_type": "code",
        "colab": {
          "base_uri": "https://localhost:8080/",
          "height": 528
        },
        "outputId": "06893192-5bda-4cc8-a396-189bd6980f27"
      },
      "source": [
        "# add metal dataset\n",
        "df_total = df_total.append(df_metal2, ignore_index=True)\n",
        "df_total"
      ],
      "execution_count": 35,
      "outputs": [
        {
          "output_type": "execute_result",
          "data": {
            "text/html": [
              "<div>\n",
              "<style scoped>\n",
              "    .dataframe tbody tr th:only-of-type {\n",
              "        vertical-align: middle;\n",
              "    }\n",
              "\n",
              "    .dataframe tbody tr th {\n",
              "        vertical-align: top;\n",
              "    }\n",
              "\n",
              "    .dataframe thead th {\n",
              "        text-align: right;\n",
              "    }\n",
              "</style>\n",
              "<table border=\"1\" class=\"dataframe\">\n",
              "  <thead>\n",
              "    <tr style=\"text-align: right;\">\n",
              "      <th></th>\n",
              "      <th>SName</th>\n",
              "      <th>Lyric</th>\n",
              "      <th>Artist</th>\n",
              "      <th>Genre</th>\n",
              "    </tr>\n",
              "  </thead>\n",
              "  <tbody>\n",
              "    <tr>\n",
              "      <th>0</th>\n",
              "      <td>Sally Ann</td>\n",
              "      <td>A woman of beauty. A woman of pain. In france ...</td>\n",
              "      <td>10000 Maniacs</td>\n",
              "      <td>Rock</td>\n",
              "    </tr>\n",
              "    <tr>\n",
              "      <th>1</th>\n",
              "      <td>Hidden In My Heart</td>\n",
              "      <td>Music by 10,000 Maniacs - Lyrics by Mary Ramse...</td>\n",
              "      <td>10000 Maniacs</td>\n",
              "      <td>Rock</td>\n",
              "    </tr>\n",
              "    <tr>\n",
              "      <th>2</th>\n",
              "      <td>Poison In The Well</td>\n",
              "      <td>[ music: Dennis Drew/words: Natalie Merchant ]...</td>\n",
              "      <td>10000 Maniacs</td>\n",
              "      <td>Rock</td>\n",
              "    </tr>\n",
              "    <tr>\n",
              "      <th>3</th>\n",
              "      <td>Who Knows Where The Time Goes?</td>\n",
              "      <td>Across the evening sky, all the birds are leav...</td>\n",
              "      <td>10000 Maniacs</td>\n",
              "      <td>Rock</td>\n",
              "    </tr>\n",
              "    <tr>\n",
              "      <th>4</th>\n",
              "      <td>To Sir, With Love</td>\n",
              "      <td>[original version by Lulu]. Those schoolgirl d...</td>\n",
              "      <td>10000 Maniacs</td>\n",
              "      <td>Rock</td>\n",
              "    </tr>\n",
              "    <tr>\n",
              "      <th>...</th>\n",
              "      <td>...</td>\n",
              "      <td>...</td>\n",
              "      <td>...</td>\n",
              "      <td>...</td>\n",
              "    </tr>\n",
              "    <tr>\n",
              "      <th>27670</th>\n",
              "      <td>Prig</td>\n",
              "      <td>All the hand and other land\\nAnd all I've done...</td>\n",
              "      <td>Melvins</td>\n",
              "      <td>Metal</td>\n",
              "    </tr>\n",
              "    <tr>\n",
              "      <th>27671</th>\n",
              "      <td>Breathing New Life</td>\n",
              "      <td>CAN YOU FEEL IT BUILDING\\nDEVASTATION IS ON TH...</td>\n",
              "      <td>Damageplan</td>\n",
              "      <td>Metal</td>\n",
              "    </tr>\n",
              "    <tr>\n",
              "      <th>27672</th>\n",
              "      <td>Anonymous Esophagus</td>\n",
              "      <td>Anonymous Esophagus\\nYou love to scream and sh...</td>\n",
              "      <td>Zimmer S Hole</td>\n",
              "      <td>Metal</td>\n",
              "    </tr>\n",
              "    <tr>\n",
              "      <th>27673</th>\n",
              "      <td>You Ve Never Been Right</td>\n",
              "      <td>The rabies, and what we think is right\\nWe're ...</td>\n",
              "      <td>Melvins</td>\n",
              "      <td>Metal</td>\n",
              "    </tr>\n",
              "    <tr>\n",
              "      <th>27674</th>\n",
              "      <td>Horse Called War</td>\n",
              "      <td>If the end be a comin'\\nI soon be a bummin'\\nA...</td>\n",
              "      <td>Zakk Wylde</td>\n",
              "      <td>Metal</td>\n",
              "    </tr>\n",
              "  </tbody>\n",
              "</table>\n",
              "<p>27675 rows × 4 columns</p>\n",
              "</div>"
            ],
            "text/plain": [
              "                                SName  ...  Genre\n",
              "0                           Sally Ann  ...   Rock\n",
              "1                  Hidden In My Heart  ...   Rock\n",
              "2                  Poison In The Well  ...   Rock\n",
              "3      Who Knows Where The Time Goes?  ...   Rock\n",
              "4                   To Sir, With Love  ...   Rock\n",
              "...                               ...  ...    ...\n",
              "27670                            Prig  ...  Metal\n",
              "27671              Breathing New Life  ...  Metal\n",
              "27672             Anonymous Esophagus  ...  Metal\n",
              "27673         You Ve Never Been Right  ...  Metal\n",
              "27674                Horse Called War  ...  Metal\n",
              "\n",
              "[27675 rows x 4 columns]"
            ]
          },
          "metadata": {
            "tags": []
          },
          "execution_count": 35
        }
      ]
    },
    {
      "cell_type": "code",
      "metadata": {
        "colab_type": "code",
        "id": "OOPY8_CPlhKI",
        "colab": {}
      },
      "source": [
        "#TODO: Sort by Genre so we know the splits in the data for cosine similarities\n",
        "df_total = df_total.sort_values(ascending=True, by=\"Genre\")\n",
        "df_total = df_total.reset_index()\n",
        "df_total = df_total.drop([\"index\"], axis=1)"
      ],
      "execution_count": 36,
      "outputs": []
    },
    {
      "cell_type": "code",
      "metadata": {
        "colab_type": "code",
        "id": "ShksNVU0lhKJ",
        "colab": {
          "base_uri": "https://localhost:8080/",
          "height": 597
        },
        "outputId": "a73dd905-31aa-4b31-e427-4f5cdc26daf9"
      },
      "source": [
        "df_total"
      ],
      "execution_count": 37,
      "outputs": [
        {
          "output_type": "execute_result",
          "data": {
            "text/html": [
              "<div>\n",
              "<style scoped>\n",
              "    .dataframe tbody tr th:only-of-type {\n",
              "        vertical-align: middle;\n",
              "    }\n",
              "\n",
              "    .dataframe tbody tr th {\n",
              "        vertical-align: top;\n",
              "    }\n",
              "\n",
              "    .dataframe thead th {\n",
              "        text-align: right;\n",
              "    }\n",
              "</style>\n",
              "<table border=\"1\" class=\"dataframe\">\n",
              "  <thead>\n",
              "    <tr style=\"text-align: right;\">\n",
              "      <th></th>\n",
              "      <th>SName</th>\n",
              "      <th>Lyric</th>\n",
              "      <th>Artist</th>\n",
              "      <th>Genre</th>\n",
              "    </tr>\n",
              "  </thead>\n",
              "  <tbody>\n",
              "    <tr>\n",
              "      <th>0</th>\n",
              "      <td>Uptown (Feat. Nesby Phips, Reem &amp; Juvenile)</td>\n",
              "      <td>[Verse 1:]. She tap, the girl like flips yea. ...</td>\n",
              "      <td>Mack Maine</td>\n",
              "      <td>Hip Hop</td>\n",
              "    </tr>\n",
              "    <tr>\n",
              "      <th>1</th>\n",
              "      <td>I Think I'm In Love</td>\n",
              "      <td>I think I'm in love. But I don't really know w...</td>\n",
              "      <td>Mac Miller</td>\n",
              "      <td>Hip Hop</td>\n",
              "    </tr>\n",
              "    <tr>\n",
              "      <th>2</th>\n",
              "      <td>Inertia</td>\n",
              "      <td>I've been a God way before a synagogue. Liquor...</td>\n",
              "      <td>Mac Miller</td>\n",
              "      <td>Hip Hop</td>\n",
              "    </tr>\n",
              "    <tr>\n",
              "      <th>3</th>\n",
              "      <td>Got a Clue</td>\n",
              "      <td>Oh, glance at her when she walking by,. The ty...</td>\n",
              "      <td>Mac Miller</td>\n",
              "      <td>Hip Hop</td>\n",
              "    </tr>\n",
              "    <tr>\n",
              "      <th>4</th>\n",
              "      <td>The Way</td>\n",
              "      <td>I love the way you make me feel. I love it, I ...</td>\n",
              "      <td>Mac Miller</td>\n",
              "      <td>Hip Hop</td>\n",
              "    </tr>\n",
              "    <tr>\n",
              "      <th>...</th>\n",
              "      <td>...</td>\n",
              "      <td>...</td>\n",
              "      <td>...</td>\n",
              "      <td>...</td>\n",
              "    </tr>\n",
              "    <tr>\n",
              "      <th>27670</th>\n",
              "      <td>Football Season Is Over (Utah Saints)</td>\n",
              "      <td>Why the fuck can I not hail a taxi?. Arm out l...</td>\n",
              "      <td>Bring Me The Horizon</td>\n",
              "      <td>Rock</td>\n",
              "    </tr>\n",
              "    <tr>\n",
              "      <th>27671</th>\n",
              "      <td>Why You Gotta Kick Me When I'm Down?</td>\n",
              "      <td>I see you. You on the edge of your seat. Ain't...</td>\n",
              "      <td>Bring Me The Horizon</td>\n",
              "      <td>Rock</td>\n",
              "    </tr>\n",
              "    <tr>\n",
              "      <th>27672</th>\n",
              "      <td>Avalanche</td>\n",
              "      <td>Cut me open and tell me what's inside. Diagnos...</td>\n",
              "      <td>Bring Me The Horizon</td>\n",
              "      <td>Rock</td>\n",
              "    </tr>\n",
              "    <tr>\n",
              "      <th>27673</th>\n",
              "      <td>Doomed</td>\n",
              "      <td>Cut off my wings and come lock me up. Just pul...</td>\n",
              "      <td>Bring Me The Horizon</td>\n",
              "      <td>Rock</td>\n",
              "    </tr>\n",
              "    <tr>\n",
              "      <th>27674</th>\n",
              "      <td>Sally Ann</td>\n",
              "      <td>A woman of beauty. A woman of pain. In france ...</td>\n",
              "      <td>10000 Maniacs</td>\n",
              "      <td>Rock</td>\n",
              "    </tr>\n",
              "  </tbody>\n",
              "</table>\n",
              "<p>27675 rows × 4 columns</p>\n",
              "</div>"
            ],
            "text/plain": [
              "                                             SName  ...    Genre\n",
              "0      Uptown (Feat. Nesby Phips, Reem & Juvenile)  ...  Hip Hop\n",
              "1                              I Think I'm In Love  ...  Hip Hop\n",
              "2                                          Inertia  ...  Hip Hop\n",
              "3                                       Got a Clue  ...  Hip Hop\n",
              "4                                          The Way  ...  Hip Hop\n",
              "...                                            ...  ...      ...\n",
              "27670        Football Season Is Over (Utah Saints)  ...     Rock\n",
              "27671         Why You Gotta Kick Me When I'm Down?  ...     Rock\n",
              "27672                                    Avalanche  ...     Rock\n",
              "27673                                       Doomed  ...     Rock\n",
              "27674                                    Sally Ann  ...     Rock\n",
              "\n",
              "[27675 rows x 4 columns]"
            ]
          },
          "metadata": {
            "tags": []
          },
          "execution_count": 37
        }
      ]
    },
    {
      "cell_type": "code",
      "metadata": {
        "id": "cPsVgyBSkKd0",
        "colab_type": "code",
        "colab": {
          "base_uri": "https://localhost:8080/",
          "height": 104
        },
        "outputId": "b431b1cd-392a-4015-c9c8-911864191c53"
      },
      "source": [
        "df_total[\"Genre\"].value_counts()"
      ],
      "execution_count": 38,
      "outputs": [
        {
          "output_type": "execute_result",
          "data": {
            "text/plain": [
              "Rock       13221\n",
              "Pop         8364\n",
              "Hip Hop     4408\n",
              "Metal       1682\n",
              "Name: Genre, dtype: int64"
            ]
          },
          "metadata": {
            "tags": []
          },
          "execution_count": 38
        }
      ]
    },
    {
      "cell_type": "code",
      "metadata": {
        "id": "u3jY2Bv0kKd2",
        "colab_type": "code",
        "colab": {}
      },
      "source": [
        "# text = [\"Hello [CHORUS] and then more (repeat 2x)\", \"Another text [intro] and [Repeat]\", \"THis is just text\"]\n",
        "# text"
      ],
      "execution_count": 39,
      "outputs": []
    },
    {
      "cell_type": "code",
      "metadata": {
        "id": "y6DR_Pe7kKd4",
        "colab_type": "code",
        "colab": {}
      },
      "source": [
        "# df_total_bak = df_total"
      ],
      "execution_count": 40,
      "outputs": []
    },
    {
      "cell_type": "code",
      "metadata": {
        "id": "3Q_cSJE6kKd6",
        "colab_type": "code",
        "colab": {}
      },
      "source": [
        "# df_total = df_total_bak\n",
        "# df_total.drop([\"Lyrics_cleaned\"], axis=1)"
      ],
      "execution_count": 41,
      "outputs": []
    },
    {
      "cell_type": "code",
      "metadata": {
        "id": "Yg_VPXB2kKd8",
        "colab_type": "code",
        "colab": {
          "base_uri": "https://localhost:8080/",
          "height": 597
        },
        "outputId": "e9b44acd-a52b-4a14-dd30-b74985826c07"
      },
      "source": [
        "df_total"
      ],
      "execution_count": 42,
      "outputs": [
        {
          "output_type": "execute_result",
          "data": {
            "text/html": [
              "<div>\n",
              "<style scoped>\n",
              "    .dataframe tbody tr th:only-of-type {\n",
              "        vertical-align: middle;\n",
              "    }\n",
              "\n",
              "    .dataframe tbody tr th {\n",
              "        vertical-align: top;\n",
              "    }\n",
              "\n",
              "    .dataframe thead th {\n",
              "        text-align: right;\n",
              "    }\n",
              "</style>\n",
              "<table border=\"1\" class=\"dataframe\">\n",
              "  <thead>\n",
              "    <tr style=\"text-align: right;\">\n",
              "      <th></th>\n",
              "      <th>SName</th>\n",
              "      <th>Lyric</th>\n",
              "      <th>Artist</th>\n",
              "      <th>Genre</th>\n",
              "    </tr>\n",
              "  </thead>\n",
              "  <tbody>\n",
              "    <tr>\n",
              "      <th>0</th>\n",
              "      <td>Uptown (Feat. Nesby Phips, Reem &amp; Juvenile)</td>\n",
              "      <td>[Verse 1:]. She tap, the girl like flips yea. ...</td>\n",
              "      <td>Mack Maine</td>\n",
              "      <td>Hip Hop</td>\n",
              "    </tr>\n",
              "    <tr>\n",
              "      <th>1</th>\n",
              "      <td>I Think I'm In Love</td>\n",
              "      <td>I think I'm in love. But I don't really know w...</td>\n",
              "      <td>Mac Miller</td>\n",
              "      <td>Hip Hop</td>\n",
              "    </tr>\n",
              "    <tr>\n",
              "      <th>2</th>\n",
              "      <td>Inertia</td>\n",
              "      <td>I've been a God way before a synagogue. Liquor...</td>\n",
              "      <td>Mac Miller</td>\n",
              "      <td>Hip Hop</td>\n",
              "    </tr>\n",
              "    <tr>\n",
              "      <th>3</th>\n",
              "      <td>Got a Clue</td>\n",
              "      <td>Oh, glance at her when she walking by,. The ty...</td>\n",
              "      <td>Mac Miller</td>\n",
              "      <td>Hip Hop</td>\n",
              "    </tr>\n",
              "    <tr>\n",
              "      <th>4</th>\n",
              "      <td>The Way</td>\n",
              "      <td>I love the way you make me feel. I love it, I ...</td>\n",
              "      <td>Mac Miller</td>\n",
              "      <td>Hip Hop</td>\n",
              "    </tr>\n",
              "    <tr>\n",
              "      <th>...</th>\n",
              "      <td>...</td>\n",
              "      <td>...</td>\n",
              "      <td>...</td>\n",
              "      <td>...</td>\n",
              "    </tr>\n",
              "    <tr>\n",
              "      <th>27670</th>\n",
              "      <td>Football Season Is Over (Utah Saints)</td>\n",
              "      <td>Why the fuck can I not hail a taxi?. Arm out l...</td>\n",
              "      <td>Bring Me The Horizon</td>\n",
              "      <td>Rock</td>\n",
              "    </tr>\n",
              "    <tr>\n",
              "      <th>27671</th>\n",
              "      <td>Why You Gotta Kick Me When I'm Down?</td>\n",
              "      <td>I see you. You on the edge of your seat. Ain't...</td>\n",
              "      <td>Bring Me The Horizon</td>\n",
              "      <td>Rock</td>\n",
              "    </tr>\n",
              "    <tr>\n",
              "      <th>27672</th>\n",
              "      <td>Avalanche</td>\n",
              "      <td>Cut me open and tell me what's inside. Diagnos...</td>\n",
              "      <td>Bring Me The Horizon</td>\n",
              "      <td>Rock</td>\n",
              "    </tr>\n",
              "    <tr>\n",
              "      <th>27673</th>\n",
              "      <td>Doomed</td>\n",
              "      <td>Cut off my wings and come lock me up. Just pul...</td>\n",
              "      <td>Bring Me The Horizon</td>\n",
              "      <td>Rock</td>\n",
              "    </tr>\n",
              "    <tr>\n",
              "      <th>27674</th>\n",
              "      <td>Sally Ann</td>\n",
              "      <td>A woman of beauty. A woman of pain. In france ...</td>\n",
              "      <td>10000 Maniacs</td>\n",
              "      <td>Rock</td>\n",
              "    </tr>\n",
              "  </tbody>\n",
              "</table>\n",
              "<p>27675 rows × 4 columns</p>\n",
              "</div>"
            ],
            "text/plain": [
              "                                             SName  ...    Genre\n",
              "0      Uptown (Feat. Nesby Phips, Reem & Juvenile)  ...  Hip Hop\n",
              "1                              I Think I'm In Love  ...  Hip Hop\n",
              "2                                          Inertia  ...  Hip Hop\n",
              "3                                       Got a Clue  ...  Hip Hop\n",
              "4                                          The Way  ...  Hip Hop\n",
              "...                                            ...  ...      ...\n",
              "27670        Football Season Is Over (Utah Saints)  ...     Rock\n",
              "27671         Why You Gotta Kick Me When I'm Down?  ...     Rock\n",
              "27672                                    Avalanche  ...     Rock\n",
              "27673                                       Doomed  ...     Rock\n",
              "27674                                    Sally Ann  ...     Rock\n",
              "\n",
              "[27675 rows x 4 columns]"
            ]
          },
          "metadata": {
            "tags": []
          },
          "execution_count": 42
        }
      ]
    },
    {
      "cell_type": "markdown",
      "metadata": {
        "id": "4C5cErfOkKd-",
        "colab_type": "text"
      },
      "source": [
        "**This is the dataset that I will be using Below**"
      ]
    },
    {
      "cell_type": "markdown",
      "metadata": {
        "colab_type": "text",
        "id": "jIeJjmOAlhKM"
      },
      "source": [
        "Create ranges for the different genres"
      ]
    },
    {
      "cell_type": "code",
      "metadata": {
        "colab_type": "code",
        "id": "6OWL91MNlhKM",
        "colab": {
          "base_uri": "https://localhost:8080/",
          "height": 52
        },
        "outputId": "bd03992f-3dd9-43b7-c3c3-c3ff34119934"
      },
      "source": [
        "# original\n",
        "# genres = [\"Rock\", \"Pop\", \"Hip Hop\"]\n",
        "\n",
        "count = 0\n",
        "start = 0\n",
        "ranges = []\n",
        "for g in genres:\n",
        "  total_in_genre = len(df_total[df_total[\"Genre\"] == g])\n",
        "  count += total_in_genre\n",
        "  ranges.append((start, count))\n",
        "  start = count\n",
        "print(genres)\n",
        "print(ranges)"
      ],
      "execution_count": 43,
      "outputs": [
        {
          "output_type": "stream",
          "text": [
            "['Hip Hop', 'Pop', 'Rock']\n",
            "[(0, 4408), (4408, 12772), (12772, 25993)]\n"
          ],
          "name": "stdout"
        }
      ]
    },
    {
      "cell_type": "code",
      "metadata": {
        "colab_type": "code",
        "id": "HYJK2QD4lhKT",
        "colab": {}
      },
      "source": [
        "# if LOAD_DATA:\n",
        "#   df_total = pd.read_csv(f'{path}df_total.csv')\n",
        "\n",
        "# if SAVE_DATA:\n",
        "#   df_total.to_csv(f'{path}df_total.csv')"
      ],
      "execution_count": 44,
      "outputs": []
    },
    {
      "cell_type": "markdown",
      "metadata": {
        "id": "kSsXbDNFkKeG",
        "colab_type": "text"
      },
      "source": [
        "Simplify the data structure\n",
        "- y: y[\"Lyrics\"] # predictor variable\n",
        "- X: X[\"Genre\"] # outcome"
      ]
    },
    {
      "cell_type": "code",
      "metadata": {
        "colab_type": "code",
        "id": "xJ359To-lhKV",
        "colab": {}
      },
      "source": [
        "def simplify_data(data):\n",
        "  y = data[\"Genre\"]\n",
        "  y = y.reset_index()\n",
        "  y = y.drop('index', axis=1)\n",
        "  \n",
        "  X= data[\"Lyric\"]\n",
        "  X = X.reset_index()\n",
        "  X = X.drop(\"index\", axis=1)\n",
        "  return (X,y)\n",
        "\n"
      ],
      "execution_count": 45,
      "outputs": []
    },
    {
      "cell_type": "code",
      "metadata": {
        "colab_type": "code",
        "id": "1Jw8PSzmlhKY",
        "colab": {}
      },
      "source": [
        "X, y = simplify_data(df_total)\n"
      ],
      "execution_count": 46,
      "outputs": []
    },
    {
      "cell_type": "code",
      "metadata": {
        "colab_type": "code",
        "id": "f-B1LLmRlhKb",
        "colab": {
          "base_uri": "https://localhost:8080/",
          "height": 129
        },
        "outputId": "2774ee38-38b7-4178-914f-d0e5ab16766f"
      },
      "source": [
        "print(len(X))\n",
        "X[0:2]\n"
      ],
      "execution_count": 47,
      "outputs": [
        {
          "output_type": "stream",
          "text": [
            "27675\n"
          ],
          "name": "stdout"
        },
        {
          "output_type": "execute_result",
          "data": {
            "text/html": [
              "<div>\n",
              "<style scoped>\n",
              "    .dataframe tbody tr th:only-of-type {\n",
              "        vertical-align: middle;\n",
              "    }\n",
              "\n",
              "    .dataframe tbody tr th {\n",
              "        vertical-align: top;\n",
              "    }\n",
              "\n",
              "    .dataframe thead th {\n",
              "        text-align: right;\n",
              "    }\n",
              "</style>\n",
              "<table border=\"1\" class=\"dataframe\">\n",
              "  <thead>\n",
              "    <tr style=\"text-align: right;\">\n",
              "      <th></th>\n",
              "      <th>Lyric</th>\n",
              "    </tr>\n",
              "  </thead>\n",
              "  <tbody>\n",
              "    <tr>\n",
              "      <th>0</th>\n",
              "      <td>[Verse 1:]. She tap, the girl like flips yea. ...</td>\n",
              "    </tr>\n",
              "    <tr>\n",
              "      <th>1</th>\n",
              "      <td>I think I'm in love. But I don't really know w...</td>\n",
              "    </tr>\n",
              "  </tbody>\n",
              "</table>\n",
              "</div>"
            ],
            "text/plain": [
              "                                               Lyric\n",
              "0  [Verse 1:]. She tap, the girl like flips yea. ...\n",
              "1  I think I'm in love. But I don't really know w..."
            ]
          },
          "metadata": {
            "tags": []
          },
          "execution_count": 47
        }
      ]
    },
    {
      "cell_type": "code",
      "metadata": {
        "colab_type": "code",
        "id": "Sg9UtdaalhKe",
        "colab": {
          "base_uri": "https://localhost:8080/",
          "height": 129
        },
        "outputId": "52bb0f33-e476-44c6-de44-48038f7a7364"
      },
      "source": [
        "print(len(y))\n",
        "y[0:2]"
      ],
      "execution_count": 48,
      "outputs": [
        {
          "output_type": "stream",
          "text": [
            "27675\n"
          ],
          "name": "stdout"
        },
        {
          "output_type": "execute_result",
          "data": {
            "text/html": [
              "<div>\n",
              "<style scoped>\n",
              "    .dataframe tbody tr th:only-of-type {\n",
              "        vertical-align: middle;\n",
              "    }\n",
              "\n",
              "    .dataframe tbody tr th {\n",
              "        vertical-align: top;\n",
              "    }\n",
              "\n",
              "    .dataframe thead th {\n",
              "        text-align: right;\n",
              "    }\n",
              "</style>\n",
              "<table border=\"1\" class=\"dataframe\">\n",
              "  <thead>\n",
              "    <tr style=\"text-align: right;\">\n",
              "      <th></th>\n",
              "      <th>Genre</th>\n",
              "    </tr>\n",
              "  </thead>\n",
              "  <tbody>\n",
              "    <tr>\n",
              "      <th>0</th>\n",
              "      <td>Hip Hop</td>\n",
              "    </tr>\n",
              "    <tr>\n",
              "      <th>1</th>\n",
              "      <td>Hip Hop</td>\n",
              "    </tr>\n",
              "  </tbody>\n",
              "</table>\n",
              "</div>"
            ],
            "text/plain": [
              "     Genre\n",
              "0  Hip Hop\n",
              "1  Hip Hop"
            ]
          },
          "metadata": {
            "tags": []
          },
          "execution_count": 48
        }
      ]
    },
    {
      "cell_type": "markdown",
      "metadata": {
        "colab_type": "text",
        "id": "C7e49j3clhKo"
      },
      "source": [
        "## Top words\n",
        "Get the top word of the whole data set. This will help in the cleanup and the fine tuning of the tokenizer. "
      ]
    },
    {
      "cell_type": "code",
      "metadata": {
        "colab_type": "code",
        "id": "nTM4cl0NlhKq",
        "colab": {}
      },
      "source": [
        "# Use the default tokenizer\n",
        "cv = CountVectorizer(lowercase=True, max_df=0.98, min_df=0.01, stop_words='english')\n",
        "# cv = CountVectorizer(tokenizer=lyric_tokenizer, lowercase=True, max_df=0.98, min_df=0.01)\n",
        "\n",
        "word_count_vecs = cv.fit_transform(X[\"Lyric\"]).toarray()\n",
        "\n",
        "# get_feature_names gets the vocabulary of the vectorizer in order\n",
        "word_count = dict(zip(cv.get_feature_names(), word_count_vecs.sum(axis=0)))"
      ],
      "execution_count": 49,
      "outputs": []
    },
    {
      "cell_type": "code",
      "metadata": {
        "colab_type": "code",
        "id": "9ZvHKqYnlhKt",
        "colab": {
          "base_uri": "https://localhost:8080/",
          "height": 538
        },
        "outputId": "f746c309-1b3d-4354-f9ab-0dab9b1861cd"
      },
      "source": [
        "# get the top n words\n",
        "sorted(word_count.items(), key=lambda x: x[1], reverse=True)[:30]"
      ],
      "execution_count": 50,
      "outputs": [
        {
          "output_type": "execute_result",
          "data": {
            "text/plain": [
              "[('don', 52393),\n",
              " ('like', 49803),\n",
              " ('know', 48193),\n",
              " ('love', 45787),\n",
              " ('just', 41095),\n",
              " ('oh', 39906),\n",
              " ('got', 35969),\n",
              " ('ll', 31310),\n",
              " ('let', 26747),\n",
              " ('baby', 25749),\n",
              " ('yeah', 25318),\n",
              " ('time', 23623),\n",
              " ('want', 21793),\n",
              " ('ve', 21290),\n",
              " ('cause', 20689),\n",
              " ('say', 20539),\n",
              " ('make', 20535),\n",
              " ('come', 20116),\n",
              " ('wanna', 19931),\n",
              " ('way', 19048),\n",
              " ('ain', 16592),\n",
              " ('feel', 16230),\n",
              " ('girl', 16145),\n",
              " ('gonna', 16082),\n",
              " ('right', 15673),\n",
              " ('life', 15578),\n",
              " ('need', 14829),\n",
              " ('tell', 14340),\n",
              " ('away', 14232),\n",
              " ('man', 12662)]"
            ]
          },
          "metadata": {
            "tags": []
          },
          "execution_count": 50
        }
      ]
    },
    {
      "cell_type": "markdown",
      "metadata": {
        "colab_type": "text",
        "id": "nzszl5aWlhKy"
      },
      "source": [
        "default tokenizer: Comon word word: don('t), like, know, love, just, oh, 'll, yeah, baby, time, wnat, 've, cause, say. (no min_df, max_df, excl sto pwords)\n",
        "max_df: very common word\n",
        "min_df: very uncommon\n",
        "\n",
        "\n",
        "[('don', 218634),\n",
        " ('like', 204500),\n",
        " ('know', 200799),\n",
        " ('love', 189709),\n",
        " ('just', 169860),\n",
        " ('oh', 158864),\n",
        " ('got', 152153),\n",
        " ('ll', 129728),\n",
        " ('let', 111768),\n",
        " ('yeah', 109196),\n",
        " ('baby', 108733),\n",
        " ('time', 98020),\n",
        " ('want', 91574),\n",
        " ('ve', 86794),\n",
        " ('cause', 86522),\n",
        " ('say', 86175),\n",
        " ('make', 85829),\n",
        " ('come', 84710),\n",
        " ('wanna', 81118),\n"
      ]
    },
    {
      "cell_type": "markdown",
      "metadata": {
        "colab_type": "text",
        "id": "lijbPoYulhKz"
      },
      "source": [
        "lyric tokenizier\n",
        "[('know', 228895),\n",
        " ('get', 210308),\n",
        " ('like', 206918),\n",
        " ('love', 206528),\n",
        " ('oh', 157188),\n",
        " ('go', 142213),\n",
        " ('come', 128330),\n",
        " ('yes', 120515),\n",
        " ('let', 116793),\n",
        " ('time', 110263),\n",
        " ('baby', 108838),\n",
        " ('want', 107840),\n",
        " ('to', 104806),\n",
        " ('feel', 101086),\n",
        " ('be', 89481),\n",
        " ('girl', 84078),\n",
        " ('way', 82183),\n",
        " ('wanna', 81094),\n",
        " ('tell', 79401),\n",
        " ('think', 74498)]\n",
        " "
      ]
    },
    {
      "cell_type": "markdown",
      "metadata": {
        "colab_type": "text",
        "id": "Ks_QqzmslhKz"
      },
      "source": [
        "# Initial Setup"
      ]
    },
    {
      "cell_type": "markdown",
      "metadata": {
        "colab_type": "text",
        "id": "o-vhSUqllhK2"
      },
      "source": [
        "## Visual inspection of the data\n",
        "\n",
        "From visual inspection of the data:\n",
        "\n",
        "- text and chords between square bracket, [CHORUS], [Dm], [50 Cent]. etc:  greedy: `\\[.*?\\]` (better for purpose (non greedy: `\\[.*\\]` and `\\(.*\\)` )\n",
        "- manu times thing between regular brackets will be additional no lyrics info. In other cases it can be the second voice line or background singers.\n",
        "- words: CHORUS, REPEAT, verse, bridge ['chorus', ] \n",
        "- 2x: \\dx\n",
        "- chords: E B (single character, Em, Dm A7\n",
        "\n",
        "TABS, digits and non alpha numerical characters\n",
        "```\n",
        "+-------------------------------------------------------------------\n",
        "+-------------------------------------------------------------------\n",
        "+-----------7---7---7---7-----6--6--6--6--6--6----------------------\n",
        "+-----------7---7---7---7-----6--6--6--6--6--6----------------------\n",
        "+-----------5---5---5---5-----4--4--4--4--4--4----------------------\n",
        "+-------------------------------------------------------------------\n",
        "```\n",
        "\n",
        "Comments:\n",
        "```\n",
        "Denis\n",
        "edj1234@bosoleil.ci.umoncton.ca\n",
        "Certain parts of the solos may be incorrectly transcribed, but they\n",
        "should be in the right key anyway. Make amends where you see fit.\n",
        "1st solo(w/wah,distortion)-\n",
        "```\n",
        "\n",
        "Will be hard to remove. URL and email should be removed. \n",
        "\n",
        "\n",
        "Whole instructions:\n",
        "```\n",
        "Duration Legend\n",
        "---------------\n",
        "W - whole\n",
        "H - half\n",
        "Q - quarter\n",
        "E - 8th\n",
        "S - 16th\n",
        "T - 32nd\n",
        "X - 64th\n",
        ". - note dotted\n",
        "|-n-| - n-tuplets\n",
        "Tablature Legend\n",
        "----------------\n",
        "L - tied note\n",
        "x - dead note\n",
        "g - grace note\n",
        "(n) - ghost note\n",
        "> - accentuded note\n",
        "NH - natural harmonic\n",
        "AH - artificial harmonic\n",
        "TH - tapped harmonic\n",
        "SH - semi harmonic\n",
        "PH - pitch harmonic\n",
        "h - hammer on\n",
        "p - pull off\n",
        "b - bend\n",
        "br - bendRelease\n",
        "pb - preBend\n",
        "(...)\n",
        "```\n",
        "\n",
        "- Sometimes artist names appear in the lyrics. If it is actually in the lyrics this is OK (some artist say their name a lot in songs), but in the case of featuring XXX, this give may give hints away. As well with text such as `(Skid Row Cover)`"
      ]
    },
    {
      "cell_type": "markdown",
      "metadata": {
        "colab_type": "text",
        "id": "TlyYio10lhK2"
      },
      "source": [
        "### Split into test/train/validation"
      ]
    },
    {
      "cell_type": "code",
      "metadata": {
        "colab_type": "code",
        "id": "usTK9Px6oNk5",
        "colab": {
          "base_uri": "https://localhost:8080/",
          "height": 69
        },
        "outputId": "f55f3020-4c2b-4643-be27-b606c06f5c5b"
      },
      "source": [
        "x_train, y_train, x_val, y_val, x_test, y_test = split_train_val_test(X, y)"
      ],
      "execution_count": 51,
      "outputs": [
        {
          "output_type": "stream",
          "text": [
            "Training:  13602 13602\n",
            "Validation:  5834 5834\n",
            "Test:  8239 8239\n"
          ],
          "name": "stdout"
        }
      ]
    },
    {
      "cell_type": "markdown",
      "metadata": {
        "colab_type": "text",
        "id": "Fnenm7xWlhK4"
      },
      "source": [
        "### Tokenizer"
      ]
    },
    {
      "cell_type": "code",
      "metadata": {
        "colab_type": "code",
        "id": "4ueknOlklhK8",
        "colab": {}
      },
      "source": [
        "def simple_tokenizer(doc, model=en):\n",
        "    # a simple tokenizer for individual documents (different from above)\n",
        "    tokenized_docs = []\n",
        "    parsed = model(doc)\n",
        "    return([t.lemma_ for t in parsed if (t.is_alpha)])\n",
        "    "
      ],
      "execution_count": 52,
      "outputs": []
    },
    {
      "cell_type": "code",
      "metadata": {
        "colab_type": "code",
        "id": "aATOgxaTlhK-",
        "colab": {}
      },
      "source": [
        "\n",
        "# TODO: clean up, not used right now\n",
        "# filename = \"tokens.pkl\"\n",
        "\n",
        "# my_file = Path(f\"{path}{filename}\")\n",
        "\n",
        "# if LOAD_DATA and my_file.is_file():\n",
        "#   print(\"loading file\")\n",
        "#   (train_tokens, test_tokens, val_tokens) = load_file(filename)\n",
        "# else:\n",
        "#   print(\"generating tokens\")\n",
        "#   train_tokens =  [simple_tokenizer(x) for x in x_train[\"Lyric\"]]\n",
        "#   test_tokens =  [simple_tokenizer(x) for x in x_test[\"Lyric\"]]\n",
        "#   val_tokens = [simple_tokenizer(x) for x in x_val[\"Lyric\"]]\n",
        "#   if SAVE_DATA:\n",
        "#     save_file(filename, train_tokens, test_tokens, val_tokens)\n"
      ],
      "execution_count": 53,
      "outputs": []
    },
    {
      "cell_type": "code",
      "metadata": {
        "colab_type": "code",
        "id": "zS-d9s81lhLB",
        "colab": {}
      },
      "source": [
        "# print(len(train_tokens), len(val_tokens), len(test_tokens))"
      ],
      "execution_count": 54,
      "outputs": []
    },
    {
      "cell_type": "markdown",
      "metadata": {
        "colab_type": "text",
        "id": "zAJo4_WElhLE"
      },
      "source": [
        "### Word counts"
      ]
    },
    {
      "cell_type": "code",
      "metadata": {
        "colab_type": "code",
        "id": "B9nQI1eylhLG",
        "colab": {}
      },
      "source": [
        "def get_document_vectors(model, train, val, test):\n",
        "  word_count_vecs_train = model.fit_transform(list(train[\"Lyric\"])).toarray()\n",
        "  word_count_vecs_val = model.transform(list(val[\"Lyric\"])).toarray()\n",
        "  word_count_vecs_test = model.transform(list(test[\"Lyric\"])).toarray()\n",
        "  \n",
        "  return (word_count_vecs_train, word_count_vecs_val, word_count_vecs_test)"
      ],
      "execution_count": 55,
      "outputs": []
    },
    {
      "cell_type": "code",
      "metadata": {
        "colab_type": "code",
        "id": "HqFDaRRLlhLK",
        "colab": {
          "base_uri": "https://localhost:8080/",
          "height": 72
        },
        "outputId": "2a4bebe1-a94e-4c96-be12-326227975c6d"
      },
      "source": [
        "cv = CountVectorizer(tokenizer=simple_tokenizer, stop_words='english', lowercase=True, max_df=0.99, min_df=0.01)\n",
        "\n",
        "(word_count_vecs_train, word_count_vecs_val, word_count_vecs_test) = get_document_vectors(cv,x_train, x_val, x_test)\n",
        "\n",
        "# get_feature_names gets the vocabulary of the vectorizer in order\n",
        "word_count_train = dict(zip(cv.get_feature_names(), word_count_vecs_train.sum(axis=0)))\n",
        "# word_count_val = dict(zip(cv.get_feature_names(), word_count_vecs_val.sum(axis=0)))\n",
        "# word_count_test = dict(zip(cv.get_feature_names(), word_count_vecs_test.sum(axis=0)))\n"
      ],
      "execution_count": 56,
      "outputs": [
        {
          "output_type": "stream",
          "text": [
            "/usr/local/lib/python3.6/dist-packages/sklearn/feature_extraction/text.py:385: UserWarning: Your stop_words may be inconsistent with your preprocessing. Tokenizing the stop words generated tokens ['3', 'far', 'good', 'little', 'make', '\\ufeff1'] not in stop_words.\n",
            "  'stop_words.' % sorted(inconsistent))\n"
          ],
          "name": "stderr"
        }
      ]
    },
    {
      "cell_type": "code",
      "metadata": {
        "colab_type": "code",
        "id": "ceMhiWEUlhLM",
        "colab": {
          "base_uri": "https://localhost:8080/",
          "height": 444
        },
        "outputId": "382c5e55-29e4-4825-e997-ef0b76c1cf37"
      },
      "source": [
        "word_count_train_df = pd.DataFrame(word_count_vecs_train, columns=cv.get_feature_names())\n",
        "\n",
        "word_count_train_df"
      ],
      "execution_count": 57,
      "outputs": [
        {
          "output_type": "execute_result",
          "data": {
            "text/html": [
              "<div>\n",
              "<style scoped>\n",
              "    .dataframe tbody tr th:only-of-type {\n",
              "        vertical-align: middle;\n",
              "    }\n",
              "\n",
              "    .dataframe tbody tr th {\n",
              "        vertical-align: top;\n",
              "    }\n",
              "\n",
              "    .dataframe thead th {\n",
              "        text-align: right;\n",
              "    }\n",
              "</style>\n",
              "<table border=\"1\" class=\"dataframe\">\n",
              "  <thead>\n",
              "    <tr style=\"text-align: right;\">\n",
              "      <th></th>\n",
              "      <th>-PRON-</th>\n",
              "      <th>2</th>\n",
              "      <th>act</th>\n",
              "      <th>afraid</th>\n",
              "      <th>age</th>\n",
              "      <th>ago</th>\n",
              "      <th>ah</th>\n",
              "      <th>ahead</th>\n",
              "      <th>air</th>\n",
              "      <th>alive</th>\n",
              "      <th>alright</th>\n",
              "      <th>amaze</th>\n",
              "      <th>angel</th>\n",
              "      <th>answer</th>\n",
              "      <th>anybody</th>\n",
              "      <th>anymore</th>\n",
              "      <th>apart</th>\n",
              "      <th>arm</th>\n",
              "      <th>ask</th>\n",
              "      <th>asleep</th>\n",
              "      <th>ass</th>\n",
              "      <th>attention</th>\n",
              "      <th>awake</th>\n",
              "      <th>away</th>\n",
              "      <th>b</th>\n",
              "      <th>babe</th>\n",
              "      <th>baby</th>\n",
              "      <th>bad</th>\n",
              "      <th>bag</th>\n",
              "      <th>ball</th>\n",
              "      <th>band</th>\n",
              "      <th>bang</th>\n",
              "      <th>bank</th>\n",
              "      <th>bar</th>\n",
              "      <th>battle</th>\n",
              "      <th>beach</th>\n",
              "      <th>bear</th>\n",
              "      <th>beat</th>\n",
              "      <th>beautiful</th>\n",
              "      <th>beauty</th>\n",
              "      <th>...</th>\n",
              "      <th>west</th>\n",
              "      <th>wet</th>\n",
              "      <th>wheel</th>\n",
              "      <th>whip</th>\n",
              "      <th>whisper</th>\n",
              "      <th>white</th>\n",
              "      <th>whoa</th>\n",
              "      <th>wide</th>\n",
              "      <th>wife</th>\n",
              "      <th>wild</th>\n",
              "      <th>win</th>\n",
              "      <th>wind</th>\n",
              "      <th>window</th>\n",
              "      <th>wine</th>\n",
              "      <th>wing</th>\n",
              "      <th>winter</th>\n",
              "      <th>wish</th>\n",
              "      <th>wit</th>\n",
              "      <th>woah</th>\n",
              "      <th>woman</th>\n",
              "      <th>wonder</th>\n",
              "      <th>word</th>\n",
              "      <th>work</th>\n",
              "      <th>world</th>\n",
              "      <th>worry</th>\n",
              "      <th>worth</th>\n",
              "      <th>wrap</th>\n",
              "      <th>wrist</th>\n",
              "      <th>write</th>\n",
              "      <th>wrong</th>\n",
              "      <th>yea</th>\n",
              "      <th>year</th>\n",
              "      <th>yellow</th>\n",
              "      <th>yes</th>\n",
              "      <th>yesterday</th>\n",
              "      <th>yo</th>\n",
              "      <th>york</th>\n",
              "      <th>young</th>\n",
              "      <th>zone</th>\n",
              "      <th>﻿1</th>\n",
              "    </tr>\n",
              "  </thead>\n",
              "  <tbody>\n",
              "    <tr>\n",
              "      <th>0</th>\n",
              "      <td>21</td>\n",
              "      <td>0</td>\n",
              "      <td>0</td>\n",
              "      <td>0</td>\n",
              "      <td>0</td>\n",
              "      <td>0</td>\n",
              "      <td>0</td>\n",
              "      <td>0</td>\n",
              "      <td>0</td>\n",
              "      <td>0</td>\n",
              "      <td>0</td>\n",
              "      <td>0</td>\n",
              "      <td>0</td>\n",
              "      <td>0</td>\n",
              "      <td>0</td>\n",
              "      <td>0</td>\n",
              "      <td>0</td>\n",
              "      <td>0</td>\n",
              "      <td>3</td>\n",
              "      <td>0</td>\n",
              "      <td>1</td>\n",
              "      <td>0</td>\n",
              "      <td>0</td>\n",
              "      <td>0</td>\n",
              "      <td>0</td>\n",
              "      <td>0</td>\n",
              "      <td>0</td>\n",
              "      <td>0</td>\n",
              "      <td>0</td>\n",
              "      <td>0</td>\n",
              "      <td>0</td>\n",
              "      <td>0</td>\n",
              "      <td>0</td>\n",
              "      <td>0</td>\n",
              "      <td>0</td>\n",
              "      <td>0</td>\n",
              "      <td>0</td>\n",
              "      <td>0</td>\n",
              "      <td>0</td>\n",
              "      <td>0</td>\n",
              "      <td>...</td>\n",
              "      <td>0</td>\n",
              "      <td>0</td>\n",
              "      <td>0</td>\n",
              "      <td>0</td>\n",
              "      <td>0</td>\n",
              "      <td>0</td>\n",
              "      <td>0</td>\n",
              "      <td>0</td>\n",
              "      <td>0</td>\n",
              "      <td>0</td>\n",
              "      <td>1</td>\n",
              "      <td>0</td>\n",
              "      <td>0</td>\n",
              "      <td>0</td>\n",
              "      <td>0</td>\n",
              "      <td>0</td>\n",
              "      <td>0</td>\n",
              "      <td>0</td>\n",
              "      <td>0</td>\n",
              "      <td>0</td>\n",
              "      <td>0</td>\n",
              "      <td>0</td>\n",
              "      <td>2</td>\n",
              "      <td>0</td>\n",
              "      <td>0</td>\n",
              "      <td>0</td>\n",
              "      <td>0</td>\n",
              "      <td>0</td>\n",
              "      <td>0</td>\n",
              "      <td>0</td>\n",
              "      <td>1</td>\n",
              "      <td>0</td>\n",
              "      <td>0</td>\n",
              "      <td>1</td>\n",
              "      <td>0</td>\n",
              "      <td>0</td>\n",
              "      <td>0</td>\n",
              "      <td>0</td>\n",
              "      <td>0</td>\n",
              "      <td>0</td>\n",
              "    </tr>\n",
              "    <tr>\n",
              "      <th>1</th>\n",
              "      <td>14</td>\n",
              "      <td>1</td>\n",
              "      <td>0</td>\n",
              "      <td>0</td>\n",
              "      <td>0</td>\n",
              "      <td>0</td>\n",
              "      <td>0</td>\n",
              "      <td>0</td>\n",
              "      <td>0</td>\n",
              "      <td>0</td>\n",
              "      <td>0</td>\n",
              "      <td>0</td>\n",
              "      <td>0</td>\n",
              "      <td>0</td>\n",
              "      <td>0</td>\n",
              "      <td>0</td>\n",
              "      <td>0</td>\n",
              "      <td>0</td>\n",
              "      <td>0</td>\n",
              "      <td>0</td>\n",
              "      <td>1</td>\n",
              "      <td>0</td>\n",
              "      <td>0</td>\n",
              "      <td>0</td>\n",
              "      <td>0</td>\n",
              "      <td>0</td>\n",
              "      <td>0</td>\n",
              "      <td>0</td>\n",
              "      <td>0</td>\n",
              "      <td>0</td>\n",
              "      <td>0</td>\n",
              "      <td>0</td>\n",
              "      <td>0</td>\n",
              "      <td>0</td>\n",
              "      <td>0</td>\n",
              "      <td>0</td>\n",
              "      <td>1</td>\n",
              "      <td>0</td>\n",
              "      <td>0</td>\n",
              "      <td>0</td>\n",
              "      <td>...</td>\n",
              "      <td>0</td>\n",
              "      <td>1</td>\n",
              "      <td>0</td>\n",
              "      <td>1</td>\n",
              "      <td>0</td>\n",
              "      <td>0</td>\n",
              "      <td>0</td>\n",
              "      <td>0</td>\n",
              "      <td>0</td>\n",
              "      <td>0</td>\n",
              "      <td>0</td>\n",
              "      <td>0</td>\n",
              "      <td>0</td>\n",
              "      <td>0</td>\n",
              "      <td>0</td>\n",
              "      <td>0</td>\n",
              "      <td>0</td>\n",
              "      <td>0</td>\n",
              "      <td>0</td>\n",
              "      <td>0</td>\n",
              "      <td>0</td>\n",
              "      <td>0</td>\n",
              "      <td>1</td>\n",
              "      <td>1</td>\n",
              "      <td>0</td>\n",
              "      <td>0</td>\n",
              "      <td>0</td>\n",
              "      <td>0</td>\n",
              "      <td>0</td>\n",
              "      <td>0</td>\n",
              "      <td>0</td>\n",
              "      <td>0</td>\n",
              "      <td>0</td>\n",
              "      <td>2</td>\n",
              "      <td>0</td>\n",
              "      <td>0</td>\n",
              "      <td>0</td>\n",
              "      <td>0</td>\n",
              "      <td>0</td>\n",
              "      <td>0</td>\n",
              "    </tr>\n",
              "    <tr>\n",
              "      <th>2</th>\n",
              "      <td>13</td>\n",
              "      <td>1</td>\n",
              "      <td>0</td>\n",
              "      <td>0</td>\n",
              "      <td>0</td>\n",
              "      <td>0</td>\n",
              "      <td>0</td>\n",
              "      <td>0</td>\n",
              "      <td>0</td>\n",
              "      <td>0</td>\n",
              "      <td>0</td>\n",
              "      <td>0</td>\n",
              "      <td>0</td>\n",
              "      <td>0</td>\n",
              "      <td>0</td>\n",
              "      <td>0</td>\n",
              "      <td>0</td>\n",
              "      <td>0</td>\n",
              "      <td>0</td>\n",
              "      <td>0</td>\n",
              "      <td>0</td>\n",
              "      <td>0</td>\n",
              "      <td>0</td>\n",
              "      <td>1</td>\n",
              "      <td>0</td>\n",
              "      <td>3</td>\n",
              "      <td>4</td>\n",
              "      <td>3</td>\n",
              "      <td>0</td>\n",
              "      <td>0</td>\n",
              "      <td>0</td>\n",
              "      <td>0</td>\n",
              "      <td>0</td>\n",
              "      <td>0</td>\n",
              "      <td>0</td>\n",
              "      <td>0</td>\n",
              "      <td>0</td>\n",
              "      <td>0</td>\n",
              "      <td>0</td>\n",
              "      <td>1</td>\n",
              "      <td>...</td>\n",
              "      <td>0</td>\n",
              "      <td>0</td>\n",
              "      <td>0</td>\n",
              "      <td>0</td>\n",
              "      <td>0</td>\n",
              "      <td>0</td>\n",
              "      <td>0</td>\n",
              "      <td>0</td>\n",
              "      <td>0</td>\n",
              "      <td>0</td>\n",
              "      <td>0</td>\n",
              "      <td>0</td>\n",
              "      <td>0</td>\n",
              "      <td>0</td>\n",
              "      <td>0</td>\n",
              "      <td>0</td>\n",
              "      <td>0</td>\n",
              "      <td>0</td>\n",
              "      <td>0</td>\n",
              "      <td>0</td>\n",
              "      <td>0</td>\n",
              "      <td>0</td>\n",
              "      <td>0</td>\n",
              "      <td>0</td>\n",
              "      <td>3</td>\n",
              "      <td>0</td>\n",
              "      <td>0</td>\n",
              "      <td>0</td>\n",
              "      <td>0</td>\n",
              "      <td>0</td>\n",
              "      <td>0</td>\n",
              "      <td>0</td>\n",
              "      <td>0</td>\n",
              "      <td>0</td>\n",
              "      <td>0</td>\n",
              "      <td>0</td>\n",
              "      <td>0</td>\n",
              "      <td>0</td>\n",
              "      <td>0</td>\n",
              "      <td>0</td>\n",
              "    </tr>\n",
              "    <tr>\n",
              "      <th>3</th>\n",
              "      <td>14</td>\n",
              "      <td>0</td>\n",
              "      <td>0</td>\n",
              "      <td>0</td>\n",
              "      <td>0</td>\n",
              "      <td>0</td>\n",
              "      <td>0</td>\n",
              "      <td>0</td>\n",
              "      <td>0</td>\n",
              "      <td>0</td>\n",
              "      <td>0</td>\n",
              "      <td>0</td>\n",
              "      <td>0</td>\n",
              "      <td>0</td>\n",
              "      <td>0</td>\n",
              "      <td>0</td>\n",
              "      <td>0</td>\n",
              "      <td>0</td>\n",
              "      <td>0</td>\n",
              "      <td>1</td>\n",
              "      <td>0</td>\n",
              "      <td>0</td>\n",
              "      <td>0</td>\n",
              "      <td>0</td>\n",
              "      <td>0</td>\n",
              "      <td>0</td>\n",
              "      <td>0</td>\n",
              "      <td>1</td>\n",
              "      <td>0</td>\n",
              "      <td>0</td>\n",
              "      <td>0</td>\n",
              "      <td>0</td>\n",
              "      <td>0</td>\n",
              "      <td>0</td>\n",
              "      <td>0</td>\n",
              "      <td>0</td>\n",
              "      <td>0</td>\n",
              "      <td>0</td>\n",
              "      <td>0</td>\n",
              "      <td>0</td>\n",
              "      <td>...</td>\n",
              "      <td>0</td>\n",
              "      <td>0</td>\n",
              "      <td>0</td>\n",
              "      <td>0</td>\n",
              "      <td>0</td>\n",
              "      <td>0</td>\n",
              "      <td>0</td>\n",
              "      <td>0</td>\n",
              "      <td>0</td>\n",
              "      <td>0</td>\n",
              "      <td>0</td>\n",
              "      <td>0</td>\n",
              "      <td>0</td>\n",
              "      <td>0</td>\n",
              "      <td>0</td>\n",
              "      <td>0</td>\n",
              "      <td>0</td>\n",
              "      <td>0</td>\n",
              "      <td>0</td>\n",
              "      <td>0</td>\n",
              "      <td>1</td>\n",
              "      <td>2</td>\n",
              "      <td>1</td>\n",
              "      <td>0</td>\n",
              "      <td>1</td>\n",
              "      <td>0</td>\n",
              "      <td>0</td>\n",
              "      <td>0</td>\n",
              "      <td>0</td>\n",
              "      <td>0</td>\n",
              "      <td>0</td>\n",
              "      <td>1</td>\n",
              "      <td>0</td>\n",
              "      <td>1</td>\n",
              "      <td>0</td>\n",
              "      <td>0</td>\n",
              "      <td>0</td>\n",
              "      <td>2</td>\n",
              "      <td>0</td>\n",
              "      <td>0</td>\n",
              "    </tr>\n",
              "    <tr>\n",
              "      <th>4</th>\n",
              "      <td>14</td>\n",
              "      <td>0</td>\n",
              "      <td>0</td>\n",
              "      <td>0</td>\n",
              "      <td>0</td>\n",
              "      <td>0</td>\n",
              "      <td>1</td>\n",
              "      <td>0</td>\n",
              "      <td>0</td>\n",
              "      <td>0</td>\n",
              "      <td>0</td>\n",
              "      <td>0</td>\n",
              "      <td>0</td>\n",
              "      <td>0</td>\n",
              "      <td>0</td>\n",
              "      <td>0</td>\n",
              "      <td>0</td>\n",
              "      <td>0</td>\n",
              "      <td>1</td>\n",
              "      <td>0</td>\n",
              "      <td>0</td>\n",
              "      <td>0</td>\n",
              "      <td>0</td>\n",
              "      <td>0</td>\n",
              "      <td>0</td>\n",
              "      <td>0</td>\n",
              "      <td>5</td>\n",
              "      <td>0</td>\n",
              "      <td>0</td>\n",
              "      <td>1</td>\n",
              "      <td>0</td>\n",
              "      <td>0</td>\n",
              "      <td>0</td>\n",
              "      <td>0</td>\n",
              "      <td>0</td>\n",
              "      <td>0</td>\n",
              "      <td>0</td>\n",
              "      <td>0</td>\n",
              "      <td>0</td>\n",
              "      <td>0</td>\n",
              "      <td>...</td>\n",
              "      <td>0</td>\n",
              "      <td>0</td>\n",
              "      <td>0</td>\n",
              "      <td>1</td>\n",
              "      <td>0</td>\n",
              "      <td>1</td>\n",
              "      <td>0</td>\n",
              "      <td>0</td>\n",
              "      <td>0</td>\n",
              "      <td>0</td>\n",
              "      <td>0</td>\n",
              "      <td>0</td>\n",
              "      <td>0</td>\n",
              "      <td>0</td>\n",
              "      <td>0</td>\n",
              "      <td>0</td>\n",
              "      <td>0</td>\n",
              "      <td>0</td>\n",
              "      <td>0</td>\n",
              "      <td>0</td>\n",
              "      <td>0</td>\n",
              "      <td>0</td>\n",
              "      <td>0</td>\n",
              "      <td>0</td>\n",
              "      <td>0</td>\n",
              "      <td>0</td>\n",
              "      <td>0</td>\n",
              "      <td>0</td>\n",
              "      <td>0</td>\n",
              "      <td>0</td>\n",
              "      <td>0</td>\n",
              "      <td>0</td>\n",
              "      <td>0</td>\n",
              "      <td>2</td>\n",
              "      <td>0</td>\n",
              "      <td>0</td>\n",
              "      <td>0</td>\n",
              "      <td>0</td>\n",
              "      <td>0</td>\n",
              "      <td>0</td>\n",
              "    </tr>\n",
              "    <tr>\n",
              "      <th>...</th>\n",
              "      <td>...</td>\n",
              "      <td>...</td>\n",
              "      <td>...</td>\n",
              "      <td>...</td>\n",
              "      <td>...</td>\n",
              "      <td>...</td>\n",
              "      <td>...</td>\n",
              "      <td>...</td>\n",
              "      <td>...</td>\n",
              "      <td>...</td>\n",
              "      <td>...</td>\n",
              "      <td>...</td>\n",
              "      <td>...</td>\n",
              "      <td>...</td>\n",
              "      <td>...</td>\n",
              "      <td>...</td>\n",
              "      <td>...</td>\n",
              "      <td>...</td>\n",
              "      <td>...</td>\n",
              "      <td>...</td>\n",
              "      <td>...</td>\n",
              "      <td>...</td>\n",
              "      <td>...</td>\n",
              "      <td>...</td>\n",
              "      <td>...</td>\n",
              "      <td>...</td>\n",
              "      <td>...</td>\n",
              "      <td>...</td>\n",
              "      <td>...</td>\n",
              "      <td>...</td>\n",
              "      <td>...</td>\n",
              "      <td>...</td>\n",
              "      <td>...</td>\n",
              "      <td>...</td>\n",
              "      <td>...</td>\n",
              "      <td>...</td>\n",
              "      <td>...</td>\n",
              "      <td>...</td>\n",
              "      <td>...</td>\n",
              "      <td>...</td>\n",
              "      <td>...</td>\n",
              "      <td>...</td>\n",
              "      <td>...</td>\n",
              "      <td>...</td>\n",
              "      <td>...</td>\n",
              "      <td>...</td>\n",
              "      <td>...</td>\n",
              "      <td>...</td>\n",
              "      <td>...</td>\n",
              "      <td>...</td>\n",
              "      <td>...</td>\n",
              "      <td>...</td>\n",
              "      <td>...</td>\n",
              "      <td>...</td>\n",
              "      <td>...</td>\n",
              "      <td>...</td>\n",
              "      <td>...</td>\n",
              "      <td>...</td>\n",
              "      <td>...</td>\n",
              "      <td>...</td>\n",
              "      <td>...</td>\n",
              "      <td>...</td>\n",
              "      <td>...</td>\n",
              "      <td>...</td>\n",
              "      <td>...</td>\n",
              "      <td>...</td>\n",
              "      <td>...</td>\n",
              "      <td>...</td>\n",
              "      <td>...</td>\n",
              "      <td>...</td>\n",
              "      <td>...</td>\n",
              "      <td>...</td>\n",
              "      <td>...</td>\n",
              "      <td>...</td>\n",
              "      <td>...</td>\n",
              "      <td>...</td>\n",
              "      <td>...</td>\n",
              "      <td>...</td>\n",
              "      <td>...</td>\n",
              "      <td>...</td>\n",
              "      <td>...</td>\n",
              "    </tr>\n",
              "    <tr>\n",
              "      <th>13597</th>\n",
              "      <td>34</td>\n",
              "      <td>0</td>\n",
              "      <td>1</td>\n",
              "      <td>0</td>\n",
              "      <td>0</td>\n",
              "      <td>0</td>\n",
              "      <td>0</td>\n",
              "      <td>1</td>\n",
              "      <td>0</td>\n",
              "      <td>0</td>\n",
              "      <td>0</td>\n",
              "      <td>0</td>\n",
              "      <td>0</td>\n",
              "      <td>0</td>\n",
              "      <td>0</td>\n",
              "      <td>0</td>\n",
              "      <td>0</td>\n",
              "      <td>0</td>\n",
              "      <td>5</td>\n",
              "      <td>0</td>\n",
              "      <td>0</td>\n",
              "      <td>0</td>\n",
              "      <td>0</td>\n",
              "      <td>0</td>\n",
              "      <td>0</td>\n",
              "      <td>0</td>\n",
              "      <td>0</td>\n",
              "      <td>0</td>\n",
              "      <td>0</td>\n",
              "      <td>0</td>\n",
              "      <td>0</td>\n",
              "      <td>0</td>\n",
              "      <td>0</td>\n",
              "      <td>0</td>\n",
              "      <td>0</td>\n",
              "      <td>0</td>\n",
              "      <td>0</td>\n",
              "      <td>0</td>\n",
              "      <td>0</td>\n",
              "      <td>0</td>\n",
              "      <td>...</td>\n",
              "      <td>0</td>\n",
              "      <td>0</td>\n",
              "      <td>0</td>\n",
              "      <td>0</td>\n",
              "      <td>0</td>\n",
              "      <td>0</td>\n",
              "      <td>0</td>\n",
              "      <td>0</td>\n",
              "      <td>0</td>\n",
              "      <td>0</td>\n",
              "      <td>0</td>\n",
              "      <td>0</td>\n",
              "      <td>0</td>\n",
              "      <td>0</td>\n",
              "      <td>0</td>\n",
              "      <td>0</td>\n",
              "      <td>0</td>\n",
              "      <td>0</td>\n",
              "      <td>0</td>\n",
              "      <td>0</td>\n",
              "      <td>0</td>\n",
              "      <td>0</td>\n",
              "      <td>0</td>\n",
              "      <td>5</td>\n",
              "      <td>0</td>\n",
              "      <td>0</td>\n",
              "      <td>0</td>\n",
              "      <td>0</td>\n",
              "      <td>1</td>\n",
              "      <td>0</td>\n",
              "      <td>0</td>\n",
              "      <td>0</td>\n",
              "      <td>0</td>\n",
              "      <td>1</td>\n",
              "      <td>0</td>\n",
              "      <td>0</td>\n",
              "      <td>0</td>\n",
              "      <td>0</td>\n",
              "      <td>0</td>\n",
              "      <td>0</td>\n",
              "    </tr>\n",
              "    <tr>\n",
              "      <th>13598</th>\n",
              "      <td>11</td>\n",
              "      <td>0</td>\n",
              "      <td>0</td>\n",
              "      <td>0</td>\n",
              "      <td>0</td>\n",
              "      <td>0</td>\n",
              "      <td>0</td>\n",
              "      <td>0</td>\n",
              "      <td>0</td>\n",
              "      <td>0</td>\n",
              "      <td>0</td>\n",
              "      <td>0</td>\n",
              "      <td>0</td>\n",
              "      <td>0</td>\n",
              "      <td>0</td>\n",
              "      <td>0</td>\n",
              "      <td>0</td>\n",
              "      <td>0</td>\n",
              "      <td>0</td>\n",
              "      <td>0</td>\n",
              "      <td>0</td>\n",
              "      <td>0</td>\n",
              "      <td>0</td>\n",
              "      <td>0</td>\n",
              "      <td>0</td>\n",
              "      <td>0</td>\n",
              "      <td>0</td>\n",
              "      <td>0</td>\n",
              "      <td>0</td>\n",
              "      <td>0</td>\n",
              "      <td>0</td>\n",
              "      <td>0</td>\n",
              "      <td>0</td>\n",
              "      <td>0</td>\n",
              "      <td>0</td>\n",
              "      <td>0</td>\n",
              "      <td>0</td>\n",
              "      <td>2</td>\n",
              "      <td>0</td>\n",
              "      <td>0</td>\n",
              "      <td>...</td>\n",
              "      <td>0</td>\n",
              "      <td>2</td>\n",
              "      <td>0</td>\n",
              "      <td>0</td>\n",
              "      <td>0</td>\n",
              "      <td>0</td>\n",
              "      <td>0</td>\n",
              "      <td>0</td>\n",
              "      <td>0</td>\n",
              "      <td>0</td>\n",
              "      <td>0</td>\n",
              "      <td>0</td>\n",
              "      <td>0</td>\n",
              "      <td>0</td>\n",
              "      <td>0</td>\n",
              "      <td>0</td>\n",
              "      <td>0</td>\n",
              "      <td>0</td>\n",
              "      <td>0</td>\n",
              "      <td>0</td>\n",
              "      <td>0</td>\n",
              "      <td>1</td>\n",
              "      <td>0</td>\n",
              "      <td>0</td>\n",
              "      <td>0</td>\n",
              "      <td>0</td>\n",
              "      <td>0</td>\n",
              "      <td>0</td>\n",
              "      <td>0</td>\n",
              "      <td>0</td>\n",
              "      <td>0</td>\n",
              "      <td>0</td>\n",
              "      <td>0</td>\n",
              "      <td>0</td>\n",
              "      <td>0</td>\n",
              "      <td>0</td>\n",
              "      <td>0</td>\n",
              "      <td>2</td>\n",
              "      <td>0</td>\n",
              "      <td>0</td>\n",
              "    </tr>\n",
              "    <tr>\n",
              "      <th>13599</th>\n",
              "      <td>2</td>\n",
              "      <td>0</td>\n",
              "      <td>0</td>\n",
              "      <td>0</td>\n",
              "      <td>0</td>\n",
              "      <td>0</td>\n",
              "      <td>0</td>\n",
              "      <td>0</td>\n",
              "      <td>0</td>\n",
              "      <td>0</td>\n",
              "      <td>0</td>\n",
              "      <td>0</td>\n",
              "      <td>0</td>\n",
              "      <td>0</td>\n",
              "      <td>0</td>\n",
              "      <td>0</td>\n",
              "      <td>0</td>\n",
              "      <td>1</td>\n",
              "      <td>0</td>\n",
              "      <td>0</td>\n",
              "      <td>0</td>\n",
              "      <td>0</td>\n",
              "      <td>0</td>\n",
              "      <td>0</td>\n",
              "      <td>0</td>\n",
              "      <td>0</td>\n",
              "      <td>0</td>\n",
              "      <td>0</td>\n",
              "      <td>0</td>\n",
              "      <td>0</td>\n",
              "      <td>0</td>\n",
              "      <td>0</td>\n",
              "      <td>0</td>\n",
              "      <td>0</td>\n",
              "      <td>0</td>\n",
              "      <td>0</td>\n",
              "      <td>0</td>\n",
              "      <td>0</td>\n",
              "      <td>0</td>\n",
              "      <td>0</td>\n",
              "      <td>...</td>\n",
              "      <td>0</td>\n",
              "      <td>0</td>\n",
              "      <td>0</td>\n",
              "      <td>0</td>\n",
              "      <td>0</td>\n",
              "      <td>0</td>\n",
              "      <td>0</td>\n",
              "      <td>0</td>\n",
              "      <td>0</td>\n",
              "      <td>0</td>\n",
              "      <td>0</td>\n",
              "      <td>0</td>\n",
              "      <td>0</td>\n",
              "      <td>0</td>\n",
              "      <td>0</td>\n",
              "      <td>0</td>\n",
              "      <td>0</td>\n",
              "      <td>0</td>\n",
              "      <td>0</td>\n",
              "      <td>0</td>\n",
              "      <td>0</td>\n",
              "      <td>0</td>\n",
              "      <td>0</td>\n",
              "      <td>0</td>\n",
              "      <td>0</td>\n",
              "      <td>0</td>\n",
              "      <td>0</td>\n",
              "      <td>0</td>\n",
              "      <td>0</td>\n",
              "      <td>0</td>\n",
              "      <td>0</td>\n",
              "      <td>0</td>\n",
              "      <td>0</td>\n",
              "      <td>0</td>\n",
              "      <td>0</td>\n",
              "      <td>0</td>\n",
              "      <td>0</td>\n",
              "      <td>0</td>\n",
              "      <td>0</td>\n",
              "      <td>0</td>\n",
              "    </tr>\n",
              "    <tr>\n",
              "      <th>13600</th>\n",
              "      <td>19</td>\n",
              "      <td>0</td>\n",
              "      <td>0</td>\n",
              "      <td>0</td>\n",
              "      <td>0</td>\n",
              "      <td>0</td>\n",
              "      <td>1</td>\n",
              "      <td>3</td>\n",
              "      <td>0</td>\n",
              "      <td>0</td>\n",
              "      <td>0</td>\n",
              "      <td>0</td>\n",
              "      <td>0</td>\n",
              "      <td>0</td>\n",
              "      <td>0</td>\n",
              "      <td>0</td>\n",
              "      <td>0</td>\n",
              "      <td>1</td>\n",
              "      <td>0</td>\n",
              "      <td>0</td>\n",
              "      <td>0</td>\n",
              "      <td>0</td>\n",
              "      <td>0</td>\n",
              "      <td>0</td>\n",
              "      <td>0</td>\n",
              "      <td>0</td>\n",
              "      <td>0</td>\n",
              "      <td>0</td>\n",
              "      <td>0</td>\n",
              "      <td>0</td>\n",
              "      <td>0</td>\n",
              "      <td>0</td>\n",
              "      <td>0</td>\n",
              "      <td>0</td>\n",
              "      <td>0</td>\n",
              "      <td>0</td>\n",
              "      <td>0</td>\n",
              "      <td>0</td>\n",
              "      <td>0</td>\n",
              "      <td>0</td>\n",
              "      <td>...</td>\n",
              "      <td>0</td>\n",
              "      <td>0</td>\n",
              "      <td>0</td>\n",
              "      <td>0</td>\n",
              "      <td>0</td>\n",
              "      <td>0</td>\n",
              "      <td>0</td>\n",
              "      <td>0</td>\n",
              "      <td>0</td>\n",
              "      <td>0</td>\n",
              "      <td>0</td>\n",
              "      <td>0</td>\n",
              "      <td>1</td>\n",
              "      <td>0</td>\n",
              "      <td>0</td>\n",
              "      <td>0</td>\n",
              "      <td>0</td>\n",
              "      <td>0</td>\n",
              "      <td>0</td>\n",
              "      <td>0</td>\n",
              "      <td>0</td>\n",
              "      <td>0</td>\n",
              "      <td>0</td>\n",
              "      <td>0</td>\n",
              "      <td>0</td>\n",
              "      <td>0</td>\n",
              "      <td>0</td>\n",
              "      <td>0</td>\n",
              "      <td>0</td>\n",
              "      <td>0</td>\n",
              "      <td>0</td>\n",
              "      <td>0</td>\n",
              "      <td>0</td>\n",
              "      <td>3</td>\n",
              "      <td>0</td>\n",
              "      <td>0</td>\n",
              "      <td>0</td>\n",
              "      <td>0</td>\n",
              "      <td>0</td>\n",
              "      <td>0</td>\n",
              "    </tr>\n",
              "    <tr>\n",
              "      <th>13601</th>\n",
              "      <td>23</td>\n",
              "      <td>0</td>\n",
              "      <td>0</td>\n",
              "      <td>0</td>\n",
              "      <td>0</td>\n",
              "      <td>0</td>\n",
              "      <td>0</td>\n",
              "      <td>0</td>\n",
              "      <td>0</td>\n",
              "      <td>0</td>\n",
              "      <td>0</td>\n",
              "      <td>0</td>\n",
              "      <td>0</td>\n",
              "      <td>0</td>\n",
              "      <td>0</td>\n",
              "      <td>0</td>\n",
              "      <td>0</td>\n",
              "      <td>0</td>\n",
              "      <td>1</td>\n",
              "      <td>0</td>\n",
              "      <td>0</td>\n",
              "      <td>0</td>\n",
              "      <td>1</td>\n",
              "      <td>0</td>\n",
              "      <td>0</td>\n",
              "      <td>0</td>\n",
              "      <td>0</td>\n",
              "      <td>0</td>\n",
              "      <td>0</td>\n",
              "      <td>0</td>\n",
              "      <td>0</td>\n",
              "      <td>0</td>\n",
              "      <td>0</td>\n",
              "      <td>0</td>\n",
              "      <td>0</td>\n",
              "      <td>0</td>\n",
              "      <td>0</td>\n",
              "      <td>0</td>\n",
              "      <td>0</td>\n",
              "      <td>0</td>\n",
              "      <td>...</td>\n",
              "      <td>0</td>\n",
              "      <td>0</td>\n",
              "      <td>0</td>\n",
              "      <td>0</td>\n",
              "      <td>0</td>\n",
              "      <td>0</td>\n",
              "      <td>0</td>\n",
              "      <td>0</td>\n",
              "      <td>0</td>\n",
              "      <td>0</td>\n",
              "      <td>0</td>\n",
              "      <td>0</td>\n",
              "      <td>0</td>\n",
              "      <td>0</td>\n",
              "      <td>1</td>\n",
              "      <td>0</td>\n",
              "      <td>0</td>\n",
              "      <td>0</td>\n",
              "      <td>0</td>\n",
              "      <td>0</td>\n",
              "      <td>0</td>\n",
              "      <td>0</td>\n",
              "      <td>0</td>\n",
              "      <td>1</td>\n",
              "      <td>0</td>\n",
              "      <td>3</td>\n",
              "      <td>0</td>\n",
              "      <td>0</td>\n",
              "      <td>0</td>\n",
              "      <td>0</td>\n",
              "      <td>0</td>\n",
              "      <td>0</td>\n",
              "      <td>0</td>\n",
              "      <td>1</td>\n",
              "      <td>0</td>\n",
              "      <td>0</td>\n",
              "      <td>0</td>\n",
              "      <td>0</td>\n",
              "      <td>0</td>\n",
              "      <td>0</td>\n",
              "    </tr>\n",
              "  </tbody>\n",
              "</table>\n",
              "<p>13602 rows × 910 columns</p>\n",
              "</div>"
            ],
            "text/plain": [
              "       -PRON-  2  act  afraid  age  ago  ...  yesterday  yo  york  young  zone  ﻿1\n",
              "0          21  0    0       0    0    0  ...          0   0     0      0     0   0\n",
              "1          14  1    0       0    0    0  ...          0   0     0      0     0   0\n",
              "2          13  1    0       0    0    0  ...          0   0     0      0     0   0\n",
              "3          14  0    0       0    0    0  ...          0   0     0      2     0   0\n",
              "4          14  0    0       0    0    0  ...          0   0     0      0     0   0\n",
              "...       ... ..  ...     ...  ...  ...  ...        ...  ..   ...    ...   ...  ..\n",
              "13597      34  0    1       0    0    0  ...          0   0     0      0     0   0\n",
              "13598      11  0    0       0    0    0  ...          0   0     0      2     0   0\n",
              "13599       2  0    0       0    0    0  ...          0   0     0      0     0   0\n",
              "13600      19  0    0       0    0    0  ...          0   0     0      0     0   0\n",
              "13601      23  0    0       0    0    0  ...          0   0     0      0     0   0\n",
              "\n",
              "[13602 rows x 910 columns]"
            ]
          },
          "metadata": {
            "tags": []
          },
          "execution_count": 57
        }
      ]
    },
    {
      "cell_type": "code",
      "metadata": {
        "colab_type": "code",
        "id": "oTDhL3QMlhLO",
        "colab": {}
      },
      "source": [
        "vocab = cv.vocabulary_\n"
      ],
      "execution_count": 58,
      "outputs": []
    },
    {
      "cell_type": "markdown",
      "metadata": {
        "colab_type": "text",
        "id": "2gjK1kdGlhLQ"
      },
      "source": [
        "### Cosine similarities"
      ]
    },
    {
      "cell_type": "code",
      "metadata": {
        "colab_type": "code",
        "id": "YHG1A3VHlhLQ",
        "colab": {
          "base_uri": "https://localhost:8080/",
          "height": 263
        },
        "outputId": "ae5383e8-282a-4f2a-cd8f-b69ac6bff42e"
      },
      "source": [
        "# get similarities\n",
        "\n",
        "# We cannot get the similarity matrix for the whole matrix so we need to break it into smaller pieces:\n",
        "# count_sims = cosine_similarity(count_vecs) # nnz of the result is too large\n",
        "\n",
        "file_name = \"cosine_data.pkl\"\n",
        "\n",
        "my_file = Path(f\"{path}{file_name}\")\n",
        "\n",
        "if LOAD_DATA and my_file.is_file():\n",
        "  cosine_data = load_pickle(file_name)\n",
        "else:\n",
        "  cosine_data = []\n",
        "  for i in range(0,len(genres)):\n",
        "    for j in range(i,len(genres)):\n",
        "      print(f\"{genres[i]} - {genres[j]}\")\n",
        "      cosim = cosine_similarity(word_count_vecs_train[ranges[i][0]:ranges[i][1]], word_count_vecs_train[ranges[j][0]:ranges[j][1]]).mean(axis=1).mean()\n",
        "      print(cosim)\n",
        "      cosine_data.append([f\"{genres[i]} - {genres[j]}\", cosim])\n",
        "  if SAVE_DATA:\n",
        "    save_pickle(file_name, cosine_data)\n",
        "  \n",
        "  \n",
        "print(cosine_data)"
      ],
      "execution_count": 59,
      "outputs": [
        {
          "output_type": "stream",
          "text": [
            "Hip Hop - Hip Hop\n",
            "0.2180339876084301\n",
            "Hip Hop - Pop\n",
            "0.2088618734487775\n",
            "Hip Hop - Rock\n",
            "0.20367714186919403\n",
            "Pop - Pop\n",
            "0.20776121260523397\n",
            "Pop - Rock\n",
            "0.20285306501405384\n",
            "Rock - Rock\n",
            "0.2004457989383398\n",
            "[['Hip Hop - Hip Hop', 0.2180339876084301], ['Hip Hop - Pop', 0.2088618734487775], ['Hip Hop - Rock', 0.20367714186919403], ['Pop - Pop', 0.20776121260523397], ['Pop - Rock', 0.20285306501405384], ['Rock - Rock', 0.2004457989383398]]\n"
          ],
          "name": "stdout"
        }
      ]
    },
    {
      "cell_type": "markdown",
      "metadata": {
        "colab_type": "text",
        "id": "wag_vGwxlhLU"
      },
      "source": [
        "Cosine similarities with CountVectorizer.\n",
        "\n",
        "Within genre similarities: between .19 and .24. Hip hop is the most similar\n",
        "```\n",
        "\n",
        "Hip Hop - Hip Hop\n",
        "0.24765970212980423\n",
        "Rock - Rock\n",
        "0.2110855129121092\n",
        "Pop - Pop\n",
        "0.1913122770773068\n",
        "\n",
        "```\n",
        "\n",
        "Between genre: .19, .21 so not a lot of difference with the within genre\n",
        "```\n",
        "Hip Hop - Pop\n",
        "0.21271535384634718\n",
        "Hip Hop - Rock\n",
        "0.21665027671484652\n",
        "Pop - Hip Hop\n",
        "0.21271535384634724\n",
        "Pop - Rock\n",
        "0.19618950933884402\n",
        "Rock - Hip Hop\n",
        "0.21665027671484652\n",
        "Rock - Pop\n",
        "0.196189509338844\n",
        "```\n",
        "\n",
        "Only Hip Hop lyrics seem to be a bit more similar."
      ]
    },
    {
      "cell_type": "markdown",
      "metadata": {
        "colab_type": "text",
        "id": "hG-WpT7BlhLW"
      },
      "source": [
        "### Topic Modeller"
      ]
    },
    {
      "cell_type": "code",
      "metadata": {
        "colab_type": "code",
        "id": "tFo7z4selhLW",
        "colab": {}
      },
      "source": [
        "# choose the number of components (topics) -> you choose the number of topics. (UB)\n",
        "def train_topic_modeller(train_vecs, val_vec, test_vecs, n_components = 10, type = \"NMF\"):\n",
        "  \n",
        "  # set topic modeller\n",
        "  if type == 'NMF': \n",
        "    tm = NMF(n_components=n_components)\n",
        "  else:\n",
        "    tm = LatentDirichletAllocation(n_components=n_components)\n",
        "\n",
        "  # same syntax as vectorizer\n",
        "  tm_train_vecs = tm.fit_transform(train_vecs)\n",
        "  tm_val_vecs = tm.transform(val_vec)\n",
        "  tm_test_vecs = tm.transform(test_vecs)\n",
        "  return (tm, tm_train_vecs, tm_val_vecs, tm_test_vecs)\n",
        "\n",
        "(nmf, nmf_train_vecs, nmf_val_vecs, nmf_test_vecs) = train_topic_modeller(word_count_vecs_train, word_count_vecs_val, word_count_vecs_test)"
      ],
      "execution_count": 60,
      "outputs": []
    },
    {
      "cell_type": "code",
      "metadata": {
        "colab_type": "code",
        "id": "v1eq3rJYlhLY",
        "colab": {
          "base_uri": "https://localhost:8080/",
          "height": 52
        },
        "outputId": "e044096e-348d-4169-f585-2f4032c02e46"
      },
      "source": [
        "print(nmf_train_vecs.shape) # 2711x10topic\n",
        "print(nmf.components_.shape) # 10x239 words "
      ],
      "execution_count": 61,
      "outputs": [
        {
          "output_type": "stream",
          "text": [
            "(13602, 10)\n",
            "(10, 910)\n"
          ],
          "name": "stdout"
        }
      ]
    },
    {
      "cell_type": "code",
      "metadata": {
        "colab_type": "code",
        "id": "6wL2wcDBlhLa",
        "colab": {}
      },
      "source": [
        "def display_components(model, word_features, top_display=10):\n",
        "    # utility for displaying respresentative words per component for topic models\n",
        "    for topic_idx, topic in enumerate(model.components_):\n",
        "        print(\"\\tTopic %d:\" % (topic_idx))\n",
        "        top_words_idx = topic.argsort()[::-1][:top_display]\n",
        "        top_words = [word_features[i] for i in top_words_idx]\n",
        "        print(\"\\t\"+\", \".join(top_words))"
      ],
      "execution_count": 62,
      "outputs": []
    },
    {
      "cell_type": "code",
      "metadata": {
        "colab_type": "code",
        "id": "3attBEPqkKe7",
        "colab": {
          "base_uri": "https://localhost:8080/",
          "height": 364
        },
        "outputId": "89ae11e2-4d1c-47e5-a1a3-b3e78946082d"
      },
      "source": [
        "display_components(nmf, cv.get_feature_names())"
      ],
      "execution_count": 63,
      "outputs": [
        {
          "output_type": "stream",
          "text": [
            "\tTopic 0:\n",
            "\t-PRON-, time, say, think, just, come, make, look, cause, way\n",
            "\tTopic 1:\n",
            "\toh, ooh, night, ah, want, woah, way, uh, look, let\n",
            "\tTopic 2:\n",
            "\tlove, make, feel, heart, need, want, way, say, fall, -PRON-\n",
            "\tTopic 3:\n",
            "\tla, say, -PRON-, make, lose, da, wanna, sing, world, lie\n",
            "\tTopic 4:\n",
            "\tbaby, come, let, make, -PRON-, right, ooh, night, tonight, little\n",
            "\tTopic 5:\n",
            "\tyes, hey, good, say, feel, alright, uh, ooh, bitch, -PRON-\n",
            "\tTopic 6:\n",
            "\tlike, nigga, shit, bitch, make, feel, fuck, come, niggas, money\n",
            "\tTopic 7:\n",
            "\tknow, say, way, tell, feel, think, let, good, life, make\n",
            "\tTopic 8:\n",
            "\tna, come, bird, fight, hey, -PRON-, everybody, ready, hear, let\n",
            "\tTopic 9:\n",
            "\tjust, girl, want, wanna, let, say, make, tell, need, time\n"
          ],
          "name": "stdout"
        }
      ]
    },
    {
      "cell_type": "markdown",
      "metadata": {
        "colab_type": "text",
        "id": "365LP5WxlhLd"
      },
      "source": [
        "### Initial Prediction Performance"
      ]
    },
    {
      "cell_type": "code",
      "metadata": {
        "colab_type": "code",
        "id": "opHD_aHhlhLp",
        "colab": {}
      },
      "source": [
        "def train_SVC(x,y,x_val, y_val):\n",
        "  svc_nmf = LinearSVC(max_iter=2000)\n",
        "  svc_nmf.fit(x, y)\n",
        "\n",
        "#   save_pickle(file_name='svc_nmf.pkl', data=svc_nmf)\n",
        "  # run model on validation\n",
        "  val_preds = svc_nmf.predict(x_val)\n",
        "  acc = accuracy_score(y_val, val_preds)\n",
        "  print(f\"Accuracy: {round(acc,2)}\")\n",
        "  return acc"
      ],
      "execution_count": 64,
      "outputs": []
    },
    {
      "cell_type": "code",
      "metadata": {
        "colab_type": "code",
        "id": "4l-ZAGbnlhLr",
        "colab": {
          "base_uri": "https://localhost:8080/",
          "height": 52
        },
        "outputId": "870dca5f-8cda-405c-b0e5-effafa3424fc"
      },
      "source": [
        "# Basic accuracy with \n",
        "train_SVC(nmf_train_vecs, y_train[\"Genre\"], nmf_val_vecs, y_val[\"Genre\"])"
      ],
      "execution_count": 65,
      "outputs": [
        {
          "output_type": "stream",
          "text": [
            "Accuracy: 0.56\n"
          ],
          "name": "stdout"
        },
        {
          "output_type": "execute_result",
          "data": {
            "text/plain": [
              "0.5618786424408639"
            ]
          },
          "metadata": {
            "tags": []
          },
          "execution_count": 65
        }
      ]
    },
    {
      "cell_type": "markdown",
      "metadata": {
        "colab_type": "text",
        "id": "DWmlc8TnlhLu"
      },
      "source": [
        "#### 3 genres (Pop, Rock, Hip Hop)\n",
        "\n",
        "So apart form the baseline (random pick, or alway choose 'Rock'). The model predict 60% correct on the validation set. No so good but that's the baseline for now.\n",
        "\n",
        "\n",
        "#### 2 genres (Rock, Hip Hop)\n",
        "About 75% percent of the lyrics are Rock, so the base line is 75% accuracy in this case. With the topic modeller we have 87% accuracy. Which is better, so still not very good.\n",
        "\n",
        "\n",
        "#### 3 genres (Rock, Hip Hop, Metal)\n",
        "82%. So this is going in the right direction"
      ]
    },
    {
      "cell_type": "markdown",
      "metadata": {
        "colab_type": "text",
        "id": "cyfg9hljlhLv"
      },
      "source": [
        "# Optimizing the current performance - Feature creation\n"
      ]
    },
    {
      "cell_type": "markdown",
      "metadata": {
        "colab_type": "text",
        "id": "XuwDDrzQlhLv"
      },
      "source": [
        "To make the project workable (either on a local machine or on google colab), I will use a subset of the data to do the project with\n",
        "\n",
        "### Cleaning up"
      ]
    },
    {
      "cell_type": "code",
      "metadata": {
        "colab_type": "code",
        "id": "38Q1xW6-lhLx",
        "colab": {
          "base_uri": "https://localhost:8080/",
          "height": 34
        },
        "outputId": "d7e497a8-5aaf-4112-c526-0f99a29bf1e8"
      },
      "source": [
        "# remove the tabs from the corpus\n",
        "sub ='(tablatura)'\n",
        "indexes_to_drop = df_total[df_total[\"SName\"].str.find(sub) != -1].index\n",
        "len(df_total)"
      ],
      "execution_count": 66,
      "outputs": [
        {
          "output_type": "execute_result",
          "data": {
            "text/plain": [
              "27675"
            ]
          },
          "metadata": {
            "tags": []
          },
          "execution_count": 66
        }
      ]
    },
    {
      "cell_type": "code",
      "metadata": {
        "colab_type": "code",
        "id": "Y7vROtLzlhLy",
        "colab": {
          "base_uri": "https://localhost:8080/",
          "height": 34
        },
        "outputId": "9bae12ee-e902-4f88-82cb-42c959707899"
      },
      "source": [
        "df_total = df_total.drop(indexes_to_drop, axis=0)\n",
        "len(df_total)"
      ],
      "execution_count": 67,
      "outputs": [
        {
          "output_type": "execute_result",
          "data": {
            "text/plain": [
              "27655"
            ]
          },
          "metadata": {
            "tags": []
          },
          "execution_count": 67
        }
      ]
    },
    {
      "cell_type": "code",
      "metadata": {
        "colab_type": "code",
        "id": "RlC5QnNqlhLz",
        "colab": {
          "base_uri": "https://localhost:8080/",
          "height": 597
        },
        "outputId": "6a26b167-5bbb-4204-8a54-06009f176d33"
      },
      "source": [
        "df_total"
      ],
      "execution_count": 68,
      "outputs": [
        {
          "output_type": "execute_result",
          "data": {
            "text/html": [
              "<div>\n",
              "<style scoped>\n",
              "    .dataframe tbody tr th:only-of-type {\n",
              "        vertical-align: middle;\n",
              "    }\n",
              "\n",
              "    .dataframe tbody tr th {\n",
              "        vertical-align: top;\n",
              "    }\n",
              "\n",
              "    .dataframe thead th {\n",
              "        text-align: right;\n",
              "    }\n",
              "</style>\n",
              "<table border=\"1\" class=\"dataframe\">\n",
              "  <thead>\n",
              "    <tr style=\"text-align: right;\">\n",
              "      <th></th>\n",
              "      <th>SName</th>\n",
              "      <th>Lyric</th>\n",
              "      <th>Artist</th>\n",
              "      <th>Genre</th>\n",
              "    </tr>\n",
              "  </thead>\n",
              "  <tbody>\n",
              "    <tr>\n",
              "      <th>0</th>\n",
              "      <td>Uptown (Feat. Nesby Phips, Reem &amp; Juvenile)</td>\n",
              "      <td>[Verse 1:]. She tap, the girl like flips yea. ...</td>\n",
              "      <td>Mack Maine</td>\n",
              "      <td>Hip Hop</td>\n",
              "    </tr>\n",
              "    <tr>\n",
              "      <th>1</th>\n",
              "      <td>I Think I'm In Love</td>\n",
              "      <td>I think I'm in love. But I don't really know w...</td>\n",
              "      <td>Mac Miller</td>\n",
              "      <td>Hip Hop</td>\n",
              "    </tr>\n",
              "    <tr>\n",
              "      <th>2</th>\n",
              "      <td>Inertia</td>\n",
              "      <td>I've been a God way before a synagogue. Liquor...</td>\n",
              "      <td>Mac Miller</td>\n",
              "      <td>Hip Hop</td>\n",
              "    </tr>\n",
              "    <tr>\n",
              "      <th>3</th>\n",
              "      <td>Got a Clue</td>\n",
              "      <td>Oh, glance at her when she walking by,. The ty...</td>\n",
              "      <td>Mac Miller</td>\n",
              "      <td>Hip Hop</td>\n",
              "    </tr>\n",
              "    <tr>\n",
              "      <th>4</th>\n",
              "      <td>The Way</td>\n",
              "      <td>I love the way you make me feel. I love it, I ...</td>\n",
              "      <td>Mac Miller</td>\n",
              "      <td>Hip Hop</td>\n",
              "    </tr>\n",
              "    <tr>\n",
              "      <th>...</th>\n",
              "      <td>...</td>\n",
              "      <td>...</td>\n",
              "      <td>...</td>\n",
              "      <td>...</td>\n",
              "    </tr>\n",
              "    <tr>\n",
              "      <th>27670</th>\n",
              "      <td>Football Season Is Over (Utah Saints)</td>\n",
              "      <td>Why the fuck can I not hail a taxi?. Arm out l...</td>\n",
              "      <td>Bring Me The Horizon</td>\n",
              "      <td>Rock</td>\n",
              "    </tr>\n",
              "    <tr>\n",
              "      <th>27671</th>\n",
              "      <td>Why You Gotta Kick Me When I'm Down?</td>\n",
              "      <td>I see you. You on the edge of your seat. Ain't...</td>\n",
              "      <td>Bring Me The Horizon</td>\n",
              "      <td>Rock</td>\n",
              "    </tr>\n",
              "    <tr>\n",
              "      <th>27672</th>\n",
              "      <td>Avalanche</td>\n",
              "      <td>Cut me open and tell me what's inside. Diagnos...</td>\n",
              "      <td>Bring Me The Horizon</td>\n",
              "      <td>Rock</td>\n",
              "    </tr>\n",
              "    <tr>\n",
              "      <th>27673</th>\n",
              "      <td>Doomed</td>\n",
              "      <td>Cut off my wings and come lock me up. Just pul...</td>\n",
              "      <td>Bring Me The Horizon</td>\n",
              "      <td>Rock</td>\n",
              "    </tr>\n",
              "    <tr>\n",
              "      <th>27674</th>\n",
              "      <td>Sally Ann</td>\n",
              "      <td>A woman of beauty. A woman of pain. In france ...</td>\n",
              "      <td>10000 Maniacs</td>\n",
              "      <td>Rock</td>\n",
              "    </tr>\n",
              "  </tbody>\n",
              "</table>\n",
              "<p>27655 rows × 4 columns</p>\n",
              "</div>"
            ],
            "text/plain": [
              "                                             SName  ...    Genre\n",
              "0      Uptown (Feat. Nesby Phips, Reem & Juvenile)  ...  Hip Hop\n",
              "1                              I Think I'm In Love  ...  Hip Hop\n",
              "2                                          Inertia  ...  Hip Hop\n",
              "3                                       Got a Clue  ...  Hip Hop\n",
              "4                                          The Way  ...  Hip Hop\n",
              "...                                            ...  ...      ...\n",
              "27670        Football Season Is Over (Utah Saints)  ...     Rock\n",
              "27671         Why You Gotta Kick Me When I'm Down?  ...     Rock\n",
              "27672                                    Avalanche  ...     Rock\n",
              "27673                                       Doomed  ...     Rock\n",
              "27674                                    Sally Ann  ...     Rock\n",
              "\n",
              "[27655 rows x 4 columns]"
            ]
          },
          "metadata": {
            "tags": []
          },
          "execution_count": 68
        }
      ]
    },
    {
      "cell_type": "markdown",
      "metadata": {
        "id": "ztKwKb9IkKfJ",
        "colab_type": "text"
      },
      "source": [
        "### Smaller data set\n",
        "Because the dataset is very large, a sub selection will be used for the further proces. Using the full corpus was not possibel in all all case (calculation times and memory constraints). \n",
        "\n",
        "We choose a split of 10000 lyrics. Then we have  training/validation of about 5000 training, 2000 validation and 3000 test."
      ]
    },
    {
      "cell_type": "code",
      "metadata": {
        "colab_type": "code",
        "id": "l_ZKEQfVlhL1",
        "colab": {
          "base_uri": "https://localhost:8080/",
          "height": 493
        },
        "outputId": "22fbee07-bf61-4f2f-8ba8-c2ba78a476cc"
      },
      "source": [
        "if LOAD_DATA:\n",
        "  df_small = pd.read_pickle('df_small.pkl.gz')\n",
        "else:\n",
        "  df_small = df_total.sample(n=10000,replace=\"False\", random_state=17)\n",
        "  if SAVE_DATA:\n",
        "    df_small.to_csv(f\"{path}df_small.csv\")\n",
        "\n",
        "df_small"
      ],
      "execution_count": 69,
      "outputs": [
        {
          "output_type": "execute_result",
          "data": {
            "text/html": [
              "<div>\n",
              "<style scoped>\n",
              "    .dataframe tbody tr th:only-of-type {\n",
              "        vertical-align: middle;\n",
              "    }\n",
              "\n",
              "    .dataframe tbody tr th {\n",
              "        vertical-align: top;\n",
              "    }\n",
              "\n",
              "    .dataframe thead th {\n",
              "        text-align: right;\n",
              "    }\n",
              "</style>\n",
              "<table border=\"1\" class=\"dataframe\">\n",
              "  <thead>\n",
              "    <tr style=\"text-align: right;\">\n",
              "      <th></th>\n",
              "      <th>SName</th>\n",
              "      <th>Lyric</th>\n",
              "      <th>Artist</th>\n",
              "      <th>Genre</th>\n",
              "    </tr>\n",
              "  </thead>\n",
              "  <tbody>\n",
              "    <tr>\n",
              "      <th>10866</th>\n",
              "      <td>The Bottom Line</td>\n",
              "      <td>Rick Astley. When we were out dancing the othe...</td>\n",
              "      <td>Rick Astley</td>\n",
              "      <td>Pop</td>\n",
              "    </tr>\n",
              "    <tr>\n",
              "      <th>2191</th>\n",
              "      <td>Freestyle (dissin' The Source)</td>\n",
              "      <td>Faded voice - Fuck yeah.... Eminem: YEAHH!. Lo...</td>\n",
              "      <td>Eminem</td>\n",
              "      <td>Hip Hop</td>\n",
              "    </tr>\n",
              "    <tr>\n",
              "      <th>13705</th>\n",
              "      <td>Elephants</td>\n",
              "      <td>It’s the closing hour. But i don’t want to go....</td>\n",
              "      <td>Crowded House</td>\n",
              "      <td>Pop</td>\n",
              "    </tr>\n",
              "    <tr>\n",
              "      <th>406</th>\n",
              "      <td>Bottoms Up</td>\n",
              "      <td>Move your hips, do your thang. Get off the wal...</td>\n",
              "      <td>Keke Palmer</td>\n",
              "      <td>Hip Hop</td>\n",
              "    </tr>\n",
              "    <tr>\n",
              "      <th>9532</th>\n",
              "      <td>Work It Out</td>\n",
              "      <td>How you doing honey baby. You know I don't ask...</td>\n",
              "      <td>Beyoncé</td>\n",
              "      <td>Pop</td>\n",
              "    </tr>\n",
              "    <tr>\n",
              "      <th>...</th>\n",
              "      <td>...</td>\n",
              "      <td>...</td>\n",
              "      <td>...</td>\n",
              "      <td>...</td>\n",
              "    </tr>\n",
              "    <tr>\n",
              "      <th>18604</th>\n",
              "      <td>Why Trust You</td>\n",
              "      <td>You come on strong with a great big smile. But...</td>\n",
              "      <td>Alice Cooper</td>\n",
              "      <td>Rock</td>\n",
              "    </tr>\n",
              "    <tr>\n",
              "      <th>5791</th>\n",
              "      <td>Reborn</td>\n",
              "      <td>IDENTITY MURDERED, MALICIOUS INTENT\\nI'M RECRE...</td>\n",
              "      <td>Damageplan</td>\n",
              "      <td>Metal</td>\n",
              "    </tr>\n",
              "    <tr>\n",
              "      <th>16838</th>\n",
              "      <td>Shine</td>\n",
              "      <td>Shine. Open up your life and shine your light....</td>\n",
              "      <td>Everclear</td>\n",
              "      <td>Rock</td>\n",
              "    </tr>\n",
              "    <tr>\n",
              "      <th>24908</th>\n",
              "      <td>Closer To The Heart</td>\n",
              "      <td>And the men who hold high places. Must be the ...</td>\n",
              "      <td>Rush</td>\n",
              "      <td>Rock</td>\n",
              "    </tr>\n",
              "    <tr>\n",
              "      <th>14585</th>\n",
              "      <td>Wig-Wam Bam</td>\n",
              "      <td>I don't want to be a bother too much,. I just ...</td>\n",
              "      <td>The Donnas</td>\n",
              "      <td>Rock</td>\n",
              "    </tr>\n",
              "  </tbody>\n",
              "</table>\n",
              "<p>10000 rows × 4 columns</p>\n",
              "</div>"
            ],
            "text/plain": [
              "                                SName  ...    Genre\n",
              "10866                 The Bottom Line  ...      Pop\n",
              "2191   Freestyle (dissin' The Source)  ...  Hip Hop\n",
              "13705                       Elephants  ...      Pop\n",
              "406                        Bottoms Up  ...  Hip Hop\n",
              "9532                      Work It Out  ...      Pop\n",
              "...                               ...  ...      ...\n",
              "18604                   Why Trust You  ...     Rock\n",
              "5791                           Reborn  ...    Metal\n",
              "16838                           Shine  ...     Rock\n",
              "24908             Closer To The Heart  ...     Rock\n",
              "14585                     Wig-Wam Bam  ...     Rock\n",
              "\n",
              "[10000 rows x 4 columns]"
            ]
          },
          "metadata": {
            "tags": []
          },
          "execution_count": 69
        }
      ]
    },
    {
      "cell_type": "code",
      "metadata": {
        "colab_type": "code",
        "id": "qdYYVRxSlhL4",
        "colab": {
          "base_uri": "https://localhost:8080/",
          "height": 104
        },
        "outputId": "ab77b67c-ac61-4d51-ff62-2b1ccd6b6b8c"
      },
      "source": [
        "X_sm, y_sm = simplify_data(df_small)\n",
        "y_sm[\"Genre\"].value_counts()\n"
      ],
      "execution_count": 70,
      "outputs": [
        {
          "output_type": "execute_result",
          "data": {
            "text/plain": [
              "Rock       4826\n",
              "Pop        2997\n",
              "Hip Hop    1604\n",
              "Metal       573\n",
              "Name: Genre, dtype: int64"
            ]
          },
          "metadata": {
            "tags": []
          },
          "execution_count": 70
        }
      ]
    },
    {
      "cell_type": "code",
      "metadata": {
        "colab_type": "code",
        "id": "1Cp-XDaqlhL6",
        "colab": {
          "base_uri": "https://localhost:8080/",
          "height": 69
        },
        "outputId": "d759534d-a1b0-4418-c6dc-d2ec33f5e4e4"
      },
      "source": [
        "# train/validation/test sets\n",
        "x_train, y_train, x_val, y_val, x_test, y_test = split_train_val_test(X_sm, y_sm)"
      ],
      "execution_count": 71,
      "outputs": [
        {
          "output_type": "stream",
          "text": [
            "Training:  4857 4857\n",
            "Validation:  2171 2171\n",
            "Test:  2972 2972\n"
          ],
          "name": "stdout"
        }
      ]
    },
    {
      "cell_type": "code",
      "metadata": {
        "colab_type": "code",
        "id": "tOXbedSolhL7",
        "colab": {
          "base_uri": "https://localhost:8080/",
          "height": 106
        },
        "outputId": "ec9574ec-c2eb-4fd7-f699-64ed615e7a64"
      },
      "source": [
        "# vectors\n",
        "cv = CountVectorizer(tokenizer=simple_tokenizer, stop_words='english', lowercase=True ,max_df=0.98, min_df=0.01)\n",
        "(word_count_vecs_train, word_count_vecs_val, word_count_vecs_test) = get_document_vectors(cv,x_train, x_val, x_test)\n",
        "# train topic modeller\n",
        "(nmf, nmf_train_vecs, nmf_val_vecs, nmf_test_vecs) = train_topic_modeller(word_count_vecs_train, word_count_vecs_val, word_count_vecs_test, type = \"NMF\")\n",
        "# display_components(nmf, cv.get_feature_names())\n",
        "\n",
        "# predict\n",
        "train_SVC(nmf_train_vecs, y_train[\"Genre\"], nmf_val_vecs, y_val[\"Genre\"])"
      ],
      "execution_count": 72,
      "outputs": [
        {
          "output_type": "stream",
          "text": [
            "/usr/local/lib/python3.6/dist-packages/sklearn/feature_extraction/text.py:385: UserWarning: Your stop_words may be inconsistent with your preprocessing. Tokenizing the stop words generated tokens ['3', 'far', 'good', 'little', 'make', '\\ufeff1'] not in stop_words.\n",
            "  'stop_words.' % sorted(inconsistent))\n"
          ],
          "name": "stderr"
        },
        {
          "output_type": "stream",
          "text": [
            "Accuracy: 0.56\n"
          ],
          "name": "stdout"
        },
        {
          "output_type": "execute_result",
          "data": {
            "text/plain": [
              "0.5591893136803316"
            ]
          },
          "metadata": {
            "tags": []
          },
          "execution_count": 72
        }
      ]
    },
    {
      "cell_type": "markdown",
      "metadata": {
        "colab_type": "text",
        "id": "Fm_5-7MQlhL8"
      },
      "source": [
        "#### 3 genres:\n",
        "The results of the smaller set are the same.\n",
        "\n",
        "#### 2 genres:\n",
        "Results are a little less: 85%\n",
        "\n",
        "#### 3 genres:\n",
        "Results are a little less: 80%"
      ]
    },
    {
      "cell_type": "markdown",
      "metadata": {
        "colab_type": "text",
        "id": "IyysiwXZlhL9"
      },
      "source": [
        "### Optimize the tokenizer:\n"
      ]
    },
    {
      "cell_type": "code",
      "metadata": {
        "colab_type": "code",
        "id": "yCcDEUkFlhL9",
        "colab": {}
      },
      "source": [
        "def lyric_tokenizer(doc):\n",
        "    model = en # nlp_md takes a lot longer to process and results are the same\n",
        "\n",
        "    parsed = model(doc)\n",
        "    tokens = [t.lemma_ for t in parsed if (t.is_alpha) & (not t.is_digit) &  (not t.is_punct) & (not t.like_url) & (not t.like_email) & (not t.is_stop) & (len(t.text)>1)] \n",
        "    return tokens\n",
        "\n",
        "cv = CountVectorizer(tokenizer=lyric_tokenizer, stop_words='english', lowercase=True ,max_df=0.98, min_df=0.01)\n",
        "(word_count_vecs_train, word_count_vecs_val, word_count_vecs_test) = get_document_vectors(cv,x_train, x_val, x_test)"
      ],
      "execution_count": 73,
      "outputs": []
    },
    {
      "cell_type": "code",
      "metadata": {
        "colab_type": "code",
        "id": "MhPYbZYklhL-",
        "colab": {
          "base_uri": "https://localhost:8080/",
          "height": 52
        },
        "outputId": "e404cf12-932e-4a09-ab5e-ba988c82118a"
      },
      "source": [
        "# train topic modeller\n",
        "(nmf, nmf_train_vecs, nmf_val_vecs, nmf_test_vecs) = train_topic_modeller(word_count_vecs_train, word_count_vecs_val, word_count_vecs_test)\n",
        "# display_components(nmf, cv.get_feature_names())\n",
        "\n",
        "# predict\n",
        "train_SVC(nmf_train_vecs, y_train[\"Genre\"], nmf_val_vecs, y_val[\"Genre\"])"
      ],
      "execution_count": 74,
      "outputs": [
        {
          "output_type": "stream",
          "text": [
            "Accuracy: 0.56\n"
          ],
          "name": "stdout"
        },
        {
          "output_type": "execute_result",
          "data": {
            "text/plain": [
              "0.5605711653615846"
            ]
          },
          "metadata": {
            "tags": []
          },
          "execution_count": 74
        }
      ]
    },
    {
      "cell_type": "markdown",
      "metadata": {
        "colab_type": "text",
        "id": "AcdYXuXulhMB"
      },
      "source": [
        "#### 3 genres\n",
        "So a more specifice tokenizer does not improve the model. Nor  does used a larger model/corpus\n",
        "\n",
        "#### 2 genres\n",
        "Small improvement over small baseline (88%)\n",
        "\n",
        "\n",
        "#### 3 genres\n",
        "68%. This is doing a lot worse!\n",
        "\n",
        "#### 4 genres \n",
        "57%"
      ]
    },
    {
      "cell_type": "markdown",
      "metadata": {
        "colab_type": "text",
        "id": "n64ooYKRkKfU"
      },
      "source": [
        "### LDA Model"
      ]
    },
    {
      "cell_type": "code",
      "metadata": {
        "colab_type": "code",
        "id": "xWj5qTrjlhMB",
        "colab": {
          "base_uri": "https://localhost:8080/",
          "height": 52
        },
        "outputId": "17acf162-558c-483d-8a6f-c62b655442f0"
      },
      "source": [
        "# train LDA topic modeller\n",
        "(lda, lda_train_vecs, lda_val_vecs, lda_test_vecs) = train_topic_modeller(word_count_vecs_train, word_count_vecs_val, word_count_vecs_test, type = \"LDA\")\n",
        "# display_components(lda, cv.get_feature_names())\n",
        "\n",
        "# predict\n",
        "train_SVC(lda_train_vecs, y_train[\"Genre\"], lda_val_vecs, y_val[\"Genre\"])"
      ],
      "execution_count": 75,
      "outputs": [
        {
          "output_type": "stream",
          "text": [
            "Accuracy: 0.58\n"
          ],
          "name": "stdout"
        },
        {
          "output_type": "execute_result",
          "data": {
            "text/plain": [
              "0.581759557807462"
            ]
          },
          "metadata": {
            "tags": []
          },
          "execution_count": 75
        }
      ]
    },
    {
      "cell_type": "markdown",
      "metadata": {
        "colab_type": "text",
        "id": "u3nFn5APlhMC"
      },
      "source": [
        "#### 3 Genres\n",
        "Performance is a little less\n",
        "\n",
        "#### 2 Genres\n",
        "Performance is a little less(85% vs 88% of NMF)\n",
        "\n",
        "\n",
        "#### 3 genres:\n",
        "72% (LDA with lyrics tokenizer)\n",
        "80% (LDA with simple tokeninzer)\n",
        "\n",
        "#### 4 genres: \n",
        "58%"
      ]
    },
    {
      "cell_type": "markdown",
      "metadata": {
        "colab_type": "text",
        "id": "ljIdNxQelhMD"
      },
      "source": [
        "### TF-IDF Vectorizer"
      ]
    },
    {
      "cell_type": "code",
      "metadata": {
        "colab_type": "code",
        "id": "t8zcWajzlhME",
        "colab": {}
      },
      "source": [
        "# # TFIDF\n",
        "# tfidf = TfidfVectorizer(tokenizer=simple_tokenizer, stop_words='english', lowercase=True ,max_df=0.98, min_df=0.01)\n",
        "# (word_count_vecs_train, word_count_vecs_val, word_count_vecs_test) = get_document_vectors(tfidf,x_train, x_val, x_test)\n",
        "\n",
        "# # train topic modeller\n",
        "# (nmf, nmf_train_vecs, nmf_val_vecs, nmf_test_vecs) = train_topic_modeller(word_count_vecs_train, word_count_vecs_val, word_count_vecs_test)\n",
        "# display_components(nmf, cv.get_feature_names())\n",
        "\n",
        "# # predict\n",
        "# train_SVC(nmf_train_vecs, y_train[\"Genre\"], nmf_val_vecs, y_val[\"Genre\"])"
      ],
      "execution_count": 76,
      "outputs": []
    },
    {
      "cell_type": "markdown",
      "metadata": {
        "colab_type": "text",
        "id": "erm7wb7vlhMH"
      },
      "source": [
        "\n",
        "#### 3 genres\n",
        "62% Again, maybe a little better.\n",
        "\n",
        "#### 2 genres:\n",
        "85% a little less than the NMF with regular counts\n",
        "\n",
        "#### 3 genres\n",
        "(simple tokenizer)\n",
        "83%"
      ]
    },
    {
      "cell_type": "markdown",
      "metadata": {
        "colab_type": "text",
        "id": "4Dl-2VBmlhMH"
      },
      "source": [
        "## Determine the number topics\n"
      ]
    },
    {
      "cell_type": "code",
      "metadata": {
        "colab_type": "code",
        "id": "u5dVv3ZzlhMJ",
        "colab": {
          "base_uri": "https://localhost:8080/",
          "height": 642
        },
        "outputId": "7e04a345-6df7-42ac-d6c0-8742235be806"
      },
      "source": [
        "accuracies = []\n",
        "c = range (2,20)\n",
        "\n",
        "for n in c:\n",
        "\n",
        "  # train topic modeller\n",
        "  print(f\"Number of topics: {n}\")\n",
        "  (nmf, nmf_train_vecs, nmf_val_vecs, nmf_test_vecs) = train_topic_modeller(word_count_vecs_train, word_count_vecs_val, word_count_vecs_test, n_components = n, type = \"NMF\")\n",
        "#   display_components(nmf, cv.get_feature_names())\n",
        "\n",
        "  # predict\n",
        "  accuracies.append(  train_SVC(nmf_train_vecs, y_train[\"Genre\"], nmf_val_vecs, y_val[\"Genre\"]))\n"
      ],
      "execution_count": 77,
      "outputs": [
        {
          "output_type": "stream",
          "text": [
            "Number of topics: 2\n",
            "Accuracy: 0.54\n",
            "Number of topics: 3\n",
            "Accuracy: 0.55\n",
            "Number of topics: 4\n",
            "Accuracy: 0.55\n",
            "Number of topics: 5\n",
            "Accuracy: 0.55\n",
            "Number of topics: 6\n",
            "Accuracy: 0.54\n",
            "Number of topics: 7\n",
            "Accuracy: 0.55\n",
            "Number of topics: 8\n",
            "Accuracy: 0.55\n",
            "Number of topics: 9\n",
            "Accuracy: 0.55\n",
            "Number of topics: 10\n",
            "Accuracy: 0.56\n",
            "Number of topics: 11\n",
            "Accuracy: 0.57\n",
            "Number of topics: 12\n",
            "Accuracy: 0.59\n",
            "Number of topics: 13\n",
            "Accuracy: 0.59\n",
            "Number of topics: 14\n",
            "Accuracy: 0.6\n",
            "Number of topics: 15\n",
            "Accuracy: 0.6\n",
            "Number of topics: 16\n",
            "Accuracy: 0.59\n",
            "Number of topics: 17\n",
            "Accuracy: 0.59\n",
            "Number of topics: 18\n",
            "Accuracy: 0.6\n",
            "Number of topics: 19\n",
            "Accuracy: 0.6\n"
          ],
          "name": "stdout"
        }
      ]
    },
    {
      "cell_type": "code",
      "metadata": {
        "colab_type": "code",
        "id": "orF1-cktlhML",
        "colab": {
          "base_uri": "https://localhost:8080/",
          "height": 350
        },
        "outputId": "ed5952f4-4371-4870-de07-6871d46790bd"
      },
      "source": [
        "import matplotlib.pyplot as plt\n",
        "\n",
        "def plot_accuracies(errors, x):\n",
        "  \n",
        "  fig, axes = plt.subplots(1,1, figsize=(10,5), sharex=False, sharey=False)\n",
        "  ax1=axes\n",
        "  \n",
        "\n",
        "  \n",
        "  ax1.plot(x,errors, color='red', marker=\"o\")\n",
        "  ax1.set_title('Accuracy (validation set)')\n",
        "  ax1.set_xlabel('Number of topics')\n",
        "  ax1.set_ylabel('Accuracy')\n",
        "\n",
        "plot_accuracies(accuracies, list(c))"
      ],
      "execution_count": 78,
      "outputs": [
        {
          "output_type": "display_data",
          "data": {
            "image/png": "[encoded data removed]",
            "text/plain": [
              "<Figure size 720x360 with 1 Axes>"
            ]
          },
          "metadata": {
            "tags": [],
            "needs_background": "light"
          }
        }
      ]
    },
    {
      "cell_type": "markdown",
      "metadata": {
        "colab_type": "text",
        "id": "K8-6_3sDlhML"
      },
      "source": [
        "#### 3 genres\n",
        "So the number of topics does not really make a difference, Around 8 or 10 topics good enough\n",
        "\n",
        "#### 2 genres\n",
        "4 topics is clearly the max that we need for this purpose\n",
        "\n",
        "#### 3 genres 2 (Metal/Rock/HipHop)\n",
        "9 topic has the highest accuracy\n",
        "\n",
        "#### 4 genres\n",
        "12 topics"
      ]
    },
    {
      "cell_type": "markdown",
      "metadata": {
        "colab_type": "text",
        "id": "nBaconJUlhMN"
      },
      "source": [
        "## Creating BERT tokens"
      ]
    },
    {
      "cell_type": "code",
      "metadata": {
        "colab_type": "code",
        "id": "cJHcEd2qlhMP",
        "colab": {
          "base_uri": "https://localhost:8080/",
          "height": 165,
          "referenced_widgets": [
            "0839c41d9a8c4e04b750d9e94f68b2f0",
            "b6a8d964bbd8423b9743008258261fd2",
            "0dbb12fdbe5e478ab622ff47630979df",
            "c7367e206143475eab6742082ab9ea77",
            "6687509ba8c948278098ab03f4059598",
            "346c21f50e1846a7ab7db353c03d63a8",
            "c30359fdfd314fa784b60e1ce92dc62a",
            "4deb6ee6b31a467bbba49e5ea98edf80",
            "0290721ee0f648209331005d671e4152",
            "1a7cec0c1ee746049bee5bcaceefda27",
            "a6b1cc7ed7084992937a58e3f5c1ff54",
            "e3dc228ecb9445e9be00b72a1870cc8e",
            "13d1df60ed9440189ffce9fc76a43690",
            "262818e9fd4d4210a7b46e72ab92a483",
            "da6429724c804d848db984fc0e7e4c74",
            "5e202f5650e945d581923d4bd2f271b5",
            "f28f047afa874c88970aee747d9ed10c",
            "51cd08fceb294c749844dc371f1bfdc7",
            "446e2738abd84f6dabee081b8dc0b3de",
            "49b2aef25f4b4cce9ecee4722e273005",
            "c4ee9e5e53a447b089b2b870813feb2a",
            "302779ed1307464a9f44a5fee55f305a",
            "047a0a0a358840789bacdd96cfd11919",
            "fe82b097534b48a9a448cb9c63c35c41"
          ]
        },
        "outputId": "d39bee03-9d7d-46ca-be91-e5143edbe2cf"
      },
      "source": [
        "import transformers\n",
        "# what we're used to: BERT\n",
        "from transformers import BertTokenizer, BertModel \n",
        "\n",
        "MODEL_NAME = 'bert-base-uncased'\n",
        "# Load pre-trained model\n",
        "model = BertModel.from_pretrained(MODEL_NAME)\n",
        "# Load pre-trained model tokenizer (vocabulary)\n",
        "tokenizer = BertTokenizer.from_pretrained(MODEL_NAME)\n"
      ],
      "execution_count": 79,
      "outputs": [
        {
          "output_type": "display_data",
          "data": {
            "application/vnd.jupyter.widget-view+json": {
              "model_id": "0839c41d9a8c4e04b750d9e94f68b2f0",
              "version_minor": 0,
              "version_major": 2
            },
            "text/plain": [
              "HBox(children=(FloatProgress(value=0.0, description='Downloading', max=433.0, style=ProgressStyle(description_…"
            ]
          },
          "metadata": {
            "tags": []
          }
        },
        {
          "output_type": "stream",
          "text": [
            "\n"
          ],
          "name": "stdout"
        },
        {
          "output_type": "display_data",
          "data": {
            "application/vnd.jupyter.widget-view+json": {
              "model_id": "0290721ee0f648209331005d671e4152",
              "version_minor": 0,
              "version_major": 2
            },
            "text/plain": [
              "HBox(children=(FloatProgress(value=0.0, description='Downloading', max=440473133.0, style=ProgressStyle(descri…"
            ]
          },
          "metadata": {
            "tags": []
          }
        },
        {
          "output_type": "stream",
          "text": [
            "\n"
          ],
          "name": "stdout"
        },
        {
          "output_type": "display_data",
          "data": {
            "application/vnd.jupyter.widget-view+json": {
              "model_id": "f28f047afa874c88970aee747d9ed10c",
              "version_minor": 0,
              "version_major": 2
            },
            "text/plain": [
              "HBox(children=(FloatProgress(value=0.0, description='Downloading', max=231508.0, style=ProgressStyle(descripti…"
            ]
          },
          "metadata": {
            "tags": []
          }
        },
        {
          "output_type": "stream",
          "text": [
            "\n"
          ],
          "name": "stdout"
        }
      ]
    },
    {
      "cell_type": "code",
      "metadata": {
        "colab_type": "code",
        "id": "yt1bktGClhMS",
        "colab": {}
      },
      "source": [
        "# Test script\n",
        "# %%time\n",
        "# # one dimension of difference: speed\n",
        "# samp_lyrics = x_train['Lyric'].iloc[:100]\n",
        "# tokens = tokenizer.batch_encode_plus(x_train['Lyric'].iloc[:5],\n",
        "#   pad_to_max_length=True, return_tensors=\"pt\", \n",
        "#   max_length=512) # BERT expects sequences of 512 tokens\n",
        "# outputs = model(**tokens)"
      ],
      "execution_count": 80,
      "outputs": []
    },
    {
      "cell_type": "code",
      "metadata": {
        "colab_type": "code",
        "id": "GRFi-j69lhMS",
        "colab": {}
      },
      "source": [
        "\n",
        "# # start: \n",
        "# save_pickle('bert_lyrics_sm.pkl', outputs)\n",
        "# save_pickle('all_data.pkl', (x_test, x_val, x_test, y_train, y_val, y_test))\n",
        "\n",
        "# import gzip\n",
        "# pickle.dump(outputs, gzip.open(f'{path}lyrics_bert_vectors.pkl.gz', 'wb'))"
      ],
      "execution_count": 81,
      "outputs": []
    },
    {
      "cell_type": "code",
      "metadata": {
        "colab_type": "code",
        "id": "5IyqHrl4lhMU",
        "colab": {}
      },
      "source": [
        "# outputs[0].shape # 5x512x768"
      ],
      "execution_count": 82,
      "outputs": []
    },
    {
      "cell_type": "code",
      "metadata": {
        "colab_type": "code",
        "id": "5Rik5aeKlhMV",
        "colab": {
          "base_uri": "https://localhost:8080/",
          "height": 141
        },
        "outputId": "165c520b-d68a-4803-83eb-1592a90918fe"
      },
      "source": [
        "# set the whole model to GPU\n",
        "model.to(device)\n",
        "\n",
        "# here we're doing small batches to the model on GPU, we'll load the product of this process later\n",
        "# The model itself takes up a LOT of memory, so we're passing very small batches\n",
        "# note here: You may run out of RAM if you try and run this along with all the above.\n",
        "\n",
        "def generate_BERT_tokens(data, filename):\n",
        "  \n",
        "  st = 0\n",
        "  batch_size = 5\n",
        "  batches = list(range(batch_size, len(data), batch_size))+[len(data)]\n",
        "  # print(batches)\n",
        "  doc_rep_collector = []\n",
        "  for b in batches:\n",
        "      tokens = tokenizer.batch_encode_plus(\n",
        "          data[\"Lyric\"][st:b],\n",
        "          pad_to_max_length=True, \n",
        "          return_tensors=\"pt\",\n",
        "          max_length=512,\n",
        "          truncation=True)\n",
        "      st = b\n",
        "      tokens.to(device)\n",
        "      outputs = model(**tokens)\n",
        "      # taking the representation of the 'CLS' token (doc-level embedding)\n",
        "      o = outputs[0][:,0].cpu().detach().numpy()\n",
        "      doc_rep_collector.append(o)\n",
        "\n",
        "  # stack into array\n",
        "  doc_rep_collector = np.concatenate(doc_rep_collector)\n",
        "  \n",
        "  # to minimize size, can store as 16-bit float\n",
        "  doc_rep_collector = doc_rep_collector.astype('float16')\n",
        "\n",
        "  # additionally, will store as gzip (pandas can handle this)\n",
        "  pickle.dump(doc_rep_collector, gzip.open(f'{path}{filename}', 'wb'))"
      ],
      "execution_count": 83,
      "outputs": [
        {
          "output_type": "stream",
          "text": [
            "/usr/local/lib/python3.6/dist-packages/torch/cuda/__init__.py:125: UserWarning: \n",
            "Tesla T4 with CUDA capability sm_75 is not compatible with the current PyTorch installation.\n",
            "The current PyTorch install supports CUDA capabilities sm_37 sm_50 sm_60 sm_70.\n",
            "If you want to use the Tesla T4 GPU with PyTorch, please check the instructions at https://pytorch.org/get-started/locally/\n",
            "\n",
            "  warnings.warn(incompatible_device_warn.format(device_name, capability, \" \".join(arch_list), device_name))\n"
          ],
          "name": "stderr"
        }
      ]
    },
    {
      "cell_type": "code",
      "metadata": {
        "colab_type": "code",
        "id": "LjzWaPg5lhMX",
        "colab": {
          "base_uri": "https://localhost:8080/",
          "height": 52
        },
        "outputId": "2a2cd9f8-e1f2-48a1-db56-5e623affa42c"
      },
      "source": [
        "%%time\n",
        "if COLAB:\n",
        "  generate_BERT_tokens(x_train, 'lyrics_bert_vectors_train.pkl.gz')\n",
        "  "
      ],
      "execution_count": 84,
      "outputs": [
        {
          "output_type": "stream",
          "text": [
            "CPU times: user 1min 50s, sys: 1min 5s, total: 2min 55s\n",
            "Wall time: 2min 55s\n"
          ],
          "name": "stdout"
        }
      ]
    },
    {
      "cell_type": "markdown",
      "metadata": {
        "id": "K1wooLsCkKfn",
        "colab_type": "text"
      },
      "source": [
        "Laptop:\n",
        "```\n",
        "Wall time ~ 2min 40s for 100 records\n",
        "```\n",
        "\n",
        "Colab:\n",
        "```\n",
        "CPU times: user 1min 55s, sys: 1min 14s, total: 3min 10s\n",
        "Wall time: 3min 10s\n",
        "```"
      ]
    },
    {
      "cell_type": "code",
      "metadata": {
        "colab_type": "code",
        "id": "XK7k2jgSlhMY",
        "colab": {
          "base_uri": "https://localhost:8080/",
          "height": 52
        },
        "outputId": "80ea340b-ba31-472a-e29a-0cd8e520ccf4"
      },
      "source": [
        "%%time\n",
        "if COLAB:\n",
        "  generate_BERT_tokens(x_val, 'lyrics_bert_vectors_val.pkl.gz')\n",
        "\n",
        "\n"
      ],
      "execution_count": 86,
      "outputs": [
        {
          "output_type": "stream",
          "text": [
            "CPU times: user 48.9 s, sys: 30.1 s, total: 1min 18s\n",
            "Wall time: 1min 18s\n"
          ],
          "name": "stdout"
        }
      ]
    },
    {
      "cell_type": "markdown",
      "metadata": {
        "id": "pGcJq-Y5kKft",
        "colab_type": "text"
      },
      "source": [
        "Colab:\n",
        "```\n",
        "CPU times: user 52.5 s, sys: 34.1 s, total: 1min 26s\n",
        "Wall time: 1min 26s,\n",
        "```"
      ]
    },
    {
      "cell_type": "code",
      "metadata": {
        "colab_type": "code",
        "id": "g9iMMwCLlhMa",
        "colab": {
          "base_uri": "https://localhost:8080/",
          "height": 52
        },
        "outputId": "d285e4b0-6d95-452e-cecd-81c5f8377c46"
      },
      "source": [
        "%%time\n",
        "if COLAB:\n",
        "  generate_BERT_tokens(x_test, 'lyrics_bert_vectors_test.pkl.gz')"
      ],
      "execution_count": 87,
      "outputs": [
        {
          "output_type": "stream",
          "text": [
            "CPU times: user 1min 10s, sys: 44.3 s, total: 1min 54s\n",
            "Wall time: 1min 54s\n"
          ],
          "name": "stdout"
        }
      ]
    },
    {
      "cell_type": "markdown",
      "metadata": {
        "id": "ZlPs1rt_kKfu",
        "colab_type": "text"
      },
      "source": [
        "Colab\n",
        "```\n",
        "CPU times: user 1min 11s, sys: 46.8 s, total: 1min 58s\n",
        "Wall time: 1min 58s\n",
        "```"
      ]
    },
    {
      "cell_type": "code",
      "metadata": {
        "id": "7HUfGJ1PkKfv",
        "colab_type": "code",
        "colab": {}
      },
      "source": [
        "# load the BERT tokens\n",
        "lyrics_bert_vectors_train = pd.read_pickle(f'{path}lyrics_bert_vectors_train.pkl.gz')\n",
        "lyrics_bert_vectors_val = pd.read_pickle(f'{path}lyrics_bert_vectors_val.pkl.gz')\n",
        "lyrics_bert_vectors_test = pd.read_pickle(f'{path}lyrics_bert_vectors_test.pkl.gz')"
      ],
      "execution_count": 89,
      "outputs": []
    },
    {
      "cell_type": "code",
      "metadata": {
        "id": "5uZYDYa0kKfx",
        "colab_type": "code",
        "colab": {
          "base_uri": "https://localhost:8080/",
          "height": 106
        },
        "outputId": "9de11196-77fb-4be5-d515-7f867071828a"
      },
      "source": [
        "# BERT prediction\n",
        "train_SVC(lyrics_bert_vectors_train, y_train[\"Genre\"], lyrics_bert_vectors_val, y_val[\"Genre\"])"
      ],
      "execution_count": 90,
      "outputs": [
        {
          "output_type": "stream",
          "text": [
            "Accuracy: 0.7\n"
          ],
          "name": "stdout"
        },
        {
          "output_type": "stream",
          "text": [
            "/usr/local/lib/python3.6/dist-packages/sklearn/svm/_base.py:947: ConvergenceWarning: Liblinear failed to converge, increase the number of iterations.\n",
            "  \"the number of iterations.\", ConvergenceWarning)\n"
          ],
          "name": "stderr"
        },
        {
          "output_type": "execute_result",
          "data": {
            "text/plain": [
              "0.696453247351451"
            ]
          },
          "metadata": {
            "tags": []
          },
          "execution_count": 90
        }
      ]
    },
    {
      "cell_type": "code",
      "metadata": {
        "id": "kv1COy3rmIDF",
        "colab_type": "code",
        "colab": {}
      },
      "source": [
        ""
      ],
      "execution_count": null,
      "outputs": []
    }
  ]
}