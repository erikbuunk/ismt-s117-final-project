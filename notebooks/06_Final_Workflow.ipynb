{
 "cells": [
  {
   "cell_type": "markdown",
   "metadata": {},
   "source": [
    "# 06 Final workflow for deployment\n",
    "\n",
    "This notebook is the preparation for the deployment to determined which steps were neede to get a text, get the BERT tokens and predict the genre.\n",
    "\n",
    "\n",
    "## Data files needed:\n",
    "- final_lyrics_model.pkl.gz"
   ]
  },
  {
   "cell_type": "code",
   "execution_count": 22,
   "metadata": {},
   "outputs": [],
   "source": [
    "# setup\n",
    "import sys\n",
    "import subprocess\n",
    "import pkg_resources\n",
    "from collections import Counter\n",
    "import re\n",
    "from numpy import log, mean, matmul\n",
    "\n",
    "\n",
    "required = {'spacy', 'scikit-learn', 'numpy', \n",
    "            'pandas', 'torch', 'matplotlib',\n",
    "            'transformers', 'allennlp==0.9.0'}\n",
    "installed = {pkg.key for pkg in pkg_resources.working_set}\n",
    "missing = required - installed\n",
    "\n",
    "if missing:\n",
    "    python = sys.executable\n",
    "    subprocess.check_call([python, '-m', 'pip', 'install', *missing], stdout=subprocess.DEVNULL)\n",
    "import spacy\n",
    "import numpy as np\n",
    "import pandas as pd\n",
    "\n",
    "# SciKit Learn\n",
    "from sklearn.feature_extraction.text import CountVectorizer, TfidfVectorizer\n",
    "from sklearn.decomposition import NMF, LatentDirichletAllocation\n",
    "from sklearn.metrics.pairwise import cosine_similarity\n",
    "from sklearn.preprocessing import normalize\n",
    "from sklearn.metrics import accuracy_score\n",
    "from sklearn.svm import LinearSVC\n",
    "from sklearn.svm import SVC\n",
    "\n",
    "import torch\n",
    "# Spacy\n",
    "from spacy.lang.en import English\n",
    "en = English()\n",
    "\n",
    "from sklearn.model_selection import train_test_split\n",
    "\n",
    "# File managment\n",
    "import os\n",
    "from os import listdir\n",
    "from pathlib import Path\n",
    "import pickle\n",
    "import gzip\n",
    "\n",
    "import uuid"
   ]
  },
  {
   "cell_type": "code",
   "execution_count": 23,
   "metadata": {},
   "outputs": [],
   "source": [
    "import transformers\n",
    "# what we're used to: BERT\n",
    "from transformers import BertTokenizer, BertModel \n",
    "\n",
    "MODEL_NAME = 'bert-base-uncased'\n",
    "# Load pre-trained model\n",
    "model = BertModel.from_pretrained(MODEL_NAME)\n",
    "# Load pre-trained model tokenizer (vocabulary)\n",
    "tokenizer = BertTokenizer.from_pretrained(MODEL_NAME)\n"
   ]
  },
  {
   "cell_type": "code",
   "execution_count": 24,
   "metadata": {},
   "outputs": [],
   "source": [
    "COLAB = False\n",
    "\n",
    "if COLAB:\n",
    "  # Google Colab\n",
    "  path = \"./\"\n",
    "  device = torch.device(\"cuda:0\") # use GPU, change \n",
    "else:\n",
    "  # Laptop\n",
    "  path = \"./data/\"\n",
    "  device = torch.device(\"cpu\")"
   ]
  },
  {
   "cell_type": "code",
   "execution_count": 41,
   "metadata": {},
   "outputs": [],
   "source": [
    "filename = f\"{path}user_lyrics_data_tmp.csv\""
   ]
  },
  {
   "cell_type": "code",
   "execution_count": 42,
   "metadata": {},
   "outputs": [],
   "source": [
    "prediction_model = pd.read_pickle(f'{path}final_lyrics_model.pkl.gz')"
   ]
  },
  {
   "cell_type": "code",
   "execution_count": 43,
   "metadata": {},
   "outputs": [],
   "source": [
    "def clean_single_lyric(text):\n",
    "  x = text.strip()\n",
    "  y = re.sub('\\[.*?\\]', '', x)\n",
    "  z = re.sub('\\(.*?\\)', '', y)\n",
    "  z1 = pd.DataFrame([z], columns=[\"Lyric\"])\n",
    "  return z1"
   ]
  },
  {
   "cell_type": "code",
   "execution_count": 44,
   "metadata": {},
   "outputs": [],
   "source": [
    "def generate_single_BERT_token(text):\n",
    "  tokens = tokenizer.batch_encode_plus(\n",
    "          text,\n",
    "          pad_to_max_length=True, \n",
    "          return_tensors=\"pt\",\n",
    "          max_length=512,\n",
    "          truncation=True)\n",
    "  tokens.to(device)\n",
    "  outputs = model(**tokens)\n",
    "  o = outputs[0][:,0].cpu().detach().numpy()\n",
    "  return o"
   ]
  },
  {
   "cell_type": "code",
   "execution_count": 45,
   "metadata": {},
   "outputs": [],
   "source": [
    "def prediction(token):\n",
    "  return prediction_model.predict(token)"
   ]
  },
  {
   "cell_type": "code",
   "execution_count": 46,
   "metadata": {},
   "outputs": [],
   "source": [
    "def generate_id():\n",
    "  uuidOne = uuid.uuid1()\n",
    "  return uuidOne.hex"
   ]
  },
  {
   "cell_type": "code",
   "execution_count": 47,
   "metadata": {},
   "outputs": [],
   "source": [
    "def write_prediction(cleaned_lyrics, token, prediction, id):\n",
    "  df = pd.DataFrame.from_dict({\"id\": [id], \"Prediction\": predicted_genre, \"Truth\": '', \"Lyric\": cleaned_lyrics})\n",
    "  df_token = pd.DataFrame(token)\n",
    "  df_record = pd.concat([df, df_token], axis=1)\n",
    "  \n",
    "  try:\n",
    "    with open(filename) as f:\n",
    "      df_in = pd.read_csv(filename)\n",
    "      if len(df_in[df_in[\"id\"] == id]) == 0:\n",
    "        df_in = df_in.append(df_record)\n",
    "        df_in.to_csv(filename,index=False)\n",
    "  except IOError:\n",
    "    df_record.to_csv(filename,index=False)\n",
    "  \n",
    "  return"
   ]
  },
  {
   "cell_type": "code",
   "execution_count": 48,
   "metadata": {},
   "outputs": [],
   "source": [
    "def update_prediction(id, new_value):\n",
    "  df_in = pd.read_csv(filename)\n",
    "  if len(df_in[df_in[\"id\"] == id]) == 1:\n",
    "    df_in.loc[df_in[\"id\"] == id, [\"Truth\"]] = new_value\n",
    "    df_in.to_csv(filename, index=False)"
   ]
  },
  {
   "cell_type": "markdown",
   "metadata": {},
   "source": [
    "# User enters Lyric"
   ]
  },
  {
   "cell_type": "code",
   "execution_count": 49,
   "metadata": {},
   "outputs": [],
   "source": [
    "lyric = \"I can't remember anything Can't tell if this is true or a dream Deep down inside I feel to scream This terrible silence stops me Now that the war is through with me I'm waking up, I cannot see That there's not much left of me Nothing is real but pain now  [Chorus] Hold my breath as I wish for death Oh please God, wake me  [Verse 2] Back in the womb it's much too real In pumps life that I must feel But can't look forward to reveal Look to the time when I'll live Fed through the tube that sticks in me Just like a wartime novelty Tied to machines that make me be Cut this life off from me  [Chorus] Hold my breath as I wish for death Oh please God, wake me  [Short Instrumental Break]  [Chorus] Now the world is gone, I'm just one Oh, God help me Hold my breath as I wish for death Oh please God, help me  [Instrumental Break]  [Bridge] Darkness imprisoning me All that I see, absolute horror I cannot live, I cannot die Trapped in myself, body my holding cell Landmine has taken my sight Taken my speech, taken my hearing Taken my arms, taken my legs Taken my soul, left me with life in Hell\""
   ]
  },
  {
   "cell_type": "code",
   "execution_count": 50,
   "metadata": {},
   "outputs": [
    {
     "name": "stdout",
     "output_type": "stream",
     "text": [
      "[\"I can't remember anything Can't tell if this is true or a dream Deep down inside I feel to scream This terrible silence stops me Now that the war is through with me I'm waking up, I cannot see That there's not much left of me Nothing is real but pain now   Hold my breath as I wish for death Oh please God, wake me   Back in the womb it's much too real In pumps life that I must feel But can't look forward to reveal Look to the time when I'll live Fed through the tube that sticks in me Just like a wartime novelty Tied to machines that make me be Cut this life off from me   Hold my breath as I wish for death Oh please God, wake me     Now the world is gone, I'm just one Oh, God help me Hold my breath as I wish for death Oh please God, help me     Darkness imprisoning me All that I see, absolute horror I cannot live, I cannot die Trapped in myself, body my holding cell Landmine has taken my sight Taken my speech, taken my hearing Taken my arms, taken my legs Taken my soul, left me with life in Hell\"]\n"
     ]
    }
   ],
   "source": [
    "# Clean lyric\n",
    "text = clean_single_lyric(lyric)\n",
    "print(list(text[\"Lyric\"]))"
   ]
  },
  {
   "cell_type": "code",
   "execution_count": 51,
   "metadata": {},
   "outputs": [],
   "source": [
    "# Generate token\n",
    "token =  generate_single_BERT_token(text)"
   ]
  },
  {
   "cell_type": "code",
   "execution_count": 52,
   "metadata": {},
   "outputs": [],
   "source": [
    "# get prediction\n",
    "predicted_genre = prediction(token)"
   ]
  },
  {
   "cell_type": "code",
   "execution_count": 53,
   "metadata": {},
   "outputs": [],
   "source": [
    "# generate unique id to identify the record\n",
    "id= generate_id()"
   ]
  },
  {
   "cell_type": "code",
   "execution_count": 54,
   "metadata": {},
   "outputs": [],
   "source": [
    "# Write prediction to file\n",
    "raw_text=list(text[\"Lyric\"])"
   ]
  },
  {
   "cell_type": "code",
   "execution_count": 55,
   "metadata": {},
   "outputs": [],
   "source": [
    "# write prediction to file\n",
    "write_prediction(raw_text, token, predicted_genre, id)"
   ]
  },
  {
   "cell_type": "code",
   "execution_count": 56,
   "metadata": {},
   "outputs": [],
   "source": [
    "### users sends genre back - update the prediction\n",
    "update_prediction(id, 'Metal')"
   ]
  },
  {
   "cell_type": "code",
   "execution_count": null,
   "metadata": {},
   "outputs": [],
   "source": []
  }
 ],
 "metadata": {
  "kernelspec": {
   "display_name": "Python 3",
   "language": "python",
   "name": "python3"
  },
  "language_info": {
   "codemirror_mode": {
    "name": "ipython",
    "version": 3
   },
   "file_extension": ".py",
   "mimetype": "text/x-python",
   "name": "python",
   "nbconvert_exporter": "python",
   "pygments_lexer": "ipython3",
   "version": "3.7.7"
  }
 },
 "nbformat": 4,
 "nbformat_minor": 4
}
