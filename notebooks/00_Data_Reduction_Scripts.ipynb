{
 "cells": [
  {
   "cell_type": "markdown",
   "metadata": {},
   "source": [
    "# 00 - Data generation and reduction\n",
    "\n",
    "## Data files needed to run this notebook:\n",
    "\n",
    "- Directory with metal songs downloaded from  and place in: ./data/metal_lyric/...\n",
    "- ./data/lyrics-data.csv\n",
    "\n",
    "## Settings:\n",
    "none"
   ]
  },
  {
   "cell_type": "code",
   "execution_count": 11,
   "metadata": {},
   "outputs": [],
   "source": [
    "# Import general purpose packages\n",
    "import numpy as np \n",
    "import pandas as pd \n",
    "import sys\n",
    "import json\n",
    "import os\n",
    "import re\n",
    "import random"
   ]
  },
  {
   "cell_type": "markdown",
   "metadata": {},
   "source": [
    "## Walk the directory tree and get the information"
   ]
  },
  {
   "cell_type": "code",
   "execution_count": 2,
   "metadata": {},
   "outputs": [],
   "source": [
    "def get_all_metal_songs ():\n",
    "  result = []\n",
    "  for dirname, _, filenames in os.walk('./data/metal_lyrics'):\n",
    "    for filename in filenames:\n",
    "      result.append(os.path.join(dirname, filename))\n",
    "  return result"
   ]
  },
  {
   "cell_type": "code",
   "execution_count": null,
   "metadata": {},
   "outputs": [],
   "source": [
    "# Get the songs\n",
    "metal_files = get_all_metal_songs()"
   ]
  },
  {
   "cell_type": "code",
   "execution_count": 8,
   "metadata": {},
   "outputs": [
    {
     "name": "stdout",
     "output_type": "stream",
     "text": [
      "0 .\n",
      "1 data\n",
      "2 metal_lyrics\n",
      "3 v\n",
      "4 virvum\n",
      "5 Illuminance (2016)\n",
      "6 3. Illuminance.txt\n"
     ]
    }
   ],
   "source": [
    "# for (i,x) in enumerate(metal_files[0].split('/')):\n",
    "#   print(i,x)\n",
    "  \n",
    "split =   metal_files[10030].split('/')\n",
    "song_idx = len(split)-1\n",
    "artist_idx = len(split)-3\n",
    "\n",
    "# TODO: empty lyrics remove\n",
    "# TODO: strip white spaces\n"
   ]
  },
  {
   "cell_type": "markdown",
   "metadata": {},
   "source": [
    "## Create subset"
   ]
  },
  {
   "cell_type": "code",
   "execution_count": null,
   "metadata": {},
   "outputs": [],
   "source": [
    "# Generate Dataframe with"
   ]
  },
  {
   "cell_type": "code",
   "execution_count": 83,
   "metadata": {},
   "outputs": [],
   "source": [
    "# select a subsample\n",
    "\n",
    "k = 30000\n",
    "\n",
    "random.seed(42)\n",
    "metal_files_short = random.choices(metal_files, k=k)"
   ]
  },
  {
   "cell_type": "code",
   "execution_count": 84,
   "metadata": {},
   "outputs": [],
   "source": [
    "def show_status(i, total, percentage=10):\n",
    "  if (i%(total/(100/percentage))==0):\n",
    "    print(f\"{round(i/total*100)}%\")"
   ]
  },
  {
   "cell_type": "code",
   "execution_count": 90,
   "metadata": {},
   "outputs": [
    {
     "name": "stdout",
     "output_type": "stream",
     "text": [
      "0 1000\n",
      "1000 2000\n",
      "2000 3000\n",
      "3000 4000\n",
      "4000 5000\n",
      "5000 6000\n",
      "6000 7000\n",
      "7000 8000\n",
      "8000 9000\n",
      "9000 10000\n",
      "10000 11000\n",
      "11000 12000\n",
      "12000 13000\n",
      "13000 14000\n",
      "14000 15000\n",
      "15000 16000\n",
      "16000 17000\n",
      "17000 18000\n",
      "18000 19000\n",
      "19000 20000\n",
      "20000 21000\n",
      "21000 22000\n",
      "22000 23000\n",
      "23000 24000\n",
      "24000 25000\n",
      "25000 26000\n",
      "26000 27000\n",
      "27000 28000\n",
      "28000 29000\n",
      "29000 30000\n"
     ]
    }
   ],
   "source": [
    "# this process is getting really slow after 35000 records\n",
    "\n",
    "artist = []\n",
    "song = []\n",
    "lyric = []\n",
    "\n",
    "batch_size = 1000\n",
    "for j in range(round(k/batch_size)):\n",
    "  artist_tmp = []\n",
    "  song_tmp = []\n",
    "  lyric_tmp = []\n",
    "  print(j*batch_size, (j+1)*batch_size)\n",
    "  for (i,path) in enumerate(metal_files_short[j*batch_size: (j+1)*batch_size]):\n",
    "    \n",
    "    # format of file name: <prefix directories>/<letter>/<artist>/<album>/<track #>.<track name>.txt \n",
    "#     show_status(i, k, 5)\n",
    "    p = path.split('/')\n",
    "\n",
    "    song_idx = len(p)-1\n",
    "    artist_idx = len(p)-3\n",
    "\n",
    "    s = p[song_idx].split('.')\n",
    "    artist_tmp.append(p[artist_idx].title())\n",
    "    song_tmp.append(s[1].strip().title())\n",
    "\n",
    "    # read file content for lyric\n",
    "    f = open (path, 'r')\n",
    "    lyric_tmp.append(f.read())\n",
    "    f.close()\n",
    "  pd.DataFrame({'Genre': 'Metal', 'Artist' : artist_tmp, 'Song' : song_tmp,'Lyric' : lyric_tmp}).to_csv(f\"./tmp/metal_batch_{j}.csv\")\n",
    "    \n",
    "#   artist.append(artist_tmp)\n",
    "#   song.append(song_tmp)\n",
    "#   lyric.append(lyric_tmp)\n",
    "    \n",
    "# create a dataframe for the data\n",
    "# metal_songs = pd.DataFrame({'Genre': 'Metal', 'Artist' : artist, 'Song' : song,'Lyric' : lyric})\n",
    "# metal_songs.head()"
   ]
  },
  {
   "cell_type": "code",
   "execution_count": 96,
   "metadata": {},
   "outputs": [],
   "source": [
    "metal_songs = pd.DataFrame(columns=[\"Genre\", \"Artist\", \"Song\", \"Lyric\"])\n",
    "\n",
    "for j in range(round(k/batch_size)):\n",
    "  metal_songs = df_tmp.append(pd.read_csv(f\"./tmp/metal_batch_{j}.csv\"))\n",
    "  \n",
    "  \n",
    "metal_songs = metal_songs.reset_index()"
   ]
  },
  {
   "cell_type": "code",
   "execution_count": 100,
   "metadata": {},
   "outputs": [
    {
     "data": {
      "text/html": [
       "<div>\n",
       "<style scoped>\n",
       "    .dataframe tbody tr th:only-of-type {\n",
       "        vertical-align: middle;\n",
       "    }\n",
       "\n",
       "    .dataframe tbody tr th {\n",
       "        vertical-align: top;\n",
       "    }\n",
       "\n",
       "    .dataframe thead th {\n",
       "        text-align: right;\n",
       "    }\n",
       "</style>\n",
       "<table border=\"1\" class=\"dataframe\">\n",
       "  <thead>\n",
       "    <tr style=\"text-align: right;\">\n",
       "      <th></th>\n",
       "      <th>Genre</th>\n",
       "      <th>Artist</th>\n",
       "      <th>Song</th>\n",
       "      <th>Lyric</th>\n",
       "    </tr>\n",
       "  </thead>\n",
       "  <tbody>\n",
       "    <tr>\n",
       "      <th>0</th>\n",
       "      <td>Metal</td>\n",
       "      <td>EVERON</td>\n",
       "      <td>Information Overdose</td>\n",
       "      <td>There you sit with glassy eyes\\nStaring at tha...</td>\n",
       "    </tr>\n",
       "    <tr>\n",
       "      <th>1</th>\n",
       "      <td>Metal</td>\n",
       "      <td>NAZGHOR</td>\n",
       "      <td>Absence Of Light</td>\n",
       "      <td>Absence of light apostates march a left path\\n...</td>\n",
       "    </tr>\n",
       "    <tr>\n",
       "      <th>2</th>\n",
       "      <td>Metal</td>\n",
       "      <td>HORSE THE BAND</td>\n",
       "      <td>A Rusty Glove</td>\n",
       "      <td>TINKER tinker PLING - DING, DING - DING\\nMy bo...</td>\n",
       "    </tr>\n",
       "    <tr>\n",
       "      <th>3</th>\n",
       "      <td>Metal</td>\n",
       "      <td>SORCIER DES GLACES</td>\n",
       "      <td>L ombre squelettique du Temps</td>\n",
       "      <td>[performed by Sorcier des Glaces]Sacrifice de ...</td>\n",
       "    </tr>\n",
       "    <tr>\n",
       "      <th>4</th>\n",
       "      <td>Metal</td>\n",
       "      <td>BLOOD RED THRONE</td>\n",
       "      <td>No New Beginning</td>\n",
       "      <td>This triangle, for what use ? Colours no longe...</td>\n",
       "    </tr>\n",
       "    <tr>\n",
       "      <th>...</th>\n",
       "      <td>...</td>\n",
       "      <td>...</td>\n",
       "      <td>...</td>\n",
       "      <td>...</td>\n",
       "    </tr>\n",
       "    <tr>\n",
       "      <th>30995</th>\n",
       "      <td>Metal</td>\n",
       "      <td>Nodes Of Ranvier</td>\n",
       "      <td>Glass Half Nothing</td>\n",
       "      <td>Can you still be moved by song or are you too ...</td>\n",
       "    </tr>\n",
       "    <tr>\n",
       "      <th>30996</th>\n",
       "      <td>Metal</td>\n",
       "      <td>Barricada</td>\n",
       "      <td>Txt</td>\n",
       "      <td>[1995 \"Los Singles\" Track]Me levanto la sotana...</td>\n",
       "    </tr>\n",
       "    <tr>\n",
       "      <th>30997</th>\n",
       "      <td>Metal</td>\n",
       "      <td>Frontside</td>\n",
       "      <td>Cry Of The Debased</td>\n",
       "      <td>Cry of the debased, frantically looking down\\n...</td>\n",
       "    </tr>\n",
       "    <tr>\n",
       "      <th>30998</th>\n",
       "      <td>Metal</td>\n",
       "      <td>Caligula S Horse</td>\n",
       "      <td>Thief</td>\n",
       "      <td>We stood at the edge\\nAnd watched the world cr...</td>\n",
       "    </tr>\n",
       "    <tr>\n",
       "      <th>30999</th>\n",
       "      <td>Metal</td>\n",
       "      <td>Common Dead</td>\n",
       "      <td>Abrupt Legacy</td>\n",
       "      <td>Beauty and fear as the sky opens up\\nPanic sub...</td>\n",
       "    </tr>\n",
       "  </tbody>\n",
       "</table>\n",
       "<p>31000 rows × 4 columns</p>\n",
       "</div>"
      ],
      "text/plain": [
       "       Genre              Artist                           Song  \\\n",
       "0      Metal              EVERON           Information Overdose   \n",
       "1      Metal             NAZGHOR               Absence Of Light   \n",
       "2      Metal      HORSE THE BAND                  A Rusty Glove   \n",
       "3      Metal  SORCIER DES GLACES  L ombre squelettique du Temps   \n",
       "4      Metal    BLOOD RED THRONE               No New Beginning   \n",
       "...      ...                 ...                            ...   \n",
       "30995  Metal    Nodes Of Ranvier             Glass Half Nothing   \n",
       "30996  Metal           Barricada                            Txt   \n",
       "30997  Metal           Frontside             Cry Of The Debased   \n",
       "30998  Metal    Caligula S Horse                          Thief   \n",
       "30999  Metal         Common Dead                  Abrupt Legacy   \n",
       "\n",
       "                                                   Lyric  \n",
       "0      There you sit with glassy eyes\\nStaring at tha...  \n",
       "1      Absence of light apostates march a left path\\n...  \n",
       "2      TINKER tinker PLING - DING, DING - DING\\nMy bo...  \n",
       "3      [performed by Sorcier des Glaces]Sacrifice de ...  \n",
       "4      This triangle, for what use ? Colours no longe...  \n",
       "...                                                  ...  \n",
       "30995  Can you still be moved by song or are you too ...  \n",
       "30996  [1995 \"Los Singles\" Track]Me levanto la sotana...  \n",
       "30997  Cry of the debased, frantically looking down\\n...  \n",
       "30998  We stood at the edge\\nAnd watched the world cr...  \n",
       "30999  Beauty and fear as the sky opens up\\nPanic sub...  \n",
       "\n",
       "[31000 rows x 4 columns]"
      ]
     },
     "execution_count": 100,
     "metadata": {},
     "output_type": "execute_result"
    }
   ],
   "source": [
    "metal_songs = metal_songs.drop([\"index\", \"Unnamed: 0\"], axis=1) \n",
    "metal_songs"
   ]
  },
  {
   "cell_type": "markdown",
   "metadata": {},
   "source": [
    "## Write Subset"
   ]
  },
  {
   "cell_type": "code",
   "execution_count": 7,
   "metadata": {},
   "outputs": [],
   "source": [
    "filename=\"metal_songs_TEMP\"\n",
    "path = \"./data/\""
   ]
  },
  {
   "cell_type": "code",
   "execution_count": 105,
   "metadata": {},
   "outputs": [],
   "source": [
    "metal_songs.to_csv(f\"{path}{filename}.csv\")"
   ]
  },
  {
   "cell_type": "code",
   "execution_count": 107,
   "metadata": {},
   "outputs": [],
   "source": [
    "import pickle\n",
    "with open(f\"{path}{filename}.pkl\", \"wb\") as fp: \n",
    "  pickle.dump(metal_songs, fp)"
   ]
  },
  {
   "cell_type": "markdown",
   "metadata": {},
   "source": [
    "# create subset for Github "
   ]
  },
  {
   "cell_type": "code",
   "execution_count": 8,
   "metadata": {},
   "outputs": [],
   "source": [
    "df_lyrics = pd.read_csv(f\"{path}lyrics-data.csv\")"
   ]
  },
  {
   "cell_type": "code",
   "execution_count": 9,
   "metadata": {},
   "outputs": [
    {
     "data": {
      "text/plain": [
       "(209522, 5)"
      ]
     },
     "execution_count": 9,
     "metadata": {},
     "output_type": "execute_result"
    }
   ],
   "source": [
    "df_lyrics.shape"
   ]
  },
  {
   "cell_type": "code",
   "execution_count": 17,
   "metadata": {},
   "outputs": [
    {
     "data": {
      "text/html": [
       "<div>\n",
       "<style scoped>\n",
       "    .dataframe tbody tr th:only-of-type {\n",
       "        vertical-align: middle;\n",
       "    }\n",
       "\n",
       "    .dataframe tbody tr th {\n",
       "        vertical-align: top;\n",
       "    }\n",
       "\n",
       "    .dataframe thead th {\n",
       "        text-align: right;\n",
       "    }\n",
       "</style>\n",
       "<table border=\"1\" class=\"dataframe\">\n",
       "  <thead>\n",
       "    <tr style=\"text-align: right;\">\n",
       "      <th></th>\n",
       "      <th>ALink</th>\n",
       "      <th>SName</th>\n",
       "      <th>SLink</th>\n",
       "      <th>Lyric</th>\n",
       "      <th>Idiom</th>\n",
       "    </tr>\n",
       "  </thead>\n",
       "  <tbody>\n",
       "    <tr>\n",
       "      <th>74494</th>\n",
       "      <td>/ace-hood/</td>\n",
       "      <td>We On</td>\n",
       "      <td>/ace-hood/we-on.html</td>\n",
       "      <td>Okay. Uh, okay I walked in the party and it's ...</td>\n",
       "      <td>ENGLISH</td>\n",
       "    </tr>\n",
       "    <tr>\n",
       "      <th>178327</th>\n",
       "      <td>/paiozinho-e-ze-tapera/</td>\n",
       "      <td>Torrão Brasileiro</td>\n",
       "      <td>/paiozinho-e-ze-tapera/torrao-brasileiro.html</td>\n",
       "      <td>Eu só canto moda que eu mesmo faço. Na minha v...</td>\n",
       "      <td>PORTUGUESE</td>\n",
       "    </tr>\n",
       "    <tr>\n",
       "      <th>82692</th>\n",
       "      <td>/foxy-brown/</td>\n",
       "      <td>The Chase</td>\n",
       "      <td>/foxy-brown/the-chase.html</td>\n",
       "      <td>Uhhhh yeahhhh uh, The Firm. Lust... hate... en...</td>\n",
       "      <td>ENGLISH</td>\n",
       "    </tr>\n",
       "    <tr>\n",
       "      <th>137251</th>\n",
       "      <td>/nick-jonas/</td>\n",
       "      <td>Avalanche (Feat. Demi Lovato)</td>\n",
       "      <td>/nick-jonas/avalanche-feat-demi-lovato.html</td>\n",
       "      <td>Words like a loaded gun. Shot out from a fire ...</td>\n",
       "      <td>ENGLISH</td>\n",
       "    </tr>\n",
       "    <tr>\n",
       "      <th>90361</th>\n",
       "      <td>/nelly-furtado/</td>\n",
       "      <td>No Hay Igual (ft. Calle 13)</td>\n",
       "      <td>/nelly-furtado/no-hay-igual-ft-calle-13.html</td>\n",
       "      <td>Hey, Calle 13. No hay nada igual. Nada se pare...</td>\n",
       "      <td>SPANISH</td>\n",
       "    </tr>\n",
       "    <tr>\n",
       "      <th>...</th>\n",
       "      <td>...</td>\n",
       "      <td>...</td>\n",
       "      <td>...</td>\n",
       "      <td>...</td>\n",
       "      <td>...</td>\n",
       "    </tr>\n",
       "    <tr>\n",
       "      <th>193077</th>\n",
       "      <td>/mc-wc/</td>\n",
       "      <td>Vai Rebolando</td>\n",
       "      <td>/mc-wc/vai-rebolando.html</td>\n",
       "      <td>Novidade do w c. Uma dispuntinha pra elas. Vai...</td>\n",
       "      <td>PORTUGUESE</td>\n",
       "    </tr>\n",
       "    <tr>\n",
       "      <th>43653</th>\n",
       "      <td>/ozzy-osbourne/</td>\n",
       "      <td>Hero</td>\n",
       "      <td>/ozzy-osbourne/hero-hidden-untitled-track.html</td>\n",
       "      <td>I don't want to be a hero,. I don't want to ev...</td>\n",
       "      <td>ENGLISH</td>\n",
       "    </tr>\n",
       "    <tr>\n",
       "      <th>96009</th>\n",
       "      <td>/tioted/</td>\n",
       "      <td>Juntos Conseguimos</td>\n",
       "      <td>/tioted/juntos-conseguimos.html</td>\n",
       "      <td>Ow, tiOteD, zero três um. Não desacredita não ...</td>\n",
       "      <td>PORTUGUESE</td>\n",
       "    </tr>\n",
       "    <tr>\n",
       "      <th>178749</th>\n",
       "      <td>/paula-fernandes/</td>\n",
       "      <td>Rio de Deus</td>\n",
       "      <td>/paula-fernandes/rio-de-deus.html</td>\n",
       "      <td>Há um rio que corre no trono de Deus,. A morad...</td>\n",
       "      <td>PORTUGUESE</td>\n",
       "    </tr>\n",
       "    <tr>\n",
       "      <th>66248</th>\n",
       "      <td>/the-strokes/</td>\n",
       "      <td>Ize Of The World</td>\n",
       "      <td>/the-strokes/ize-of-the-world.html</td>\n",
       "      <td>I think I know what you mean,. But watch what ...</td>\n",
       "      <td>ENGLISH</td>\n",
       "    </tr>\n",
       "  </tbody>\n",
       "</table>\n",
       "<p>75000 rows × 5 columns</p>\n",
       "</div>"
      ],
      "text/plain": [
       "                          ALink                          SName  \\\n",
       "74494                /ace-hood/                          We On   \n",
       "178327  /paiozinho-e-ze-tapera/              Torrão Brasileiro   \n",
       "82692              /foxy-brown/                      The Chase   \n",
       "137251             /nick-jonas/  Avalanche (Feat. Demi Lovato)   \n",
       "90361           /nelly-furtado/    No Hay Igual (ft. Calle 13)   \n",
       "...                         ...                            ...   \n",
       "193077                  /mc-wc/                  Vai Rebolando   \n",
       "43653           /ozzy-osbourne/                           Hero   \n",
       "96009                  /tioted/             Juntos Conseguimos   \n",
       "178749        /paula-fernandes/                    Rio de Deus   \n",
       "66248             /the-strokes/               Ize Of The World   \n",
       "\n",
       "                                                 SLink  \\\n",
       "74494                             /ace-hood/we-on.html   \n",
       "178327   /paiozinho-e-ze-tapera/torrao-brasileiro.html   \n",
       "82692                       /foxy-brown/the-chase.html   \n",
       "137251     /nick-jonas/avalanche-feat-demi-lovato.html   \n",
       "90361     /nelly-furtado/no-hay-igual-ft-calle-13.html   \n",
       "...                                                ...   \n",
       "193077                       /mc-wc/vai-rebolando.html   \n",
       "43653   /ozzy-osbourne/hero-hidden-untitled-track.html   \n",
       "96009                  /tioted/juntos-conseguimos.html   \n",
       "178749               /paula-fernandes/rio-de-deus.html   \n",
       "66248               /the-strokes/ize-of-the-world.html   \n",
       "\n",
       "                                                    Lyric       Idiom  \n",
       "74494   Okay. Uh, okay I walked in the party and it's ...     ENGLISH  \n",
       "178327  Eu só canto moda que eu mesmo faço. Na minha v...  PORTUGUESE  \n",
       "82692   Uhhhh yeahhhh uh, The Firm. Lust... hate... en...     ENGLISH  \n",
       "137251  Words like a loaded gun. Shot out from a fire ...     ENGLISH  \n",
       "90361   Hey, Calle 13. No hay nada igual. Nada se pare...     SPANISH  \n",
       "...                                                   ...         ...  \n",
       "193077  Novidade do w c. Uma dispuntinha pra elas. Vai...  PORTUGUESE  \n",
       "43653   I don't want to be a hero,. I don't want to ev...     ENGLISH  \n",
       "96009   Ow, tiOteD, zero três um. Não desacredita não ...  PORTUGUESE  \n",
       "178749  Há um rio que corre no trono de Deus,. A morad...  PORTUGUESE  \n",
       "66248   I think I know what you mean,. But watch what ...     ENGLISH  \n",
       "\n",
       "[75000 rows x 5 columns]"
      ]
     },
     "execution_count": 17,
     "metadata": {},
     "output_type": "execute_result"
    }
   ],
   "source": [
    "k = 75000\n",
    "\n",
    "random.seed(42)\n",
    "df_lyrics_small = df_lyrics.sample(n=k, replace = False, random_state=42, axis=0)\n",
    "df_lyrics_small"
   ]
  },
  {
   "cell_type": "code",
   "execution_count": 18,
   "metadata": {},
   "outputs": [],
   "source": [
    "df_lyrics_small.to_csv(f\"{path}lyrics-data-small.csv\")"
   ]
  },
  {
   "cell_type": "code",
   "execution_count": null,
   "metadata": {},
   "outputs": [],
   "source": []
  }
 ],
 "metadata": {
  "kernelspec": {
   "display_name": "Python 3",
   "language": "python",
   "name": "python3"
  },
  "language_info": {
   "codemirror_mode": {
    "name": "ipython",
    "version": 3
   },
   "file_extension": ".py",
   "mimetype": "text/x-python",
   "name": "python",
   "nbconvert_exporter": "python",
   "pygments_lexer": "ipython3",
   "version": "3.7.4"
  }
 },
 "nbformat": 4,
 "nbformat_minor": 4
}
