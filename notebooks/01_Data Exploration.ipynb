{
 "cells": [
  {
   "cell_type": "markdown",
   "metadata": {
    "colab_type": "text",
    "id": "98Ccw6T0lhIf"
   },
   "source": [
    "# 01 Data Exploration\n",
    "\n",
    "- Author: Erik Buunk\n",
    "- Date: 2020-07-26\n",
    "- Version: 0.5\n",
    "\n",
    "Changes:\n",
    "- 0.4: excl. Pop\n",
    "- 0.4a: Colab version\n",
    "- 0.5: include metal\n",
    "\n",
    "The purpose of this note book to get acquinted with the data to know which operations were needed for the final dataset. \n",
    "Also a basline performance was done, from which further development of the model was determined.\n",
    "\n",
    "\n",
    "## Data files:\n",
    "- metal_songs.csv\n",
    "- artist-data.csv\n",
    "- lyrics-data.csv\n",
    "\n",
    "## Settings:\n",
    "- set `COLAB = True` if you run this on Colab. Data can be placed in the root directory"
   ]
  },
  {
   "cell_type": "markdown",
   "metadata": {
    "colab_type": "text",
    "id": "lIwHbY_TlhIi"
   },
   "source": [
    "TODO: version requirements"
   ]
  },
  {
   "cell_type": "code",
   "execution_count": 1,
   "metadata": {
    "colab": {},
    "colab_type": "code",
    "id": "1OIXZEqNlhIj"
   },
   "outputs": [],
   "source": [
    "# setup\n",
    "import sys\n",
    "import subprocess\n",
    "import pkg_resources\n",
    "from collections import Counter\n",
    "import re\n",
    "from numpy import log, mean, matmul\n",
    "\n",
    "\n",
    "required = {'spacy', 'scikit-learn', 'numpy', \n",
    "            'pandas', 'torch', 'matplotlib',\n",
    "            'transformers', 'allennlp==0.9.0'}\n",
    "installed = {pkg.key for pkg in pkg_resources.working_set}\n",
    "missing = required - installed\n",
    "\n",
    "if missing:\n",
    "    python = sys.executable\n",
    "    subprocess.check_call([python, '-m', 'pip', 'install', *missing], stdout=subprocess.DEVNULL)\n",
    "import spacy\n",
    "import numpy as np\n",
    "import pandas as pd\n",
    "\n",
    "# SciKit Learn\n",
    "from sklearn.feature_extraction.text import CountVectorizer, TfidfVectorizer\n",
    "from sklearn.decomposition import NMF, LatentDirichletAllocation\n",
    "from sklearn.metrics.pairwise import cosine_similarity\n",
    "from sklearn.preprocessing import normalize\n",
    "from sklearn.metrics import accuracy_score\n",
    "from sklearn.svm import LinearSVC\n",
    "from sklearn.svm import SVC\n",
    "\n",
    "\n",
    "# Spacy\n",
    "from spacy.lang.en import English\n",
    "en = English()\n",
    "\n",
    "# !python -m spacy download en_core_web_md # includes GloVe Vectors\n",
    "# !python -m spacy download en_core_web_sm\n",
    "# !python -m spacy download en\n",
    "\n",
    "# import en_core_web_sm\n",
    "# import en_core_web_md\n",
    "\n",
    "\n",
    "# PyTorch\n",
    "import torch\n",
    "# import torch.nn as nn\n",
    "from torch.utils.data import TensorDataset, DataLoader\n",
    "\n",
    "\n",
    "\n",
    "# File managment\n",
    "import os\n",
    "from os import listdir\n",
    "from pathlib import Path\n",
    "import pickle\n",
    "import gzip\n"
   ]
  },
  {
   "cell_type": "code",
   "execution_count": 2,
   "metadata": {
    "colab": {},
    "colab_type": "code",
    "id": "pGoQE0vMlhIt"
   },
   "outputs": [],
   "source": [
    "LOAD_DATA = False # read save data or regenerate data\n",
    "SAVE_DATA = False # overwrite generated data? \n",
    "\n",
    "COLAB = False"
   ]
  },
  {
   "cell_type": "code",
   "execution_count": 5,
   "metadata": {
    "colab": {},
    "colab_type": "code",
    "id": "-t5BHFbWlhI2"
   },
   "outputs": [],
   "source": [
    "if COLAB:\n",
    "  # Google Colab\n",
    "  path = \"./\"\n",
    "  device = torch.device(\"cuda:0\") # use GPU, change \n",
    "else:\n",
    "  # Laptop\n",
    "  path = \"./data/\"\n",
    "  device = torch.device(\"cpu\")\n",
    "#   !pip install ipywidgets\n",
    "#   !jupyter nbextension enable --py widgetsnbextension\n"
   ]
  },
  {
   "cell_type": "markdown",
   "metadata": {},
   "source": [
    "# Functions"
   ]
  },
  {
   "cell_type": "code",
   "execution_count": 6,
   "metadata": {
    "_cell_guid": "b1076dfc-b9ad-4769-8c92-a6c4dae69d19",
    "_uuid": "8f2839f25d086af736a60e9eeb907d3b93b6e0e5",
    "colab": {},
    "colab_type": "code",
    "id": "2XHm-b98lhI9"
   },
   "outputs": [],
   "source": [
    "def show_data():\n",
    "  for dirname, _, filenames in os.walk(path):\n",
    "      for filename in filenames:\n",
    "          print(os.path.join(dirname, filename))\n",
    "\n",
    "# show_data()"
   ]
  },
  {
   "cell_type": "code",
   "execution_count": 7,
   "metadata": {},
   "outputs": [],
   "source": [
    "def save_pickle(filename, data):\n",
    "    with open(f\"{path}{filename}\", \"wb\") as fp: \n",
    "      pickle.dump(data, fp)\n",
    "\n",
    "def load_pickle(filename):\n",
    "    with open(f\"{path}{filename}\", 'rb') as f:\n",
    "      return pickle.load(f)\n",
    "    \n",
    "def save_file(filename, train_tokens, test_tokens, val_tokens):\n",
    "  data = {\"train_tokens\": train_tokens, \"test_tokens\" : test_tokens, \"val_tokens\": val_tokens}\n",
    "\n",
    "  with open(f\"{path}{filename}\", \"wb\") as fp: \n",
    "    pickle.dump(data, fp)\n",
    "    \n",
    "def load_file(filename):\n",
    "  with open(f\"{path}{filename}\", 'rb') as f:\n",
    "      all_text = pickle.load(f)\n",
    "      return (all_text[\"train_tokens\"], all_text[\"test_tokens\"], all_text[\"val_tokens\"])\n"
   ]
  },
  {
   "cell_type": "code",
   "execution_count": 8,
   "metadata": {
    "colab": {},
    "colab_type": "code",
    "id": "IsZH3FvqlhK3"
   },
   "outputs": [],
   "source": [
    "def split_train_val_test (X, y, pct_train = 0.7, pct_val = 0.3):\n",
    "  np.random.seed(0)\n",
    "  train_bool = np.random.random(len(X)) <= pct_train\n",
    "  x_train = X[train_bool]\n",
    "  y_train = y[train_bool]\n",
    "\n",
    "  x_test = X[~train_bool]\n",
    "  y_test = y[~train_bool]\n",
    "\n",
    "  # split the training 30% for validation\n",
    "  val_bool = np.random.random(size=len(x_train)) <= pct_val\n",
    "  x_val = x_train[val_bool]\n",
    "  y_val = y_train[val_bool]\n",
    "\n",
    "  # exclude validation from training\n",
    "  x_train = x_train[~val_bool]\n",
    "  y_train = y_train[~val_bool]\n",
    "  \n",
    "  #check lengths\n",
    "  print(\"Training: \", len(x_train), len(y_train))\n",
    "  print(\"Validation: \", len(x_val), len(y_val))\n",
    "  print(\"Test: \", len(x_test), len(y_test))\n",
    "  \n",
    "  return x_train, y_train, x_val, y_val, x_test, y_test"
   ]
  },
  {
   "cell_type": "markdown",
   "metadata": {},
   "source": [
    "# Load Data"
   ]
  },
  {
   "cell_type": "code",
   "execution_count": 9,
   "metadata": {},
   "outputs": [],
   "source": [
    "if LOAD_DATA:\n",
    "  df_total = pd.read_csv(f'{path}df_total.csv')\n",
    "  df_small = pd.read_pickle(f'{path}df_small.pkl.gz')\n",
    "  (x_test, x_val, x_test, y_train, y_val, y_test) = load_pickle('data_split_sm.pkl') # based on the sampled small data set\n",
    "\n",
    "  lyrics_bert_vectors_train = pd.read_pickle(f'{path}lyrics_bert_vectors_train.pkl.gz')\n",
    "  lyrics_bert_vectors_val = pd.read_pickle(f'{path}lyrics_bert_vectors_val.pkl.gz')\n",
    "  lyrics_bert_vectors_test = pd.read_pickle(f'{path}lyrics_bert_vectors_test.pkl.gz')\n",
    "\n",
    "  \n",
    "# TODO: part of the data preparation can be skipped here of the data is pre-loaded"
   ]
  },
  {
   "cell_type": "code",
   "execution_count": 15,
   "metadata": {
    "_cell_guid": "79c7e3d0-c299-4dcb-8224-4455121ee9b0",
    "_uuid": "d629ff2d2480ee46fbb7e2d37f6b5fab8052498a",
    "colab": {},
    "colab_type": "code",
    "id": "E2ZNaRJolhJD"
   },
   "outputs": [],
   "source": [
    "# Read data\n",
    "df_artist =  pd.read_csv(f'{path}artists-data.csv')"
   ]
  },
  {
   "cell_type": "code",
   "execution_count": 16,
   "metadata": {
    "_cell_guid": "79c7e3d0-c299-4dcb-8224-4455121ee9b0",
    "_uuid": "d629ff2d2480ee46fbb7e2d37f6b5fab8052498a",
    "colab": {},
    "colab_type": "code",
    "id": "E2ZNaRJolhJD"
   },
   "outputs": [],
   "source": [
    "df_lyrics = pd.read_csv(f'{path}lyrics-data.csv')"
   ]
  },
  {
   "cell_type": "code",
   "execution_count": 17,
   "metadata": {
    "_cell_guid": "79c7e3d0-c299-4dcb-8224-4455121ee9b0",
    "_uuid": "d629ff2d2480ee46fbb7e2d37f6b5fab8052498a",
    "colab": {},
    "colab_type": "code",
    "id": "E2ZNaRJolhJD"
   },
   "outputs": [],
   "source": [
    "df_metal = pd.read_csv(f'{path}metal_songs.csv')"
   ]
  },
  {
   "cell_type": "markdown",
   "metadata": {
    "colab_type": "text",
    "id": "rDdybrM4lhJI"
   },
   "source": [
    "# Data exploration and data preparation\n",
    "- [x] Check distribution of the data. (genres, artists, lyrics, languages)\n",
    "- [x] Data analysis: is the data usable, what needs to be cleaned. Visual inspection.\n",
    "- [ ] Top words, word counts leading to a basic tokenizer.\n",
    "- [x] Cosine similarity between document genres. \n",
    "- [ ] Create a base pipeline, word counts/TFIDF\n",
    "- [ ] Visualizations\n"
   ]
  },
  {
   "cell_type": "code",
   "execution_count": 18,
   "metadata": {
    "colab": {},
    "colab_type": "code",
    "id": "E7nBRFpflhJJ",
    "outputId": "1ad35ebb-b285-4059-a578-c8477c964880"
   },
   "outputs": [
    {
     "name": "stdout",
     "output_type": "stream",
     "text": [
      "Index(['Artist', 'Songs', 'Popularity', 'Link', 'Genre', 'Genres'], dtype='object')\n",
      "Index(['ALink', 'SName', 'SLink', 'Lyric', 'Idiom'], dtype='object')\n",
      "Index(['Unnamed: 0', 'Genre', 'Artist', 'Song', 'Lyric'], dtype='object')\n"
     ]
    }
   ],
   "source": [
    "print(df_artist.columns)\n",
    "print(df_lyrics.columns)\n",
    "print(df_metal.columns)"
   ]
  },
  {
   "cell_type": "markdown",
   "metadata": {},
   "source": [
    "#### Lyrics"
   ]
  },
  {
   "cell_type": "code",
   "execution_count": 19,
   "metadata": {
    "colab": {},
    "colab_type": "code",
    "id": "EnkhVW_UlhJO",
    "outputId": "32b5b5d8-ce21-4402-88cb-f5a3eee20594"
   },
   "outputs": [
    {
     "data": {
      "text/plain": [
       "(209522, 5)"
      ]
     },
     "execution_count": 19,
     "metadata": {},
     "output_type": "execute_result"
    }
   ],
   "source": [
    "df_lyrics.shape"
   ]
  },
  {
   "cell_type": "code",
   "execution_count": 25,
   "metadata": {
    "colab": {},
    "colab_type": "code",
    "id": "9p5n8n6KlhJS",
    "outputId": "51d07754-4d90-4324-c75f-57579f8e9da7"
   },
   "outputs": [
    {
     "data": {
      "text/plain": [
       "ENGLISH        114723\n",
       "PORTUGUESE      85085\n",
       "SPANISH          4812\n",
       "ITALIAN           626\n",
       "FRENCH            471\n",
       "GERMAN            314\n",
       "KINYARWANDA        88\n",
       "ICELANDIC          47\n",
       "SWEDISH            27\n",
       "FINNISH            24\n",
       "Name: Idiom, dtype: int64"
      ]
     },
     "execution_count": 25,
     "metadata": {},
     "output_type": "execute_result"
    }
   ],
   "source": [
    "df_lyrics[\"Idiom\"].value_counts().head(n=10)"
   ]
  },
  {
   "cell_type": "markdown",
   "metadata": {
    "colab_type": "text",
    "id": "LUtO9hbjlhJW"
   },
   "source": [
    "For this project we will use English only."
   ]
  },
  {
   "cell_type": "code",
   "execution_count": 21,
   "metadata": {
    "colab": {},
    "colab_type": "code",
    "id": "aAkRaDeqlhJX",
    "outputId": "363979f6-359b-4867-f2ae-80b39f319874"
   },
   "outputs": [
    {
     "data": {
      "text/plain": [
       "(114723, 3)"
      ]
     },
     "execution_count": 21,
     "metadata": {},
     "output_type": "execute_result"
    }
   ],
   "source": [
    "df_lyrics_en = df_lyrics.query(\"Idiom == 'ENGLISH'\")\n",
    "df_lyrics_en = df_lyrics_en.drop([\"SLink\", \"Idiom\"], axis=1)\n",
    "df_lyrics_en.shape"
   ]
  },
  {
   "cell_type": "code",
   "execution_count": 22,
   "metadata": {
    "colab": {},
    "colab_type": "code",
    "id": "DkdEF6orlhJb",
    "outputId": "dc73052d-e063-48ca-a39d-ec3d52b7b3fc"
   },
   "outputs": [
    {
     "data": {
      "text/html": [
       "<div>\n",
       "<style scoped>\n",
       "    .dataframe tbody tr th:only-of-type {\n",
       "        vertical-align: middle;\n",
       "    }\n",
       "\n",
       "    .dataframe tbody tr th {\n",
       "        vertical-align: top;\n",
       "    }\n",
       "\n",
       "    .dataframe thead th {\n",
       "        text-align: right;\n",
       "    }\n",
       "</style>\n",
       "<table border=\"1\" class=\"dataframe\">\n",
       "  <thead>\n",
       "    <tr style=\"text-align: right;\">\n",
       "      <th></th>\n",
       "      <th>ALink</th>\n",
       "      <th>SName</th>\n",
       "      <th>Lyric</th>\n",
       "    </tr>\n",
       "  </thead>\n",
       "  <tbody>\n",
       "    <tr>\n",
       "      <th>0</th>\n",
       "      <td>/10000-maniacs/</td>\n",
       "      <td>More Than This</td>\n",
       "      <td>I could feel at the time. There was no way of ...</td>\n",
       "    </tr>\n",
       "    <tr>\n",
       "      <th>1</th>\n",
       "      <td>/10000-maniacs/</td>\n",
       "      <td>Because The Night</td>\n",
       "      <td>Take me now, baby, here as I am. Hold me close...</td>\n",
       "    </tr>\n",
       "    <tr>\n",
       "      <th>2</th>\n",
       "      <td>/10000-maniacs/</td>\n",
       "      <td>These Are Days</td>\n",
       "      <td>These are. These are days you'll remember. Nev...</td>\n",
       "    </tr>\n",
       "    <tr>\n",
       "      <th>3</th>\n",
       "      <td>/10000-maniacs/</td>\n",
       "      <td>A Campfire Song</td>\n",
       "      <td>A lie to say, \"O my mountain has coal veins an...</td>\n",
       "    </tr>\n",
       "    <tr>\n",
       "      <th>4</th>\n",
       "      <td>/10000-maniacs/</td>\n",
       "      <td>Everyday Is Like Sunday</td>\n",
       "      <td>Trudging slowly over wet sand. Back to the ben...</td>\n",
       "    </tr>\n",
       "    <tr>\n",
       "      <th>...</th>\n",
       "      <td>...</td>\n",
       "      <td>...</td>\n",
       "      <td>...</td>\n",
       "    </tr>\n",
       "    <tr>\n",
       "      <th>207619</th>\n",
       "      <td>/sambo/</td>\n",
       "      <td>This Love</td>\n",
       "      <td>I was so high I did not recognize. The fire bu...</td>\n",
       "    </tr>\n",
       "    <tr>\n",
       "      <th>207624</th>\n",
       "      <td>/sambo/</td>\n",
       "      <td>Valerie</td>\n",
       "      <td>Well sometimes I go out by myself. And I look ...</td>\n",
       "    </tr>\n",
       "    <tr>\n",
       "      <th>207628</th>\n",
       "      <td>/sambo/</td>\n",
       "      <td>Wake Me Up</td>\n",
       "      <td>Feeling my way through the darkness. Guided by...</td>\n",
       "    </tr>\n",
       "    <tr>\n",
       "      <th>207792</th>\n",
       "      <td>/seu-jorge/</td>\n",
       "      <td>Don't</td>\n",
       "      <td>Don't, don't, that's what you say. Each time t...</td>\n",
       "    </tr>\n",
       "    <tr>\n",
       "      <th>209285</th>\n",
       "      <td>/zeca-pagodinho/</td>\n",
       "      <td>Deixa A Vida Me Levar (translation)</td>\n",
       "      <td>I've been. For almost everything in life. In t...</td>\n",
       "    </tr>\n",
       "  </tbody>\n",
       "</table>\n",
       "<p>114723 rows × 3 columns</p>\n",
       "</div>"
      ],
      "text/plain": [
       "                   ALink                                SName  \\\n",
       "0        /10000-maniacs/                       More Than This   \n",
       "1        /10000-maniacs/                    Because The Night   \n",
       "2        /10000-maniacs/                       These Are Days   \n",
       "3        /10000-maniacs/                      A Campfire Song   \n",
       "4        /10000-maniacs/              Everyday Is Like Sunday   \n",
       "...                  ...                                  ...   \n",
       "207619           /sambo/                            This Love   \n",
       "207624           /sambo/                              Valerie   \n",
       "207628           /sambo/                           Wake Me Up   \n",
       "207792       /seu-jorge/                                Don't   \n",
       "209285  /zeca-pagodinho/  Deixa A Vida Me Levar (translation)   \n",
       "\n",
       "                                                    Lyric  \n",
       "0       I could feel at the time. There was no way of ...  \n",
       "1       Take me now, baby, here as I am. Hold me close...  \n",
       "2       These are. These are days you'll remember. Nev...  \n",
       "3       A lie to say, \"O my mountain has coal veins an...  \n",
       "4       Trudging slowly over wet sand. Back to the ben...  \n",
       "...                                                   ...  \n",
       "207619  I was so high I did not recognize. The fire bu...  \n",
       "207624  Well sometimes I go out by myself. And I look ...  \n",
       "207628  Feeling my way through the darkness. Guided by...  \n",
       "207792  Don't, don't, that's what you say. Each time t...  \n",
       "209285  I've been. For almost everything in life. In t...  \n",
       "\n",
       "[114723 rows x 3 columns]"
      ]
     },
     "execution_count": 22,
     "metadata": {},
     "output_type": "execute_result"
    }
   ],
   "source": [
    "df_lyrics_en"
   ]
  },
  {
   "cell_type": "markdown",
   "metadata": {},
   "source": [
    "#### Artist"
   ]
  },
  {
   "cell_type": "code",
   "execution_count": 36,
   "metadata": {
    "colab": {},
    "colab_type": "code",
    "id": "ttKAABh7lhJf",
    "outputId": "d14ae90c-d122-4428-fcf9-53500babdf2d"
   },
   "outputs": [
    {
     "data": {
      "text/plain": [
       "Rock       37.417840\n",
       "Pop        37.370892\n",
       "Hip Hop    25.211268\n",
       "Name: Genre, dtype: float64"
      ]
     },
     "execution_count": 36,
     "metadata": {},
     "output_type": "execute_result"
    }
   ],
   "source": [
    "# origianl query:\n",
    "df_artist_sm = df_artist.query(\"Genre == 'Rock' | Genre == 'Pop' | Genre == 'Hip Hop'\")\n",
    "\n",
    "# 2 category:\n",
    "# df_artist_sm = df_artist.query(\"Genre == 'Rock' | Genre == 'Hip Hop'\")\n",
    "\n",
    "total = df_artist_sm.shape[0]\n",
    "100*df_artist_sm[\"Genre\"].value_counts()/total"
   ]
  },
  {
   "cell_type": "code",
   "execution_count": 117,
   "metadata": {
    "colab": {},
    "colab_type": "code",
    "id": "1BaB5mK5lhJj",
    "outputId": "f6a6b2e4-cd03-461c-a5a0-08e0435b5ca0"
   },
   "outputs": [
    {
     "name": "stdout",
     "output_type": "stream",
     "text": [
      "Total Songs: 127523\n",
      "Hip Hop 17.03%\n",
      "Pop 34.15%\n",
      "Rock 48.82%\n"
     ]
    }
   ],
   "source": [
    "# original\n",
    "genres = [\"Rock\", \"Pop\", \"Hip Hop\"]\n",
    "\n",
    "# 2 category\n",
    "# genres = [\"Rock\", \"Hip Hop\", \"Metal\"]\n",
    "genres.sort()\n",
    "\n",
    "total_songs = df_artist_sm[\"Songs\"].sum()\n",
    "print(f\"Total Songs: {total_songs}\")\n",
    "for i in genres:\n",
    "    percentage = round(100*df_artist_sm[df_artist_sm.Genre == i][\"Songs\"].sum()/total_songs, 2 )\n",
    "    print(f\"{i} {percentage}%\")"
   ]
  },
  {
   "cell_type": "code",
   "execution_count": 118,
   "metadata": {
    "colab": {},
    "colab_type": "code",
    "id": "UOUUhfqIlhJo"
   },
   "outputs": [],
   "source": [
    "df_artist_sm_red = df_artist_sm.drop([\"Genres\", \"Popularity\", \"Songs\"], axis = 1)"
   ]
  },
  {
   "cell_type": "code",
   "execution_count": 119,
   "metadata": {
    "colab": {},
    "colab_type": "code",
    "id": "jW_2B-s5lhJr",
    "outputId": "2b188cce-77a6-41ca-fe0f-0ce9cead53b4"
   },
   "outputs": [
    {
     "data": {
      "text/html": [
       "<div>\n",
       "<style scoped>\n",
       "    .dataframe tbody tr th:only-of-type {\n",
       "        vertical-align: middle;\n",
       "    }\n",
       "\n",
       "    .dataframe tbody tr th {\n",
       "        vertical-align: top;\n",
       "    }\n",
       "\n",
       "    .dataframe thead th {\n",
       "        text-align: right;\n",
       "    }\n",
       "</style>\n",
       "<table border=\"1\" class=\"dataframe\">\n",
       "  <thead>\n",
       "    <tr style=\"text-align: right;\">\n",
       "      <th></th>\n",
       "      <th>Artist</th>\n",
       "      <th>Link</th>\n",
       "      <th>Genre</th>\n",
       "    </tr>\n",
       "  </thead>\n",
       "  <tbody>\n",
       "    <tr>\n",
       "      <th>0</th>\n",
       "      <td>10000 Maniacs</td>\n",
       "      <td>/10000-maniacs/</td>\n",
       "      <td>Rock</td>\n",
       "    </tr>\n",
       "    <tr>\n",
       "      <th>1</th>\n",
       "      <td>12 Stones</td>\n",
       "      <td>/12-stones/</td>\n",
       "      <td>Rock</td>\n",
       "    </tr>\n",
       "    <tr>\n",
       "      <th>2</th>\n",
       "      <td>311</td>\n",
       "      <td>/311/</td>\n",
       "      <td>Rock</td>\n",
       "    </tr>\n",
       "    <tr>\n",
       "      <th>3</th>\n",
       "      <td>4 Non Blondes</td>\n",
       "      <td>/4-non-blondes/</td>\n",
       "      <td>Rock</td>\n",
       "    </tr>\n",
       "    <tr>\n",
       "      <th>4</th>\n",
       "      <td>A Cruz Está Vazia</td>\n",
       "      <td>/a-cruz-esta-vazia/</td>\n",
       "      <td>Rock</td>\n",
       "    </tr>\n",
       "    <tr>\n",
       "      <th>...</th>\n",
       "      <td>...</td>\n",
       "      <td>...</td>\n",
       "      <td>...</td>\n",
       "    </tr>\n",
       "    <tr>\n",
       "      <th>3227</th>\n",
       "      <td>Tati Quebra Barraco</td>\n",
       "      <td>/tati-quebra-barraco/</td>\n",
       "      <td>Hip Hop</td>\n",
       "    </tr>\n",
       "    <tr>\n",
       "      <th>3228</th>\n",
       "      <td>Valesca Popozuda</td>\n",
       "      <td>/valesca-popozuda/</td>\n",
       "      <td>Pop</td>\n",
       "    </tr>\n",
       "    <tr>\n",
       "      <th>3229</th>\n",
       "      <td>Vine Rodry</td>\n",
       "      <td>/vine-rodry/</td>\n",
       "      <td>Pop</td>\n",
       "    </tr>\n",
       "    <tr>\n",
       "      <th>3234</th>\n",
       "      <td>Leandro Sapucahy</td>\n",
       "      <td>/leandro-sapucahy/</td>\n",
       "      <td>Pop</td>\n",
       "    </tr>\n",
       "    <tr>\n",
       "      <th>3239</th>\n",
       "      <td>Sambô</td>\n",
       "      <td>/sambo/</td>\n",
       "      <td>Rock</td>\n",
       "    </tr>\n",
       "  </tbody>\n",
       "</table>\n",
       "<p>2130 rows × 3 columns</p>\n",
       "</div>"
      ],
      "text/plain": [
       "                   Artist                   Link    Genre\n",
       "0           10000 Maniacs        /10000-maniacs/     Rock\n",
       "1               12 Stones            /12-stones/     Rock\n",
       "2                     311                  /311/     Rock\n",
       "3           4 Non Blondes        /4-non-blondes/     Rock\n",
       "4       A Cruz Está Vazia    /a-cruz-esta-vazia/     Rock\n",
       "...                   ...                    ...      ...\n",
       "3227  Tati Quebra Barraco  /tati-quebra-barraco/  Hip Hop\n",
       "3228     Valesca Popozuda     /valesca-popozuda/      Pop\n",
       "3229           Vine Rodry           /vine-rodry/      Pop\n",
       "3234     Leandro Sapucahy     /leandro-sapucahy/      Pop\n",
       "3239                Sambô                /sambo/     Rock\n",
       "\n",
       "[2130 rows x 3 columns]"
      ]
     },
     "execution_count": 119,
     "metadata": {},
     "output_type": "execute_result"
    }
   ],
   "source": [
    "df_artist_sm_red"
   ]
  },
  {
   "cell_type": "code",
   "execution_count": 120,
   "metadata": {
    "colab": {},
    "colab_type": "code",
    "id": "XU_3J50ElhJw",
    "outputId": "70d29c90-d098-4c50-840e-3b864e0f9e01"
   },
   "outputs": [
    {
     "data": {
      "text/plain": [
       "144"
      ]
     },
     "execution_count": 120,
     "metadata": {},
     "output_type": "execute_result"
    }
   ],
   "source": [
    "# Remove duplicate Link values\n",
    "\n",
    "# pd.DataFrame(df_artist_sm[\"Link\"].value_counts())\n",
    "(df_artist_sm_red[\"Link\"].value_counts() > 1).sum()"
   ]
  },
  {
   "cell_type": "code",
   "execution_count": 121,
   "metadata": {
    "colab": {},
    "colab_type": "code",
    "id": "gg-RBykflhJ1"
   },
   "outputs": [],
   "source": [
    "# drop duplicates\n",
    "df_artist_dedup = df_artist_sm_red.drop(df_artist_sm_red[df_artist_sm_red.Link.duplicated()].index)"
   ]
  },
  {
   "cell_type": "code",
   "execution_count": 122,
   "metadata": {
    "colab": {},
    "colab_type": "code",
    "id": "p1GT4-jdlhJ4",
    "outputId": "169f840e-af91-448f-f593-b3e04e3db201"
   },
   "outputs": [
    {
     "data": {
      "text/html": [
       "<div>\n",
       "<style scoped>\n",
       "    .dataframe tbody tr th:only-of-type {\n",
       "        vertical-align: middle;\n",
       "    }\n",
       "\n",
       "    .dataframe tbody tr th {\n",
       "        vertical-align: top;\n",
       "    }\n",
       "\n",
       "    .dataframe thead th {\n",
       "        text-align: right;\n",
       "    }\n",
       "</style>\n",
       "<table border=\"1\" class=\"dataframe\">\n",
       "  <thead>\n",
       "    <tr style=\"text-align: right;\">\n",
       "      <th></th>\n",
       "      <th>Artist</th>\n",
       "      <th>Link</th>\n",
       "      <th>Genre</th>\n",
       "    </tr>\n",
       "  </thead>\n",
       "  <tbody>\n",
       "    <tr>\n",
       "      <th>0</th>\n",
       "      <td>10000 Maniacs</td>\n",
       "      <td>/10000-maniacs/</td>\n",
       "      <td>Rock</td>\n",
       "    </tr>\n",
       "  </tbody>\n",
       "</table>\n",
       "</div>"
      ],
      "text/plain": [
       "          Artist             Link Genre\n",
       "0  10000 Maniacs  /10000-maniacs/  Rock"
      ]
     },
     "execution_count": 122,
     "metadata": {},
     "output_type": "execute_result"
    }
   ],
   "source": [
    "# Some artist have multiple genrese. These are removed.\n",
    "\n",
    "(df_artist_dedup[\"Link\"].value_counts() > 1).sum()\n",
    "df_artist_dedup[df_artist_dedup[\"Artist\"] =='10000 Maniacs']"
   ]
  },
  {
   "cell_type": "markdown",
   "metadata": {},
   "source": [
    "#### Metal lyrics"
   ]
  },
  {
   "cell_type": "code",
   "execution_count": 123,
   "metadata": {},
   "outputs": [
    {
     "data": {
      "text/html": [
       "<div>\n",
       "<style scoped>\n",
       "    .dataframe tbody tr th:only-of-type {\n",
       "        vertical-align: middle;\n",
       "    }\n",
       "\n",
       "    .dataframe tbody tr th {\n",
       "        vertical-align: top;\n",
       "    }\n",
       "\n",
       "    .dataframe thead th {\n",
       "        text-align: right;\n",
       "    }\n",
       "</style>\n",
       "<table border=\"1\" class=\"dataframe\">\n",
       "  <thead>\n",
       "    <tr style=\"text-align: right;\">\n",
       "      <th></th>\n",
       "      <th>Unnamed: 0</th>\n",
       "      <th>Genre</th>\n",
       "      <th>Artist</th>\n",
       "      <th>Song</th>\n",
       "      <th>Lyric</th>\n",
       "    </tr>\n",
       "  </thead>\n",
       "  <tbody>\n",
       "    <tr>\n",
       "      <th>0</th>\n",
       "      <td>0</td>\n",
       "      <td>Metal</td>\n",
       "      <td>QUANTICE NEVER CRASHED</td>\n",
       "      <td>Any Port In The Storm</td>\n",
       "      <td>Instrumental</td>\n",
       "    </tr>\n",
       "    <tr>\n",
       "      <th>1</th>\n",
       "      <td>1</td>\n",
       "      <td>Metal</td>\n",
       "      <td>QUANTICE NEVER CRASHED</td>\n",
       "      <td>Pins And Needles</td>\n",
       "      <td>Picture a parade of mannequins  ivory white  S...</td>\n",
       "    </tr>\n",
       "    <tr>\n",
       "      <th>2</th>\n",
       "      <td>2</td>\n",
       "      <td>Metal</td>\n",
       "      <td>QUANTICE NEVER CRASHED</td>\n",
       "      <td>Shaolin Casanova</td>\n",
       "      <td>Fuck you  I want to know how it feels that I m...</td>\n",
       "    </tr>\n",
       "    <tr>\n",
       "      <th>3</th>\n",
       "      <td>3</td>\n",
       "      <td>Metal</td>\n",
       "      <td>QUANTICE NEVER CRASHED</td>\n",
       "      <td>Lighthouses</td>\n",
       "      <td>The ties that bind can gag and I m bound by bo...</td>\n",
       "    </tr>\n",
       "    <tr>\n",
       "      <th>4</th>\n",
       "      <td>4</td>\n",
       "      <td>Metal</td>\n",
       "      <td>QUANTICE NEVER CRASHED</td>\n",
       "      <td>Running Man</td>\n",
       "      <td>I ve built walls around me  I ve surrounded my...</td>\n",
       "    </tr>\n",
       "  </tbody>\n",
       "</table>\n",
       "</div>"
      ],
      "text/plain": [
       "   Unnamed: 0  Genre                  Artist                   Song  \\\n",
       "0           0  Metal  QUANTICE NEVER CRASHED  Any Port In The Storm   \n",
       "1           1  Metal  QUANTICE NEVER CRASHED       Pins And Needles   \n",
       "2           2  Metal  QUANTICE NEVER CRASHED       Shaolin Casanova   \n",
       "3           3  Metal  QUANTICE NEVER CRASHED            Lighthouses   \n",
       "4           4  Metal  QUANTICE NEVER CRASHED            Running Man   \n",
       "\n",
       "                                               Lyric  \n",
       "0                                    Instrumental     \n",
       "1  Picture a parade of mannequins  ivory white  S...  \n",
       "2  Fuck you  I want to know how it feels that I m...  \n",
       "3  The ties that bind can gag and I m bound by bo...  \n",
       "4  I ve built walls around me  I ve surrounded my...  "
      ]
     },
     "execution_count": 123,
     "metadata": {},
     "output_type": "execute_result"
    }
   ],
   "source": [
    "df_metal = pd.read_csv(f'{path}metal_songs.csv')\n",
    "df_metal.head()"
   ]
  },
  {
   "cell_type": "code",
   "execution_count": 124,
   "metadata": {},
   "outputs": [
    {
     "data": {
      "text/html": [
       "<div>\n",
       "<style scoped>\n",
       "    .dataframe tbody tr th:only-of-type {\n",
       "        vertical-align: middle;\n",
       "    }\n",
       "\n",
       "    .dataframe tbody tr th {\n",
       "        vertical-align: top;\n",
       "    }\n",
       "\n",
       "    .dataframe thead th {\n",
       "        text-align: right;\n",
       "    }\n",
       "</style>\n",
       "<table border=\"1\" class=\"dataframe\">\n",
       "  <thead>\n",
       "    <tr style=\"text-align: right;\">\n",
       "      <th></th>\n",
       "      <th>Unnamed: 0</th>\n",
       "      <th>Genre</th>\n",
       "      <th>Artist</th>\n",
       "      <th>Song</th>\n",
       "      <th>Lyric</th>\n",
       "    </tr>\n",
       "  </thead>\n",
       "  <tbody>\n",
       "    <tr>\n",
       "      <th>1</th>\n",
       "      <td>1</td>\n",
       "      <td>Metal</td>\n",
       "      <td>QUANTICE NEVER CRASHED</td>\n",
       "      <td>Pins And Needles</td>\n",
       "      <td>Picture a parade of mannequins  ivory white  S...</td>\n",
       "    </tr>\n",
       "    <tr>\n",
       "      <th>2</th>\n",
       "      <td>2</td>\n",
       "      <td>Metal</td>\n",
       "      <td>QUANTICE NEVER CRASHED</td>\n",
       "      <td>Shaolin Casanova</td>\n",
       "      <td>Fuck you  I want to know how it feels that I m...</td>\n",
       "    </tr>\n",
       "    <tr>\n",
       "      <th>3</th>\n",
       "      <td>3</td>\n",
       "      <td>Metal</td>\n",
       "      <td>QUANTICE NEVER CRASHED</td>\n",
       "      <td>Lighthouses</td>\n",
       "      <td>The ties that bind can gag and I m bound by bo...</td>\n",
       "    </tr>\n",
       "    <tr>\n",
       "      <th>4</th>\n",
       "      <td>4</td>\n",
       "      <td>Metal</td>\n",
       "      <td>QUANTICE NEVER CRASHED</td>\n",
       "      <td>Running Man</td>\n",
       "      <td>I ve built walls around me  I ve surrounded my...</td>\n",
       "    </tr>\n",
       "    <tr>\n",
       "      <th>5</th>\n",
       "      <td>5</td>\n",
       "      <td>Metal</td>\n",
       "      <td>QUANTICE NEVER CRASHED</td>\n",
       "      <td>Two Bullets And A Gun</td>\n",
       "      <td>I guess I never told you  I was never one to g...</td>\n",
       "    </tr>\n",
       "    <tr>\n",
       "      <th>...</th>\n",
       "      <td>...</td>\n",
       "      <td>...</td>\n",
       "      <td>...</td>\n",
       "      <td>...</td>\n",
       "      <td>...</td>\n",
       "    </tr>\n",
       "    <tr>\n",
       "      <th>49994</th>\n",
       "      <td>49994</td>\n",
       "      <td>Metal</td>\n",
       "      <td>ensiferum</td>\n",
       "      <td>The New Dawn</td>\n",
       "      <td>Through the storm like the wind we ride Leavin...</td>\n",
       "    </tr>\n",
       "    <tr>\n",
       "      <th>49996</th>\n",
       "      <td>49996</td>\n",
       "      <td>Metal</td>\n",
       "      <td>ensiferum</td>\n",
       "      <td>Victory Song</td>\n",
       "      <td>The plan of invasion an Evil deception Was mad...</td>\n",
       "    </tr>\n",
       "    <tr>\n",
       "      <th>49997</th>\n",
       "      <td>49997</td>\n",
       "      <td>Metal</td>\n",
       "      <td>ensiferum</td>\n",
       "      <td>Lady In Black</td>\n",
       "      <td>originally by Uriah Heep She came to me one m...</td>\n",
       "    </tr>\n",
       "    <tr>\n",
       "      <th>49998</th>\n",
       "      <td>49998</td>\n",
       "      <td>Metal</td>\n",
       "      <td>ensiferum</td>\n",
       "      <td>One More Magic Potion</td>\n",
       "      <td>Once when we were returning from a battle and ...</td>\n",
       "    </tr>\n",
       "    <tr>\n",
       "      <th>49999</th>\n",
       "      <td>49999</td>\n",
       "      <td>Metal</td>\n",
       "      <td>ensiferum</td>\n",
       "      <td>Wanderer</td>\n",
       "      <td>In time bleeding wounds will heal Unlike some ...</td>\n",
       "    </tr>\n",
       "  </tbody>\n",
       "</table>\n",
       "<p>49277 rows × 5 columns</p>\n",
       "</div>"
      ],
      "text/plain": [
       "       Unnamed: 0  Genre                  Artist                   Song  \\\n",
       "1               1  Metal  QUANTICE NEVER CRASHED       Pins And Needles   \n",
       "2               2  Metal  QUANTICE NEVER CRASHED       Shaolin Casanova   \n",
       "3               3  Metal  QUANTICE NEVER CRASHED            Lighthouses   \n",
       "4               4  Metal  QUANTICE NEVER CRASHED            Running Man   \n",
       "5               5  Metal  QUANTICE NEVER CRASHED  Two Bullets And A Gun   \n",
       "...           ...    ...                     ...                    ...   \n",
       "49994       49994  Metal               ensiferum           The New Dawn   \n",
       "49996       49996  Metal               ensiferum           Victory Song   \n",
       "49997       49997  Metal               ensiferum          Lady In Black   \n",
       "49998       49998  Metal               ensiferum  One More Magic Potion   \n",
       "49999       49999  Metal               ensiferum               Wanderer   \n",
       "\n",
       "                                                   Lyric  \n",
       "1      Picture a parade of mannequins  ivory white  S...  \n",
       "2      Fuck you  I want to know how it feels that I m...  \n",
       "3      The ties that bind can gag and I m bound by bo...  \n",
       "4      I ve built walls around me  I ve surrounded my...  \n",
       "5      I guess I never told you  I was never one to g...  \n",
       "...                                                  ...  \n",
       "49994  Through the storm like the wind we ride Leavin...  \n",
       "49996  The plan of invasion an Evil deception Was mad...  \n",
       "49997   originally by Uriah Heep She came to me one m...  \n",
       "49998  Once when we were returning from a battle and ...  \n",
       "49999  In time bleeding wounds will heal Unlike some ...  \n",
       "\n",
       "[49277 rows x 5 columns]"
      ]
     },
     "execution_count": 124,
     "metadata": {},
     "output_type": "execute_result"
    }
   ],
   "source": [
    "# drop instrumental songs\n",
    "df_metal = df_metal[df_metal[\"Lyric\"]!= ' Instrumental   ']\n",
    "df_metal"
   ]
  },
  {
   "cell_type": "code",
   "execution_count": 125,
   "metadata": {},
   "outputs": [],
   "source": [
    "df_metal = df_metal[~df_metal[\"Lyric\"].isnull()]"
   ]
  },
  {
   "cell_type": "code",
   "execution_count": 126,
   "metadata": {},
   "outputs": [
    {
     "data": {
      "text/plain": [
       "1        Picture a parade of mannequins  ivory white  S...\n",
       "2        Fuck you  I want to know how it feels that I m...\n",
       "3        The ties that bind can gag and I m bound by bo...\n",
       "4        I ve built walls around me  I ve surrounded my...\n",
       "5        I guess I never told you  I was never one to g...\n",
       "                               ...                        \n",
       "49994    Through the storm like the wind we ride Leavin...\n",
       "49996    The plan of invasion an Evil deception Was mad...\n",
       "49997    originally by Uriah Heep She came to me one mo...\n",
       "49998    Once when we were returning from a battle and ...\n",
       "49999    In time bleeding wounds will heal Unlike some ...\n",
       "Name: Lyric, Length: 49276, dtype: object"
      ]
     },
     "execution_count": 126,
     "metadata": {},
     "output_type": "execute_result"
    }
   ],
   "source": [
    "l = df_metal[\"Lyric\"].apply(lambda x: x.strip())\n",
    "l"
   ]
  },
  {
   "cell_type": "code",
   "execution_count": 127,
   "metadata": {},
   "outputs": [],
   "source": [
    "df_metal = df_metal[l!='']"
   ]
  },
  {
   "cell_type": "code",
   "execution_count": 128,
   "metadata": {},
   "outputs": [
    {
     "data": {
      "text/html": [
       "<div>\n",
       "<style scoped>\n",
       "    .dataframe tbody tr th:only-of-type {\n",
       "        vertical-align: middle;\n",
       "    }\n",
       "\n",
       "    .dataframe tbody tr th {\n",
       "        vertical-align: top;\n",
       "    }\n",
       "\n",
       "    .dataframe thead th {\n",
       "        text-align: right;\n",
       "    }\n",
       "</style>\n",
       "<table border=\"1\" class=\"dataframe\">\n",
       "  <thead>\n",
       "    <tr style=\"text-align: right;\">\n",
       "      <th></th>\n",
       "      <th>SName</th>\n",
       "      <th>Lyric</th>\n",
       "      <th>Artist</th>\n",
       "      <th>Genre</th>\n",
       "    </tr>\n",
       "  </thead>\n",
       "  <tbody>\n",
       "    <tr>\n",
       "      <th>1</th>\n",
       "      <td>Pins And Needles</td>\n",
       "      <td>Picture a parade of mannequins  ivory white  S...</td>\n",
       "      <td>QUANTICE NEVER CRASHED</td>\n",
       "      <td>Metal</td>\n",
       "    </tr>\n",
       "    <tr>\n",
       "      <th>2</th>\n",
       "      <td>Shaolin Casanova</td>\n",
       "      <td>Fuck you  I want to know how it feels that I m...</td>\n",
       "      <td>QUANTICE NEVER CRASHED</td>\n",
       "      <td>Metal</td>\n",
       "    </tr>\n",
       "    <tr>\n",
       "      <th>3</th>\n",
       "      <td>Lighthouses</td>\n",
       "      <td>The ties that bind can gag and I m bound by bo...</td>\n",
       "      <td>QUANTICE NEVER CRASHED</td>\n",
       "      <td>Metal</td>\n",
       "    </tr>\n",
       "    <tr>\n",
       "      <th>4</th>\n",
       "      <td>Running Man</td>\n",
       "      <td>I ve built walls around me  I ve surrounded my...</td>\n",
       "      <td>QUANTICE NEVER CRASHED</td>\n",
       "      <td>Metal</td>\n",
       "    </tr>\n",
       "    <tr>\n",
       "      <th>5</th>\n",
       "      <td>Two Bullets And A Gun</td>\n",
       "      <td>I guess I never told you  I was never one to g...</td>\n",
       "      <td>QUANTICE NEVER CRASHED</td>\n",
       "      <td>Metal</td>\n",
       "    </tr>\n",
       "    <tr>\n",
       "      <th>...</th>\n",
       "      <td>...</td>\n",
       "      <td>...</td>\n",
       "      <td>...</td>\n",
       "      <td>...</td>\n",
       "    </tr>\n",
       "    <tr>\n",
       "      <th>49994</th>\n",
       "      <td>The New Dawn</td>\n",
       "      <td>Through the storm like the wind we ride Leavin...</td>\n",
       "      <td>ensiferum</td>\n",
       "      <td>Metal</td>\n",
       "    </tr>\n",
       "    <tr>\n",
       "      <th>49996</th>\n",
       "      <td>Victory Song</td>\n",
       "      <td>The plan of invasion an Evil deception Was mad...</td>\n",
       "      <td>ensiferum</td>\n",
       "      <td>Metal</td>\n",
       "    </tr>\n",
       "    <tr>\n",
       "      <th>49997</th>\n",
       "      <td>Lady In Black</td>\n",
       "      <td>originally by Uriah Heep She came to me one m...</td>\n",
       "      <td>ensiferum</td>\n",
       "      <td>Metal</td>\n",
       "    </tr>\n",
       "    <tr>\n",
       "      <th>49998</th>\n",
       "      <td>One More Magic Potion</td>\n",
       "      <td>Once when we were returning from a battle and ...</td>\n",
       "      <td>ensiferum</td>\n",
       "      <td>Metal</td>\n",
       "    </tr>\n",
       "    <tr>\n",
       "      <th>49999</th>\n",
       "      <td>Wanderer</td>\n",
       "      <td>In time bleeding wounds will heal Unlike some ...</td>\n",
       "      <td>ensiferum</td>\n",
       "      <td>Metal</td>\n",
       "    </tr>\n",
       "  </tbody>\n",
       "</table>\n",
       "<p>45998 rows × 4 columns</p>\n",
       "</div>"
      ],
      "text/plain": [
       "                       SName  \\\n",
       "1           Pins And Needles   \n",
       "2           Shaolin Casanova   \n",
       "3                Lighthouses   \n",
       "4                Running Man   \n",
       "5      Two Bullets And A Gun   \n",
       "...                      ...   \n",
       "49994           The New Dawn   \n",
       "49996           Victory Song   \n",
       "49997          Lady In Black   \n",
       "49998  One More Magic Potion   \n",
       "49999               Wanderer   \n",
       "\n",
       "                                                   Lyric  \\\n",
       "1      Picture a parade of mannequins  ivory white  S...   \n",
       "2      Fuck you  I want to know how it feels that I m...   \n",
       "3      The ties that bind can gag and I m bound by bo...   \n",
       "4      I ve built walls around me  I ve surrounded my...   \n",
       "5      I guess I never told you  I was never one to g...   \n",
       "...                                                  ...   \n",
       "49994  Through the storm like the wind we ride Leavin...   \n",
       "49996  The plan of invasion an Evil deception Was mad...   \n",
       "49997   originally by Uriah Heep She came to me one m...   \n",
       "49998  Once when we were returning from a battle and ...   \n",
       "49999  In time bleeding wounds will heal Unlike some ...   \n",
       "\n",
       "                       Artist  Genre  \n",
       "1      QUANTICE NEVER CRASHED  Metal  \n",
       "2      QUANTICE NEVER CRASHED  Metal  \n",
       "3      QUANTICE NEVER CRASHED  Metal  \n",
       "4      QUANTICE NEVER CRASHED  Metal  \n",
       "5      QUANTICE NEVER CRASHED  Metal  \n",
       "...                       ...    ...  \n",
       "49994               ensiferum  Metal  \n",
       "49996               ensiferum  Metal  \n",
       "49997               ensiferum  Metal  \n",
       "49998               ensiferum  Metal  \n",
       "49999               ensiferum  Metal  \n",
       "\n",
       "[45998 rows x 4 columns]"
      ]
     },
     "execution_count": 128,
     "metadata": {},
     "output_type": "execute_result"
    }
   ],
   "source": [
    "df_metal2 = pd.DataFrame({\"SName\" : df_metal[\"Song\"],\t\n",
    "                          \"Lyric\": df_metal[\"Lyric\"],  \t\n",
    "                          \"Artist\" : df_metal[\"Artist\"],  \t\n",
    "                          \"Genre\": df_metal[\"Genre\"]})\n",
    "                         \n",
    "                       \n",
    "                         \n",
    "df_metal2                         "
   ]
  },
  {
   "cell_type": "markdown",
   "metadata": {},
   "source": [
    "#### Join the data"
   ]
  },
  {
   "cell_type": "code",
   "execution_count": 129,
   "metadata": {
    "colab": {},
    "colab_type": "code",
    "id": "hPb0q0EWlhJ7"
   },
   "outputs": [],
   "source": [
    "# join the two data frames\n",
    "df_lyrics_prejoin = df_lyrics_en.set_index('ALink')\n",
    "df_artist_prejoin = df_artist_dedup.set_index('Link')\n",
    "df_total = df_lyrics_prejoin.join(df_artist_prejoin)"
   ]
  },
  {
   "cell_type": "code",
   "execution_count": 130,
   "metadata": {
    "colab": {},
    "colab_type": "code",
    "id": "5xl-VNQqlhJ9",
    "outputId": "54b0d3f8-8985-4a1e-ca81-e193e7d8f160"
   },
   "outputs": [
    {
     "data": {
      "text/plain": [
       "(114723, 4)"
      ]
     },
     "execution_count": 130,
     "metadata": {},
     "output_type": "execute_result"
    }
   ],
   "source": [
    "# check that the join is correct\n",
    "df_total.shape"
   ]
  },
  {
   "cell_type": "code",
   "execution_count": 131,
   "metadata": {
    "colab": {},
    "colab_type": "code",
    "id": "l8h3toA9lhKA",
    "outputId": "ed883c31-176d-4360-dfd2-96c53b4d35c8"
   },
   "outputs": [
    {
     "data": {
      "text/html": [
       "<div>\n",
       "<style scoped>\n",
       "    .dataframe tbody tr th:only-of-type {\n",
       "        vertical-align: middle;\n",
       "    }\n",
       "\n",
       "    .dataframe tbody tr th {\n",
       "        vertical-align: top;\n",
       "    }\n",
       "\n",
       "    .dataframe thead th {\n",
       "        text-align: right;\n",
       "    }\n",
       "</style>\n",
       "<table border=\"1\" class=\"dataframe\">\n",
       "  <thead>\n",
       "    <tr style=\"text-align: right;\">\n",
       "      <th></th>\n",
       "      <th>SName</th>\n",
       "      <th>Lyric</th>\n",
       "      <th>Artist</th>\n",
       "      <th>Genre</th>\n",
       "    </tr>\n",
       "  </thead>\n",
       "  <tbody>\n",
       "    <tr>\n",
       "      <th>/10000-maniacs/</th>\n",
       "      <td>More Than This</td>\n",
       "      <td>I could feel at the time. There was no way of ...</td>\n",
       "      <td>10000 Maniacs</td>\n",
       "      <td>Rock</td>\n",
       "    </tr>\n",
       "    <tr>\n",
       "      <th>/10000-maniacs/</th>\n",
       "      <td>Because The Night</td>\n",
       "      <td>Take me now, baby, here as I am. Hold me close...</td>\n",
       "      <td>10000 Maniacs</td>\n",
       "      <td>Rock</td>\n",
       "    </tr>\n",
       "    <tr>\n",
       "      <th>/10000-maniacs/</th>\n",
       "      <td>These Are Days</td>\n",
       "      <td>These are. These are days you'll remember. Nev...</td>\n",
       "      <td>10000 Maniacs</td>\n",
       "      <td>Rock</td>\n",
       "    </tr>\n",
       "    <tr>\n",
       "      <th>/10000-maniacs/</th>\n",
       "      <td>A Campfire Song</td>\n",
       "      <td>A lie to say, \"O my mountain has coal veins an...</td>\n",
       "      <td>10000 Maniacs</td>\n",
       "      <td>Rock</td>\n",
       "    </tr>\n",
       "    <tr>\n",
       "      <th>/10000-maniacs/</th>\n",
       "      <td>Everyday Is Like Sunday</td>\n",
       "      <td>Trudging slowly over wet sand. Back to the ben...</td>\n",
       "      <td>10000 Maniacs</td>\n",
       "      <td>Rock</td>\n",
       "    </tr>\n",
       "    <tr>\n",
       "      <th>...</th>\n",
       "      <td>...</td>\n",
       "      <td>...</td>\n",
       "      <td>...</td>\n",
       "      <td>...</td>\n",
       "    </tr>\n",
       "    <tr>\n",
       "      <th>/zz-top/</th>\n",
       "      <td>Whiskey'n Mama</td>\n",
       "      <td>I'm so tired, you on my head.. Whiskey'n mama,...</td>\n",
       "      <td>ZZ Top</td>\n",
       "      <td>Rock</td>\n",
       "    </tr>\n",
       "    <tr>\n",
       "      <th>/zz-top/</th>\n",
       "      <td>Woke Up With Wood</td>\n",
       "      <td>When I woke up this morning. I was feeling mig...</td>\n",
       "      <td>ZZ Top</td>\n",
       "      <td>Rock</td>\n",
       "    </tr>\n",
       "    <tr>\n",
       "      <th>/zz-top/</th>\n",
       "      <td>World of Swirl</td>\n",
       "      <td>I hit the street running, had an angle in mind...</td>\n",
       "      <td>ZZ Top</td>\n",
       "      <td>Rock</td>\n",
       "    </tr>\n",
       "    <tr>\n",
       "      <th>/zz-top/</th>\n",
       "      <td>Your Legs Are As Hairy As My Beard</td>\n",
       "      <td>I've got a beard. And it is long. And you've g...</td>\n",
       "      <td>ZZ Top</td>\n",
       "      <td>Rock</td>\n",
       "    </tr>\n",
       "    <tr>\n",
       "      <th>/zz-top/</th>\n",
       "      <td>Zipper Job</td>\n",
       "      <td>He/she wanna be. Body and soul just don't agre...</td>\n",
       "      <td>ZZ Top</td>\n",
       "      <td>Rock</td>\n",
       "    </tr>\n",
       "  </tbody>\n",
       "</table>\n",
       "<p>114723 rows × 4 columns</p>\n",
       "</div>"
      ],
      "text/plain": [
       "                                              SName  \\\n",
       "/10000-maniacs/                      More Than This   \n",
       "/10000-maniacs/                   Because The Night   \n",
       "/10000-maniacs/                      These Are Days   \n",
       "/10000-maniacs/                     A Campfire Song   \n",
       "/10000-maniacs/             Everyday Is Like Sunday   \n",
       "...                                             ...   \n",
       "/zz-top/                             Whiskey'n Mama   \n",
       "/zz-top/                          Woke Up With Wood   \n",
       "/zz-top/                             World of Swirl   \n",
       "/zz-top/         Your Legs Are As Hairy As My Beard   \n",
       "/zz-top/                                 Zipper Job   \n",
       "\n",
       "                                                             Lyric  \\\n",
       "/10000-maniacs/  I could feel at the time. There was no way of ...   \n",
       "/10000-maniacs/  Take me now, baby, here as I am. Hold me close...   \n",
       "/10000-maniacs/  These are. These are days you'll remember. Nev...   \n",
       "/10000-maniacs/  A lie to say, \"O my mountain has coal veins an...   \n",
       "/10000-maniacs/  Trudging slowly over wet sand. Back to the ben...   \n",
       "...                                                            ...   \n",
       "/zz-top/         I'm so tired, you on my head.. Whiskey'n mama,...   \n",
       "/zz-top/         When I woke up this morning. I was feeling mig...   \n",
       "/zz-top/         I hit the street running, had an angle in mind...   \n",
       "/zz-top/         I've got a beard. And it is long. And you've g...   \n",
       "/zz-top/         He/she wanna be. Body and soul just don't agre...   \n",
       "\n",
       "                        Artist Genre  \n",
       "/10000-maniacs/  10000 Maniacs  Rock  \n",
       "/10000-maniacs/  10000 Maniacs  Rock  \n",
       "/10000-maniacs/  10000 Maniacs  Rock  \n",
       "/10000-maniacs/  10000 Maniacs  Rock  \n",
       "/10000-maniacs/  10000 Maniacs  Rock  \n",
       "...                        ...   ...  \n",
       "/zz-top/                ZZ Top  Rock  \n",
       "/zz-top/                ZZ Top  Rock  \n",
       "/zz-top/                ZZ Top  Rock  \n",
       "/zz-top/                ZZ Top  Rock  \n",
       "/zz-top/                ZZ Top  Rock  \n",
       "\n",
       "[114723 rows x 4 columns]"
      ]
     },
     "execution_count": 131,
     "metadata": {},
     "output_type": "execute_result"
    }
   ],
   "source": [
    "df_total"
   ]
  },
  {
   "cell_type": "code",
   "execution_count": 132,
   "metadata": {
    "colab": {},
    "colab_type": "code",
    "id": "B810wCuTlhKE",
    "outputId": "b6f6ea4d-d040-473f-dcd4-fb1e98ea5e52"
   },
   "outputs": [
    {
     "data": {
      "text/html": [
       "<div>\n",
       "<style scoped>\n",
       "    .dataframe tbody tr th:only-of-type {\n",
       "        vertical-align: middle;\n",
       "    }\n",
       "\n",
       "    .dataframe tbody tr th {\n",
       "        vertical-align: top;\n",
       "    }\n",
       "\n",
       "    .dataframe thead th {\n",
       "        text-align: right;\n",
       "    }\n",
       "</style>\n",
       "<table border=\"1\" class=\"dataframe\">\n",
       "  <thead>\n",
       "    <tr style=\"text-align: right;\">\n",
       "      <th></th>\n",
       "      <th>SName</th>\n",
       "      <th>Lyric</th>\n",
       "      <th>Artist</th>\n",
       "      <th>Genre</th>\n",
       "    </tr>\n",
       "  </thead>\n",
       "  <tbody>\n",
       "    <tr>\n",
       "      <th>/10000-maniacs/</th>\n",
       "      <td>More Than This</td>\n",
       "      <td>I could feel at the time. There was no way of ...</td>\n",
       "      <td>10000 Maniacs</td>\n",
       "      <td>Rock</td>\n",
       "    </tr>\n",
       "    <tr>\n",
       "      <th>/10000-maniacs/</th>\n",
       "      <td>Because The Night</td>\n",
       "      <td>Take me now, baby, here as I am. Hold me close...</td>\n",
       "      <td>10000 Maniacs</td>\n",
       "      <td>Rock</td>\n",
       "    </tr>\n",
       "    <tr>\n",
       "      <th>/10000-maniacs/</th>\n",
       "      <td>These Are Days</td>\n",
       "      <td>These are. These are days you'll remember. Nev...</td>\n",
       "      <td>10000 Maniacs</td>\n",
       "      <td>Rock</td>\n",
       "    </tr>\n",
       "    <tr>\n",
       "      <th>/10000-maniacs/</th>\n",
       "      <td>A Campfire Song</td>\n",
       "      <td>A lie to say, \"O my mountain has coal veins an...</td>\n",
       "      <td>10000 Maniacs</td>\n",
       "      <td>Rock</td>\n",
       "    </tr>\n",
       "    <tr>\n",
       "      <th>/10000-maniacs/</th>\n",
       "      <td>Everyday Is Like Sunday</td>\n",
       "      <td>Trudging slowly over wet sand. Back to the ben...</td>\n",
       "      <td>10000 Maniacs</td>\n",
       "      <td>Rock</td>\n",
       "    </tr>\n",
       "    <tr>\n",
       "      <th>...</th>\n",
       "      <td>...</td>\n",
       "      <td>...</td>\n",
       "      <td>...</td>\n",
       "      <td>...</td>\n",
       "    </tr>\n",
       "    <tr>\n",
       "      <th>/zz-top/</th>\n",
       "      <td>Whiskey'n Mama</td>\n",
       "      <td>I'm so tired, you on my head.. Whiskey'n mama,...</td>\n",
       "      <td>ZZ Top</td>\n",
       "      <td>Rock</td>\n",
       "    </tr>\n",
       "    <tr>\n",
       "      <th>/zz-top/</th>\n",
       "      <td>Woke Up With Wood</td>\n",
       "      <td>When I woke up this morning. I was feeling mig...</td>\n",
       "      <td>ZZ Top</td>\n",
       "      <td>Rock</td>\n",
       "    </tr>\n",
       "    <tr>\n",
       "      <th>/zz-top/</th>\n",
       "      <td>World of Swirl</td>\n",
       "      <td>I hit the street running, had an angle in mind...</td>\n",
       "      <td>ZZ Top</td>\n",
       "      <td>Rock</td>\n",
       "    </tr>\n",
       "    <tr>\n",
       "      <th>/zz-top/</th>\n",
       "      <td>Your Legs Are As Hairy As My Beard</td>\n",
       "      <td>I've got a beard. And it is long. And you've g...</td>\n",
       "      <td>ZZ Top</td>\n",
       "      <td>Rock</td>\n",
       "    </tr>\n",
       "    <tr>\n",
       "      <th>/zz-top/</th>\n",
       "      <td>Zipper Job</td>\n",
       "      <td>He/she wanna be. Body and soul just don't agre...</td>\n",
       "      <td>ZZ Top</td>\n",
       "      <td>Rock</td>\n",
       "    </tr>\n",
       "  </tbody>\n",
       "</table>\n",
       "<p>109485 rows × 4 columns</p>\n",
       "</div>"
      ],
      "text/plain": [
       "                                              SName  \\\n",
       "/10000-maniacs/                      More Than This   \n",
       "/10000-maniacs/                   Because The Night   \n",
       "/10000-maniacs/                      These Are Days   \n",
       "/10000-maniacs/                     A Campfire Song   \n",
       "/10000-maniacs/             Everyday Is Like Sunday   \n",
       "...                                             ...   \n",
       "/zz-top/                             Whiskey'n Mama   \n",
       "/zz-top/                          Woke Up With Wood   \n",
       "/zz-top/                             World of Swirl   \n",
       "/zz-top/         Your Legs Are As Hairy As My Beard   \n",
       "/zz-top/                                 Zipper Job   \n",
       "\n",
       "                                                             Lyric  \\\n",
       "/10000-maniacs/  I could feel at the time. There was no way of ...   \n",
       "/10000-maniacs/  Take me now, baby, here as I am. Hold me close...   \n",
       "/10000-maniacs/  These are. These are days you'll remember. Nev...   \n",
       "/10000-maniacs/  A lie to say, \"O my mountain has coal veins an...   \n",
       "/10000-maniacs/  Trudging slowly over wet sand. Back to the ben...   \n",
       "...                                                            ...   \n",
       "/zz-top/         I'm so tired, you on my head.. Whiskey'n mama,...   \n",
       "/zz-top/         When I woke up this morning. I was feeling mig...   \n",
       "/zz-top/         I hit the street running, had an angle in mind...   \n",
       "/zz-top/         I've got a beard. And it is long. And you've g...   \n",
       "/zz-top/         He/she wanna be. Body and soul just don't agre...   \n",
       "\n",
       "                        Artist Genre  \n",
       "/10000-maniacs/  10000 Maniacs  Rock  \n",
       "/10000-maniacs/  10000 Maniacs  Rock  \n",
       "/10000-maniacs/  10000 Maniacs  Rock  \n",
       "/10000-maniacs/  10000 Maniacs  Rock  \n",
       "/10000-maniacs/  10000 Maniacs  Rock  \n",
       "...                        ...   ...  \n",
       "/zz-top/                ZZ Top  Rock  \n",
       "/zz-top/                ZZ Top  Rock  \n",
       "/zz-top/                ZZ Top  Rock  \n",
       "/zz-top/                ZZ Top  Rock  \n",
       "/zz-top/                ZZ Top  Rock  \n",
       "\n",
       "[109485 rows x 4 columns]"
      ]
     },
     "execution_count": 132,
     "metadata": {},
     "output_type": "execute_result"
    }
   ],
   "source": [
    "# drop na values that couldn't be matched\n",
    "df_total = df_total[~df_total[\"Genre\"].isnull()]\n",
    "df_total"
   ]
  },
  {
   "cell_type": "code",
   "execution_count": 133,
   "metadata": {},
   "outputs": [
    {
     "data": {
      "text/html": [
       "<div>\n",
       "<style scoped>\n",
       "    .dataframe tbody tr th:only-of-type {\n",
       "        vertical-align: middle;\n",
       "    }\n",
       "\n",
       "    .dataframe tbody tr th {\n",
       "        vertical-align: top;\n",
       "    }\n",
       "\n",
       "    .dataframe thead th {\n",
       "        text-align: right;\n",
       "    }\n",
       "</style>\n",
       "<table border=\"1\" class=\"dataframe\">\n",
       "  <thead>\n",
       "    <tr style=\"text-align: right;\">\n",
       "      <th></th>\n",
       "      <th>SName</th>\n",
       "      <th>Lyric</th>\n",
       "      <th>Artist</th>\n",
       "      <th>Genre</th>\n",
       "    </tr>\n",
       "  </thead>\n",
       "  <tbody>\n",
       "    <tr>\n",
       "      <th>0</th>\n",
       "      <td>More Than This</td>\n",
       "      <td>I could feel at the time. There was no way of ...</td>\n",
       "      <td>10000 Maniacs</td>\n",
       "      <td>Rock</td>\n",
       "    </tr>\n",
       "    <tr>\n",
       "      <th>1</th>\n",
       "      <td>Because The Night</td>\n",
       "      <td>Take me now, baby, here as I am. Hold me close...</td>\n",
       "      <td>10000 Maniacs</td>\n",
       "      <td>Rock</td>\n",
       "    </tr>\n",
       "    <tr>\n",
       "      <th>2</th>\n",
       "      <td>These Are Days</td>\n",
       "      <td>These are. These are days you'll remember. Nev...</td>\n",
       "      <td>10000 Maniacs</td>\n",
       "      <td>Rock</td>\n",
       "    </tr>\n",
       "    <tr>\n",
       "      <th>3</th>\n",
       "      <td>A Campfire Song</td>\n",
       "      <td>A lie to say, \"O my mountain has coal veins an...</td>\n",
       "      <td>10000 Maniacs</td>\n",
       "      <td>Rock</td>\n",
       "    </tr>\n",
       "    <tr>\n",
       "      <th>4</th>\n",
       "      <td>Everyday Is Like Sunday</td>\n",
       "      <td>Trudging slowly over wet sand. Back to the ben...</td>\n",
       "      <td>10000 Maniacs</td>\n",
       "      <td>Rock</td>\n",
       "    </tr>\n",
       "    <tr>\n",
       "      <th>...</th>\n",
       "      <td>...</td>\n",
       "      <td>...</td>\n",
       "      <td>...</td>\n",
       "      <td>...</td>\n",
       "    </tr>\n",
       "    <tr>\n",
       "      <th>155478</th>\n",
       "      <td>The New Dawn</td>\n",
       "      <td>Through the storm like the wind we ride Leavin...</td>\n",
       "      <td>ensiferum</td>\n",
       "      <td>Metal</td>\n",
       "    </tr>\n",
       "    <tr>\n",
       "      <th>155479</th>\n",
       "      <td>Victory Song</td>\n",
       "      <td>The plan of invasion an Evil deception Was mad...</td>\n",
       "      <td>ensiferum</td>\n",
       "      <td>Metal</td>\n",
       "    </tr>\n",
       "    <tr>\n",
       "      <th>155480</th>\n",
       "      <td>Lady In Black</td>\n",
       "      <td>originally by Uriah Heep She came to me one m...</td>\n",
       "      <td>ensiferum</td>\n",
       "      <td>Metal</td>\n",
       "    </tr>\n",
       "    <tr>\n",
       "      <th>155481</th>\n",
       "      <td>One More Magic Potion</td>\n",
       "      <td>Once when we were returning from a battle and ...</td>\n",
       "      <td>ensiferum</td>\n",
       "      <td>Metal</td>\n",
       "    </tr>\n",
       "    <tr>\n",
       "      <th>155482</th>\n",
       "      <td>Wanderer</td>\n",
       "      <td>In time bleeding wounds will heal Unlike some ...</td>\n",
       "      <td>ensiferum</td>\n",
       "      <td>Metal</td>\n",
       "    </tr>\n",
       "  </tbody>\n",
       "</table>\n",
       "<p>155483 rows × 4 columns</p>\n",
       "</div>"
      ],
      "text/plain": [
       "                          SName  \\\n",
       "0                More Than This   \n",
       "1             Because The Night   \n",
       "2                These Are Days   \n",
       "3               A Campfire Song   \n",
       "4       Everyday Is Like Sunday   \n",
       "...                         ...   \n",
       "155478             The New Dawn   \n",
       "155479             Victory Song   \n",
       "155480            Lady In Black   \n",
       "155481    One More Magic Potion   \n",
       "155482                 Wanderer   \n",
       "\n",
       "                                                    Lyric         Artist  \\\n",
       "0       I could feel at the time. There was no way of ...  10000 Maniacs   \n",
       "1       Take me now, baby, here as I am. Hold me close...  10000 Maniacs   \n",
       "2       These are. These are days you'll remember. Nev...  10000 Maniacs   \n",
       "3       A lie to say, \"O my mountain has coal veins an...  10000 Maniacs   \n",
       "4       Trudging slowly over wet sand. Back to the ben...  10000 Maniacs   \n",
       "...                                                   ...            ...   \n",
       "155478  Through the storm like the wind we ride Leavin...      ensiferum   \n",
       "155479  The plan of invasion an Evil deception Was mad...      ensiferum   \n",
       "155480   originally by Uriah Heep She came to me one m...      ensiferum   \n",
       "155481  Once when we were returning from a battle and ...      ensiferum   \n",
       "155482  In time bleeding wounds will heal Unlike some ...      ensiferum   \n",
       "\n",
       "        Genre  \n",
       "0        Rock  \n",
       "1        Rock  \n",
       "2        Rock  \n",
       "3        Rock  \n",
       "4        Rock  \n",
       "...       ...  \n",
       "155478  Metal  \n",
       "155479  Metal  \n",
       "155480  Metal  \n",
       "155481  Metal  \n",
       "155482  Metal  \n",
       "\n",
       "[155483 rows x 4 columns]"
      ]
     },
     "execution_count": 133,
     "metadata": {},
     "output_type": "execute_result"
    }
   ],
   "source": [
    "# add metal dataset\n",
    "df_total = df_total.append(df_metal2, ignore_index=True)\n",
    "df_total"
   ]
  },
  {
   "cell_type": "code",
   "execution_count": 134,
   "metadata": {
    "colab": {},
    "colab_type": "code",
    "id": "OOPY8_CPlhKI"
   },
   "outputs": [],
   "source": [
    "#TODO: Sort by Genre so we know the splits in the data for cosine similarities\n",
    "df_total = df_total.sort_values(ascending=True, by=\"Genre\")\n",
    "df_total = df_total.reset_index()\n",
    "df_total = df_total.drop([\"index\"], axis=1)"
   ]
  },
  {
   "cell_type": "code",
   "execution_count": 135,
   "metadata": {
    "colab": {},
    "colab_type": "code",
    "id": "ShksNVU0lhKJ",
    "outputId": "e185a94d-a14a-4e19-a165-1623ab7095d9"
   },
   "outputs": [
    {
     "data": {
      "text/html": [
       "<div>\n",
       "<style scoped>\n",
       "    .dataframe tbody tr th:only-of-type {\n",
       "        vertical-align: middle;\n",
       "    }\n",
       "\n",
       "    .dataframe tbody tr th {\n",
       "        vertical-align: top;\n",
       "    }\n",
       "\n",
       "    .dataframe thead th {\n",
       "        text-align: right;\n",
       "    }\n",
       "</style>\n",
       "<table border=\"1\" class=\"dataframe\">\n",
       "  <thead>\n",
       "    <tr style=\"text-align: right;\">\n",
       "      <th></th>\n",
       "      <th>SName</th>\n",
       "      <th>Lyric</th>\n",
       "      <th>Artist</th>\n",
       "      <th>Genre</th>\n",
       "    </tr>\n",
       "  </thead>\n",
       "  <tbody>\n",
       "    <tr>\n",
       "      <th>0</th>\n",
       "      <td>Right For Me</td>\n",
       "      <td>I got plans tonight. And you, you know what I ...</td>\n",
       "      <td>Justin Timberlake</td>\n",
       "      <td>Hip Hop</td>\n",
       "    </tr>\n",
       "    <tr>\n",
       "      <th>1</th>\n",
       "      <td>King of New York</td>\n",
       "      <td>[Saya]. An' bamba clad boy feel dem bobbin try...</td>\n",
       "      <td>Fat Joe</td>\n",
       "      <td>Hip Hop</td>\n",
       "    </tr>\n",
       "    <tr>\n",
       "      <th>2</th>\n",
       "      <td>Lean Back</td>\n",
       "      <td>Yeah... My niggas.... Throw ya hands in the ai...</td>\n",
       "      <td>Fat Joe</td>\n",
       "      <td>Hip Hop</td>\n",
       "    </tr>\n",
       "    <tr>\n",
       "      <th>3</th>\n",
       "      <td>Lean Back (remix) Featuring Lil Jon, Eminem</td>\n",
       "      <td>[Intro - Lil Jon]. Stop! It's the mothafuckin ...</td>\n",
       "      <td>Fat Joe</td>\n",
       "      <td>Hip Hop</td>\n",
       "    </tr>\n",
       "    <tr>\n",
       "      <th>4</th>\n",
       "      <td>Life Goes On</td>\n",
       "      <td>[Intro - Fat Joe talking]. Yeah, uh, yeah, Loy...</td>\n",
       "      <td>Fat Joe</td>\n",
       "      <td>Hip Hop</td>\n",
       "    </tr>\n",
       "    <tr>\n",
       "      <th>...</th>\n",
       "      <td>...</td>\n",
       "      <td>...</td>\n",
       "      <td>...</td>\n",
       "      <td>...</td>\n",
       "    </tr>\n",
       "    <tr>\n",
       "      <th>155478</th>\n",
       "      <td>One Big Holiday</td>\n",
       "      <td>wakin' up, feelin' good &amp; limber. when the tel...</td>\n",
       "      <td>My Morning Jacket</td>\n",
       "      <td>Rock</td>\n",
       "    </tr>\n",
       "    <tr>\n",
       "      <th>155479</th>\n",
       "      <td>One In The Same</td>\n",
       "      <td>On the way back home.... How long did it seem?...</td>\n",
       "      <td>My Morning Jacket</td>\n",
       "      <td>Rock</td>\n",
       "    </tr>\n",
       "    <tr>\n",
       "      <th>155480</th>\n",
       "      <td>Only Memories Remain</td>\n",
       "      <td>Only memories remain. Only memories remain. Fo...</td>\n",
       "      <td>My Morning Jacket</td>\n",
       "      <td>Rock</td>\n",
       "    </tr>\n",
       "    <tr>\n",
       "      <th>155481</th>\n",
       "      <td>I Will Be There When You Die</td>\n",
       "      <td>joe was born in new york city, son of paul and...</td>\n",
       "      <td>My Morning Jacket</td>\n",
       "      <td>Rock</td>\n",
       "    </tr>\n",
       "    <tr>\n",
       "      <th>155482</th>\n",
       "      <td>More Than This</td>\n",
       "      <td>I could feel at the time. There was no way of ...</td>\n",
       "      <td>10000 Maniacs</td>\n",
       "      <td>Rock</td>\n",
       "    </tr>\n",
       "  </tbody>\n",
       "</table>\n",
       "<p>155483 rows × 4 columns</p>\n",
       "</div>"
      ],
      "text/plain": [
       "                                              SName  \\\n",
       "0                                      Right For Me   \n",
       "1                                  King of New York   \n",
       "2                                         Lean Back   \n",
       "3       Lean Back (remix) Featuring Lil Jon, Eminem   \n",
       "4                                      Life Goes On   \n",
       "...                                             ...   \n",
       "155478                              One Big Holiday   \n",
       "155479                              One In The Same   \n",
       "155480                         Only Memories Remain   \n",
       "155481                 I Will Be There When You Die   \n",
       "155482                               More Than This   \n",
       "\n",
       "                                                    Lyric             Artist  \\\n",
       "0       I got plans tonight. And you, you know what I ...  Justin Timberlake   \n",
       "1       [Saya]. An' bamba clad boy feel dem bobbin try...            Fat Joe   \n",
       "2       Yeah... My niggas.... Throw ya hands in the ai...            Fat Joe   \n",
       "3       [Intro - Lil Jon]. Stop! It's the mothafuckin ...            Fat Joe   \n",
       "4       [Intro - Fat Joe talking]. Yeah, uh, yeah, Loy...            Fat Joe   \n",
       "...                                                   ...                ...   \n",
       "155478  wakin' up, feelin' good & limber. when the tel...  My Morning Jacket   \n",
       "155479  On the way back home.... How long did it seem?...  My Morning Jacket   \n",
       "155480  Only memories remain. Only memories remain. Fo...  My Morning Jacket   \n",
       "155481  joe was born in new york city, son of paul and...  My Morning Jacket   \n",
       "155482  I could feel at the time. There was no way of ...      10000 Maniacs   \n",
       "\n",
       "          Genre  \n",
       "0       Hip Hop  \n",
       "1       Hip Hop  \n",
       "2       Hip Hop  \n",
       "3       Hip Hop  \n",
       "4       Hip Hop  \n",
       "...         ...  \n",
       "155478     Rock  \n",
       "155479     Rock  \n",
       "155480     Rock  \n",
       "155481     Rock  \n",
       "155482     Rock  \n",
       "\n",
       "[155483 rows x 4 columns]"
      ]
     },
     "execution_count": 135,
     "metadata": {},
     "output_type": "execute_result"
    }
   ],
   "source": [
    "df_total"
   ]
  },
  {
   "cell_type": "code",
   "execution_count": 136,
   "metadata": {},
   "outputs": [
    {
     "data": {
      "text/plain": [
       "Rock       55802\n",
       "Metal      45998\n",
       "Pop        34974\n",
       "Hip Hop    18709\n",
       "Name: Genre, dtype: int64"
      ]
     },
     "execution_count": 136,
     "metadata": {},
     "output_type": "execute_result"
    }
   ],
   "source": [
    "df_total[\"Genre\"].value_counts()"
   ]
  },
  {
   "cell_type": "code",
   "execution_count": 137,
   "metadata": {},
   "outputs": [],
   "source": [
    "# text = [\"Hello [CHORUS] and then more (repeat 2x)\", \"Another text [intro] and [Repeat]\", \"THis is just text\"]\n",
    "# text"
   ]
  },
  {
   "cell_type": "code",
   "execution_count": 138,
   "metadata": {},
   "outputs": [],
   "source": [
    "# df_total_bak = df_total"
   ]
  },
  {
   "cell_type": "code",
   "execution_count": 139,
   "metadata": {},
   "outputs": [],
   "source": [
    "# df_total = df_total_bak\n",
    "# df_total.drop([\"Lyrics_cleaned\"], axis=1)"
   ]
  },
  {
   "cell_type": "code",
   "execution_count": 140,
   "metadata": {},
   "outputs": [
    {
     "data": {
      "text/html": [
       "<div>\n",
       "<style scoped>\n",
       "    .dataframe tbody tr th:only-of-type {\n",
       "        vertical-align: middle;\n",
       "    }\n",
       "\n",
       "    .dataframe tbody tr th {\n",
       "        vertical-align: top;\n",
       "    }\n",
       "\n",
       "    .dataframe thead th {\n",
       "        text-align: right;\n",
       "    }\n",
       "</style>\n",
       "<table border=\"1\" class=\"dataframe\">\n",
       "  <thead>\n",
       "    <tr style=\"text-align: right;\">\n",
       "      <th></th>\n",
       "      <th>SName</th>\n",
       "      <th>Lyric</th>\n",
       "      <th>Artist</th>\n",
       "      <th>Genre</th>\n",
       "    </tr>\n",
       "  </thead>\n",
       "  <tbody>\n",
       "    <tr>\n",
       "      <th>0</th>\n",
       "      <td>Right For Me</td>\n",
       "      <td>I got plans tonight. And you, you know what I ...</td>\n",
       "      <td>Justin Timberlake</td>\n",
       "      <td>Hip Hop</td>\n",
       "    </tr>\n",
       "    <tr>\n",
       "      <th>1</th>\n",
       "      <td>King of New York</td>\n",
       "      <td>[Saya]. An' bamba clad boy feel dem bobbin try...</td>\n",
       "      <td>Fat Joe</td>\n",
       "      <td>Hip Hop</td>\n",
       "    </tr>\n",
       "    <tr>\n",
       "      <th>2</th>\n",
       "      <td>Lean Back</td>\n",
       "      <td>Yeah... My niggas.... Throw ya hands in the ai...</td>\n",
       "      <td>Fat Joe</td>\n",
       "      <td>Hip Hop</td>\n",
       "    </tr>\n",
       "    <tr>\n",
       "      <th>3</th>\n",
       "      <td>Lean Back (remix) Featuring Lil Jon, Eminem</td>\n",
       "      <td>[Intro - Lil Jon]. Stop! It's the mothafuckin ...</td>\n",
       "      <td>Fat Joe</td>\n",
       "      <td>Hip Hop</td>\n",
       "    </tr>\n",
       "    <tr>\n",
       "      <th>4</th>\n",
       "      <td>Life Goes On</td>\n",
       "      <td>[Intro - Fat Joe talking]. Yeah, uh, yeah, Loy...</td>\n",
       "      <td>Fat Joe</td>\n",
       "      <td>Hip Hop</td>\n",
       "    </tr>\n",
       "    <tr>\n",
       "      <th>...</th>\n",
       "      <td>...</td>\n",
       "      <td>...</td>\n",
       "      <td>...</td>\n",
       "      <td>...</td>\n",
       "    </tr>\n",
       "    <tr>\n",
       "      <th>155478</th>\n",
       "      <td>One Big Holiday</td>\n",
       "      <td>wakin' up, feelin' good &amp; limber. when the tel...</td>\n",
       "      <td>My Morning Jacket</td>\n",
       "      <td>Rock</td>\n",
       "    </tr>\n",
       "    <tr>\n",
       "      <th>155479</th>\n",
       "      <td>One In The Same</td>\n",
       "      <td>On the way back home.... How long did it seem?...</td>\n",
       "      <td>My Morning Jacket</td>\n",
       "      <td>Rock</td>\n",
       "    </tr>\n",
       "    <tr>\n",
       "      <th>155480</th>\n",
       "      <td>Only Memories Remain</td>\n",
       "      <td>Only memories remain. Only memories remain. Fo...</td>\n",
       "      <td>My Morning Jacket</td>\n",
       "      <td>Rock</td>\n",
       "    </tr>\n",
       "    <tr>\n",
       "      <th>155481</th>\n",
       "      <td>I Will Be There When You Die</td>\n",
       "      <td>joe was born in new york city, son of paul and...</td>\n",
       "      <td>My Morning Jacket</td>\n",
       "      <td>Rock</td>\n",
       "    </tr>\n",
       "    <tr>\n",
       "      <th>155482</th>\n",
       "      <td>More Than This</td>\n",
       "      <td>I could feel at the time. There was no way of ...</td>\n",
       "      <td>10000 Maniacs</td>\n",
       "      <td>Rock</td>\n",
       "    </tr>\n",
       "  </tbody>\n",
       "</table>\n",
       "<p>155483 rows × 4 columns</p>\n",
       "</div>"
      ],
      "text/plain": [
       "                                              SName  \\\n",
       "0                                      Right For Me   \n",
       "1                                  King of New York   \n",
       "2                                         Lean Back   \n",
       "3       Lean Back (remix) Featuring Lil Jon, Eminem   \n",
       "4                                      Life Goes On   \n",
       "...                                             ...   \n",
       "155478                              One Big Holiday   \n",
       "155479                              One In The Same   \n",
       "155480                         Only Memories Remain   \n",
       "155481                 I Will Be There When You Die   \n",
       "155482                               More Than This   \n",
       "\n",
       "                                                    Lyric             Artist  \\\n",
       "0       I got plans tonight. And you, you know what I ...  Justin Timberlake   \n",
       "1       [Saya]. An' bamba clad boy feel dem bobbin try...            Fat Joe   \n",
       "2       Yeah... My niggas.... Throw ya hands in the ai...            Fat Joe   \n",
       "3       [Intro - Lil Jon]. Stop! It's the mothafuckin ...            Fat Joe   \n",
       "4       [Intro - Fat Joe talking]. Yeah, uh, yeah, Loy...            Fat Joe   \n",
       "...                                                   ...                ...   \n",
       "155478  wakin' up, feelin' good & limber. when the tel...  My Morning Jacket   \n",
       "155479  On the way back home.... How long did it seem?...  My Morning Jacket   \n",
       "155480  Only memories remain. Only memories remain. Fo...  My Morning Jacket   \n",
       "155481  joe was born in new york city, son of paul and...  My Morning Jacket   \n",
       "155482  I could feel at the time. There was no way of ...      10000 Maniacs   \n",
       "\n",
       "          Genre  \n",
       "0       Hip Hop  \n",
       "1       Hip Hop  \n",
       "2       Hip Hop  \n",
       "3       Hip Hop  \n",
       "4       Hip Hop  \n",
       "...         ...  \n",
       "155478     Rock  \n",
       "155479     Rock  \n",
       "155480     Rock  \n",
       "155481     Rock  \n",
       "155482     Rock  \n",
       "\n",
       "[155483 rows x 4 columns]"
      ]
     },
     "execution_count": 140,
     "metadata": {},
     "output_type": "execute_result"
    }
   ],
   "source": [
    "df_total"
   ]
  },
  {
   "cell_type": "markdown",
   "metadata": {},
   "source": [
    "**This is the dataset that I will be using Below**"
   ]
  },
  {
   "cell_type": "markdown",
   "metadata": {
    "colab_type": "text",
    "id": "jIeJjmOAlhKM"
   },
   "source": [
    "Create ranges for the different genres"
   ]
  },
  {
   "cell_type": "code",
   "execution_count": 141,
   "metadata": {
    "colab": {},
    "colab_type": "code",
    "id": "6OWL91MNlhKM",
    "outputId": "528c9502-c004-4053-f8af-d54de0ad99c3"
   },
   "outputs": [
    {
     "name": "stdout",
     "output_type": "stream",
     "text": [
      "['Hip Hop', 'Pop', 'Rock']\n",
      "[(0, 18709), (18709, 53683), (53683, 109485)]\n"
     ]
    }
   ],
   "source": [
    "# original\n",
    "# genres = [\"Rock\", \"Pop\", \"Hip Hop\"]\n",
    "\n",
    "count = 0\n",
    "start = 0\n",
    "ranges = []\n",
    "for g in genres:\n",
    "  total_in_genre = len(df_total[df_total[\"Genre\"] == g])\n",
    "  count += total_in_genre\n",
    "  ranges.append((start, count))\n",
    "  start = count\n",
    "print(genres)\n",
    "print(ranges)"
   ]
  },
  {
   "cell_type": "code",
   "execution_count": 142,
   "metadata": {
    "colab": {},
    "colab_type": "code",
    "id": "HYJK2QD4lhKT"
   },
   "outputs": [],
   "source": [
    "# if LOAD_DATA:\n",
    "#   df_total = pd.read_csv(f'{path}df_total.csv')\n",
    "\n",
    "# if SAVE_DATA:\n",
    "#   df_total.to_csv(f'{path}df_total.csv')"
   ]
  },
  {
   "cell_type": "markdown",
   "metadata": {},
   "source": [
    "Simplify the data structure\n",
    "- y: y[\"Lyrics\"] # predictor variable\n",
    "- X: X[\"Genre\"] # outcome"
   ]
  },
  {
   "cell_type": "code",
   "execution_count": 143,
   "metadata": {
    "colab": {},
    "colab_type": "code",
    "id": "xJ359To-lhKV"
   },
   "outputs": [],
   "source": [
    "def simplify_data(data):\n",
    "  y = data[\"Genre\"]\n",
    "  y = y.reset_index()\n",
    "  y = y.drop('index', axis=1)\n",
    "  \n",
    "  X= data[\"Lyric\"]\n",
    "  X = X.reset_index()\n",
    "  X = X.drop(\"index\", axis=1)\n",
    "  return (X,y)\n",
    "\n"
   ]
  },
  {
   "cell_type": "code",
   "execution_count": 144,
   "metadata": {
    "colab": {},
    "colab_type": "code",
    "id": "1Jw8PSzmlhKY"
   },
   "outputs": [],
   "source": [
    "X, y = simplify_data(df_total)\n"
   ]
  },
  {
   "cell_type": "code",
   "execution_count": 145,
   "metadata": {
    "colab": {},
    "colab_type": "code",
    "id": "f-B1LLmRlhKb",
    "outputId": "994fe616-9eb9-4b71-a651-e034ed0cda65"
   },
   "outputs": [
    {
     "name": "stdout",
     "output_type": "stream",
     "text": [
      "155483\n"
     ]
    },
    {
     "data": {
      "text/html": [
       "<div>\n",
       "<style scoped>\n",
       "    .dataframe tbody tr th:only-of-type {\n",
       "        vertical-align: middle;\n",
       "    }\n",
       "\n",
       "    .dataframe tbody tr th {\n",
       "        vertical-align: top;\n",
       "    }\n",
       "\n",
       "    .dataframe thead th {\n",
       "        text-align: right;\n",
       "    }\n",
       "</style>\n",
       "<table border=\"1\" class=\"dataframe\">\n",
       "  <thead>\n",
       "    <tr style=\"text-align: right;\">\n",
       "      <th></th>\n",
       "      <th>Lyric</th>\n",
       "    </tr>\n",
       "  </thead>\n",
       "  <tbody>\n",
       "    <tr>\n",
       "      <th>0</th>\n",
       "      <td>I got plans tonight. And you, you know what I ...</td>\n",
       "    </tr>\n",
       "    <tr>\n",
       "      <th>1</th>\n",
       "      <td>[Saya]. An' bamba clad boy feel dem bobbin try...</td>\n",
       "    </tr>\n",
       "  </tbody>\n",
       "</table>\n",
       "</div>"
      ],
      "text/plain": [
       "                                               Lyric\n",
       "0  I got plans tonight. And you, you know what I ...\n",
       "1  [Saya]. An' bamba clad boy feel dem bobbin try..."
      ]
     },
     "execution_count": 145,
     "metadata": {},
     "output_type": "execute_result"
    }
   ],
   "source": [
    "print(len(X))\n",
    "X[0:2]\n"
   ]
  },
  {
   "cell_type": "code",
   "execution_count": 146,
   "metadata": {
    "colab": {},
    "colab_type": "code",
    "id": "Sg9UtdaalhKe",
    "outputId": "52092a52-44fe-4da6-d024-81a995b08668"
   },
   "outputs": [
    {
     "name": "stdout",
     "output_type": "stream",
     "text": [
      "155483\n"
     ]
    },
    {
     "data": {
      "text/html": [
       "<div>\n",
       "<style scoped>\n",
       "    .dataframe tbody tr th:only-of-type {\n",
       "        vertical-align: middle;\n",
       "    }\n",
       "\n",
       "    .dataframe tbody tr th {\n",
       "        vertical-align: top;\n",
       "    }\n",
       "\n",
       "    .dataframe thead th {\n",
       "        text-align: right;\n",
       "    }\n",
       "</style>\n",
       "<table border=\"1\" class=\"dataframe\">\n",
       "  <thead>\n",
       "    <tr style=\"text-align: right;\">\n",
       "      <th></th>\n",
       "      <th>Genre</th>\n",
       "    </tr>\n",
       "  </thead>\n",
       "  <tbody>\n",
       "    <tr>\n",
       "      <th>0</th>\n",
       "      <td>Hip Hop</td>\n",
       "    </tr>\n",
       "    <tr>\n",
       "      <th>1</th>\n",
       "      <td>Hip Hop</td>\n",
       "    </tr>\n",
       "  </tbody>\n",
       "</table>\n",
       "</div>"
      ],
      "text/plain": [
       "     Genre\n",
       "0  Hip Hop\n",
       "1  Hip Hop"
      ]
     },
     "execution_count": 146,
     "metadata": {},
     "output_type": "execute_result"
    }
   ],
   "source": [
    "print(len(y))\n",
    "y[0:2]"
   ]
  },
  {
   "cell_type": "markdown",
   "metadata": {
    "colab_type": "text",
    "id": "C7e49j3clhKo"
   },
   "source": [
    "## Top words\n",
    "Get the top word of the whole data set. This will help in the cleanup and the fine tuning of the tokenizer. "
   ]
  },
  {
   "cell_type": "code",
   "execution_count": 147,
   "metadata": {
    "colab": {},
    "colab_type": "code",
    "id": "nTM4cl0NlhKq"
   },
   "outputs": [],
   "source": [
    "# Use the default tokenizer\n",
    "cv = CountVectorizer(lowercase=True, max_df=0.98, min_df=0.01, stop_words='english')\n",
    "# cv = CountVectorizer(tokenizer=lyric_tokenizer, lowercase=True, max_df=0.98, min_df=0.01)\n",
    "\n",
    "word_count_vecs = cv.fit_transform(X[\"Lyric\"]).toarray()\n",
    "\n",
    "# get_feature_names gets the vocabulary of the vectorizer in order\n",
    "word_count = dict(zip(cv.get_feature_names(), word_count_vecs.sum(axis=0)))"
   ]
  },
  {
   "cell_type": "code",
   "execution_count": 148,
   "metadata": {
    "colab": {},
    "colab_type": "code",
    "id": "9ZvHKqYnlhKt",
    "outputId": "71fefc33-90c8-462f-b901-19e86ef0bccc"
   },
   "outputs": [
    {
     "data": {
      "text/plain": [
       "[('don', 238518),\n",
       " ('like', 222077),\n",
       " ('know', 218528),\n",
       " ('love', 201245),\n",
       " ('just', 187794),\n",
       " ('oh', 167264),\n",
       " ('got', 159428),\n",
       " ('ll', 151732),\n",
       " ('let', 124327),\n",
       " ('time', 121093),\n",
       " ('yeah', 112382),\n",
       " ('baby', 110821),\n",
       " ('ve', 103504),\n",
       " ('want', 100032),\n",
       " ('come', 98223),\n",
       " ('make', 94603),\n",
       " ('say', 93307),\n",
       " ('cause', 91882),\n",
       " ('way', 91530),\n",
       " ('life', 86873),\n",
       " ('wanna', 84403),\n",
       " ('feel', 79324),\n",
       " ('gonna', 71830),\n",
       " ('right', 71349),\n",
       " ('ain', 71162),\n",
       " ('away', 71130),\n",
       " ('girl', 70623),\n",
       " ('need', 70167),\n",
       " ('tell', 64221),\n",
       " ('night', 63491)]"
      ]
     },
     "execution_count": 148,
     "metadata": {},
     "output_type": "execute_result"
    }
   ],
   "source": [
    "# get the top n words\n",
    "sorted(word_count.items(), key=lambda x: x[1], reverse=True)[:30]"
   ]
  },
  {
   "cell_type": "markdown",
   "metadata": {
    "colab_type": "text",
    "id": "nzszl5aWlhKy"
   },
   "source": [
    "default tokenizer: Comon word word: don('t), like, know, love, just, oh, 'll, yeah, baby, time, wnat, 've, cause, say. (no min_df, max_df, excl sto pwords)\n",
    "max_df: very common word\n",
    "min_df: very uncommon\n",
    "\n",
    "\n",
    "[('don', 218634),\n",
    " ('like', 204500),\n",
    " ('know', 200799),\n",
    " ('love', 189709),\n",
    " ('just', 169860),\n",
    " ('oh', 158864),\n",
    " ('got', 152153),\n",
    " ('ll', 129728),\n",
    " ('let', 111768),\n",
    " ('yeah', 109196),\n",
    " ('baby', 108733),\n",
    " ('time', 98020),\n",
    " ('want', 91574),\n",
    " ('ve', 86794),\n",
    " ('cause', 86522),\n",
    " ('say', 86175),\n",
    " ('make', 85829),\n",
    " ('come', 84710),\n",
    " ('wanna', 81118),\n"
   ]
  },
  {
   "cell_type": "markdown",
   "metadata": {
    "colab_type": "text",
    "id": "lijbPoYulhKz"
   },
   "source": [
    "lyric tokenizier\n",
    "[('know', 228895),\n",
    " ('get', 210308),\n",
    " ('like', 206918),\n",
    " ('love', 206528),\n",
    " ('oh', 157188),\n",
    " ('go', 142213),\n",
    " ('come', 128330),\n",
    " ('yes', 120515),\n",
    " ('let', 116793),\n",
    " ('time', 110263),\n",
    " ('baby', 108838),\n",
    " ('want', 107840),\n",
    " ('to', 104806),\n",
    " ('feel', 101086),\n",
    " ('be', 89481),\n",
    " ('girl', 84078),\n",
    " ('way', 82183),\n",
    " ('wanna', 81094),\n",
    " ('tell', 79401),\n",
    " ('think', 74498)]\n",
    " "
   ]
  },
  {
   "cell_type": "markdown",
   "metadata": {
    "colab_type": "text",
    "id": "Ks_QqzmslhKz"
   },
   "source": [
    "# Initial Setup"
   ]
  },
  {
   "cell_type": "markdown",
   "metadata": {
    "colab_type": "text",
    "id": "o-vhSUqllhK2"
   },
   "source": [
    "## Visual inspection of the data\n",
    "\n",
    "From visual inspection of the data:\n",
    "\n",
    "- text and chords between square bracket, [CHORUS], [Dm], [50 Cent]. etc:  greedy: `\\[.*?\\]` (better for purpose (non greedy: `\\[.*\\]` and `\\(.*\\)` )\n",
    "- manu times thing between regular brackets will be additional no lyrics info. In other cases it can be the second voice line or background singers.\n",
    "- words: CHORUS, REPEAT, verse, bridge ['chorus', ] \n",
    "- 2x: \\dx\n",
    "- chords: E B (single character, Em, Dm A7\n",
    "\n",
    "TABS, digits and non alpha numerical characters\n",
    "```\n",
    "+-------------------------------------------------------------------\n",
    "+-------------------------------------------------------------------\n",
    "+-----------7---7---7---7-----6--6--6--6--6--6----------------------\n",
    "+-----------7---7---7---7-----6--6--6--6--6--6----------------------\n",
    "+-----------5---5---5---5-----4--4--4--4--4--4----------------------\n",
    "+-------------------------------------------------------------------\n",
    "```\n",
    "\n",
    "Comments:\n",
    "```\n",
    "Denis\n",
    "edj1234@bosoleil.ci.umoncton.ca\n",
    "Certain parts of the solos may be incorrectly transcribed, but they\n",
    "should be in the right key anyway. Make amends where you see fit.\n",
    "1st solo(w/wah,distortion)-\n",
    "```\n",
    "\n",
    "Will be hard to remove. URL and email should be removed. \n",
    "\n",
    "\n",
    "Whole instructions:\n",
    "```\n",
    "Duration Legend\n",
    "---------------\n",
    "W - whole\n",
    "H - half\n",
    "Q - quarter\n",
    "E - 8th\n",
    "S - 16th\n",
    "T - 32nd\n",
    "X - 64th\n",
    ". - note dotted\n",
    "|-n-| - n-tuplets\n",
    "Tablature Legend\n",
    "----------------\n",
    "L - tied note\n",
    "x - dead note\n",
    "g - grace note\n",
    "(n) - ghost note\n",
    "> - accentuded note\n",
    "NH - natural harmonic\n",
    "AH - artificial harmonic\n",
    "TH - tapped harmonic\n",
    "SH - semi harmonic\n",
    "PH - pitch harmonic\n",
    "h - hammer on\n",
    "p - pull off\n",
    "b - bend\n",
    "br - bendRelease\n",
    "pb - preBend\n",
    "(...)\n",
    "```\n",
    "\n",
    "- Sometimes artist names appear in the lyrics. If it is actually in the lyrics this is OK (some artist say their name a lot in songs), but in the case of featuring XXX, this give may give hints away. As well with text such as `(Skid Row Cover)`"
   ]
  },
  {
   "cell_type": "markdown",
   "metadata": {
    "colab_type": "text",
    "id": "TlyYio10lhK2"
   },
   "source": [
    "### Split into test/train/validation"
   ]
  },
  {
   "cell_type": "code",
   "execution_count": 149,
   "metadata": {
    "colab": {},
    "colab_type": "code",
    "id": "usTK9Px6oNk5"
   },
   "outputs": [
    {
     "name": "stdout",
     "output_type": "stream",
     "text": [
      "Training:  76120 76120\n",
      "Validation:  32607 32607\n",
      "Test:  46756 46756\n"
     ]
    }
   ],
   "source": [
    "x_train, y_train, x_val, y_val, x_test, y_test = split_train_val_test(X, y)"
   ]
  },
  {
   "cell_type": "markdown",
   "metadata": {
    "colab_type": "text",
    "id": "Fnenm7xWlhK4"
   },
   "source": [
    "### Tokenizer"
   ]
  },
  {
   "cell_type": "code",
   "execution_count": 150,
   "metadata": {
    "colab": {},
    "colab_type": "code",
    "id": "4ueknOlklhK8"
   },
   "outputs": [],
   "source": [
    "def simple_tokenizer(doc, model=en):\n",
    "    # a simple tokenizer for individual documents (different from above)\n",
    "    tokenized_docs = []\n",
    "    parsed = model(doc)\n",
    "    return([t.lemma_ for t in parsed if (t.is_alpha)])\n",
    "    "
   ]
  },
  {
   "cell_type": "code",
   "execution_count": 151,
   "metadata": {
    "colab": {},
    "colab_type": "code",
    "id": "aATOgxaTlhK-",
    "outputId": "84837e20-ccfd-4d4e-b342-5089720153b1"
   },
   "outputs": [],
   "source": [
    "\n",
    "# TODO: clean up, not used right now\n",
    "# filename = \"tokens.pkl\"\n",
    "\n",
    "# my_file = Path(f\"{path}{filename}\")\n",
    "\n",
    "# if LOAD_DATA and my_file.is_file():\n",
    "#   print(\"loading file\")\n",
    "#   (train_tokens, test_tokens, val_tokens) = load_file(filename)\n",
    "# else:\n",
    "#   print(\"generating tokens\")\n",
    "#   train_tokens =  [simple_tokenizer(x) for x in x_train[\"Lyric\"]]\n",
    "#   test_tokens =  [simple_tokenizer(x) for x in x_test[\"Lyric\"]]\n",
    "#   val_tokens = [simple_tokenizer(x) for x in x_val[\"Lyric\"]]\n",
    "#   if SAVE_DATA:\n",
    "#     save_file(filename, train_tokens, test_tokens, val_tokens)\n"
   ]
  },
  {
   "cell_type": "code",
   "execution_count": 152,
   "metadata": {
    "colab": {},
    "colab_type": "code",
    "id": "zS-d9s81lhLB",
    "outputId": "c08d3da1-3116-4a42-d1ee-14defaf5cb10"
   },
   "outputs": [],
   "source": [
    "# print(len(train_tokens), len(val_tokens), len(test_tokens))"
   ]
  },
  {
   "cell_type": "markdown",
   "metadata": {
    "colab_type": "text",
    "id": "zAJo4_WElhLE"
   },
   "source": [
    "### Word counts"
   ]
  },
  {
   "cell_type": "code",
   "execution_count": 153,
   "metadata": {
    "colab": {},
    "colab_type": "code",
    "id": "B9nQI1eylhLG"
   },
   "outputs": [],
   "source": [
    "def get_document_vectors(model, train, val, test):\n",
    "  word_count_vecs_train = model.fit_transform(list(train[\"Lyric\"])).toarray()\n",
    "  word_count_vecs_val = model.transform(list(val[\"Lyric\"])).toarray()\n",
    "  word_count_vecs_test = model.transform(list(test[\"Lyric\"])).toarray()\n",
    "  \n",
    "  return (word_count_vecs_train, word_count_vecs_val, word_count_vecs_test)"
   ]
  },
  {
   "cell_type": "code",
   "execution_count": 154,
   "metadata": {
    "colab": {},
    "colab_type": "code",
    "id": "HqFDaRRLlhLK",
    "outputId": "bf3f5898-df7f-4b2f-ff9c-b32007540b3b"
   },
   "outputs": [
    {
     "name": "stderr",
     "output_type": "stream",
     "text": [
      "/Users/erikbuunk/opt/anaconda3/envs/NLP/lib/python3.7/site-packages/sklearn/feature_extraction/text.py:386: UserWarning: Your stop_words may be inconsistent with your preprocessing. Tokenizing the stop words generated tokens ['3', 'far', 'good', 'little', 'make', '\\ufeff1'] not in stop_words.\n",
      "  'stop_words.' % sorted(inconsistent))\n"
     ]
    }
   ],
   "source": [
    "cv = CountVectorizer(tokenizer=simple_tokenizer, stop_words='english', lowercase=True, max_df=0.99, min_df=0.01)\n",
    "\n",
    "(word_count_vecs_train, word_count_vecs_val, word_count_vecs_test) = get_document_vectors(cv,x_train, x_val, x_test)\n",
    "\n",
    "# get_feature_names gets the vocabulary of the vectorizer in order\n",
    "word_count_train = dict(zip(cv.get_feature_names(), word_count_vecs_train.sum(axis=0)))\n",
    "# word_count_val = dict(zip(cv.get_feature_names(), word_count_vecs_val.sum(axis=0)))\n",
    "# word_count_test = dict(zip(cv.get_feature_names(), word_count_vecs_test.sum(axis=0)))\n"
   ]
  },
  {
   "cell_type": "code",
   "execution_count": 155,
   "metadata": {
    "colab": {},
    "colab_type": "code",
    "id": "ceMhiWEUlhLM",
    "outputId": "8db1e83f-f72c-4061-806d-68172b04afd7"
   },
   "outputs": [
    {
     "data": {
      "text/html": [
       "<div>\n",
       "<style scoped>\n",
       "    .dataframe tbody tr th:only-of-type {\n",
       "        vertical-align: middle;\n",
       "    }\n",
       "\n",
       "    .dataframe tbody tr th {\n",
       "        vertical-align: top;\n",
       "    }\n",
       "\n",
       "    .dataframe thead th {\n",
       "        text-align: right;\n",
       "    }\n",
       "</style>\n",
       "<table border=\"1\" class=\"dataframe\">\n",
       "  <thead>\n",
       "    <tr style=\"text-align: right;\">\n",
       "      <th></th>\n",
       "      <th>-PRON-</th>\n",
       "      <th>2</th>\n",
       "      <th>act</th>\n",
       "      <th>action</th>\n",
       "      <th>afraid</th>\n",
       "      <th>age</th>\n",
       "      <th>ago</th>\n",
       "      <th>ah</th>\n",
       "      <th>ahead</th>\n",
       "      <th>air</th>\n",
       "      <th>...</th>\n",
       "      <th>write</th>\n",
       "      <th>wrong</th>\n",
       "      <th>y</th>\n",
       "      <th>yea</th>\n",
       "      <th>year</th>\n",
       "      <th>yes</th>\n",
       "      <th>yesterday</th>\n",
       "      <th>yo</th>\n",
       "      <th>young</th>\n",
       "      <th>﻿1</th>\n",
       "    </tr>\n",
       "  </thead>\n",
       "  <tbody>\n",
       "    <tr>\n",
       "      <th>0</th>\n",
       "      <td>3</td>\n",
       "      <td>0</td>\n",
       "      <td>0</td>\n",
       "      <td>0</td>\n",
       "      <td>0</td>\n",
       "      <td>0</td>\n",
       "      <td>0</td>\n",
       "      <td>0</td>\n",
       "      <td>0</td>\n",
       "      <td>1</td>\n",
       "      <td>...</td>\n",
       "      <td>0</td>\n",
       "      <td>0</td>\n",
       "      <td>0</td>\n",
       "      <td>0</td>\n",
       "      <td>1</td>\n",
       "      <td>1</td>\n",
       "      <td>0</td>\n",
       "      <td>1</td>\n",
       "      <td>1</td>\n",
       "      <td>0</td>\n",
       "    </tr>\n",
       "    <tr>\n",
       "      <th>1</th>\n",
       "      <td>5</td>\n",
       "      <td>0</td>\n",
       "      <td>1</td>\n",
       "      <td>0</td>\n",
       "      <td>1</td>\n",
       "      <td>0</td>\n",
       "      <td>0</td>\n",
       "      <td>0</td>\n",
       "      <td>0</td>\n",
       "      <td>0</td>\n",
       "      <td>...</td>\n",
       "      <td>0</td>\n",
       "      <td>3</td>\n",
       "      <td>0</td>\n",
       "      <td>0</td>\n",
       "      <td>0</td>\n",
       "      <td>7</td>\n",
       "      <td>0</td>\n",
       "      <td>3</td>\n",
       "      <td>0</td>\n",
       "      <td>2</td>\n",
       "    </tr>\n",
       "    <tr>\n",
       "      <th>2</th>\n",
       "      <td>0</td>\n",
       "      <td>0</td>\n",
       "      <td>0</td>\n",
       "      <td>0</td>\n",
       "      <td>0</td>\n",
       "      <td>0</td>\n",
       "      <td>0</td>\n",
       "      <td>0</td>\n",
       "      <td>0</td>\n",
       "      <td>0</td>\n",
       "      <td>...</td>\n",
       "      <td>0</td>\n",
       "      <td>0</td>\n",
       "      <td>0</td>\n",
       "      <td>0</td>\n",
       "      <td>0</td>\n",
       "      <td>6</td>\n",
       "      <td>0</td>\n",
       "      <td>2</td>\n",
       "      <td>0</td>\n",
       "      <td>0</td>\n",
       "    </tr>\n",
       "    <tr>\n",
       "      <th>3</th>\n",
       "      <td>40</td>\n",
       "      <td>1</td>\n",
       "      <td>0</td>\n",
       "      <td>0</td>\n",
       "      <td>0</td>\n",
       "      <td>0</td>\n",
       "      <td>0</td>\n",
       "      <td>0</td>\n",
       "      <td>0</td>\n",
       "      <td>0</td>\n",
       "      <td>...</td>\n",
       "      <td>0</td>\n",
       "      <td>0</td>\n",
       "      <td>0</td>\n",
       "      <td>0</td>\n",
       "      <td>0</td>\n",
       "      <td>3</td>\n",
       "      <td>0</td>\n",
       "      <td>5</td>\n",
       "      <td>0</td>\n",
       "      <td>0</td>\n",
       "    </tr>\n",
       "    <tr>\n",
       "      <th>4</th>\n",
       "      <td>11</td>\n",
       "      <td>0</td>\n",
       "      <td>0</td>\n",
       "      <td>0</td>\n",
       "      <td>0</td>\n",
       "      <td>0</td>\n",
       "      <td>0</td>\n",
       "      <td>0</td>\n",
       "      <td>0</td>\n",
       "      <td>0</td>\n",
       "      <td>...</td>\n",
       "      <td>0</td>\n",
       "      <td>0</td>\n",
       "      <td>0</td>\n",
       "      <td>3</td>\n",
       "      <td>0</td>\n",
       "      <td>0</td>\n",
       "      <td>0</td>\n",
       "      <td>0</td>\n",
       "      <td>0</td>\n",
       "      <td>2</td>\n",
       "    </tr>\n",
       "    <tr>\n",
       "      <th>...</th>\n",
       "      <td>...</td>\n",
       "      <td>...</td>\n",
       "      <td>...</td>\n",
       "      <td>...</td>\n",
       "      <td>...</td>\n",
       "      <td>...</td>\n",
       "      <td>...</td>\n",
       "      <td>...</td>\n",
       "      <td>...</td>\n",
       "      <td>...</td>\n",
       "      <td>...</td>\n",
       "      <td>...</td>\n",
       "      <td>...</td>\n",
       "      <td>...</td>\n",
       "      <td>...</td>\n",
       "      <td>...</td>\n",
       "      <td>...</td>\n",
       "      <td>...</td>\n",
       "      <td>...</td>\n",
       "      <td>...</td>\n",
       "      <td>...</td>\n",
       "    </tr>\n",
       "    <tr>\n",
       "      <th>76115</th>\n",
       "      <td>0</td>\n",
       "      <td>0</td>\n",
       "      <td>0</td>\n",
       "      <td>0</td>\n",
       "      <td>0</td>\n",
       "      <td>0</td>\n",
       "      <td>0</td>\n",
       "      <td>0</td>\n",
       "      <td>0</td>\n",
       "      <td>0</td>\n",
       "      <td>...</td>\n",
       "      <td>0</td>\n",
       "      <td>0</td>\n",
       "      <td>0</td>\n",
       "      <td>0</td>\n",
       "      <td>0</td>\n",
       "      <td>0</td>\n",
       "      <td>0</td>\n",
       "      <td>0</td>\n",
       "      <td>0</td>\n",
       "      <td>0</td>\n",
       "    </tr>\n",
       "    <tr>\n",
       "      <th>76116</th>\n",
       "      <td>1</td>\n",
       "      <td>0</td>\n",
       "      <td>0</td>\n",
       "      <td>0</td>\n",
       "      <td>0</td>\n",
       "      <td>0</td>\n",
       "      <td>0</td>\n",
       "      <td>0</td>\n",
       "      <td>0</td>\n",
       "      <td>0</td>\n",
       "      <td>...</td>\n",
       "      <td>0</td>\n",
       "      <td>0</td>\n",
       "      <td>0</td>\n",
       "      <td>0</td>\n",
       "      <td>0</td>\n",
       "      <td>0</td>\n",
       "      <td>0</td>\n",
       "      <td>0</td>\n",
       "      <td>0</td>\n",
       "      <td>0</td>\n",
       "    </tr>\n",
       "    <tr>\n",
       "      <th>76117</th>\n",
       "      <td>0</td>\n",
       "      <td>0</td>\n",
       "      <td>0</td>\n",
       "      <td>0</td>\n",
       "      <td>0</td>\n",
       "      <td>0</td>\n",
       "      <td>0</td>\n",
       "      <td>0</td>\n",
       "      <td>0</td>\n",
       "      <td>0</td>\n",
       "      <td>...</td>\n",
       "      <td>0</td>\n",
       "      <td>0</td>\n",
       "      <td>0</td>\n",
       "      <td>0</td>\n",
       "      <td>0</td>\n",
       "      <td>11</td>\n",
       "      <td>0</td>\n",
       "      <td>0</td>\n",
       "      <td>0</td>\n",
       "      <td>0</td>\n",
       "    </tr>\n",
       "    <tr>\n",
       "      <th>76118</th>\n",
       "      <td>2</td>\n",
       "      <td>0</td>\n",
       "      <td>0</td>\n",
       "      <td>0</td>\n",
       "      <td>0</td>\n",
       "      <td>0</td>\n",
       "      <td>0</td>\n",
       "      <td>0</td>\n",
       "      <td>0</td>\n",
       "      <td>0</td>\n",
       "      <td>...</td>\n",
       "      <td>0</td>\n",
       "      <td>0</td>\n",
       "      <td>0</td>\n",
       "      <td>0</td>\n",
       "      <td>0</td>\n",
       "      <td>0</td>\n",
       "      <td>0</td>\n",
       "      <td>0</td>\n",
       "      <td>0</td>\n",
       "      <td>0</td>\n",
       "    </tr>\n",
       "    <tr>\n",
       "      <th>76119</th>\n",
       "      <td>3</td>\n",
       "      <td>0</td>\n",
       "      <td>0</td>\n",
       "      <td>0</td>\n",
       "      <td>0</td>\n",
       "      <td>0</td>\n",
       "      <td>0</td>\n",
       "      <td>0</td>\n",
       "      <td>0</td>\n",
       "      <td>0</td>\n",
       "      <td>...</td>\n",
       "      <td>0</td>\n",
       "      <td>0</td>\n",
       "      <td>0</td>\n",
       "      <td>0</td>\n",
       "      <td>0</td>\n",
       "      <td>0</td>\n",
       "      <td>0</td>\n",
       "      <td>0</td>\n",
       "      <td>0</td>\n",
       "      <td>0</td>\n",
       "    </tr>\n",
       "  </tbody>\n",
       "</table>\n",
       "<p>76120 rows × 925 columns</p>\n",
       "</div>"
      ],
      "text/plain": [
       "       -PRON-  2  act  action  afraid  age  ago  ah  ahead  air  ...  write  \\\n",
       "0           3  0    0       0       0    0    0   0      0    1  ...      0   \n",
       "1           5  0    1       0       1    0    0   0      0    0  ...      0   \n",
       "2           0  0    0       0       0    0    0   0      0    0  ...      0   \n",
       "3          40  1    0       0       0    0    0   0      0    0  ...      0   \n",
       "4          11  0    0       0       0    0    0   0      0    0  ...      0   \n",
       "...       ... ..  ...     ...     ...  ...  ...  ..    ...  ...  ...    ...   \n",
       "76115       0  0    0       0       0    0    0   0      0    0  ...      0   \n",
       "76116       1  0    0       0       0    0    0   0      0    0  ...      0   \n",
       "76117       0  0    0       0       0    0    0   0      0    0  ...      0   \n",
       "76118       2  0    0       0       0    0    0   0      0    0  ...      0   \n",
       "76119       3  0    0       0       0    0    0   0      0    0  ...      0   \n",
       "\n",
       "       wrong  y  yea  year  yes  yesterday  yo  young  ﻿1  \n",
       "0          0  0    0     1    1          0   1      1   0  \n",
       "1          3  0    0     0    7          0   3      0   2  \n",
       "2          0  0    0     0    6          0   2      0   0  \n",
       "3          0  0    0     0    3          0   5      0   0  \n",
       "4          0  0    3     0    0          0   0      0   2  \n",
       "...      ... ..  ...   ...  ...        ...  ..    ...  ..  \n",
       "76115      0  0    0     0    0          0   0      0   0  \n",
       "76116      0  0    0     0    0          0   0      0   0  \n",
       "76117      0  0    0     0   11          0   0      0   0  \n",
       "76118      0  0    0     0    0          0   0      0   0  \n",
       "76119      0  0    0     0    0          0   0      0   0  \n",
       "\n",
       "[76120 rows x 925 columns]"
      ]
     },
     "execution_count": 155,
     "metadata": {},
     "output_type": "execute_result"
    }
   ],
   "source": [
    "word_count_train_df = pd.DataFrame(word_count_vecs_train, columns=cv.get_feature_names())\n",
    "\n",
    "word_count_train_df"
   ]
  },
  {
   "cell_type": "code",
   "execution_count": 156,
   "metadata": {
    "colab": {},
    "colab_type": "code",
    "id": "oTDhL3QMlhLO"
   },
   "outputs": [],
   "source": [
    "vocab = cv.vocabulary_\n"
   ]
  },
  {
   "cell_type": "markdown",
   "metadata": {
    "colab_type": "text",
    "id": "2gjK1kdGlhLQ"
   },
   "source": [
    "### Cosine similarities"
   ]
  },
  {
   "cell_type": "code",
   "execution_count": 157,
   "metadata": {
    "colab": {},
    "colab_type": "code",
    "id": "YHG1A3VHlhLQ",
    "outputId": "55176e94-217e-4038-a340-fe2710fa555a"
   },
   "outputs": [
    {
     "name": "stdout",
     "output_type": "stream",
     "text": [
      "Hip Hop - Hip Hop\n",
      "0.12081271048574312\n",
      "Hip Hop - Pop\n",
      "0.11799596258407674\n",
      "Hip Hop - Rock\n",
      "0.13739299789576961\n",
      "Pop - Pop\n",
      "0.12384269144729153\n",
      "Pop - Rock\n",
      "0.1492059161760659\n",
      "Rock - Rock\n",
      "0.19480680428323668\n",
      "[['Hip Hop - Hip Hop', 0.12081271048574312], ['Hip Hop - Pop', 0.11799596258407674], ['Hip Hop - Rock', 0.13739299789576961], ['Pop - Pop', 0.12384269144729153], ['Pop - Rock', 0.1492059161760659], ['Rock - Rock', 0.19480680428323668]]\n"
     ]
    }
   ],
   "source": [
    "# get similarities\n",
    "\n",
    "# We cannot get the similarity matrix for the whole matrix so we need to break it into smaller pieces:\n",
    "# count_sims = cosine_similarity(count_vecs) # nnz of the result is too large\n",
    "\n",
    "file_name = \"cosine_data.pkl\"\n",
    "\n",
    "my_file = Path(f\"{path}{file_name}\")\n",
    "\n",
    "if LOAD_DATA and my_file.is_file():\n",
    "  cosine_data = load_pickle(file_name)\n",
    "else:\n",
    "  cosine_data = []\n",
    "  for i in range(0,len(genres)):\n",
    "    for j in range(i,len(genres)):\n",
    "      print(f\"{genres[i]} - {genres[j]}\")\n",
    "      cosim = cosine_similarity(word_count_vecs_train[ranges[i][0]:ranges[i][1]], word_count_vecs_train[ranges[j][0]:ranges[j][1]]).mean(axis=1).mean()\n",
    "      print(cosim)\n",
    "      cosine_data.append([f\"{genres[i]} - {genres[j]}\", cosim])\n",
    "  if SAVE_DATA:\n",
    "    save_pickle(file_name, cosine_data)\n",
    "  \n",
    "  \n",
    "print(cosine_data)"
   ]
  },
  {
   "cell_type": "markdown",
   "metadata": {
    "colab_type": "text",
    "id": "wag_vGwxlhLU"
   },
   "source": [
    "Cosine similarities with CountVectorizer.\n",
    "\n",
    "Within genre similarities: between .19 and .24. Hip hop is the most similar\n",
    "```\n",
    "\n",
    "Hip Hop - Hip Hop\n",
    "0.24765970212980423\n",
    "Rock - Rock\n",
    "0.2110855129121092\n",
    "Pop - Pop\n",
    "0.1913122770773068\n",
    "\n",
    "```\n",
    "\n",
    "Between genre: .19, .21 so not a lot of difference with the within genre\n",
    "```\n",
    "Hip Hop - Pop\n",
    "0.21271535384634718\n",
    "Hip Hop - Rock\n",
    "0.21665027671484652\n",
    "Pop - Hip Hop\n",
    "0.21271535384634724\n",
    "Pop - Rock\n",
    "0.19618950933884402\n",
    "Rock - Hip Hop\n",
    "0.21665027671484652\n",
    "Rock - Pop\n",
    "0.196189509338844\n",
    "```\n",
    "\n",
    "Only Hip Hop lyrics seem to be a bit more similar."
   ]
  },
  {
   "cell_type": "markdown",
   "metadata": {
    "colab_type": "text",
    "id": "hG-WpT7BlhLW"
   },
   "source": [
    "### Topic Modeller"
   ]
  },
  {
   "cell_type": "code",
   "execution_count": 158,
   "metadata": {
    "colab": {},
    "colab_type": "code",
    "id": "tFo7z4selhLW"
   },
   "outputs": [],
   "source": [
    "# choose the number of components (topics) -> you choose the number of topics. (UB)\n",
    "def train_topic_modeller(train_vecs, val_vec, test_vecs, n_components = 10, type = \"NMF\"):\n",
    "  \n",
    "  # set topic modeller\n",
    "  if type == 'NMF': \n",
    "    tm = NMF(n_components=n_components)\n",
    "  else:\n",
    "    tm = LatentDirichletAllocation(n_components=n_components)\n",
    "\n",
    "  # same syntax as vectorizer\n",
    "  tm_train_vecs = tm.fit_transform(train_vecs)\n",
    "  tm_val_vecs = tm.transform(val_vec)\n",
    "  tm_test_vecs = tm.transform(test_vecs)\n",
    "  return (tm, tm_train_vecs, tm_val_vecs, tm_test_vecs)\n",
    "\n",
    "(nmf, nmf_train_vecs, nmf_val_vecs, nmf_test_vecs) = train_topic_modeller(word_count_vecs_train, word_count_vecs_val, word_count_vecs_test)"
   ]
  },
  {
   "cell_type": "code",
   "execution_count": 159,
   "metadata": {
    "colab": {},
    "colab_type": "code",
    "id": "v1eq3rJYlhLY",
    "outputId": "03cababe-c3e7-4fe3-91ef-a990278c68b8"
   },
   "outputs": [
    {
     "name": "stdout",
     "output_type": "stream",
     "text": [
      "(76120, 10)\n",
      "(10, 925)\n"
     ]
    }
   ],
   "source": [
    "print(nmf_train_vecs.shape) # 2711x10topic\n",
    "print(nmf.components_.shape) # 10x239 words "
   ]
  },
  {
   "cell_type": "code",
   "execution_count": 160,
   "metadata": {
    "colab": {},
    "colab_type": "code",
    "id": "6wL2wcDBlhLa",
    "outputId": "bf74e264-159c-4446-b0cf-5f1cdc8a5de7"
   },
   "outputs": [],
   "source": [
    "def display_components(model, word_features, top_display=10):\n",
    "    # utility for displaying respresentative words per component for topic models\n",
    "    for topic_idx, topic in enumerate(model.components_):\n",
    "        print(\"\\tTopic %d:\" % (topic_idx))\n",
    "        top_words_idx = topic.argsort()[::-1][:top_display]\n",
    "        top_words = [word_features[i] for i in top_words_idx]\n",
    "        print(\"\\t\"+\", \".join(top_words))"
   ]
  },
  {
   "cell_type": "code",
   "execution_count": 162,
   "metadata": {
    "colab": {},
    "colab_type": "code",
    "id": "6wL2wcDBlhLa",
    "outputId": "bf74e264-159c-4446-b0cf-5f1cdc8a5de7"
   },
   "outputs": [
    {
     "name": "stdout",
     "output_type": "stream",
     "text": [
      "\tTopic 0:\n",
      "\t-PRON-, just, think, say, make, time, cause, look, tell, way\n",
      "\tTopic 1:\n",
      "\toh, ooh, ah, whoa, night, da, uh, feel, good, body\n",
      "\tTopic 2:\n",
      "\tlove, heart, feel, need, make, fall, way, say, want, like\n",
      "\tTopic 3:\n",
      "\tcome, just, let, time, make, s, say, feel, life, way\n",
      "\tTopic 4:\n",
      "\tla, da, say, que, y, n, sing, el, en, wanna\n",
      "\tTopic 5:\n",
      "\tna, come, hey, -PRON-, make, ha, work, n, lord, right\n",
      "\tTopic 6:\n",
      "\tlike, nigga, bitch, fuck, shit, girl, money, niggas, make, feel\n",
      "\tTopic 7:\n",
      "\tyes, say, good, hey, make, ooh, wanna, right, need, come\n",
      "\tTopic 8:\n",
      "\tknow, want, say, tell, just, wanna, think, need, thing, really\n",
      "\tTopic 9:\n",
      "\tbaby, girl, wanna, want, let, just, make, need, right, come\n"
     ]
    }
   ],
   "source": [
    "display_components(nmf, cv.get_feature_names())"
   ]
  },
  {
   "cell_type": "markdown",
   "metadata": {
    "colab_type": "text",
    "id": "365LP5WxlhLd"
   },
   "source": [
    "### Initial Prediction Performance"
   ]
  },
  {
   "cell_type": "code",
   "execution_count": 163,
   "metadata": {
    "colab": {},
    "colab_type": "code",
    "id": "opHD_aHhlhLp"
   },
   "outputs": [],
   "source": [
    "def train_SVC(x,y,x_val, y_val):\n",
    "  svc_nmf = LinearSVC(max_iter=2000)\n",
    "  svc_nmf.fit(x, y)\n",
    "\n",
    "#   save_pickle(file_name='svc_nmf.pkl', data=svc_nmf)\n",
    "  # run model on validation\n",
    "  val_preds = svc_nmf.predict(x_val)\n",
    "  acc = accuracy_score(y_val, val_preds)\n",
    "  print(f\"Accuracy: {round(acc,2)}\")\n",
    "  return acc"
   ]
  },
  {
   "cell_type": "code",
   "execution_count": 164,
   "metadata": {
    "colab": {},
    "colab_type": "code",
    "id": "4l-ZAGbnlhLr",
    "outputId": "306f396b-5e93-422e-a151-076e496fa3ec"
   },
   "outputs": [
    {
     "name": "stdout",
     "output_type": "stream",
     "text": [
      "Accuracy: 0.65\n"
     ]
    },
    {
     "data": {
      "text/plain": [
       "0.6471003158830926"
      ]
     },
     "execution_count": 164,
     "metadata": {},
     "output_type": "execute_result"
    }
   ],
   "source": [
    "# Basic accuracy with \n",
    "train_SVC(nmf_train_vecs, y_train[\"Genre\"], nmf_val_vecs, y_val[\"Genre\"])"
   ]
  },
  {
   "cell_type": "markdown",
   "metadata": {
    "colab_type": "text",
    "id": "DWmlc8TnlhLu"
   },
   "source": [
    "#### 3 genres (Pop, Rock, Hip Hop)\n",
    "\n",
    "So apart form the baseline (random pick, or alway choose 'Rock'). The model predict 60% correct on the validation set. No so good but that's the baseline for now.\n",
    "\n",
    "\n",
    "#### 2 genres (Rock, Hip Hop)\n",
    "About 75% percent of the lyrics are Rock, so the base line is 75% accuracy in this case. With the topic modeller we have 87% accuracy. Which is better, so still not very good.\n",
    "\n",
    "\n",
    "#### 3 genres (Rock, Hip Hop, Metal)\n",
    "82%. So this is going in the right direction"
   ]
  },
  {
   "cell_type": "markdown",
   "metadata": {
    "colab_type": "text",
    "id": "cyfg9hljlhLv"
   },
   "source": [
    "# Optimizing the current performance - Feature creation\n"
   ]
  },
  {
   "cell_type": "markdown",
   "metadata": {
    "colab_type": "text",
    "id": "XuwDDrzQlhLv"
   },
   "source": [
    "To make the project workable (either on a local machine or on google colab), I will use a subset of the data to do the project with\n",
    "\n",
    "### Cleaning up"
   ]
  },
  {
   "cell_type": "code",
   "execution_count": 165,
   "metadata": {
    "colab": {},
    "colab_type": "code",
    "id": "38Q1xW6-lhLx",
    "outputId": "bc471a6f-b713-44b1-f052-e3bb18ee1e9e"
   },
   "outputs": [
    {
     "data": {
      "text/plain": [
       "155483"
      ]
     },
     "execution_count": 165,
     "metadata": {},
     "output_type": "execute_result"
    }
   ],
   "source": [
    "# remove the tabs from the corpus\n",
    "sub ='(tablatura)'\n",
    "indexes_to_drop = df_total[df_total[\"SName\"].str.find(sub) != -1].index\n",
    "len(df_total)"
   ]
  },
  {
   "cell_type": "code",
   "execution_count": 166,
   "metadata": {
    "colab": {},
    "colab_type": "code",
    "id": "Y7vROtLzlhLy",
    "outputId": "5d16af00-7c5d-4864-b5be-997897865a67"
   },
   "outputs": [
    {
     "data": {
      "text/plain": [
       "155315"
      ]
     },
     "execution_count": 166,
     "metadata": {},
     "output_type": "execute_result"
    }
   ],
   "source": [
    "df_total = df_total.drop(indexes_to_drop, axis=0)\n",
    "len(df_total)"
   ]
  },
  {
   "cell_type": "code",
   "execution_count": 167,
   "metadata": {
    "colab": {},
    "colab_type": "code",
    "id": "RlC5QnNqlhLz",
    "outputId": "52ea0fd9-b347-482f-a7c1-719d42931588"
   },
   "outputs": [
    {
     "data": {
      "text/html": [
       "<div>\n",
       "<style scoped>\n",
       "    .dataframe tbody tr th:only-of-type {\n",
       "        vertical-align: middle;\n",
       "    }\n",
       "\n",
       "    .dataframe tbody tr th {\n",
       "        vertical-align: top;\n",
       "    }\n",
       "\n",
       "    .dataframe thead th {\n",
       "        text-align: right;\n",
       "    }\n",
       "</style>\n",
       "<table border=\"1\" class=\"dataframe\">\n",
       "  <thead>\n",
       "    <tr style=\"text-align: right;\">\n",
       "      <th></th>\n",
       "      <th>SName</th>\n",
       "      <th>Lyric</th>\n",
       "      <th>Artist</th>\n",
       "      <th>Genre</th>\n",
       "    </tr>\n",
       "  </thead>\n",
       "  <tbody>\n",
       "    <tr>\n",
       "      <th>0</th>\n",
       "      <td>Right For Me</td>\n",
       "      <td>I got plans tonight. And you, you know what I ...</td>\n",
       "      <td>Justin Timberlake</td>\n",
       "      <td>Hip Hop</td>\n",
       "    </tr>\n",
       "    <tr>\n",
       "      <th>1</th>\n",
       "      <td>King of New York</td>\n",
       "      <td>[Saya]. An' bamba clad boy feel dem bobbin try...</td>\n",
       "      <td>Fat Joe</td>\n",
       "      <td>Hip Hop</td>\n",
       "    </tr>\n",
       "    <tr>\n",
       "      <th>2</th>\n",
       "      <td>Lean Back</td>\n",
       "      <td>Yeah... My niggas.... Throw ya hands in the ai...</td>\n",
       "      <td>Fat Joe</td>\n",
       "      <td>Hip Hop</td>\n",
       "    </tr>\n",
       "    <tr>\n",
       "      <th>3</th>\n",
       "      <td>Lean Back (remix) Featuring Lil Jon, Eminem</td>\n",
       "      <td>[Intro - Lil Jon]. Stop! It's the mothafuckin ...</td>\n",
       "      <td>Fat Joe</td>\n",
       "      <td>Hip Hop</td>\n",
       "    </tr>\n",
       "    <tr>\n",
       "      <th>4</th>\n",
       "      <td>Life Goes On</td>\n",
       "      <td>[Intro - Fat Joe talking]. Yeah, uh, yeah, Loy...</td>\n",
       "      <td>Fat Joe</td>\n",
       "      <td>Hip Hop</td>\n",
       "    </tr>\n",
       "    <tr>\n",
       "      <th>...</th>\n",
       "      <td>...</td>\n",
       "      <td>...</td>\n",
       "      <td>...</td>\n",
       "      <td>...</td>\n",
       "    </tr>\n",
       "    <tr>\n",
       "      <th>155478</th>\n",
       "      <td>One Big Holiday</td>\n",
       "      <td>wakin' up, feelin' good &amp; limber. when the tel...</td>\n",
       "      <td>My Morning Jacket</td>\n",
       "      <td>Rock</td>\n",
       "    </tr>\n",
       "    <tr>\n",
       "      <th>155479</th>\n",
       "      <td>One In The Same</td>\n",
       "      <td>On the way back home.... How long did it seem?...</td>\n",
       "      <td>My Morning Jacket</td>\n",
       "      <td>Rock</td>\n",
       "    </tr>\n",
       "    <tr>\n",
       "      <th>155480</th>\n",
       "      <td>Only Memories Remain</td>\n",
       "      <td>Only memories remain. Only memories remain. Fo...</td>\n",
       "      <td>My Morning Jacket</td>\n",
       "      <td>Rock</td>\n",
       "    </tr>\n",
       "    <tr>\n",
       "      <th>155481</th>\n",
       "      <td>I Will Be There When You Die</td>\n",
       "      <td>joe was born in new york city, son of paul and...</td>\n",
       "      <td>My Morning Jacket</td>\n",
       "      <td>Rock</td>\n",
       "    </tr>\n",
       "    <tr>\n",
       "      <th>155482</th>\n",
       "      <td>More Than This</td>\n",
       "      <td>I could feel at the time. There was no way of ...</td>\n",
       "      <td>10000 Maniacs</td>\n",
       "      <td>Rock</td>\n",
       "    </tr>\n",
       "  </tbody>\n",
       "</table>\n",
       "<p>155315 rows × 4 columns</p>\n",
       "</div>"
      ],
      "text/plain": [
       "                                              SName  \\\n",
       "0                                      Right For Me   \n",
       "1                                  King of New York   \n",
       "2                                         Lean Back   \n",
       "3       Lean Back (remix) Featuring Lil Jon, Eminem   \n",
       "4                                      Life Goes On   \n",
       "...                                             ...   \n",
       "155478                              One Big Holiday   \n",
       "155479                              One In The Same   \n",
       "155480                         Only Memories Remain   \n",
       "155481                 I Will Be There When You Die   \n",
       "155482                               More Than This   \n",
       "\n",
       "                                                    Lyric             Artist  \\\n",
       "0       I got plans tonight. And you, you know what I ...  Justin Timberlake   \n",
       "1       [Saya]. An' bamba clad boy feel dem bobbin try...            Fat Joe   \n",
       "2       Yeah... My niggas.... Throw ya hands in the ai...            Fat Joe   \n",
       "3       [Intro - Lil Jon]. Stop! It's the mothafuckin ...            Fat Joe   \n",
       "4       [Intro - Fat Joe talking]. Yeah, uh, yeah, Loy...            Fat Joe   \n",
       "...                                                   ...                ...   \n",
       "155478  wakin' up, feelin' good & limber. when the tel...  My Morning Jacket   \n",
       "155479  On the way back home.... How long did it seem?...  My Morning Jacket   \n",
       "155480  Only memories remain. Only memories remain. Fo...  My Morning Jacket   \n",
       "155481  joe was born in new york city, son of paul and...  My Morning Jacket   \n",
       "155482  I could feel at the time. There was no way of ...      10000 Maniacs   \n",
       "\n",
       "          Genre  \n",
       "0       Hip Hop  \n",
       "1       Hip Hop  \n",
       "2       Hip Hop  \n",
       "3       Hip Hop  \n",
       "4       Hip Hop  \n",
       "...         ...  \n",
       "155478     Rock  \n",
       "155479     Rock  \n",
       "155480     Rock  \n",
       "155481     Rock  \n",
       "155482     Rock  \n",
       "\n",
       "[155315 rows x 4 columns]"
      ]
     },
     "execution_count": 167,
     "metadata": {},
     "output_type": "execute_result"
    }
   ],
   "source": [
    "df_total"
   ]
  },
  {
   "cell_type": "markdown",
   "metadata": {},
   "source": [
    "### Smaller data set\n",
    "Because the dataset is very large, a sub selection will be used for the further proces. Using the full corpus was not possibel in all all case (calculation times and memory constraints). \n",
    "\n",
    "We choose a split of 10000 lyrics. Then we have  training/validation of about 5000 training, 2000 validation and 3000 test."
   ]
  },
  {
   "cell_type": "code",
   "execution_count": 168,
   "metadata": {
    "colab": {
     "base_uri": "https://localhost:8080/",
     "height": 424
    },
    "colab_type": "code",
    "id": "l_ZKEQfVlhL1",
    "outputId": "200785c6-d00c-42b4-8aef-e3f3a91c93f6"
   },
   "outputs": [
    {
     "data": {
      "text/html": [
       "<div>\n",
       "<style scoped>\n",
       "    .dataframe tbody tr th:only-of-type {\n",
       "        vertical-align: middle;\n",
       "    }\n",
       "\n",
       "    .dataframe tbody tr th {\n",
       "        vertical-align: top;\n",
       "    }\n",
       "\n",
       "    .dataframe thead th {\n",
       "        text-align: right;\n",
       "    }\n",
       "</style>\n",
       "<table border=\"1\" class=\"dataframe\">\n",
       "  <thead>\n",
       "    <tr style=\"text-align: right;\">\n",
       "      <th></th>\n",
       "      <th>SName</th>\n",
       "      <th>Lyric</th>\n",
       "      <th>Artist</th>\n",
       "      <th>Genre</th>\n",
       "    </tr>\n",
       "  </thead>\n",
       "  <tbody>\n",
       "    <tr>\n",
       "      <th>64845</th>\n",
       "      <td>Blueberry Pies</td>\n",
       "      <td>Lying is killing the good things in me. Ask me...</td>\n",
       "      <td>Prefab Sprout</td>\n",
       "      <td>Pop</td>\n",
       "    </tr>\n",
       "    <tr>\n",
       "      <th>34990</th>\n",
       "      <td>Cathedral</td>\n",
       "      <td>I used to be so tough   From times to times  I...</td>\n",
       "      <td>MECHANICAL POET</td>\n",
       "      <td>Metal</td>\n",
       "    </tr>\n",
       "    <tr>\n",
       "      <th>42341</th>\n",
       "      <td>Paradise</td>\n",
       "      <td>Searching for someone so long To fill this hol...</td>\n",
       "      <td>IMPELLITTERI</td>\n",
       "      <td>Metal</td>\n",
       "    </tr>\n",
       "    <tr>\n",
       "      <th>125803</th>\n",
       "      <td>G.O.D.</td>\n",
       "      <td>I been searchin' for so long. For a love to fi...</td>\n",
       "      <td>Billy Squier</td>\n",
       "      <td>Rock</td>\n",
       "    </tr>\n",
       "    <tr>\n",
       "      <th>25643</th>\n",
       "      <td>Elivagar  Pakanavedet</td>\n",
       "      <td>Line up  Henri Urponpoika Sorvali   guitars  ...</td>\n",
       "      <td>moonsorrow</td>\n",
       "      <td>Metal</td>\n",
       "    </tr>\n",
       "    <tr>\n",
       "      <th>...</th>\n",
       "      <td>...</td>\n",
       "      <td>...</td>\n",
       "      <td>...</td>\n",
       "      <td>...</td>\n",
       "    </tr>\n",
       "    <tr>\n",
       "      <th>70772</th>\n",
       "      <td>Bang Bang Bang</td>\n",
       "      <td>what do you go and do. you go and give the boy...</td>\n",
       "      <td>Tracy Chapman</td>\n",
       "      <td>Pop</td>\n",
       "    </tr>\n",
       "    <tr>\n",
       "      <th>126815</th>\n",
       "      <td>Across The Sea</td>\n",
       "      <td>You are eighteen year old girl. Who live in sm...</td>\n",
       "      <td>Weezer</td>\n",
       "      <td>Rock</td>\n",
       "    </tr>\n",
       "    <tr>\n",
       "      <th>543</th>\n",
       "      <td>Shining (Feat. Beyoncé, Jay Z)</td>\n",
       "      <td>Yeah, yeah. We The Best Music!. I worked my wh...</td>\n",
       "      <td>DJ Khaled</td>\n",
       "      <td>Hip Hop</td>\n",
       "    </tr>\n",
       "    <tr>\n",
       "      <th>9293</th>\n",
       "      <td>Bad Guys Always Die</td>\n",
       "      <td>(Dre). All you see is the sun. Reflecting off ...</td>\n",
       "      <td>Eminem</td>\n",
       "      <td>Hip Hop</td>\n",
       "    </tr>\n",
       "    <tr>\n",
       "      <th>127106</th>\n",
       "      <td>That Was the Day (Nashville)</td>\n",
       "      <td>Going home in a trailer filled with Canada Dry...</td>\n",
       "      <td>Marianne Faithfull</td>\n",
       "      <td>Rock</td>\n",
       "    </tr>\n",
       "  </tbody>\n",
       "</table>\n",
       "<p>10000 rows × 4 columns</p>\n",
       "</div>"
      ],
      "text/plain": [
       "                                 SName  \\\n",
       "64845                   Blueberry Pies   \n",
       "34990                        Cathedral   \n",
       "42341                         Paradise   \n",
       "125803                          G.O.D.   \n",
       "25643           Elivagar  Pakanavedet    \n",
       "...                                ...   \n",
       "70772                   Bang Bang Bang   \n",
       "126815                  Across The Sea   \n",
       "543     Shining (Feat. Beyoncé, Jay Z)   \n",
       "9293               Bad Guys Always Die   \n",
       "127106    That Was the Day (Nashville)   \n",
       "\n",
       "                                                    Lyric              Artist  \\\n",
       "64845   Lying is killing the good things in me. Ask me...       Prefab Sprout   \n",
       "34990   I used to be so tough   From times to times  I...     MECHANICAL POET   \n",
       "42341   Searching for someone so long To fill this hol...        IMPELLITTERI   \n",
       "125803  I been searchin' for so long. For a love to fi...        Billy Squier   \n",
       "25643    Line up  Henri Urponpoika Sorvali   guitars  ...          moonsorrow   \n",
       "...                                                   ...                 ...   \n",
       "70772   what do you go and do. you go and give the boy...       Tracy Chapman   \n",
       "126815  You are eighteen year old girl. Who live in sm...              Weezer   \n",
       "543     Yeah, yeah. We The Best Music!. I worked my wh...           DJ Khaled   \n",
       "9293    (Dre). All you see is the sun. Reflecting off ...              Eminem   \n",
       "127106  Going home in a trailer filled with Canada Dry...  Marianne Faithfull   \n",
       "\n",
       "          Genre  \n",
       "64845       Pop  \n",
       "34990     Metal  \n",
       "42341     Metal  \n",
       "125803     Rock  \n",
       "25643     Metal  \n",
       "...         ...  \n",
       "70772       Pop  \n",
       "126815     Rock  \n",
       "543     Hip Hop  \n",
       "9293    Hip Hop  \n",
       "127106     Rock  \n",
       "\n",
       "[10000 rows x 4 columns]"
      ]
     },
     "execution_count": 168,
     "metadata": {},
     "output_type": "execute_result"
    }
   ],
   "source": [
    "if LOAD_DATA:\n",
    "  df_small = pd.read_pickle('df_small.pkl.gz')\n",
    "else:\n",
    "  df_small = df_total.sample(n=10000,replace=\"False\", random_state=17)\n",
    "  if SAVE_DATA:\n",
    "    df_small.to_csv(f\"{path}df_small.csv\")\n",
    "\n",
    "df_small"
   ]
  },
  {
   "cell_type": "code",
   "execution_count": 172,
   "metadata": {
    "colab": {
     "base_uri": "https://localhost:8080/",
     "height": 86
    },
    "colab_type": "code",
    "id": "qdYYVRxSlhL4",
    "outputId": "891a5fb7-bf09-435e-b52b-2546bb0c4735"
   },
   "outputs": [
    {
     "data": {
      "text/plain": [
       "Rock       3580\n",
       "Metal      2942\n",
       "Pop        2222\n",
       "Hip Hop    1256\n",
       "Name: Genre, dtype: int64"
      ]
     },
     "execution_count": 172,
     "metadata": {},
     "output_type": "execute_result"
    }
   ],
   "source": [
    "X_sm, y_sm = simplify_data(df_small)\n",
    "y_sm[\"Genre\"].value_counts()\n"
   ]
  },
  {
   "cell_type": "code",
   "execution_count": 173,
   "metadata": {
    "colab": {
     "base_uri": "https://localhost:8080/",
     "height": 69
    },
    "colab_type": "code",
    "id": "1Cp-XDaqlhL6",
    "outputId": "ada9c7f4-1001-49d2-b14f-9e7789647e35"
   },
   "outputs": [
    {
     "name": "stdout",
     "output_type": "stream",
     "text": [
      "Training:  4857 4857\n",
      "Validation:  2171 2171\n",
      "Test:  2972 2972\n"
     ]
    }
   ],
   "source": [
    "# train/validation/test sets\n",
    "x_train, y_train, x_val, y_val, x_test, y_test = split_train_val_test(X_sm, y_sm)"
   ]
  },
  {
   "cell_type": "code",
   "execution_count": 174,
   "metadata": {
    "colab": {},
    "colab_type": "code",
    "id": "tOXbedSolhL7",
    "outputId": "ccc294f4-35c3-4112-a9cb-b22f297431f0"
   },
   "outputs": [
    {
     "name": "stderr",
     "output_type": "stream",
     "text": [
      "/Users/erikbuunk/opt/anaconda3/envs/NLP/lib/python3.7/site-packages/sklearn/feature_extraction/text.py:386: UserWarning: Your stop_words may be inconsistent with your preprocessing. Tokenizing the stop words generated tokens ['3', 'far', 'good', 'little', 'make', '\\ufeff1'] not in stop_words.\n",
      "  'stop_words.' % sorted(inconsistent))\n"
     ]
    },
    {
     "name": "stdout",
     "output_type": "stream",
     "text": [
      "Accuracy: 0.67\n"
     ]
    },
    {
     "data": {
      "text/plain": [
       "0.6688162137263933"
      ]
     },
     "execution_count": 174,
     "metadata": {},
     "output_type": "execute_result"
    }
   ],
   "source": [
    "# vectors\n",
    "cv = CountVectorizer(tokenizer=simple_tokenizer, stop_words='english', lowercase=True ,max_df=0.98, min_df=0.01)\n",
    "(word_count_vecs_train, word_count_vecs_val, word_count_vecs_test) = get_document_vectors(cv,x_train, x_val, x_test)\n",
    "# train topic modeller\n",
    "(nmf, nmf_train_vecs, nmf_val_vecs, nmf_test_vecs) = train_topic_modeller(word_count_vecs_train, word_count_vecs_val, word_count_vecs_test, type = \"NMF\")\n",
    "# display_components(nmf, cv.get_feature_names())\n",
    "\n",
    "# predict\n",
    "train_SVC(nmf_train_vecs, y_train[\"Genre\"], nmf_val_vecs, y_val[\"Genre\"])"
   ]
  },
  {
   "cell_type": "markdown",
   "metadata": {
    "colab_type": "text",
    "id": "Fm_5-7MQlhL8"
   },
   "source": [
    "#### 3 genres:\n",
    "The results of the smaller set are the same.\n",
    "\n",
    "#### 2 genres:\n",
    "Results are a little less: 85%\n",
    "\n",
    "#### 3 genres:\n",
    "Results are a little less: 80%"
   ]
  },
  {
   "cell_type": "markdown",
   "metadata": {
    "colab_type": "text",
    "id": "IyysiwXZlhL9"
   },
   "source": [
    "### Optimize the tokenizer:\n"
   ]
  },
  {
   "cell_type": "code",
   "execution_count": 175,
   "metadata": {
    "colab": {},
    "colab_type": "code",
    "id": "yCcDEUkFlhL9"
   },
   "outputs": [],
   "source": [
    "def lyric_tokenizer(doc):\n",
    "    model = en # nlp_md takes a lot longer to process and results are the same\n",
    "\n",
    "    parsed = model(doc)\n",
    "    tokens = [t.lemma_ for t in parsed if (t.is_alpha) & (not t.is_digit) &  (not t.is_punct) & (not t.like_url) & (not t.like_email) & (not t.is_stop) & (len(t.text)>1)] \n",
    "    return tokens\n",
    "\n",
    "cv = CountVectorizer(tokenizer=lyric_tokenizer, stop_words='english', lowercase=True ,max_df=0.98, min_df=0.01)\n",
    "(word_count_vecs_train, word_count_vecs_val, word_count_vecs_test) = get_document_vectors(cv,x_train, x_val, x_test)"
   ]
  },
  {
   "cell_type": "code",
   "execution_count": 176,
   "metadata": {
    "colab": {},
    "colab_type": "code",
    "id": "MhPYbZYklhL-",
    "outputId": "e27242f2-c84a-481f-b82b-78d718313256"
   },
   "outputs": [
    {
     "name": "stdout",
     "output_type": "stream",
     "text": [
      "Accuracy: 0.57\n"
     ]
    },
    {
     "data": {
      "text/plain": [
       "0.5656379548595117"
      ]
     },
     "execution_count": 176,
     "metadata": {},
     "output_type": "execute_result"
    }
   ],
   "source": [
    "# train topic modeller\n",
    "(nmf, nmf_train_vecs, nmf_val_vecs, nmf_test_vecs) = train_topic_modeller(word_count_vecs_train, word_count_vecs_val, word_count_vecs_test)\n",
    "# display_components(nmf, cv.get_feature_names())\n",
    "\n",
    "# predict\n",
    "train_SVC(nmf_train_vecs, y_train[\"Genre\"], nmf_val_vecs, y_val[\"Genre\"])"
   ]
  },
  {
   "cell_type": "markdown",
   "metadata": {
    "colab_type": "text",
    "id": "AcdYXuXulhMB"
   },
   "source": [
    "#### 3 genres\n",
    "So a more specifice tokenizer does not improve the model. Nor  does used a larger model/corpus\n",
    "\n",
    "#### 2 genres\n",
    "Small improvement over small baseline (88%)\n",
    "\n",
    "\n",
    "#### 3 genres\n",
    "68%. This is doing a lot worse!\n",
    "\n",
    "#### 4 genres \n",
    "57%"
   ]
  },
  {
   "cell_type": "markdown",
   "metadata": {
    "colab_type": "text",
    "id": "AcdYXuXulhMB"
   },
   "source": [
    "### LDA Model"
   ]
  },
  {
   "cell_type": "code",
   "execution_count": 177,
   "metadata": {
    "colab": {},
    "colab_type": "code",
    "id": "xWj5qTrjlhMB",
    "outputId": "7dec1582-5fc7-450a-b6cc-8505ffc29837"
   },
   "outputs": [
    {
     "name": "stdout",
     "output_type": "stream",
     "text": [
      "Accuracy: 0.58\n"
     ]
    },
    {
     "data": {
      "text/plain": [
       "0.5762321510824505"
      ]
     },
     "execution_count": 177,
     "metadata": {},
     "output_type": "execute_result"
    }
   ],
   "source": [
    "# train LDA topic modeller\n",
    "(lda, lda_train_vecs, lda_val_vecs, lda_test_vecs) = train_topic_modeller(word_count_vecs_train, word_count_vecs_val, word_count_vecs_test, type = \"LDA\")\n",
    "# display_components(lda, cv.get_feature_names())\n",
    "\n",
    "# predict\n",
    "train_SVC(lda_train_vecs, y_train[\"Genre\"], lda_val_vecs, y_val[\"Genre\"])"
   ]
  },
  {
   "cell_type": "markdown",
   "metadata": {
    "colab_type": "text",
    "id": "u3nFn5APlhMC"
   },
   "source": [
    "#### 3 Genres\n",
    "Performance is a little less\n",
    "\n",
    "#### 2 Genres\n",
    "Performance is a little less(85% vs 88% of NMF)\n",
    "\n",
    "\n",
    "#### 3 genres:\n",
    "72% (LDA with lyrics tokenizer)\n",
    "80% (LDA with simple tokeninzer)\n",
    "\n",
    "#### 4 genres: \n",
    "58%"
   ]
  },
  {
   "cell_type": "markdown",
   "metadata": {
    "colab_type": "text",
    "id": "ljIdNxQelhMD"
   },
   "source": [
    "### TF-IDF Vectorizer"
   ]
  },
  {
   "cell_type": "code",
   "execution_count": 179,
   "metadata": {
    "colab": {},
    "colab_type": "code",
    "id": "t8zcWajzlhME",
    "outputId": "bb9fa009-cd02-4159-995f-a55f07c5c5ee"
   },
   "outputs": [],
   "source": [
    "# # TFIDF\n",
    "# tfidf = TfidfVectorizer(tokenizer=simple_tokenizer, stop_words='english', lowercase=True ,max_df=0.98, min_df=0.01)\n",
    "# (word_count_vecs_train, word_count_vecs_val, word_count_vecs_test) = get_document_vectors(tfidf,x_train, x_val, x_test)\n",
    "\n",
    "# # train topic modeller\n",
    "# (nmf, nmf_train_vecs, nmf_val_vecs, nmf_test_vecs) = train_topic_modeller(word_count_vecs_train, word_count_vecs_val, word_count_vecs_test)\n",
    "# display_components(nmf, cv.get_feature_names())\n",
    "\n",
    "# # predict\n",
    "# train_SVC(nmf_train_vecs, y_train[\"Genre\"], nmf_val_vecs, y_val[\"Genre\"])"
   ]
  },
  {
   "cell_type": "markdown",
   "metadata": {
    "colab_type": "text",
    "id": "erm7wb7vlhMH"
   },
   "source": [
    "\n",
    "#### 3 genres\n",
    "62% Again, maybe a little better.\n",
    "\n",
    "#### 2 genres:\n",
    "85% a little less than the NMF with regular counts\n",
    "\n",
    "#### 3 genres\n",
    "(simple tokenizer)\n",
    "83%"
   ]
  },
  {
   "cell_type": "markdown",
   "metadata": {
    "colab_type": "text",
    "id": "4Dl-2VBmlhMH"
   },
   "source": [
    "## Determine the number topics\n"
   ]
  },
  {
   "cell_type": "code",
   "execution_count": 180,
   "metadata": {
    "colab": {},
    "colab_type": "code",
    "id": "u5dVv3ZzlhMJ",
    "outputId": "25a1e78c-7242-4211-eb51-6e22749585fe"
   },
   "outputs": [
    {
     "name": "stdout",
     "output_type": "stream",
     "text": [
      "Number of topics: 2\n",
      "Accuracy: 0.58\n",
      "Number of topics: 3\n",
      "Accuracy: 0.59\n",
      "Number of topics: 4\n",
      "Accuracy: 0.59\n",
      "Number of topics: 5\n",
      "Accuracy: 0.59\n",
      "Number of topics: 6\n",
      "Accuracy: 0.63\n",
      "Number of topics: 7\n",
      "Accuracy: 0.64\n",
      "Number of topics: 8\n"
     ]
    },
    {
     "name": "stderr",
     "output_type": "stream",
     "text": [
      "/Users/erikbuunk/opt/anaconda3/envs/NLP/lib/python3.7/site-packages/sklearn/decomposition/_nmf.py:1077: ConvergenceWarning: Maximum number of iterations 200 reached. Increase it to improve convergence.\n",
      "  \" improve convergence.\" % max_iter, ConvergenceWarning)\n"
     ]
    },
    {
     "name": "stdout",
     "output_type": "stream",
     "text": [
      "Accuracy: 0.65\n",
      "Number of topics: 9\n"
     ]
    },
    {
     "name": "stderr",
     "output_type": "stream",
     "text": [
      "/Users/erikbuunk/opt/anaconda3/envs/NLP/lib/python3.7/site-packages/sklearn/decomposition/_nmf.py:1077: ConvergenceWarning: Maximum number of iterations 200 reached. Increase it to improve convergence.\n",
      "  \" improve convergence.\" % max_iter, ConvergenceWarning)\n"
     ]
    },
    {
     "name": "stdout",
     "output_type": "stream",
     "text": [
      "Accuracy: 0.65\n",
      "Number of topics: 10\n",
      "Accuracy: 0.66\n",
      "Number of topics: 11\n",
      "Accuracy: 0.68\n",
      "Number of topics: 12\n",
      "Accuracy: 0.68\n",
      "Number of topics: 13\n"
     ]
    },
    {
     "name": "stderr",
     "output_type": "stream",
     "text": [
      "/Users/erikbuunk/opt/anaconda3/envs/NLP/lib/python3.7/site-packages/sklearn/decomposition/_nmf.py:1077: ConvergenceWarning: Maximum number of iterations 200 reached. Increase it to improve convergence.\n",
      "  \" improve convergence.\" % max_iter, ConvergenceWarning)\n"
     ]
    },
    {
     "name": "stdout",
     "output_type": "stream",
     "text": [
      "Accuracy: 0.67\n",
      "Number of topics: 14\n"
     ]
    },
    {
     "name": "stderr",
     "output_type": "stream",
     "text": [
      "/Users/erikbuunk/opt/anaconda3/envs/NLP/lib/python3.7/site-packages/sklearn/decomposition/_nmf.py:1077: ConvergenceWarning: Maximum number of iterations 200 reached. Increase it to improve convergence.\n",
      "  \" improve convergence.\" % max_iter, ConvergenceWarning)\n"
     ]
    },
    {
     "name": "stdout",
     "output_type": "stream",
     "text": [
      "Accuracy: 0.68\n",
      "Number of topics: 15\n",
      "Accuracy: 0.68\n",
      "Number of topics: 16\n",
      "Accuracy: 0.68\n",
      "Number of topics: 17\n",
      "Accuracy: 0.68\n",
      "Number of topics: 18\n",
      "Accuracy: 0.68\n",
      "Number of topics: 19\n",
      "Accuracy: 0.67\n"
     ]
    }
   ],
   "source": [
    "accuracies = []\n",
    "c = range (2,20)\n",
    "\n",
    "for n in c:\n",
    "\n",
    "  # train topic modeller\n",
    "  print(f\"Number of topics: {n}\")\n",
    "  (nmf, nmf_train_vecs, nmf_val_vecs, nmf_test_vecs) = train_topic_modeller(word_count_vecs_train, word_count_vecs_val, word_count_vecs_test, n_components = n, type = \"NMF\")\n",
    "#   display_components(nmf, cv.get_feature_names())\n",
    "\n",
    "  # predict\n",
    "  accuracies.append(  train_SVC(nmf_train_vecs, y_train[\"Genre\"], nmf_val_vecs, y_val[\"Genre\"]))\n"
   ]
  },
  {
   "cell_type": "code",
   "execution_count": 181,
   "metadata": {
    "colab": {},
    "colab_type": "code",
    "id": "orF1-cktlhML",
    "outputId": "49b38cc3-d276-4bf0-c157-8579f08c3613"
   },
   "outputs": [
    {
     "data": {
      "image/png": "[encoded data removed]",
      "text/plain": [
       "<Figure size 720x360 with 1 Axes>"
      ]
     },
     "metadata": {
      "needs_background": "light"
     },
     "output_type": "display_data"
    }
   ],
   "source": [
    "import matplotlib.pyplot as plt\n",
    "\n",
    "def plot_accuracies(errors, x):\n",
    "  \n",
    "  fig, axes = plt.subplots(1,1, figsize=(10,5), sharex=False, sharey=False)\n",
    "  ax1=axes\n",
    "  \n",
    "\n",
    "  \n",
    "  ax1.plot(x,errors, color='red', marker=\"o\")\n",
    "  ax1.set_title('Accuracy (validation set)')\n",
    "  ax1.set_xlabel('Number of topics')\n",
    "  ax1.set_ylabel('Accuracy')\n",
    "\n",
    "plot_accuracies(accuracies, list(c))"
   ]
  },
  {
   "cell_type": "markdown",
   "metadata": {
    "colab_type": "text",
    "id": "K8-6_3sDlhML"
   },
   "source": [
    "#### 3 genres\n",
    "So the number of topics does not really make a difference, Around 8 or 10 topics good enough\n",
    "\n",
    "#### 2 genres\n",
    "4 topics is clearly the max that we need for this purpose\n",
    "\n",
    "#### 3 genres 2 (Metal/Rock/HipHop)\n",
    "9 topic has the highest accuracy\n",
    "\n",
    "#### 4 genres\n",
    "12 topics"
   ]
  },
  {
   "cell_type": "markdown",
   "metadata": {
    "colab_type": "text",
    "id": "nBaconJUlhMN"
   },
   "source": [
    "## Creating BERT tokens"
   ]
  },
  {
   "cell_type": "code",
   "execution_count": null,
   "metadata": {
    "colab": {
     "base_uri": "https://localhost:8080/",
     "height": 165,
     "referenced_widgets": [
      "eec023471c064250b683016a557605b8",
      "a326539b51ad459da0eaca04bc5af6bb",
      "8f9d019218d64ad8940fbf945ddfcc4b",
      "077fb9141adc401b807b626f82be6d2b",
      "ec148bc0d2844292ba3168cf3d634d60",
      "0b61b546a0cb42bdb34c5e339c35b921",
      "4e712ea768fd452d9204fe21670698b3",
      "4d92295d7a43454f8623709232527d6f",
      "8733769067f24a85bc241fda2ca4e4c9",
      "ecc972ae75eb46c7bd07e96bd5ec0d59",
      "4e811a9c1b284eab938d2edf725e9d35",
      "787ee38713e44f1e8447c834063edf37",
      "e47ba2c9eeb14350b79e7c5903b92d8a",
      "ba11420f3d39467c8c87ea6d6d325644",
      "2270e903955a4c2d89d8308bb76cc10a",
      "ea705f73e70b4f79baf8e4594452fa6b",
      "6caa993f7ea443b4baa618f9b39a2ea6",
      "ced97cd42e75444ea7a2114e6275bf97",
      "36aa584d6d3d4ec09f504a1301e81ff0",
      "319ec85e971f404eb69edbc9f34b5fd9",
      "da9f9d6e484a42f095755c6df61a9000",
      "6ed29eb85ecb47808b960c4c8589f6b6",
      "53d420b8a3ee41c1be8b559d57ec4571",
      "42e8cda9c2fa4c96ac89553744122b69"
     ]
    },
    "colab_type": "code",
    "id": "cJHcEd2qlhMP",
    "outputId": "2faac7b8-e02a-4797-f956-ad335e8e45f5"
   },
   "outputs": [],
   "source": [
    "import transformers\n",
    "# what we're used to: BERT\n",
    "from transformers import BertTokenizer, BertModel \n",
    "\n",
    "MODEL_NAME = 'bert-base-uncased'\n",
    "# Load pre-trained model\n",
    "model = BertModel.from_pretrained(MODEL_NAME)\n",
    "# Load pre-trained model tokenizer (vocabulary)\n",
    "tokenizer = BertTokenizer.from_pretrained(MODEL_NAME)\n"
   ]
  },
  {
   "cell_type": "code",
   "execution_count": null,
   "metadata": {
    "colab": {
     "base_uri": "https://localhost:8080/",
     "height": 89
    },
    "colab_type": "code",
    "id": "yt1bktGClhMS",
    "outputId": "6a8cada1-260d-4f10-9bdd-1b972d85d17b"
   },
   "outputs": [],
   "source": [
    "# Test script\n",
    "# %%time\n",
    "# # one dimension of difference: speed\n",
    "# samp_lyrics = x_train['Lyric'].iloc[:100]\n",
    "# tokens = tokenizer.batch_encode_plus(x_train['Lyric'].iloc[:5],\n",
    "#   pad_to_max_length=True, return_tensors=\"pt\", \n",
    "#   max_length=512) # BERT expects sequences of 512 tokens\n",
    "# outputs = model(**tokens)"
   ]
  },
  {
   "cell_type": "code",
   "execution_count": null,
   "metadata": {
    "colab": {
     "base_uri": "https://localhost:8080/",
     "height": 52
    },
    "colab_type": "code",
    "id": "GRFi-j69lhMS",
    "outputId": "2b868877-95b5-41fd-eb52-c201ecf92530"
   },
   "outputs": [],
   "source": [
    "\n",
    "# # start: \n",
    "# save_pickle('bert_lyrics_sm.pkl', outputs)\n",
    "# save_pickle('all_data.pkl', (x_test, x_val, x_test, y_train, y_val, y_test))\n",
    "\n",
    "# import gzip\n",
    "# pickle.dump(outputs, gzip.open(f'{path}lyrics_bert_vectors.pkl.gz', 'wb'))"
   ]
  },
  {
   "cell_type": "code",
   "execution_count": null,
   "metadata": {
    "colab": {},
    "colab_type": "code",
    "id": "5IyqHrl4lhMU",
    "outputId": "2b706856-2192-4c98-c10f-5e1961c6be0d"
   },
   "outputs": [],
   "source": [
    "outputs[0].shape # 5x512x768"
   ]
  },
  {
   "cell_type": "code",
   "execution_count": null,
   "metadata": {
    "colab": {},
    "colab_type": "code",
    "id": "5Rik5aeKlhMV"
   },
   "outputs": [],
   "source": [
    "# set the whole model to GPU\n",
    "model.to(device)\n",
    "\n",
    "# here we're doing small batches to the model on GPU, we'll load the product of this process later\n",
    "# The model itself takes up a LOT of memory, so we're passing very small batches\n",
    "# note here: You may run out of RAM if you try and run this along with all the above.\n",
    "\n",
    "def generate_BERT_tokens(data, filename):\n",
    "  \n",
    "  st = 0\n",
    "  batch_size = 5\n",
    "  batches = list(range(batch_size, len(data), batch_size))+[len(data)]\n",
    "  # print(batches)\n",
    "  doc_rep_collector = []\n",
    "  for b in batches:\n",
    "      tokens = tokenizer.batch_encode_plus(\n",
    "          data[\"Lyric\"][st:b],\n",
    "          pad_to_max_length=True, \n",
    "          return_tensors=\"pt\",\n",
    "          max_length=512,\n",
    "          truncation=True)\n",
    "      st = b\n",
    "      tokens.to(device)\n",
    "      outputs = model(**tokens)\n",
    "      # taking the representation of the 'CLS' token (doc-level embedding)\n",
    "      o = outputs[0][:,0].cpu().detach().numpy()\n",
    "      doc_rep_collector.append(o)\n",
    "\n",
    "  # stack into array\n",
    "  doc_rep_collector = np.concatenate(doc_rep_collector)\n",
    "  \n",
    "  # to minimize size, can store as 16-bit float\n",
    "  doc_rep_collector = doc_rep_collector.astype('float16')\n",
    "\n",
    "  # additionally, will store as gzip (pandas can handle this)\n",
    "  pickle.dump(doc_rep_collector, gzip.open(f'{path}{filename}', 'wb'))"
   ]
  },
  {
   "cell_type": "code",
   "execution_count": null,
   "metadata": {
    "colab": {
     "base_uri": "https://localhost:8080/",
     "height": 52
    },
    "colab_type": "code",
    "id": "LjzWaPg5lhMX",
    "outputId": "26e60c04-9ac1-48ea-cfda-ee71e543333b"
   },
   "outputs": [],
   "source": [
    "%%time\n",
    "if COLAB:\n",
    "  generate_BERT_tokens(x_train, 'lyrics_bert_vectors_train.pkl.gz')\n",
    "  "
   ]
  },
  {
   "cell_type": "markdown",
   "metadata": {
    "colab": {
     "base_uri": "https://localhost:8080/",
     "height": 52
    },
    "colab_type": "code",
    "id": "LjzWaPg5lhMX",
    "outputId": "26e60c04-9ac1-48ea-cfda-ee71e543333b"
   },
   "source": [
    "Laptop:\n",
    "```\n",
    "Wall time ~ 2min 40s for 100 records\n",
    "```\n",
    "\n",
    "Colab:\n",
    "```\n",
    "CPU times: user 1min 55s, sys: 1min 14s, total: 3min 10s\n",
    "Wall time: 3min 10s\n",
    "```"
   ]
  },
  {
   "cell_type": "code",
   "execution_count": null,
   "metadata": {
    "colab": {
     "base_uri": "https://localhost:8080/",
     "height": 52
    },
    "colab_type": "code",
    "id": "XK7k2jgSlhMY",
    "outputId": "aba19735-aa15-417a-c3aa-4b31937faab2"
   },
   "outputs": [],
   "source": [
    "%%time\n",
    "if COLAB:\n",
    "  generate_BERT_tokens(x_val, 'lyrics_bert_vectors_val.pkl.gz')\n",
    "\n",
    "\n"
   ]
  },
  {
   "cell_type": "markdown",
   "metadata": {},
   "source": [
    "Colab:\n",
    "```\n",
    "CPU times: user 52.5 s, sys: 34.1 s, total: 1min 26s\n",
    "Wall time: 1min 26s,\n",
    "```"
   ]
  },
  {
   "cell_type": "code",
   "execution_count": null,
   "metadata": {
    "colab": {
     "base_uri": "https://localhost:8080/",
     "height": 52
    },
    "colab_type": "code",
    "id": "g9iMMwCLlhMa",
    "outputId": "d7511d11-f5c2-401a-d59f-4262d1fb659e"
   },
   "outputs": [],
   "source": [
    "%%time\n",
    "if COLAB:\n",
    "  generate_BERT_tokens(x_test, 'lyrics_bert_vectors_test.pkl.gz')"
   ]
  },
  {
   "cell_type": "markdown",
   "metadata": {
    "colab": {
     "base_uri": "https://localhost:8080/",
     "height": 52
    },
    "colab_type": "code",
    "id": "g9iMMwCLlhMa",
    "outputId": "d7511d11-f5c2-401a-d59f-4262d1fb659e"
   },
   "source": [
    "Colab\n",
    "```\n",
    "CPU times: user 1min 11s, sys: 46.8 s, total: 1min 58s\n",
    "Wall time: 1min 58s\n",
    "```"
   ]
  },
  {
   "cell_type": "code",
   "execution_count": 182,
   "metadata": {},
   "outputs": [],
   "source": [
    "# load the BERT tokens\n",
    "lyrics_bert_vectors_train = pd.read_pickle(f'{path}lyrics_bert_vectors_train.pkl.gz')\n",
    "lyrics_bert_vectors_val = pd.read_pickle(f'{path}lyrics_bert_vectors_val.pkl.gz')\n",
    "lyrics_bert_vectors_test = pd.read_pickle(f'{path}lyrics_bert_vectors_test.pkl.gz')"
   ]
  },
  {
   "cell_type": "code",
   "execution_count": 183,
   "metadata": {},
   "outputs": [
    {
     "name": "stdout",
     "output_type": "stream",
     "text": [
      "Accuracy: 0.3\n"
     ]
    },
    {
     "name": "stderr",
     "output_type": "stream",
     "text": [
      "/Users/erikbuunk/opt/anaconda3/envs/NLP/lib/python3.7/site-packages/sklearn/svm/_base.py:977: ConvergenceWarning: Liblinear failed to converge, increase the number of iterations.\n",
      "  \"the number of iterations.\", ConvergenceWarning)\n"
     ]
    },
    {
     "data": {
      "text/plain": [
       "0.30446798710271766"
      ]
     },
     "execution_count": 183,
     "metadata": {},
     "output_type": "execute_result"
    }
   ],
   "source": [
    "# BERT prediction\n",
    "train_SVC(lyrics_bert_vectors_train, y_train[\"Genre\"], lyrics_bert_vectors_val, y_val[\"Genre\"])"
   ]
  }
 ],
 "metadata": {
  "accelerator": "GPU",
  "colab": {
   "name": "Final_v02a.ipynb",
   "provenance": [],
   "toc_visible": true
  },
  "kernelspec": {
   "display_name": "Python 3",
   "language": "python",
   "name": "python3"
  },
  "language_info": {
   "codemirror_mode": {
    "name": "ipython",
    "version": 3
   },
   "file_extension": ".py",
   "mimetype": "text/x-python",
   "name": "python",
   "nbconvert_exporter": "python",
   "pygments_lexer": "ipython3",
   "version": "3.7.7"
  },
  "widgets": {
   "application/vnd.jupyter.widget-state+json": {
    "077fb9141adc401b807b626f82be6d2b": {
     "model_module": "@jupyter-widgets/controls",
     "model_name": "HTMLModel",
     "state": {
      "_dom_classes": [],
      "_model_module": "@jupyter-widgets/controls",
      "_model_module_version": "1.5.0",
      "_model_name": "HTMLModel",
      "_view_count": null,
      "_view_module": "@jupyter-widgets/controls",
      "_view_module_version": "1.5.0",
      "_view_name": "HTMLView",
      "description": "",
      "description_tooltip": null,
      "layout": "IPY_MODEL_4d92295d7a43454f8623709232527d6f",
      "placeholder": "​",
      "style": "IPY_MODEL_4e712ea768fd452d9204fe21670698b3",
      "value": " 433/433 [00:00&lt;00:00, 2.26kB/s]"
     }
    },
    "0b61b546a0cb42bdb34c5e339c35b921": {
     "model_module": "@jupyter-widgets/base",
     "model_name": "LayoutModel",
     "state": {
      "_model_module": "@jupyter-widgets/base",
      "_model_module_version": "1.2.0",
      "_model_name": "LayoutModel",
      "_view_count": null,
      "_view_module": "@jupyter-widgets/base",
      "_view_module_version": "1.2.0",
      "_view_name": "LayoutView",
      "align_content": null,
      "align_items": null,
      "align_self": null,
      "border": null,
      "bottom": null,
      "display": null,
      "flex": null,
      "flex_flow": null,
      "grid_area": null,
      "grid_auto_columns": null,
      "grid_auto_flow": null,
      "grid_auto_rows": null,
      "grid_column": null,
      "grid_gap": null,
      "grid_row": null,
      "grid_template_areas": null,
      "grid_template_columns": null,
      "grid_template_rows": null,
      "height": null,
      "justify_content": null,
      "justify_items": null,
      "left": null,
      "margin": null,
      "max_height": null,
      "max_width": null,
      "min_height": null,
      "min_width": null,
      "object_fit": null,
      "object_position": null,
      "order": null,
      "overflow": null,
      "overflow_x": null,
      "overflow_y": null,
      "padding": null,
      "right": null,
      "top": null,
      "visibility": null,
      "width": null
     }
    },
    "2270e903955a4c2d89d8308bb76cc10a": {
     "model_module": "@jupyter-widgets/controls",
     "model_name": "DescriptionStyleModel",
     "state": {
      "_model_module": "@jupyter-widgets/controls",
      "_model_module_version": "1.5.0",
      "_model_name": "DescriptionStyleModel",
      "_view_count": null,
      "_view_module": "@jupyter-widgets/base",
      "_view_module_version": "1.2.0",
      "_view_name": "StyleView",
      "description_width": ""
     }
    },
    "319ec85e971f404eb69edbc9f34b5fd9": {
     "model_module": "@jupyter-widgets/controls",
     "model_name": "HTMLModel",
     "state": {
      "_dom_classes": [],
      "_model_module": "@jupyter-widgets/controls",
      "_model_module_version": "1.5.0",
      "_model_name": "HTMLModel",
      "_view_count": null,
      "_view_module": "@jupyter-widgets/controls",
      "_view_module_version": "1.5.0",
      "_view_name": "HTMLView",
      "description": "",
      "description_tooltip": null,
      "layout": "IPY_MODEL_42e8cda9c2fa4c96ac89553744122b69",
      "placeholder": "​",
      "style": "IPY_MODEL_53d420b8a3ee41c1be8b559d57ec4571",
      "value": " 232k/232k [00:00&lt;00:00, 957kB/s]"
     }
    },
    "36aa584d6d3d4ec09f504a1301e81ff0": {
     "model_module": "@jupyter-widgets/controls",
     "model_name": "FloatProgressModel",
     "state": {
      "_dom_classes": [],
      "_model_module": "@jupyter-widgets/controls",
      "_model_module_version": "1.5.0",
      "_model_name": "FloatProgressModel",
      "_view_count": null,
      "_view_module": "@jupyter-widgets/controls",
      "_view_module_version": "1.5.0",
      "_view_name": "ProgressView",
      "bar_style": "success",
      "description": "Downloading: 100%",
      "description_tooltip": null,
      "layout": "IPY_MODEL_6ed29eb85ecb47808b960c4c8589f6b6",
      "max": 231508,
      "min": 0,
      "orientation": "horizontal",
      "style": "IPY_MODEL_da9f9d6e484a42f095755c6df61a9000",
      "value": 231508
     }
    },
    "42e8cda9c2fa4c96ac89553744122b69": {
     "model_module": "@jupyter-widgets/base",
     "model_name": "LayoutModel",
     "state": {
      "_model_module": "@jupyter-widgets/base",
      "_model_module_version": "1.2.0",
      "_model_name": "LayoutModel",
      "_view_count": null,
      "_view_module": "@jupyter-widgets/base",
      "_view_module_version": "1.2.0",
      "_view_name": "LayoutView",
      "align_content": null,
      "align_items": null,
      "align_self": null,
      "border": null,
      "bottom": null,
      "display": null,
      "flex": null,
      "flex_flow": null,
      "grid_area": null,
      "grid_auto_columns": null,
      "grid_auto_flow": null,
      "grid_auto_rows": null,
      "grid_column": null,
      "grid_gap": null,
      "grid_row": null,
      "grid_template_areas": null,
      "grid_template_columns": null,
      "grid_template_rows": null,
      "height": null,
      "justify_content": null,
      "justify_items": null,
      "left": null,
      "margin": null,
      "max_height": null,
      "max_width": null,
      "min_height": null,
      "min_width": null,
      "object_fit": null,
      "object_position": null,
      "order": null,
      "overflow": null,
      "overflow_x": null,
      "overflow_y": null,
      "padding": null,
      "right": null,
      "top": null,
      "visibility": null,
      "width": null
     }
    },
    "4d92295d7a43454f8623709232527d6f": {
     "model_module": "@jupyter-widgets/base",
     "model_name": "LayoutModel",
     "state": {
      "_model_module": "@jupyter-widgets/base",
      "_model_module_version": "1.2.0",
      "_model_name": "LayoutModel",
      "_view_count": null,
      "_view_module": "@jupyter-widgets/base",
      "_view_module_version": "1.2.0",
      "_view_name": "LayoutView",
      "align_content": null,
      "align_items": null,
      "align_self": null,
      "border": null,
      "bottom": null,
      "display": null,
      "flex": null,
      "flex_flow": null,
      "grid_area": null,
      "grid_auto_columns": null,
      "grid_auto_flow": null,
      "grid_auto_rows": null,
      "grid_column": null,
      "grid_gap": null,
      "grid_row": null,
      "grid_template_areas": null,
      "grid_template_columns": null,
      "grid_template_rows": null,
      "height": null,
      "justify_content": null,
      "justify_items": null,
      "left": null,
      "margin": null,
      "max_height": null,
      "max_width": null,
      "min_height": null,
      "min_width": null,
      "object_fit": null,
      "object_position": null,
      "order": null,
      "overflow": null,
      "overflow_x": null,
      "overflow_y": null,
      "padding": null,
      "right": null,
      "top": null,
      "visibility": null,
      "width": null
     }
    },
    "4e712ea768fd452d9204fe21670698b3": {
     "model_module": "@jupyter-widgets/controls",
     "model_name": "DescriptionStyleModel",
     "state": {
      "_model_module": "@jupyter-widgets/controls",
      "_model_module_version": "1.5.0",
      "_model_name": "DescriptionStyleModel",
      "_view_count": null,
      "_view_module": "@jupyter-widgets/base",
      "_view_module_version": "1.2.0",
      "_view_name": "StyleView",
      "description_width": ""
     }
    },
    "4e811a9c1b284eab938d2edf725e9d35": {
     "model_module": "@jupyter-widgets/controls",
     "model_name": "FloatProgressModel",
     "state": {
      "_dom_classes": [],
      "_model_module": "@jupyter-widgets/controls",
      "_model_module_version": "1.5.0",
      "_model_name": "FloatProgressModel",
      "_view_count": null,
      "_view_module": "@jupyter-widgets/controls",
      "_view_module_version": "1.5.0",
      "_view_name": "ProgressView",
      "bar_style": "success",
      "description": "Downloading: 100%",
      "description_tooltip": null,
      "layout": "IPY_MODEL_ba11420f3d39467c8c87ea6d6d325644",
      "max": 440473133,
      "min": 0,
      "orientation": "horizontal",
      "style": "IPY_MODEL_e47ba2c9eeb14350b79e7c5903b92d8a",
      "value": 440473133
     }
    },
    "53d420b8a3ee41c1be8b559d57ec4571": {
     "model_module": "@jupyter-widgets/controls",
     "model_name": "DescriptionStyleModel",
     "state": {
      "_model_module": "@jupyter-widgets/controls",
      "_model_module_version": "1.5.0",
      "_model_name": "DescriptionStyleModel",
      "_view_count": null,
      "_view_module": "@jupyter-widgets/base",
      "_view_module_version": "1.2.0",
      "_view_name": "StyleView",
      "description_width": ""
     }
    },
    "6caa993f7ea443b4baa618f9b39a2ea6": {
     "model_module": "@jupyter-widgets/controls",
     "model_name": "HBoxModel",
     "state": {
      "_dom_classes": [],
      "_model_module": "@jupyter-widgets/controls",
      "_model_module_version": "1.5.0",
      "_model_name": "HBoxModel",
      "_view_count": null,
      "_view_module": "@jupyter-widgets/controls",
      "_view_module_version": "1.5.0",
      "_view_name": "HBoxView",
      "box_style": "",
      "children": [
       "IPY_MODEL_36aa584d6d3d4ec09f504a1301e81ff0",
       "IPY_MODEL_319ec85e971f404eb69edbc9f34b5fd9"
      ],
      "layout": "IPY_MODEL_ced97cd42e75444ea7a2114e6275bf97"
     }
    },
    "6ed29eb85ecb47808b960c4c8589f6b6": {
     "model_module": "@jupyter-widgets/base",
     "model_name": "LayoutModel",
     "state": {
      "_model_module": "@jupyter-widgets/base",
      "_model_module_version": "1.2.0",
      "_model_name": "LayoutModel",
      "_view_count": null,
      "_view_module": "@jupyter-widgets/base",
      "_view_module_version": "1.2.0",
      "_view_name": "LayoutView",
      "align_content": null,
      "align_items": null,
      "align_self": null,
      "border": null,
      "bottom": null,
      "display": null,
      "flex": null,
      "flex_flow": null,
      "grid_area": null,
      "grid_auto_columns": null,
      "grid_auto_flow": null,
      "grid_auto_rows": null,
      "grid_column": null,
      "grid_gap": null,
      "grid_row": null,
      "grid_template_areas": null,
      "grid_template_columns": null,
      "grid_template_rows": null,
      "height": null,
      "justify_content": null,
      "justify_items": null,
      "left": null,
      "margin": null,
      "max_height": null,
      "max_width": null,
      "min_height": null,
      "min_width": null,
      "object_fit": null,
      "object_position": null,
      "order": null,
      "overflow": null,
      "overflow_x": null,
      "overflow_y": null,
      "padding": null,
      "right": null,
      "top": null,
      "visibility": null,
      "width": null
     }
    },
    "787ee38713e44f1e8447c834063edf37": {
     "model_module": "@jupyter-widgets/controls",
     "model_name": "HTMLModel",
     "state": {
      "_dom_classes": [],
      "_model_module": "@jupyter-widgets/controls",
      "_model_module_version": "1.5.0",
      "_model_name": "HTMLModel",
      "_view_count": null,
      "_view_module": "@jupyter-widgets/controls",
      "_view_module_version": "1.5.0",
      "_view_name": "HTMLView",
      "description": "",
      "description_tooltip": null,
      "layout": "IPY_MODEL_ea705f73e70b4f79baf8e4594452fa6b",
      "placeholder": "​",
      "style": "IPY_MODEL_2270e903955a4c2d89d8308bb76cc10a",
      "value": " 440M/440M [02:26&lt;00:00, 3.01MB/s]"
     }
    },
    "8733769067f24a85bc241fda2ca4e4c9": {
     "model_module": "@jupyter-widgets/controls",
     "model_name": "HBoxModel",
     "state": {
      "_dom_classes": [],
      "_model_module": "@jupyter-widgets/controls",
      "_model_module_version": "1.5.0",
      "_model_name": "HBoxModel",
      "_view_count": null,
      "_view_module": "@jupyter-widgets/controls",
      "_view_module_version": "1.5.0",
      "_view_name": "HBoxView",
      "box_style": "",
      "children": [
       "IPY_MODEL_4e811a9c1b284eab938d2edf725e9d35",
       "IPY_MODEL_787ee38713e44f1e8447c834063edf37"
      ],
      "layout": "IPY_MODEL_ecc972ae75eb46c7bd07e96bd5ec0d59"
     }
    },
    "8f9d019218d64ad8940fbf945ddfcc4b": {
     "model_module": "@jupyter-widgets/controls",
     "model_name": "FloatProgressModel",
     "state": {
      "_dom_classes": [],
      "_model_module": "@jupyter-widgets/controls",
      "_model_module_version": "1.5.0",
      "_model_name": "FloatProgressModel",
      "_view_count": null,
      "_view_module": "@jupyter-widgets/controls",
      "_view_module_version": "1.5.0",
      "_view_name": "ProgressView",
      "bar_style": "success",
      "description": "Downloading: 100%",
      "description_tooltip": null,
      "layout": "IPY_MODEL_0b61b546a0cb42bdb34c5e339c35b921",
      "max": 433,
      "min": 0,
      "orientation": "horizontal",
      "style": "IPY_MODEL_ec148bc0d2844292ba3168cf3d634d60",
      "value": 433
     }
    },
    "a326539b51ad459da0eaca04bc5af6bb": {
     "model_module": "@jupyter-widgets/base",
     "model_name": "LayoutModel",
     "state": {
      "_model_module": "@jupyter-widgets/base",
      "_model_module_version": "1.2.0",
      "_model_name": "LayoutModel",
      "_view_count": null,
      "_view_module": "@jupyter-widgets/base",
      "_view_module_version": "1.2.0",
      "_view_name": "LayoutView",
      "align_content": null,
      "align_items": null,
      "align_self": null,
      "border": null,
      "bottom": null,
      "display": null,
      "flex": null,
      "flex_flow": null,
      "grid_area": null,
      "grid_auto_columns": null,
      "grid_auto_flow": null,
      "grid_auto_rows": null,
      "grid_column": null,
      "grid_gap": null,
      "grid_row": null,
      "grid_template_areas": null,
      "grid_template_columns": null,
      "grid_template_rows": null,
      "height": null,
      "justify_content": null,
      "justify_items": null,
      "left": null,
      "margin": null,
      "max_height": null,
      "max_width": null,
      "min_height": null,
      "min_width": null,
      "object_fit": null,
      "object_position": null,
      "order": null,
      "overflow": null,
      "overflow_x": null,
      "overflow_y": null,
      "padding": null,
      "right": null,
      "top": null,
      "visibility": null,
      "width": null
     }
    },
    "ba11420f3d39467c8c87ea6d6d325644": {
     "model_module": "@jupyter-widgets/base",
     "model_name": "LayoutModel",
     "state": {
      "_model_module": "@jupyter-widgets/base",
      "_model_module_version": "1.2.0",
      "_model_name": "LayoutModel",
      "_view_count": null,
      "_view_module": "@jupyter-widgets/base",
      "_view_module_version": "1.2.0",
      "_view_name": "LayoutView",
      "align_content": null,
      "align_items": null,
      "align_self": null,
      "border": null,
      "bottom": null,
      "display": null,
      "flex": null,
      "flex_flow": null,
      "grid_area": null,
      "grid_auto_columns": null,
      "grid_auto_flow": null,
      "grid_auto_rows": null,
      "grid_column": null,
      "grid_gap": null,
      "grid_row": null,
      "grid_template_areas": null,
      "grid_template_columns": null,
      "grid_template_rows": null,
      "height": null,
      "justify_content": null,
      "justify_items": null,
      "left": null,
      "margin": null,
      "max_height": null,
      "max_width": null,
      "min_height": null,
      "min_width": null,
      "object_fit": null,
      "object_position": null,
      "order": null,
      "overflow": null,
      "overflow_x": null,
      "overflow_y": null,
      "padding": null,
      "right": null,
      "top": null,
      "visibility": null,
      "width": null
     }
    },
    "ced97cd42e75444ea7a2114e6275bf97": {
     "model_module": "@jupyter-widgets/base",
     "model_name": "LayoutModel",
     "state": {
      "_model_module": "@jupyter-widgets/base",
      "_model_module_version": "1.2.0",
      "_model_name": "LayoutModel",
      "_view_count": null,
      "_view_module": "@jupyter-widgets/base",
      "_view_module_version": "1.2.0",
      "_view_name": "LayoutView",
      "align_content": null,
      "align_items": null,
      "align_self": null,
      "border": null,
      "bottom": null,
      "display": null,
      "flex": null,
      "flex_flow": null,
      "grid_area": null,
      "grid_auto_columns": null,
      "grid_auto_flow": null,
      "grid_auto_rows": null,
      "grid_column": null,
      "grid_gap": null,
      "grid_row": null,
      "grid_template_areas": null,
      "grid_template_columns": null,
      "grid_template_rows": null,
      "height": null,
      "justify_content": null,
      "justify_items": null,
      "left": null,
      "margin": null,
      "max_height": null,
      "max_width": null,
      "min_height": null,
      "min_width": null,
      "object_fit": null,
      "object_position": null,
      "order": null,
      "overflow": null,
      "overflow_x": null,
      "overflow_y": null,
      "padding": null,
      "right": null,
      "top": null,
      "visibility": null,
      "width": null
     }
    },
    "da9f9d6e484a42f095755c6df61a9000": {
     "model_module": "@jupyter-widgets/controls",
     "model_name": "ProgressStyleModel",
     "state": {
      "_model_module": "@jupyter-widgets/controls",
      "_model_module_version": "1.5.0",
      "_model_name": "ProgressStyleModel",
      "_view_count": null,
      "_view_module": "@jupyter-widgets/base",
      "_view_module_version": "1.2.0",
      "_view_name": "StyleView",
      "bar_color": null,
      "description_width": "initial"
     }
    },
    "e47ba2c9eeb14350b79e7c5903b92d8a": {
     "model_module": "@jupyter-widgets/controls",
     "model_name": "ProgressStyleModel",
     "state": {
      "_model_module": "@jupyter-widgets/controls",
      "_model_module_version": "1.5.0",
      "_model_name": "ProgressStyleModel",
      "_view_count": null,
      "_view_module": "@jupyter-widgets/base",
      "_view_module_version": "1.2.0",
      "_view_name": "StyleView",
      "bar_color": null,
      "description_width": "initial"
     }
    },
    "ea705f73e70b4f79baf8e4594452fa6b": {
     "model_module": "@jupyter-widgets/base",
     "model_name": "LayoutModel",
     "state": {
      "_model_module": "@jupyter-widgets/base",
      "_model_module_version": "1.2.0",
      "_model_name": "LayoutModel",
      "_view_count": null,
      "_view_module": "@jupyter-widgets/base",
      "_view_module_version": "1.2.0",
      "_view_name": "LayoutView",
      "align_content": null,
      "align_items": null,
      "align_self": null,
      "border": null,
      "bottom": null,
      "display": null,
      "flex": null,
      "flex_flow": null,
      "grid_area": null,
      "grid_auto_columns": null,
      "grid_auto_flow": null,
      "grid_auto_rows": null,
      "grid_column": null,
      "grid_gap": null,
      "grid_row": null,
      "grid_template_areas": null,
      "grid_template_columns": null,
      "grid_template_rows": null,
      "height": null,
      "justify_content": null,
      "justify_items": null,
      "left": null,
      "margin": null,
      "max_height": null,
      "max_width": null,
      "min_height": null,
      "min_width": null,
      "object_fit": null,
      "object_position": null,
      "order": null,
      "overflow": null,
      "overflow_x": null,
      "overflow_y": null,
      "padding": null,
      "right": null,
      "top": null,
      "visibility": null,
      "width": null
     }
    },
    "ec148bc0d2844292ba3168cf3d634d60": {
     "model_module": "@jupyter-widgets/controls",
     "model_name": "ProgressStyleModel",
     "state": {
      "_model_module": "@jupyter-widgets/controls",
      "_model_module_version": "1.5.0",
      "_model_name": "ProgressStyleModel",
      "_view_count": null,
      "_view_module": "@jupyter-widgets/base",
      "_view_module_version": "1.2.0",
      "_view_name": "StyleView",
      "bar_color": null,
      "description_width": "initial"
     }
    },
    "ecc972ae75eb46c7bd07e96bd5ec0d59": {
     "model_module": "@jupyter-widgets/base",
     "model_name": "LayoutModel",
     "state": {
      "_model_module": "@jupyter-widgets/base",
      "_model_module_version": "1.2.0",
      "_model_name": "LayoutModel",
      "_view_count": null,
      "_view_module": "@jupyter-widgets/base",
      "_view_module_version": "1.2.0",
      "_view_name": "LayoutView",
      "align_content": null,
      "align_items": null,
      "align_self": null,
      "border": null,
      "bottom": null,
      "display": null,
      "flex": null,
      "flex_flow": null,
      "grid_area": null,
      "grid_auto_columns": null,
      "grid_auto_flow": null,
      "grid_auto_rows": null,
      "grid_column": null,
      "grid_gap": null,
      "grid_row": null,
      "grid_template_areas": null,
      "grid_template_columns": null,
      "grid_template_rows": null,
      "height": null,
      "justify_content": null,
      "justify_items": null,
      "left": null,
      "margin": null,
      "max_height": null,
      "max_width": null,
      "min_height": null,
      "min_width": null,
      "object_fit": null,
      "object_position": null,
      "order": null,
      "overflow": null,
      "overflow_x": null,
      "overflow_y": null,
      "padding": null,
      "right": null,
      "top": null,
      "visibility": null,
      "width": null
     }
    },
    "eec023471c064250b683016a557605b8": {
     "model_module": "@jupyter-widgets/controls",
     "model_name": "HBoxModel",
     "state": {
      "_dom_classes": [],
      "_model_module": "@jupyter-widgets/controls",
      "_model_module_version": "1.5.0",
      "_model_name": "HBoxModel",
      "_view_count": null,
      "_view_module": "@jupyter-widgets/controls",
      "_view_module_version": "1.5.0",
      "_view_name": "HBoxView",
      "box_style": "",
      "children": [
       "IPY_MODEL_8f9d019218d64ad8940fbf945ddfcc4b",
       "IPY_MODEL_077fb9141adc401b807b626f82be6d2b"
      ],
      "layout": "IPY_MODEL_a326539b51ad459da0eaca04bc5af6bb"
     }
    }
   }
  }
 },
 "nbformat": 4,
 "nbformat_minor": 4
}
