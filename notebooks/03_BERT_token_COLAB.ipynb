{
 "cells": [
  {
   "cell_type": "markdown",
   "metadata": {
    "colab_type": "text",
    "id": "e9lwoWdaDvvk"
   },
   "source": [
    "# 03 - BERT token creation\n",
    "\n",
    "## Instructions\n",
    "RUN THIS ON COLAB with GPU!!!\n",
    "\n",
    "- Turn on GPU: `Runtime>Change Runtime>GPU`\n",
    "- Load data file `df_total_cleanen.pkl.gz`\n",
    "\n",
    "\n",
    "Since we are dealing with a lot of data, Colab will probably crash a couple of times.\n",
    "\n",
    "When BERT is done. Remember to download the Pickle File!\n",
    "\n",
    "## Data files needed to run this notebook:\n",
    "- `df_total_cleaned.pkl.gz`\n",
    "\n",
    "## Settings:\n",
    "- set `COLAB = True` if you run this on Colab. Data can be placed in the root directory"
   ]
  },
  {
   "cell_type": "code",
   "execution_count": 1,
   "metadata": {
    "colab": {},
    "colab_type": "code",
    "id": "kFKv8dtoDvvo"
   },
   "outputs": [],
   "source": [
    "# setup\n",
    "import sys\n",
    "import subprocess\n",
    "import pkg_resources\n",
    "from collections import Counter\n",
    "import re\n",
    "from numpy import log, mean, matmul\n",
    "\n",
    "\n",
    "required = {'spacy', 'scikit-learn', 'numpy', \n",
    "            'pandas', 'torch', 'matplotlib',\n",
    "            'transformers', 'allennlp==0.9.0'}\n",
    "installed = {pkg.key for pkg in pkg_resources.working_set}\n",
    "missing = required - installed\n",
    "\n",
    "if missing:\n",
    "    python = sys.executable\n",
    "    subprocess.check_call([python, '-m', 'pip', 'install', *missing], stdout=subprocess.DEVNULL)\n",
    "\n",
    "import numpy as np\n",
    "import pandas as pd\n",
    "\n",
    "# PyTorch\n",
    "import torch\n",
    "# import torch.nn as nn\n",
    "from torch.utils.data import TensorDataset, DataLoader\n",
    "\n",
    "# File managment\n",
    "import os\n",
    "from os import listdir\n",
    "from pathlib import Path\n",
    "import pickle\n",
    "import gzip"
   ]
  },
  {
   "cell_type": "code",
   "execution_count": 3,
   "metadata": {
    "colab": {},
    "colab_type": "code",
    "id": "pGoQE0vMlhIt"
   },
   "outputs": [],
   "source": [
    "COLAB = False"
   ]
  },
  {
   "cell_type": "code",
   "execution_count": 7,
   "metadata": {
    "colab": {},
    "colab_type": "code",
    "id": "-t5BHFbWlhI2"
   },
   "outputs": [],
   "source": [
    "if COLAB:\n",
    "  # Google Colab\n",
    "  path = \"./\"\n",
    "  device = torch.device(\"cuda:0\") # use GPU, change \n",
    "else:\n",
    "  # Laptop\n",
    "  path = \"./data/\"\n",
    "  device = torch.device(\"cpu\")\n",
    "#   !pip install ipywidgets\n",
    "#   !jupyter nbextension enable --py widgetsnbextension\n"
   ]
  },
  {
   "cell_type": "code",
   "execution_count": 8,
   "metadata": {
    "colab": {},
    "colab_type": "code",
    "id": "JvW554E2Dvw3"
   },
   "outputs": [],
   "source": [
    "def save_pickle(filename, data):\n",
    "    with open(f\"{path}{filename}\", \"wb\") as fp: \n",
    "      pickle.dump(data, fp)\n",
    "\n",
    "def load_pickle(filename):\n",
    "    with open(f\"{path}{filename}\", 'rb') as f:\n",
    "      return pickle.load(f)\n",
    "    \n",
    "def save_file(filename, train_tokens, test_tokens, val_tokens):\n",
    "  data = {\"train_tokens\": train_tokens, \"test_tokens\" : test_tokens, \"val_tokens\": val_tokens}\n",
    "\n",
    "  with open(f\"{path}{filename}\", \"wb\") as fp: \n",
    "    pickle.dump(data, fp)\n",
    "    \n",
    "def load_file(filename):\n",
    "  with open(f\"{path}{filename}\", 'rb') as f:\n",
    "      all_text = pickle.load(f)\n",
    "      return (all_text[\"train_tokens\"], all_text[\"test_tokens\"], all_text[\"val_tokens\"])\n"
   ]
  },
  {
   "cell_type": "code",
   "execution_count": 9,
   "metadata": {
    "colab": {},
    "colab_type": "code",
    "id": "0Tqn9csSDvxS"
   },
   "outputs": [],
   "source": [
    "df_total = pd.read_pickle(f'{path}df_total_cleaned.pkl.gz')"
   ]
  },
  {
   "cell_type": "code",
   "execution_count": 10,
   "metadata": {
    "colab": {
     "base_uri": "https://localhost:8080/",
     "height": 206
    },
    "colab_type": "code",
    "id": "Sl-ImcA5DvyA",
    "outputId": "39b221c5-1c88-4bd2-90a8-2578d8d3c821"
   },
   "outputs": [
    {
     "data": {
      "text/html": [
       "<div>\n",
       "<style scoped>\n",
       "    .dataframe tbody tr th:only-of-type {\n",
       "        vertical-align: middle;\n",
       "    }\n",
       "\n",
       "    .dataframe tbody tr th {\n",
       "        vertical-align: top;\n",
       "    }\n",
       "\n",
       "    .dataframe thead th {\n",
       "        text-align: right;\n",
       "    }\n",
       "</style>\n",
       "<table border=\"1\" class=\"dataframe\">\n",
       "  <thead>\n",
       "    <tr style=\"text-align: right;\">\n",
       "      <th></th>\n",
       "      <th>SName</th>\n",
       "      <th>Lyric</th>\n",
       "      <th>Artist</th>\n",
       "      <th>Genre</th>\n",
       "    </tr>\n",
       "  </thead>\n",
       "  <tbody>\n",
       "    <tr>\n",
       "      <th>0</th>\n",
       "      <td>More Than This</td>\n",
       "      <td>I could feel at the time. There was no way of ...</td>\n",
       "      <td>10000 Maniacs</td>\n",
       "      <td>Rock</td>\n",
       "    </tr>\n",
       "    <tr>\n",
       "      <th>1</th>\n",
       "      <td>Because The Night</td>\n",
       "      <td>Take me now, baby, here as I am. Hold me close...</td>\n",
       "      <td>10000 Maniacs</td>\n",
       "      <td>Rock</td>\n",
       "    </tr>\n",
       "    <tr>\n",
       "      <th>2</th>\n",
       "      <td>These Are Days</td>\n",
       "      <td>These are. These are days you'll remember. Nev...</td>\n",
       "      <td>10000 Maniacs</td>\n",
       "      <td>Rock</td>\n",
       "    </tr>\n",
       "    <tr>\n",
       "      <th>3</th>\n",
       "      <td>A Campfire Song</td>\n",
       "      <td>A lie to say, \"O my mountain has coal veins an...</td>\n",
       "      <td>10000 Maniacs</td>\n",
       "      <td>Rock</td>\n",
       "    </tr>\n",
       "    <tr>\n",
       "      <th>4</th>\n",
       "      <td>Everyday Is Like Sunday</td>\n",
       "      <td>Trudging slowly over wet sand. Back to the ben...</td>\n",
       "      <td>10000 Maniacs</td>\n",
       "      <td>Rock</td>\n",
       "    </tr>\n",
       "  </tbody>\n",
       "</table>\n",
       "</div>"
      ],
      "text/plain": [
       "                     SName                                              Lyric  \\\n",
       "0           More Than This  I could feel at the time. There was no way of ...   \n",
       "1        Because The Night  Take me now, baby, here as I am. Hold me close...   \n",
       "2           These Are Days  These are. These are days you'll remember. Nev...   \n",
       "3          A Campfire Song  A lie to say, \"O my mountain has coal veins an...   \n",
       "4  Everyday Is Like Sunday  Trudging slowly over wet sand. Back to the ben...   \n",
       "\n",
       "          Artist Genre  \n",
       "0  10000 Maniacs  Rock  \n",
       "1  10000 Maniacs  Rock  \n",
       "2  10000 Maniacs  Rock  \n",
       "3  10000 Maniacs  Rock  \n",
       "4  10000 Maniacs  Rock  "
      ]
     },
     "execution_count": 10,
     "metadata": {},
     "output_type": "execute_result"
    }
   ],
   "source": [
    "df_total.head()"
   ]
  },
  {
   "cell_type": "code",
   "execution_count": 11,
   "metadata": {
    "colab": {},
    "colab_type": "code",
    "id": "xJ359To-lhKV"
   },
   "outputs": [],
   "source": [
    "def simplify_data(data):\n",
    "  y = data[\"Genre\"]\n",
    "  y = y.reset_index()\n",
    "  y = y.drop('index', axis=1)\n",
    "  \n",
    "  X= data[\"Lyric\"]\n",
    "  X = X.reset_index()\n",
    "  X = X.drop(\"index\", axis=1)\n",
    "  return (X,y)\n",
    "\n"
   ]
  },
  {
   "cell_type": "code",
   "execution_count": 12,
   "metadata": {
    "colab": {},
    "colab_type": "code",
    "id": "U3iAN4FrDvyo"
   },
   "outputs": [],
   "source": [
    "X, y = simplify_data(df_total)"
   ]
  },
  {
   "cell_type": "code",
   "execution_count": 13,
   "metadata": {
    "colab": {},
    "colab_type": "code",
    "id": "fr1X7P4lDvyx"
   },
   "outputs": [],
   "source": [
    "import transformers\n",
    "# what we're used to: BERT\n",
    "from transformers import BertTokenizer, BertModel \n",
    "\n",
    "MODEL_NAME = 'bert-base-uncased'\n",
    "# Load pre-trained model\n",
    "model = BertModel.from_pretrained(MODEL_NAME)\n",
    "# Load pre-trained model tokenizer (vocabulary)\n",
    "tokenizer = BertTokenizer.from_pretrained(MODEL_NAME)"
   ]
  },
  {
   "cell_type": "code",
   "execution_count": 14,
   "metadata": {
    "colab": {},
    "colab_type": "code",
    "id": "yuehkQTiDvy8"
   },
   "outputs": [],
   "source": [
    "# set the whole model to GPU\n",
    "model.to(device)\n",
    "\n",
    "# here we're doing small batches to the model on GPU, we'll load the product of this process later\n",
    "# The model itself takes up a LOT of memory, so we're passing very small batches\n",
    "# note here: You may run out of RAM if you try and run this along with all the above.\n",
    "\n",
    "def generate_BERT_tokens(data, filename):\n",
    "  print(\"Starting BERT tokenization\")\n",
    "  print(f\"using: {device}\")\n",
    "  st = 0\n",
    "  batch_size = 5\n",
    "  batches = list(range(batch_size, len(data), batch_size))+[len(data)]\n",
    "  # print(batches)\n",
    "  doc_rep_collector = []\n",
    "  for b in batches:\n",
    "      print(f\"Batch: {b}/{len(data)} ({100*round(b/len(data),3)}%)\")\n",
    "      tokens = tokenizer.batch_encode_plus(\n",
    "          data[\"Lyric\"][st:b],\n",
    "          pad_to_max_length=True, \n",
    "          return_tensors=\"pt\",\n",
    "          max_length=512,\n",
    "          truncation=True)\n",
    "      st = b\n",
    "      tokens.to(device)\n",
    "      outputs = model(**tokens)\n",
    "      # taking the representation of the 'CLS' token (doc-level embedding)\n",
    "      o = outputs[0][:,0].cpu().detach().numpy()\n",
    "      doc_rep_collector.append(o)\n",
    "\n",
    "  # stack into array\n",
    "  doc_rep_collector = np.concatenate(doc_rep_collector)\n",
    "  \n",
    "  # to minimize size, can store as 16-bit float\n",
    "  doc_rep_collector = doc_rep_collector.astype('float16')\n",
    "\n",
    "  # additionally, will store as gzip (pandas can handle this)\n",
    "  pickle.dump(doc_rep_collector, gzip.open(f'{path}{filename}', 'wb'))"
   ]
  },
  {
   "cell_type": "code",
   "execution_count": 15,
   "metadata": {
    "colab": {
     "base_uri": "https://localhost:8080/",
     "height": 1000
    },
    "colab_type": "code",
    "id": "EB1w81qcDvzG",
    "outputId": "c6bc8285-4a67-4fc9-de01-71b3eb76961b"
   },
   "outputs": [
    {
     "name": "stdout",
     "output_type": "stream",
     "text": [
      "Starting BERT tokenization\n",
      "using: cpu\n",
      "Batch: 5/10 (50.0%)\n",
      "Batch: 10/10 (100.0%)\n",
      "CPU times: user 39.7 s, sys: 8.78 s, total: 48.5 s\n",
      "Wall time: 20.8 s\n"
     ]
    }
   ],
   "source": [
    "%%time\n",
    "if COLAB: # around .. minutes\n",
    "  generate_BERT_tokens(X, 'lyrics_bert_vectors_total.pkl.gz')\n",
    "else: # around 50 seconds\n",
    "  generate_BERT_tokens(X[0:10], 'lyrics_bert_vectors_localsubset.pkl.gz')"
   ]
  },
  {
   "cell_type": "code",
   "execution_count": 20,
   "metadata": {
    "colab": {},
    "colab_type": "code",
    "id": "Dkm1UI0CDvzQ",
    "outputId": "b53c52d5-50e2-4680-e1fb-cadde4c39753"
   },
   "outputs": [
    {
     "data": {
      "text/html": [
       "<div>\n",
       "<style scoped>\n",
       "    .dataframe tbody tr th:only-of-type {\n",
       "        vertical-align: middle;\n",
       "    }\n",
       "\n",
       "    .dataframe tbody tr th {\n",
       "        vertical-align: top;\n",
       "    }\n",
       "\n",
       "    .dataframe thead th {\n",
       "        text-align: right;\n",
       "    }\n",
       "</style>\n",
       "<table border=\"1\" class=\"dataframe\">\n",
       "  <thead>\n",
       "    <tr style=\"text-align: right;\">\n",
       "      <th></th>\n",
       "      <th>Lyric</th>\n",
       "    </tr>\n",
       "  </thead>\n",
       "  <tbody>\n",
       "    <tr>\n",
       "      <th>1</th>\n",
       "      <td>Take me now, baby, here as I am. Hold me close...</td>\n",
       "    </tr>\n",
       "    <tr>\n",
       "      <th>2</th>\n",
       "      <td>These are. These are days you'll remember. Nev...</td>\n",
       "    </tr>\n",
       "    <tr>\n",
       "      <th>3</th>\n",
       "      <td>A lie to say, \"O my mountain has coal veins an...</td>\n",
       "    </tr>\n",
       "    <tr>\n",
       "      <th>4</th>\n",
       "      <td>Trudging slowly over wet sand. Back to the ben...</td>\n",
       "    </tr>\n",
       "    <tr>\n",
       "      <th>5</th>\n",
       "      <td>Don't talk, I will listen. Don't talk, you kee...</td>\n",
       "    </tr>\n",
       "    <tr>\n",
       "      <th>6</th>\n",
       "      <td>Well they left then in the morning, a hundred ...</td>\n",
       "    </tr>\n",
       "    <tr>\n",
       "      <th>7</th>\n",
       "      <td>. . science. is truth for life. watch religion...</td>\n",
       "    </tr>\n",
       "    <tr>\n",
       "      <th>8</th>\n",
       "      <td>On bended kneeI've looked through every window...</td>\n",
       "    </tr>\n",
       "    <tr>\n",
       "      <th>9</th>\n",
       "      <td>For whom do the bells toll. When sentenced to ...</td>\n",
       "    </tr>\n",
       "    <tr>\n",
       "      <th>10</th>\n",
       "      <td>She walks alone on the brick lane,. the breeze...</td>\n",
       "    </tr>\n",
       "    <tr>\n",
       "      <th>11</th>\n",
       "      <td>Jenny. Jenny you don't know the nights I hide....</td>\n",
       "    </tr>\n",
       "    <tr>\n",
       "      <th>12</th>\n",
       "      <td>You were looking away from me, western skies c...</td>\n",
       "    </tr>\n",
       "    <tr>\n",
       "      <th>13</th>\n",
       "      <td>The color of the sky as far as I can see is co...</td>\n",
       "    </tr>\n",
       "    <tr>\n",
       "      <th>14</th>\n",
       "      <td>Oh,. Baby blankets and. Baby shoes,. Baby slip...</td>\n",
       "    </tr>\n",
       "    <tr>\n",
       "      <th>15</th>\n",
       "      <td>the legs of Maddox kitchen tables. my whole li...</td>\n",
       "    </tr>\n",
       "    <tr>\n",
       "      <th>16</th>\n",
       "      <td>Steep is the water tower. painted off blue to ...</td>\n",
       "    </tr>\n",
       "    <tr>\n",
       "      <th>17</th>\n",
       "      <td>. Those schoolgirl days of telling tales and b...</td>\n",
       "    </tr>\n",
       "    <tr>\n",
       "      <th>18</th>\n",
       "      <td>That summer fields grew high with foxglove sta...</td>\n",
       "    </tr>\n",
       "    <tr>\n",
       "      <th>19</th>\n",
       "      <td>. . Tell me what's gone wrong.. I tilt my head...</td>\n",
       "    </tr>\n",
       "  </tbody>\n",
       "</table>\n",
       "</div>"
      ],
      "text/plain": [
       "                                                Lyric\n",
       "1   Take me now, baby, here as I am. Hold me close...\n",
       "2   These are. These are days you'll remember. Nev...\n",
       "3   A lie to say, \"O my mountain has coal veins an...\n",
       "4   Trudging slowly over wet sand. Back to the ben...\n",
       "5   Don't talk, I will listen. Don't talk, you kee...\n",
       "6   Well they left then in the morning, a hundred ...\n",
       "7   . . science. is truth for life. watch religion...\n",
       "8   On bended kneeI've looked through every window...\n",
       "9   For whom do the bells toll. When sentenced to ...\n",
       "10  She walks alone on the brick lane,. the breeze...\n",
       "11  Jenny. Jenny you don't know the nights I hide....\n",
       "12  You were looking away from me, western skies c...\n",
       "13  The color of the sky as far as I can see is co...\n",
       "14  Oh,. Baby blankets and. Baby shoes,. Baby slip...\n",
       "15  the legs of Maddox kitchen tables. my whole li...\n",
       "16  Steep is the water tower. painted off blue to ...\n",
       "17  . Those schoolgirl days of telling tales and b...\n",
       "18  That summer fields grew high with foxglove sta...\n",
       "19  . . Tell me what's gone wrong.. I tilt my head..."
      ]
     },
     "execution_count": 20,
     "metadata": {},
     "output_type": "execute_result"
    }
   ],
   "source": [
    "X[1:20]"
   ]
  },
  {
   "cell_type": "code",
   "execution_count": null,
   "metadata": {
    "colab": {},
    "colab_type": "code",
    "id": "hf9i3WM2Dvzl"
   },
   "outputs": [],
   "source": []
  }
 ],
 "metadata": {
  "accelerator": "GPU",
  "colab": {
   "collapsed_sections": [],
   "name": "02_BERT_token.ipynb",
   "provenance": [],
   "toc_visible": true
  },
  "kernelspec": {
   "display_name": "Python 3",
   "language": "python",
   "name": "python3"
  },
  "language_info": {
   "codemirror_mode": {
    "name": "ipython",
    "version": 3
   },
   "file_extension": ".py",
   "mimetype": "text/x-python",
   "name": "python",
   "nbconvert_exporter": "python",
   "pygments_lexer": "ipython3",
   "version": "3.7.4"
  }
 },
 "nbformat": 4,
 "nbformat_minor": 4
}
